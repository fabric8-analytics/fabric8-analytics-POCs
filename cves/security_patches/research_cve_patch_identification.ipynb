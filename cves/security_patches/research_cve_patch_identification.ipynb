{
 "cells": [
  {
   "cell_type": "markdown",
   "metadata": {
    "slideshow": {
     "slide_type": "slide"
    }
   },
   "source": [
    "# CVE Patch Identification\n",
    "\n",
    "\n",
    "\n",
    "GitHub Link: [openshift.io:4228](https://github.com/openshiftio/openshift.io/issues/4228)\n",
    "Description:\n",
    "\n",
    "Maven support in CVEjob is lacking behind NPM and Python support. The reason for that is the complexity of Maven ecosystem, namely multi-module projects which publish multiple artifacts for each release and the naming schema (gid:aid::) which is very different from other “standard” language ecosystems.\n",
    "\n",
    "Sometimes the only way how to reliably map CVE for complex Maven project is to find the patch which fixes the vulnerability. We want to research whether it would be possible, at least to some degree, identify commits in Git which likely fix some security issue (those that have “CVE-xxxx-xxxx” in the description, or other keywords).\n",
    "\n",
    "Input:\n",
    "\n",
    "    - git repository and commit range - we don’t need to check all commits in the repository, only commits between 2 releases (we know the fix is there somewhere)\n",
    "    - CVE record from NVD\n",
    "\n",
    "Note this is just a research, we don’t expect to have anything production-ready at the end.\n"
   ]
  },
  {
   "cell_type": "markdown",
   "metadata": {
    "toc": true
   },
   "source": [
    "<h1>Table of Contents<span class=\"tocSkip\"></span></h1>\n",
    "<div class=\"toc\"><ul class=\"toc-item\"><li><span><a href=\"#CVE-Patch-Identification\" data-toc-modified-id=\"CVE-Patch-Identification-1\"><span class=\"toc-item-num\">1&nbsp;&nbsp;</span>CVE Patch Identification</a></span></li><li><span><a href=\"#global\" data-toc-modified-id=\"global-2\"><span class=\"toc-item-num\">2&nbsp;&nbsp;</span>global</a></span></li><li><span><a href=\"#ops\" data-toc-modified-id=\"ops-3\"><span class=\"toc-item-num\">3&nbsp;&nbsp;</span>ops</a></span><ul class=\"toc-item\"><li><span><a href=\"#Data-Gathering\" data-toc-modified-id=\"Data-Gathering-3.1\"><span class=\"toc-item-num\">3.1&nbsp;&nbsp;</span>Data Gathering</a></span><ul class=\"toc-item\"><li><span><a href=\"#Sample-of-Topic-data\" data-toc-modified-id=\"Sample-of-Topic-data-3.1.1\"><span class=\"toc-item-num\">3.1.1&nbsp;&nbsp;</span>Sample of Topic data</a></span></li><li><span><a href=\"#Example-of-commit-fixing-a-CVE\" data-toc-modified-id=\"Example-of-commit-fixing-a-CVE-3.1.2\"><span class=\"toc-item-num\">3.1.2&nbsp;&nbsp;</span>Example of commit fixing a CVE</a></span></li></ul></li><li><span><a href=\"#Analysis\" data-toc-modified-id=\"Analysis-3.2\"><span class=\"toc-item-num\">3.2&nbsp;&nbsp;</span>Analysis</a></span><ul class=\"toc-item\"><li><span><a href=\"#Jenks-Natural-Breaks\" data-toc-modified-id=\"Jenks-Natural-Breaks-3.2.1\"><span class=\"toc-item-num\">3.2.1&nbsp;&nbsp;</span>Jenks Natural Breaks</a></span></li><li><span><a href=\"#TF-IDF\" data-toc-modified-id=\"TF-IDF-3.2.2\"><span class=\"toc-item-num\">3.2.2&nbsp;&nbsp;</span>TF-IDF</a></span><ul class=\"toc-item\"><li><span><a href=\"#Results\" data-toc-modified-id=\"Results-3.2.2.1\"><span class=\"toc-item-num\">3.2.2.1&nbsp;&nbsp;</span>Results</a></span></li></ul></li><li><span><a href=\"#Spacy\" data-toc-modified-id=\"Spacy-3.2.3\"><span class=\"toc-item-num\">3.2.3&nbsp;&nbsp;</span>Spacy</a></span><ul class=\"toc-item\"><li><span><a href=\"#Results\" data-toc-modified-id=\"Results-3.2.3.1\"><span class=\"toc-item-num\">3.2.3.1&nbsp;&nbsp;</span>Results</a></span></li></ul></li><li><span><a href=\"#Gensim\" data-toc-modified-id=\"Gensim-3.2.4\"><span class=\"toc-item-num\">3.2.4&nbsp;&nbsp;</span>Gensim</a></span><ul class=\"toc-item\"><li><span><a href=\"#Topic-Classification-Approach\" data-toc-modified-id=\"Topic-Classification-Approach-3.2.4.1\"><span class=\"toc-item-num\">3.2.4.1&nbsp;&nbsp;</span>Topic Classification Approach</a></span></li><li><span><a href=\"#Description-similarity\" data-toc-modified-id=\"Description-similarity-3.2.4.2\"><span class=\"toc-item-num\">3.2.4.2&nbsp;&nbsp;</span>Description similarity</a></span></li></ul></li></ul></li></ul></li></ul></div>"
   ]
  },
  {
   "cell_type": "markdown",
   "metadata": {
    "slideshow": {
     "slide_type": "-"
    },
    "toc": true
   },
   "source": [
    "<h1>Table of Contents<span class=\"tocSkip\"></span></h1>\n",
    "<div class=\"toc\"><ul class=\"toc-item\"><li><span><a href=\"#CVE-Patch-Identification\" data-toc-modified-id=\"CVE-Patch-Identification-1\"><span class=\"toc-item-num\">1&nbsp;&nbsp;</span>CVE Patch Identification</a></span></li><li><span><a href=\"#global\" data-toc-modified-id=\"global-2\"><span class=\"toc-item-num\">2&nbsp;&nbsp;</span>global</a></span></li><li><span><a href=\"#ops\" data-toc-modified-id=\"ops-3\"><span class=\"toc-item-num\">3&nbsp;&nbsp;</span>ops</a></span><ul class=\"toc-item\"><li><span><a href=\"#Data-Gathering\" data-toc-modified-id=\"Data-Gathering-3.1\"><span class=\"toc-item-num\">3.1&nbsp;&nbsp;</span>Data Gathering</a></span><ul class=\"toc-item\"><li><span><a href=\"#Sample-of-Topic-data\" data-toc-modified-id=\"Sample-of-Topic-data-3.1.1\"><span class=\"toc-item-num\">3.1.1&nbsp;&nbsp;</span>Sample of Topic data</a></span></li><li><span><a href=\"#Example-of-commit-fixing-a-CVE\" data-toc-modified-id=\"Example-of-commit-fixing-a-CVE-3.1.2\"><span class=\"toc-item-num\">3.1.2&nbsp;&nbsp;</span>Example of commit fixing a CVE</a></span></li></ul></li><li><span><a href=\"#Analysis\" data-toc-modified-id=\"Analysis-3.2\"><span class=\"toc-item-num\">3.2&nbsp;&nbsp;</span>Analysis</a></span><ul class=\"toc-item\"><li><span><a href=\"#Jenks-Natural-Breaks\" data-toc-modified-id=\"Jenks-Natural-Breaks-3.2.1\"><span class=\"toc-item-num\">3.2.1&nbsp;&nbsp;</span>Jenks Natural Breaks</a></span></li><li><span><a href=\"#TF-IDF\" data-toc-modified-id=\"TF-IDF-3.2.2\"><span class=\"toc-item-num\">3.2.2&nbsp;&nbsp;</span>TF-IDF</a></span><ul class=\"toc-item\"><li><span><a href=\"#Results\" data-toc-modified-id=\"Results-3.2.2.1\"><span class=\"toc-item-num\">3.2.2.1&nbsp;&nbsp;</span>Results</a></span></li></ul></li><li><span><a href=\"#Spacy\" data-toc-modified-id=\"Spacy-3.2.3\"><span class=\"toc-item-num\">3.2.3&nbsp;&nbsp;</span>Spacy</a></span><ul class=\"toc-item\"><li><span><a href=\"#Results\" data-toc-modified-id=\"Results-3.2.3.1\"><span class=\"toc-item-num\">3.2.3.1&nbsp;&nbsp;</span>Results</a></span></li></ul></li><li><span><a href=\"#Gensim\" data-toc-modified-id=\"Gensim-3.2.4\"><span class=\"toc-item-num\">3.2.4&nbsp;&nbsp;</span>Gensim</a></span><ul class=\"toc-item\"><li><span><a href=\"#Topic-Classification-Approach\" data-toc-modified-id=\"Topic-Classification-Approach-3.2.4.1\"><span class=\"toc-item-num\">3.2.4.1&nbsp;&nbsp;</span>Topic Classification Approach</a></span></li><li><span><a href=\"#Description-similarity\" data-toc-modified-id=\"Description-similarity-3.2.4.2\"><span class=\"toc-item-num\">3.2.4.2&nbsp;&nbsp;</span>Description similarity</a></span></li></ul></li></ul></li></ul></li></ul></div>"
   ]
  },
  {
   "cell_type": "markdown",
   "metadata": {
    "extensions": {
     "jupyter_dashboards": {
      "version": 1,
      "views": {
       "grid_default": {
        "col": 0,
        "height": 4,
        "hidden": false,
        "row": 106,
        "width": 4
       },
       "report_default": {}
      }
     }
    }
   },
   "source": [
    "# global"
   ]
  },
  {
   "cell_type": "code",
   "execution_count": null,
   "metadata": {
    "extensions": {
     "jupyter_dashboards": {
      "version": 1,
      "views": {
       "grid_default": {
        "hidden": true
       },
       "report_default": {}
      }
     }
    },
    "init_cell": true
   },
   "outputs": [],
   "source": [
    "%load_ext autoreload\n",
    "%autoreload 2"
   ]
  },
  {
   "cell_type": "code",
   "execution_count": null,
   "metadata": {
    "extensions": {
     "jupyter_dashboards": {
      "version": 1,
      "views": {
       "grid_default": {
        "hidden": true
       },
       "report_default": {}
      }
     }
    },
    "init_cell": true
   },
   "outputs": [],
   "source": [
    "import os\n",
    "import re\n",
    "import requests\n",
    "import sys\n",
    "\n",
    "import json\n",
    "import yaml\n",
    "\n",
    "from io import StringIO\n",
    "from contextlib import redirect_stdout\n",
    "\n",
    "import ipywidgets as widgets\n",
    "\n",
    "import nltk\n",
    "\n",
    "import numpy as np\n",
    "import pandas as pd\n",
    "\n",
    "import spacy\n",
    "\n",
    "from spacy.attrs import ORTH, LEMMA, ENT_TYPE, ENT_IOB\n",
    "from sklearn.feature_extraction.text import CountVectorizer, TfidfTransformer, TfidfVectorizer\n",
    "\n",
    "from jenkspy import jenks_breaks\n",
    "\n",
    "from nltk.corpus import stopwords\n",
    "from collections import namedtuple, Counter, OrderedDict\n",
    "\n",
    "from IPython.display import Javascript, clear_output\n",
    "from prettyprinter import pprint\n",
    "\n",
    "import gensim\n",
    "from gensim.parsing.preprocessing import preprocess_documents, preprocess_string, DEFAULT_FILTERS\n",
    "from gensim.models.doc2vec import Doc2Vec, Doc2VecKeyedVectors, Doc2VecVocab\n",
    "from gensim.models.word2vec import Word2Vec\n",
    "\n",
    "import nvdlib\n",
    "\n",
    "from nvdlib.manager import FeedManager\n",
    "from nvdlib import query_selectors as q\n",
    "from nvdlib import utils"
   ]
  },
  {
   "cell_type": "code",
   "execution_count": null,
   "metadata": {
    "cell_style": "split",
    "extensions": {
     "jupyter_dashboards": {
      "version": 1,
      "views": {
       "grid_default": {
        "hidden": true
       },
       "report_default": {}
      }
     }
    },
    "init_cell": true,
    "scrolled": true
   },
   "outputs": [],
   "source": [
    "# download model with vectors (if applicable)\n",
    "spacy.cli.download('en_core_web_md')"
   ]
  },
  {
   "cell_type": "code",
   "execution_count": null,
   "metadata": {
    "cell_style": "split",
    "extensions": {
     "jupyter_dashboards": {
      "version": 1,
      "views": {
       "grid_default": {
        "hidden": true
       },
       "report_default": {}
      }
     }
    },
    "init_cell": true
   },
   "outputs": [],
   "source": [
    "# set up parser\n",
    "nlp = spacy.load('en_core_web_md')  # load model with vectors\n",
    "\n",
    "# custom models\n",
    "#  model trained on 20k cves from cvedetails.com\n",
    "# nlp = spacy.load('data/spacy/w2v_cvedetails_20k/')\n",
    "# model trained on 100k cves, full collection\n",
    "# nlp = spacy.load('data/spacy/w2v_cve_collection_100k/')"
   ]
  },
  {
   "cell_type": "code",
   "execution_count": null,
   "metadata": {
    "extensions": {
     "jupyter_dashboards": {
      "version": 1,
      "views": {
       "grid_default": {
        "hidden": true
       },
       "report_default": {}
      }
     }
    },
    "init_cell": true
   },
   "outputs": [],
   "source": [
    "LEMMA_BLACKLIST = {\n",
    "    'number', 'numb', 'version', 'release'\n",
    "}\n",
    "\n",
    "CVE_PATTERN = r\"C[VW]E(-\\d+)?(-\\d+)?\"\n",
    "CVE_TOKEN = u'>CVE<'\n",
    "\n",
    "VERSION_PATTERN = r\"[v]?(?P<major>\\d+)[.](?P<minor>\\d+|((\\d+)|[xX]{1,}))([.](?P<patch>\\d+|((\\d+)|[xX]{1,})))?(?P<release>[-]?[A-Za-z]+)?\"\n",
    "VERSION_TOKEN = u'>VERSION<'\n",
    "\n",
    "NUMBER_TOKEN = u'>NUMBER<'\n",
    "CVE_PATTERN = r\"C[VW]E(-\\d+)?(-\\d+)?\"\n",
    "CVE_TOKEN = u'CVE'\n",
    "\n",
    "VERSION_PATTERN = r\"[v]?(?P<major>\\d+)[.](?P<minor>\\d+|((\\d+)|[xX]{1,}))([.](?P<patch>\\d+|((\\d+)|[xX]{1,})))?(?P<release>[-]?[A-Za-z]+)?\"\n",
    "VERSION_TOKEN = u'>VERSION<'\n",
    "\n",
    "# add special cases to the tokenizer\n",
    "cve_case = [{ORTH: CVE_TOKEN, LEMMA: 'cve'}]\n",
    "version_case = [{ORTH: VERSION_TOKEN, LEMMA: 'version'}]\n",
    "\n",
    "nlp.tokenizer.add_special_case(CVE_TOKEN, cve_case)\n",
    "nlp.tokenizer.add_special_case(VERSION_TOKEN, version_case)\n",
    "nlp.tokenizer.add_special_case('<', [{ORTH: 'lower than', LEMMA: 'low'}])\n",
    "nlp.tokenizer.add_special_case('>', [{ORTH: 'greater than', LEMMA: 'high'}])\n",
    "\n",
    "TOPICS = ['DoS', 'Code Execution', 'Overflow', 'Memory Corruption', 'Sql Injection', 'XSS',\n",
    "          'Directory Traversal', 'Http Response Splitting', 'Bypass something', 'Gain Information',\n",
    "          'Gain Privileges', 'CSRF', 'File Inclusion']\n",
    "\n",
    "API_BASE_URL = \"https://api.github.com/repos/{owner}/{repo}\"\n",
    "\n",
    "API_COMMIT_URL = API_BASE_URL + \"/commits?sha={sha}\"\n",
    "API_TAG_URL = API_BASE_URL + \"/tags\"\n",
    "\n",
    "with open('secrets', 'r') as f:\n",
    "    TOKEN = f.read().strip()\n",
    "    HEADERS = {'Authorization': f\"token {TOKEN}\"}"
   ]
  },
  {
   "cell_type": "code",
   "execution_count": null,
   "metadata": {
    "code_folding": [
     0,
     28,
     36,
     59,
     96,
     113,
     123,
     131,
     135,
     150,
     157,
     174,
     181,
     189
    ],
    "extensions": {
     "jupyter_dashboards": {
      "version": 1,
      "views": {
       "grid_default": {
        "hidden": true
       },
       "report_default": {}
      }
     }
    },
    "init_cell": true
   },
   "outputs": [],
   "source": [
    "def get_tags(owner: str, repo: str):\n",
    "    \n",
    "    def _get_tags(url, tags = []):\n",
    "        \n",
    "        if url is None:\n",
    "            return tags\n",
    "        \n",
    "        response = requests.get(url, headers=HEADERS)\n",
    "    \n",
    "        if response.status_code != 200:\n",
    "            raise ResponseStatusError(\n",
    "                f\"Response status code returned: {response.status_code}\",\n",
    "                status_code=response.status_code\n",
    "            )\n",
    "        \n",
    "        tags.extend(response.json())\n",
    "        next_page = response.links.get('next', {}).get('url', None)\n",
    "        \n",
    "        return _get_tags(next_page, tags)\n",
    "\n",
    "    url = API_TAG_URL.format(owner=owner, repo=repo)\n",
    "    \n",
    "    return _get_tags(url)\n",
    "\n",
    "def tag_to_hash(tag): return tag['commit']['sha']\n",
    "\n",
    "VERSION_PATTERN = r\"[v]?(?P<major>\\d+)[.](?P<minor>\\d+|((\\d+)|[xX]{1,}))([.](?P<patch>\\d+|((\\d+)|[xX]{1,})))?(?P<release>[-]?[A-Za-z]+)?\"\n",
    "\n",
    "class ResponseStatusError(Exception):\n",
    "    \n",
    "    def __init__(self, *args, **kwargs):\n",
    "        self.status_code = kwargs.pop('status_code', None)\n",
    "        \n",
    "        super().__init__(self.status_code, *args, **kwargs)\n",
    "        \n",
    "    \n",
    "def get_commits(owner: str = None,\n",
    "                repo: str = None,\n",
    "                newest: str = '',\n",
    "                oldest: str = '',\n",
    "                tags: list = [],\n",
    "                limit: int = 500) -> list:\n",
    "    \"\"\"Return commits between (and excluding given commits).\n",
    "    \n",
    "    NOTE: Commits are sorted from newest to oldest.\n",
    "    \"\"\"\n",
    "    if any([newest, oldest]) and not tags:\n",
    "        raise ValueError(\"If `oldest` or `newest` is specified, `tags` must be provided.\")\n",
    "    \n",
    "    hash_newest = newest\n",
    "    hash_oldest = oldest\n",
    "    \n",
    "    if any([bool(re.fullmatch(VERSION_PATTERN, c)) for c in [newest, oldest]]):\n",
    "        for t in tags:\n",
    "            if newest and re.fullmatch(t['name'], newest):\n",
    "                hash_newest = tag_to_hash(t)\n",
    "            elif oldest and re.fullmatch(t['name'], oldest):\n",
    "                hash_oldest = tag_to_hash(t)\n",
    "    \n",
    "    def _get_commits(url, commits = []):\n",
    "        \n",
    "        if url is None:\n",
    "            return commits\n",
    "        \n",
    "        if len(commits) >= limit:\n",
    "            return commits[:limit]\n",
    "    \n",
    "        response = requests.get(url, headers=HEADERS)\n",
    "    \n",
    "        if response.status_code != 200:\n",
    "            raise ResponseStatusError(\n",
    "                f\"Response status code returned: {response.status_code}\",\n",
    "                status_code=response.status_code\n",
    "            )\n",
    "\n",
    "        commits.extend(response.json())\n",
    "\n",
    "        if hash_oldest:\n",
    "            for i, commit_dict in enumerate(commits):\n",
    "                if commit_dict['sha'].startswith(hash_oldest):\n",
    "                    commits = commits[:i+1]\n",
    "                    \n",
    "                    return commits\n",
    "                \n",
    "        next_page = response.links.get('next', {}).get('url', None)\n",
    "        \n",
    "        return _get_commits(next_page, commits)\n",
    "\n",
    "    url = API_COMMIT_URL.format(owner=owner, repo=repo, sha=hash_newest)\n",
    "    \n",
    "    return _get_commits(url)\n",
    "\n",
    "Commit = namedtuple('Commit', [\n",
    "    'url', 'sha', 'message'\n",
    "])\n",
    "\n",
    "def parse_commit(commit: dict) -> Commit:\n",
    "    if not isinstance(commit, dict):\n",
    "        raise TypeError(f\"dict expected, got {type(commit)}\")\n",
    "        \n",
    "    url: str = commit['url']\n",
    "    sha: str = commit['sha']\n",
    "        \n",
    "    message: str = commit['commit']['message']\n",
    "    \n",
    "    return Commit(\n",
    "        url=url,\n",
    "        sha=sha,\n",
    "        message=message,\n",
    "    )\n",
    "\n",
    "# ---\n",
    "\n",
    "def clean_text(text: str):\n",
    "    text = text.lower()\n",
    "    \n",
    "    text = re.sub(CVE_PATTERN, CVE_TOKEN, text, flags=re.IGNORECASE)\n",
    "    text = re.sub(VERSION_PATTERN, VERSION_TOKEN, text, flags=re.IGNORECASE)\n",
    "    # don't care about numbers\n",
    "    text = re.sub(r\"[0xb]*(\\d+)\", NUMBER_TOKEN, text)\n",
    "    \n",
    "    return text\n",
    "\n",
    "def entitizer(doc):\n",
    "    for i, token in enumerate(doc):\n",
    "        if token.orth_ in [CVE_TOKEN, VERSION_TOKEN, NUMBER_TOKEN]:\n",
    "            span = spacy.tokens.Span(doc, i, i+1, label=doc.vocab.strings[u'CARDINAL'])\n",
    "            doc.ents = list(doc.ents) + [span]\n",
    "    \n",
    "    return doc\n",
    "\n",
    "def display_entities(doc):\n",
    "    spacy.displacy.render(doc, style='ent', options={'compact': True}, jupyter=True)\n",
    "\n",
    "# vectorizer = CountVectorizer(tokenizer=lambda doc: [t.lemma_ for t in nlp.tokenizer(doc)])\n",
    "def include_token(token):\n",
    "    ret = True\n",
    "    \n",
    "    if not token.is_alpha or len(token.lemma_) < 1:\n",
    "        ret = False\n",
    "    elif token.lemma_ in nlp.Defaults.stop_words:\n",
    "        ret = False\n",
    "    elif token.lemma_ in LEMMA_BLACKLIST:\n",
    "        ret = False\n",
    "    \n",
    "    return ret\n",
    "\n",
    "# ---\n",
    "\n",
    "# check for cve in commits\n",
    "def contains_cve(commit):\n",
    "    for token in commit:\n",
    "        if re.fullmatch(CVE_PATTERN, token.lemma_, flags=re.IGNORECASE):\n",
    "            return True\n",
    "    \n",
    "    return False\n",
    "\n",
    "def get_commit_score_per_topic(commit, lookup_table):\n",
    "    word_set = set(commit)\n",
    "    commit_vec = np.empty((len(word_set), len(lookup_table))) \n",
    "   \n",
    "    for jdx, token in enumerate(word_set):\n",
    "        token_vec = np.zeros((len(lookup_table), ))\n",
    "        try:\n",
    "#             token_vec = lookup_table[token.lemma_.lower()]\n",
    "            for topic_idx, topic in enumerate(lookup_table):\n",
    "                token_vec[topic_idx], = topic[token.lemma_.lower()].values\n",
    "        except KeyError:\n",
    "            pass\n",
    "        \n",
    "        commit_vec[jdx] = token_vec\n",
    "    \n",
    "    return commit_vec\n",
    "        \n",
    "def get_commit_score(commit, lookup_table, u=None):\n",
    "    commit_vec = get_commit_score_per_topic(commit, lookup_table)\n",
    "    if u:\n",
    "        commit_vec = commit_vec[np.argsort(commit_vec.sum(axis=1))[::-1][:int(u)]]\n",
    "    \n",
    "    return commit_vec.sum(axis=0)\n",
    "\n",
    "def get_interval(intervals, num):\n",
    "    i = 0\n",
    "    for i, (low, high) in enumerate(intervals):\n",
    "        if low <= num < high:\n",
    "            return i\n",
    "    \n",
    "    return i\n",
    "\n",
    "def unravel2d(index, arr):\n",
    "    flat_idx = 0\n",
    "    \n",
    "    for idx, sub_arr in enumerate(arr):\n",
    "        for jdx, element in enumerate(sub_arr):\n",
    "            \n",
    "            if flat_idx == index:\n",
    "                return (idx, jdx), element\n",
    "            \n",
    "            flat_idx += 1"
   ]
  },
  {
   "cell_type": "markdown",
   "metadata": {
    "extensions": {
     "jupyter_dashboards": {
      "version": 1,
      "views": {
       "grid_default": {
        "col": 8,
        "height": 4,
        "hidden": false,
        "row": 106,
        "width": 4
       },
       "report_default": {}
      }
     }
    },
    "toc-hr-collapsed": false
   },
   "source": [
    "# ops"
   ]
  },
  {
   "cell_type": "markdown",
   "metadata": {
    "extensions": {
     "jupyter_dashboards": {
      "version": 1,
      "views": {
       "grid_default": {
        "col": 0,
        "height": 4,
        "hidden": false,
        "row": 110,
        "width": 4
       },
       "report_default": {}
      }
     }
    }
   },
   "source": [
    "## Data Gathering"
   ]
  },
  {
   "cell_type": "code",
   "execution_count": null,
   "metadata": {
    "extensions": {
     "jupyter_dashboards": {
      "version": 1,
      "views": {
       "grid_default": {
        "hidden": true
       },
       "report_default": {}
      }
     }
    }
   },
   "outputs": [],
   "source": [
    "topic_df = pd.read_csv('data/cvedetails.csv')"
   ]
  },
  {
   "cell_type": "code",
   "execution_count": null,
   "metadata": {
    "code_folding": [
     3
    ]
   },
   "outputs": [],
   "source": [
    "# duplicate row into every relevant topic\n",
    "\n",
    "topic_data = []\n",
    "for idx, row in topic_df.iterrows():\n",
    "    \n",
    "    # split by vulnerabilities\n",
    "    vulnerabilities = preprocess_string(row.vulnerabilities, filters=DEFAULT_FILTERS[:-1])\n",
    "    for v in vulnerabilities:\n",
    "        used_topics = []\n",
    "        \n",
    "        # find relevant topics\n",
    "        for idx, topic in enumerate(TOPICS):\n",
    "            if re.search(v, topic, flags=re.IGNORECASE) and not idx in used_topics:\n",
    "                row_ = row.copy()\n",
    "                row_['topic'] = topic\n",
    "                \n",
    "                topic_data.append(row_)\n",
    "                used_topics.append(idx)"
   ]
  },
  {
   "cell_type": "code",
   "execution_count": null,
   "metadata": {},
   "outputs": [],
   "source": [
    "topic_df = pd.DataFrame(topic_data)"
   ]
  },
  {
   "cell_type": "code",
   "execution_count": null,
   "metadata": {},
   "outputs": [],
   "source": [
    "topic_df.info()"
   ]
  },
  {
   "cell_type": "code",
   "execution_count": null,
   "metadata": {
    "extensions": {
     "jupyter_dashboards": {
      "version": 1,
      "views": {
       "grid_default": {
        "hidden": true
       },
       "report_default": {}
      }
     }
    }
   },
   "outputs": [],
   "source": [
    "topic_df = topic_df.set_index(['topic', 'cve_id'])\n",
    "\n",
    "index = topic_df.index\n",
    "v_idx = index.get_level_values(level=0).unique()"
   ]
  },
  {
   "cell_type": "markdown",
   "metadata": {},
   "source": [
    "### Sample of Topic data"
   ]
  },
  {
   "cell_type": "code",
   "execution_count": null,
   "metadata": {
    "slideshow": {
     "slide_type": "subslide"
    }
   },
   "outputs": [],
   "source": [
    "topic_df.sample(10)"
   ]
  },
  {
   "cell_type": "code",
   "execution_count": null,
   "metadata": {
    "code_folding": [
     6
    ],
    "extensions": {
     "jupyter_dashboards": {
      "version": 1,
      "views": {
       "grid_default": {
        "hidden": true
       },
       "report_default": {}
      }
     }
    }
   },
   "outputs": [],
   "source": [
    "vectorizer = TfidfVectorizer(tokenizer=lambda doc: [\n",
    "    t.lemma_ for t in nlp.tokenizer(doc) if include_token(t)\n",
    "])\n",
    "\n",
    "topic_data = list()\n",
    "\n",
    "for idx in v_idx:\n",
    "    # concatenate all the data for given topic\n",
    "    text = [clean_text(doc) for doc in topic_df.loc[idx].summary.values]\n",
    "    topic_data.append(\"\\n\".join(text))"
   ]
  },
  {
   "cell_type": "code",
   "execution_count": null,
   "metadata": {
    "extensions": {
     "jupyter_dashboards": {
      "version": 1,
      "views": {
       "grid_default": {
        "hidden": true
       },
       "report_default": {}
      }
     }
    }
   },
   "outputs": [],
   "source": [
    "tf_idf = vectorizer.fit_transform(topic_data)"
   ]
  },
  {
   "cell_type": "code",
   "execution_count": null,
   "metadata": {
    "extensions": {
     "jupyter_dashboards": {
      "version": 1,
      "views": {
       "grid_default": {
        "col": 0,
        "height": 11,
        "hidden": false,
        "row": 34,
        "width": 12
       },
       "report_default": {}
      }
     }
    }
   },
   "outputs": [],
   "source": [
    "from IPython.display import display\n",
    "\n",
    "df = pd.DataFrame(data=tf_idf.toarray(), columns=vectorizer.get_feature_names())\n",
    "# df.sort_values(by=list(df.index), axis=1, ascending=False)\n",
    "\n",
    "topic_frames = list()\n",
    "\n",
    "for i, topic in df.iterrows():\n",
    "    topic.sort_values(ascending=False, inplace=True)\n",
    "    topic_frames.append(topic.to_frame(name=v_idx[i]).transpose())"
   ]
  },
  {
   "cell_type": "markdown",
   "metadata": {
    "extensions": {
     "jupyter_dashboards": {
      "version": 1,
      "views": {
       "grid_default": {
        "col": 4,
        "height": 4,
        "hidden": true,
        "row": 0,
        "width": 4
       },
       "report_default": {}
      }
     }
    }
   },
   "source": [
    "---"
   ]
  },
  {
   "cell_type": "code",
   "execution_count": null,
   "metadata": {
    "extensions": {
     "jupyter_dashboards": {
      "version": 1,
      "views": {
       "grid_default": {
        "hidden": true
       },
       "report_default": {}
      }
     }
    }
   },
   "outputs": [],
   "source": [
    "CVEDB_PATH = f\"./cvedb/database\""
   ]
  },
  {
   "cell_type": "code",
   "execution_count": null,
   "metadata": {
    "code_folding": [
     3
    ],
    "extensions": {
     "jupyter_dashboards": {
      "version": 1,
      "views": {
       "grid_default": {
        "hidden": true
       },
       "report_default": {}
      }
     }
    }
   },
   "outputs": [],
   "source": [
    "database = dict()\n",
    "required_nvd_feeds = set()\n",
    "\n",
    "for eco in os.listdir(CVEDB_PATH):\n",
    "    years_in_db = os.listdir(os.path.join(CVEDB_PATH, eco))\n",
    "    required_nvd_feeds.update(years_in_db)\n",
    "    \n",
    "    for year in years_in_db:\n",
    "        walk_path = os.path.join(CVEDB_PATH, eco, year)\n",
    "\n",
    "        for root, walkdir, walkfile in os.walk(walk_path):\n",
    "            for file in walkfile:\n",
    "                if file.endswith('.yaml'):\n",
    "                    with open(os.path.join(root, file)) as f:\n",
    "                        content = yaml.load(f.read())\n",
    "\n",
    "                    content['id'] = f\"CVE-{content.pop('cve')}\"\n",
    "                    database[content['id']] = content"
   ]
  },
  {
   "cell_type": "code",
   "execution_count": null,
   "metadata": {
    "extensions": {
     "jupyter_dashboards": {
      "version": 1,
      "views": {
       "grid_default": {
        "hidden": true
       },
       "report_default": {}
      }
     }
    }
   },
   "outputs": [],
   "source": [
    "with FeedManager(n_workers=5) as fm:\n",
    "    \n",
    "    feeds = fm.fetch_feeds(required_nvd_feeds)\n",
    "    collection = fm.collect(feeds)\n",
    "    collection.set_name('ALL')"
   ]
  },
  {
   "cell_type": "code",
   "execution_count": null,
   "metadata": {
    "extensions": {
     "jupyter_dashboards": {
      "version": 1,
      "views": {
       "grid_default": {
        "hidden": true
       },
       "report_default": {}
      }
     }
    }
   },
   "outputs": [],
   "source": [
    "cvedb_collection = collection.find({'cve.id_': q.in_(set(database.keys()))})\n",
    "cvedb_collection.set_name('CVEDB')"
   ]
  },
  {
   "cell_type": "code",
   "execution_count": null,
   "metadata": {
    "extensions": {
     "jupyter_dashboards": {
      "version": 1,
      "views": {
       "grid_default": {
        "hidden": true
       },
       "report_default": {}
      }
     }
    }
   },
   "outputs": [],
   "source": [
    "gh_cvedb_collection = cvedb_collection.find({'cve.references.data.url': q.search('github')})"
   ]
  },
  {
   "cell_type": "code",
   "execution_count": null,
   "metadata": {
    "extensions": {
     "jupyter_dashboards": {
      "version": 1,
      "views": {
       "grid_default": {
        "hidden": true
       },
       "report_default": {}
      }
     }
    }
   },
   "outputs": [],
   "source": [
    "commit_cvedb_collection = gh_cvedb_collection.find({\n",
    "    'cve.references.data.url': q.search('commit'),\n",
    "})"
   ]
  },
  {
   "cell_type": "code",
   "execution_count": null,
   "metadata": {
    "code_folding": [
     1,
     6,
     12,
     18,
     28
    ],
    "extensions": {
     "jupyter_dashboards": {
      "version": 1,
      "views": {
       "grid_default": {
        "hidden": true
       },
       "report_default": {}
      }
     }
    }
   },
   "outputs": [],
   "source": [
    "# widgets\n",
    "owner_widget = widgets.Text(\n",
    "    description=\"Owner: \",\n",
    "    placeholder=\"<owner>\",\n",
    "    value='anymail'\n",
    ")\n",
    "repo_widget = widgets.Text(\n",
    "    description=\"Repository: \",\n",
    "    placeholder=\"<repository>\",\n",
    "    value='django-anymail'\n",
    ")\n",
    "\n",
    "version_lower = widgets.Text(\n",
    "    description=\"[OPT] Oldest: \",\n",
    "    placeholder=\"<version> [optional]\",\n",
    "    value='1.2'\n",
    ")\n",
    "\n",
    "version_higher = widgets.Text(\n",
    "    description=\"[OPT] Newest: \",\n",
    "    placeholder=\"<version> [optional]\",\n",
    "    value='2.0'\n",
    ")\n",
    "\n",
    "gh_box = widgets.HBox([owner_widget, repo_widget])\n",
    "version_box = widgets.HBox([version_lower, version_higher])\n",
    "\n",
    "\n",
    "search_button = widgets.Button(\n",
    "    description=\"Find\",\n",
    "    button_style='',\n",
    "    tooltip=\"Find commits for given repository.\",\n",
    "    layout=widgets.Layout(width='150px', height='60px')\n",
    ")\n",
    "\n",
    "search_box = widgets.VBox([gh_box, version_box])"
   ]
  },
  {
   "cell_type": "code",
   "execution_count": null,
   "metadata": {
    "code_folding": [
     0,
     7,
     14,
     22
    ],
    "extensions": {
     "jupyter_dashboards": {
      "version": 1,
      "views": {
       "grid_default": {
        "hidden": true
       },
       "report_default": {}
      }
     }
    }
   },
   "outputs": [],
   "source": [
    "cve_browser_button_next = widgets.Button(\n",
    "    description=\"Next\",\n",
    "    button_style='',\n",
    "    tooltip=\"Get next CVE\",\n",
    "    layout=widgets.Layout(width='300px')\n",
    ")\n",
    "\n",
    "cve_browser_button_previous = widgets.Button(\n",
    "    description=\"Previous\",\n",
    "    button_style='',\n",
    "    tooltip=\"Get previous CVE\",\n",
    "    layout=widgets.Layout(width='300px')\n",
    ")\n",
    "\n",
    "cve_browser_button_box = widgets.HBox(\n",
    "    [cve_browser_button_previous, cve_browser_button_next],\n",
    "    layout=widgets.Layout(\n",
    "        width='100%',\n",
    "        justify_content='center'\n",
    "    )\n",
    ")\n",
    "\n",
    "cve_browser_area = widgets.Textarea(\n",
    "    placeholder=\"<CVE>\",\n",
    "    disabled=True,\n",
    "    layout=widgets.Layout(\n",
    "#         overflow_x='scroll',\n",
    "#         overflow_y='scroll',\n",
    "        width='100%',\n",
    "        height='500px',\n",
    "        display='flex',\n",
    "        flex_flow='row',\n",
    "        align_self='flex-end'\n",
    "    )\n",
    ")"
   ]
  },
  {
   "cell_type": "code",
   "execution_count": null,
   "metadata": {
    "extensions": {
     "jupyter_dashboards": {
      "version": 1,
      "views": {
       "grid_default": {
        "hidden": true
       },
       "report_default": {}
      }
     }
    }
   },
   "outputs": [],
   "source": [
    "cursor = commit_cvedb_collection.cursor()"
   ]
  },
  {
   "cell_type": "code",
   "execution_count": null,
   "metadata": {
    "code_folding": [
     0
    ],
    "extensions": {
     "jupyter_dashboards": {
      "version": 1,
      "views": {
       "grid_default": {
        "hidden": true
       },
       "report_default": {}
      }
     }
    }
   },
   "outputs": [],
   "source": [
    "def next_cve(collection):\n",
    "    global cursor\n",
    "    \n",
    "    try:\n",
    "        cve = cursor.next().cve\n",
    "    except StopIteration:\n",
    "        cursor = collection.cursor()\n",
    "        cve = cursor.next().cve\n",
    "    \n",
    "    return cve\n",
    "\n",
    "def update_area_with_next_cve(handle):\n",
    "    display(Javascript('IPython.notebook.execute_cell_range(IPython.notebook.get_selected_index()+1,'\n",
    "                       'IPython.notebook.get_selected_index()+2)'))\n",
    "    \n",
    "def update_area_with_previous_cve(handle):\n",
    "    display(Javascript('IPython.notebook.execute_cell_range(IPython.notebook.get_selected_index()+2,'\n",
    "                       'IPython.notebook.get_selected_index()+3)'))"
   ]
  },
  {
   "cell_type": "code",
   "execution_count": null,
   "metadata": {
    "extensions": {
     "jupyter_dashboards": {
      "version": 1,
      "views": {
       "grid_default": {
        "hidden": true
       },
       "report_default": {}
      }
     }
    }
   },
   "outputs": [],
   "source": [
    "cve_browser_button_next.on_click(update_area_with_next_cve)\n",
    "cve_browser_button_previous.on_click(update_area_with_previous_cve)"
   ]
  },
  {
   "cell_type": "markdown",
   "metadata": {
    "extensions": {
     "jupyter_dashboards": {
      "version": 1,
      "views": {
       "grid_default": {
        "col": 0,
        "height": 4,
        "hidden": true,
        "row": 71,
        "width": 4
       },
       "report_default": {}
      }
     }
    }
   },
   "source": [
    "---"
   ]
  },
  {
   "cell_type": "code",
   "execution_count": null,
   "metadata": {
    "extensions": {
     "jupyter_dashboards": {
      "version": 1,
      "views": {
       "grid_default": {
        "hidden": true
       },
       "report_default": {
        "hidden": true
       }
      }
     }
    }
   },
   "outputs": [],
   "source": [
    "from collections import deque\n",
    "CACHE_LIMIT = 5\n",
    "\n",
    "previous_cves = deque(maxlen=CACHE_LIMIT)"
   ]
  },
  {
   "cell_type": "code",
   "execution_count": null,
   "metadata": {
    "extensions": {
     "jupyter_dashboards": {
      "version": 1,
      "views": {
       "grid_default": {
        "col": 0,
        "height": 20,
        "hidden": false,
        "row": 0,
        "width": 12
       },
       "report_default": {
        "hidden": true
       }
      }
     }
    },
    "slideshow": {
     "slide_type": "slide"
    }
   },
   "outputs": [],
   "source": [
    "display(cve_browser_area)\n",
    "display(cve_browser_button_box)"
   ]
  },
  {
   "cell_type": "code",
   "execution_count": null,
   "metadata": {
    "code_folding": [
     1
    ],
    "extensions": {
     "jupyter_dashboards": {
      "version": 1,
      "views": {
       "grid_default": {
        "hidden": true
       },
       "report_default": {}
      }
     }
    }
   },
   "outputs": [],
   "source": [
    "buffer = StringIO()\n",
    "with redirect_stdout(buffer):\n",
    "    cve = next_cve(gh_cvedb_collection)\n",
    "    cve.pretty()\n",
    "    \n",
    "    value = buffer.getvalue()\n",
    "    previous_cves.append(value)\n",
    "\n",
    "buffer.close()\n",
    "    \n",
    "cve_browser_area.value = value"
   ]
  },
  {
   "cell_type": "code",
   "execution_count": null,
   "metadata": {
    "extensions": {
     "jupyter_dashboards": {
      "version": 1,
      "views": {
       "grid_default": {
        "hidden": true
       },
       "report_default": {}
      }
     }
    }
   },
   "outputs": [],
   "source": [
    "if previous_cves and previous_cves[0] != cve_browser_area.value:\n",
    "    \n",
    "    cve_browser_area.value = previous_cves.popleft()"
   ]
  },
  {
   "cell_type": "markdown",
   "metadata": {
    "extensions": {
     "jupyter_dashboards": {
      "version": 1,
      "views": {
       "grid_default": {
        "col": 0,
        "height": 4,
        "hidden": true,
        "row": 90,
        "width": 4
       },
       "report_default": {}
      }
     }
    }
   },
   "source": [
    "---"
   ]
  },
  {
   "cell_type": "code",
   "execution_count": null,
   "metadata": {
    "extensions": {
     "jupyter_dashboards": {
      "version": 1,
      "views": {
       "grid_default": {
        "hidden": true
       },
       "report_default": {}
      }
     }
    }
   },
   "outputs": [],
   "source": [
    "def search_and_update(handle):\n",
    "    display(Javascript('IPython.notebook.execute_cell_range(IPython.notebook.get_selected_index()+1,'\n",
    "                       'IPython.notebook.get_selected_index()+11)'))\n",
    "\n",
    "search_button.on_click(search_and_update)"
   ]
  },
  {
   "cell_type": "code",
   "execution_count": null,
   "metadata": {
    "extensions": {
     "jupyter_dashboards": {
      "version": 1,
      "views": {
       "grid_default": {
        "col": 0,
        "height": 5,
        "hidden": false,
        "row": 20,
        "width": 12
       },
       "report_default": {
        "hidden": true
       }
      }
     }
    },
    "slideshow": {
     "slide_type": "slide"
    }
   },
   "outputs": [],
   "source": [
    "display(widgets.HBox(\n",
    "    [search_box, search_button],\n",
    "    layout=widgets.Layout(width='100%', align_items='center', justify_content='center', display='flex')\n",
    "))"
   ]
  },
  {
   "cell_type": "code",
   "execution_count": null,
   "metadata": {
    "extensions": {
     "jupyter_dashboards": {
      "version": 1,
      "views": {
       "grid_default": {
        "hidden": true
       },
       "report_default": {}
      }
     }
    }
   },
   "outputs": [],
   "source": [
    "owner = owner_widget.value\n",
    "repo = repo_widget.value\n",
    "\n",
    "v_oldest = version_lower.value\n",
    "v_newest = version_higher.value\n",
    "\n",
    "tags = []\n",
    "if owner and repo:\n",
    "    tags = get_tags(owner, repo)"
   ]
  },
  {
   "cell_type": "code",
   "execution_count": null,
   "metadata": {
    "extensions": {
     "jupyter_dashboards": {
      "version": 1,
      "views": {
       "grid_default": {
        "hidden": true
       },
       "report_default": {}
      }
     }
    }
   },
   "outputs": [],
   "source": [
    "tag_names = [t.get('name') for t in tags][::-1]\n",
    "\n",
    "current_index = [0, len(tags) - 1]\n",
    "\n",
    "if any([v_oldest, v_newest]):\n",
    "    for idx, v in enumerate([v_oldest, v_newest]):\n",
    "        if not v: break\n",
    "        current_index[idx] = [\n",
    "            idx for idx, tag in enumerate(tag_names) if re.search(v, tag)\n",
    "        ][0]"
   ]
  },
  {
   "cell_type": "code",
   "execution_count": null,
   "metadata": {
    "extensions": {
     "jupyter_dashboards": {
      "version": 1,
      "views": {
       "grid_default": {
        "col": 0,
        "height": 3,
        "hidden": false,
        "row": 25,
        "width": 12
       },
       "report_default": {}
      }
     }
    }
   },
   "outputs": [],
   "source": [
    "version_range_widget = widgets.SelectionRangeSlider(\n",
    "    description=\"Version range: \",\n",
    "    options=tag_names,\n",
    "    labels=tag_names,\n",
    "    index=current_index,\n",
    "    layout=widgets.Layout(\n",
    "        width='80%',\n",
    "        display='flex',\n",
    "        justify_content='center'\n",
    "    ),\n",
    "    continuous_update=False,\n",
    ")"
   ]
  },
  {
   "cell_type": "code",
   "execution_count": null,
   "metadata": {
    "code_folding": [
     0
    ],
    "extensions": {
     "jupyter_dashboards": {
      "version": 1,
      "views": {
       "grid_default": {
        "col": 0,
        "height": 4,
        "hidden": false,
        "row": 28,
        "width": 12
       },
       "report_default": {
        "hidden": true
       }
      }
     }
    }
   },
   "outputs": [],
   "source": [
    "def run_analysis(handle):\n",
    "    display(Javascript('IPython.notebook.execute_cells_below()'))\n",
    "\n",
    "run_analysis_button = widgets.Button(\n",
    "    description=\"Run Analysis\",\n",
    "    button_style='danger',\n",
    ")\n",
    "\n",
    "run_analysis_button.on_click(run_analysis)"
   ]
  },
  {
   "cell_type": "code",
   "execution_count": null,
   "metadata": {
    "extensions": {
     "jupyter_dashboards": {
      "version": 1,
      "views": {
       "grid_default": {
        "col": 0,
        "height": 4,
        "hidden": false,
        "row": 28,
        "width": 12
       },
       "report_default": {
        "hidden": true
       }
      }
     }
    },
    "slideshow": {
     "slide_type": "subslide"
    }
   },
   "outputs": [],
   "source": [
    "display(widgets.HBox(\n",
    "    [version_range_widget],\n",
    "    layout=widgets.Layout(width='100%', justify_content='center', display='flex')\n",
    "))\n",
    "display(widgets.HBox(\n",
    "    [run_analysis_button],\n",
    "    layout=widgets.Layout(width='100%', justify_content='center', display='flex')\n",
    "))"
   ]
  },
  {
   "cell_type": "markdown",
   "metadata": {
    "extensions": {
     "jupyter_dashboards": {
      "version": 1,
      "views": {
       "grid_default": {
        "hidden": true
       },
       "report_default": {
        "hidden": true
       }
      }
     }
    }
   },
   "source": [
    "---"
   ]
  },
  {
   "cell_type": "code",
   "execution_count": null,
   "metadata": {
    "extensions": {
     "jupyter_dashboards": {
      "version": 1,
      "views": {
       "grid_default": {
        "hidden": true
       },
       "report_default": {}
      }
     }
    }
   },
   "outputs": [],
   "source": [
    "commit_data = []\n",
    "\n",
    "v_oldest, v_newest = version_range_widget.label\n",
    "\n",
    "if owner_widget.value and repo_widget.value:\n",
    "    tags = get_tags(owner, repo)\n",
    "    \n",
    "    commit_data = list(\n",
    "        map(parse_commit, get_commits(owner=owner,\n",
    "                                      repo=repo,\n",
    "                                      tags=tags,\n",
    "                                      oldest=v_oldest,\n",
    "                                      newest=v_newest\n",
    "                                     ))\n",
    "    )"
   ]
  },
  {
   "cell_type": "code",
   "execution_count": null,
   "metadata": {
    "code_folding": [
     0,
     6
    ],
    "extensions": {
     "jupyter_dashboards": {
      "version": 1,
      "views": {
       "grid_default": {
        "hidden": true
       },
       "report_default": {}
      }
     }
    }
   },
   "outputs": [],
   "source": [
    "def get_commit_by_sha(sha):\n",
    "    clear_output(wait=True)\n",
    "    for commit in commit_data:\n",
    "        if commit.sha.startswith(sha):\n",
    "            return commit\n",
    "\n",
    "def print_commit_and_update(handle):\n",
    "    display(Javascript('IPython.notebook.execute_cell_range(IPython.notebook.get_selected_index()+1,'\n",
    "                       'IPython.notebook.get_selected_index()+2)'))"
   ]
  },
  {
   "cell_type": "code",
   "execution_count": null,
   "metadata": {
    "code_folding": [
     0
    ],
    "extensions": {
     "jupyter_dashboards": {
      "version": 1,
      "views": {
       "grid_default": {
        "hidden": true
       },
       "report_default": {}
      }
     }
    }
   },
   "outputs": [],
   "source": [
    "commit_widget = widgets.Select(\n",
    "    options=list(sorted([commit.sha[:8] for commit in commit_data])),\n",
    "    description=\"Find specific commit\",\n",
    "    disabled=False,\n",
    "    layout=widgets.Layout(\n",
    "        width='400px',\n",
    "        height='150px'\n",
    "    )\n",
    ")\n",
    "\n",
    "commit_widget.on_trait_change(print_commit_and_update, 'value')"
   ]
  },
  {
   "cell_type": "code",
   "execution_count": null,
   "metadata": {
    "extensions": {
     "jupyter_dashboards": {
      "version": 1,
      "views": {
       "grid_default": {
        "col": 6,
        "height": 7,
        "hidden": false,
        "row": 45,
        "width": 6
       },
       "report_default": {
        "hidden": true
       }
      }
     }
    }
   },
   "outputs": [],
   "source": [
    "display(commit_widget)"
   ]
  },
  {
   "cell_type": "markdown",
   "metadata": {
    "slideshow": {
     "slide_type": "slide"
    }
   },
   "source": [
    "### Example of commit fixing a CVE"
   ]
  },
  {
   "cell_type": "code",
   "execution_count": null,
   "metadata": {
    "extensions": {
     "jupyter_dashboards": {
      "version": 1,
      "views": {
       "grid_default": {
        "col": 6,
        "height": 8,
        "hidden": false,
        "row": 52,
        "width": 6
       },
       "report_default": {}
      }
     }
    },
    "scrolled": true,
    "slideshow": {
     "slide_type": "subslide"
    }
   },
   "outputs": [],
   "source": [
    "display(pprint(get_commit_by_sha(commit_widget.value)))"
   ]
  },
  {
   "cell_type": "markdown",
   "metadata": {
    "extensions": {
     "jupyter_dashboards": {
      "version": 1,
      "views": {
       "grid_default": {
        "col": 4,
        "height": 4,
        "hidden": true,
        "row": 71,
        "width": 4
       },
       "report_default": {}
      }
     }
    }
   },
   "source": [
    "---"
   ]
  },
  {
   "cell_type": "markdown",
   "metadata": {
    "extensions": {
     "jupyter_dashboards": {
      "version": 1,
      "views": {
       "grid_default": {
        "col": 4,
        "height": 4,
        "hidden": false,
        "row": 110,
        "width": 4
       },
       "report_default": {}
      }
     }
    },
    "slideshow": {
     "slide_type": "slide"
    }
   },
   "source": [
    "## Analysis\n",
    "\n",
    "\n",
    "Three approaches have been tried and compared:\n",
    "- TF-IDF analysis\n",
    "- word2vec embeddings, document similarity with pre-trained word embeddings\n",
    "- Gensim word2vec and doc2vec custom-trained models\n",
    "\n",
    "Jenks Natural Breaks algorithm has been applied to split commits into natural clusters in all cases."
   ]
  },
  {
   "cell_type": "code",
   "execution_count": null,
   "metadata": {
    "extensions": {
     "jupyter_dashboards": {
      "version": 1,
      "views": {
       "grid_default": {
        "hidden": true
       },
       "report_default": {}
      }
     }
    }
   },
   "outputs": [],
   "source": [
    "commits = list(map(entitizer, nlp.pipe([clean_text(c.message) for c in commit_data])))"
   ]
  },
  {
   "cell_type": "code",
   "execution_count": null,
   "metadata": {
    "extensions": {
     "jupyter_dashboards": {
      "version": 1,
      "views": {
       "grid_default": {
        "col": 0,
        "height": 4,
        "hidden": true,
        "row": 18,
        "width": 4
       },
       "report_default": {}
      }
     }
    }
   },
   "outputs": [],
   "source": [
    "commit_message_lengths = np.unique([\n",
    "    len(set(commit)) for commit in commits\n",
    "])\n",
    "\n",
    "commit_message_lengths.shape"
   ]
  },
  {
   "cell_type": "code",
   "execution_count": null,
   "metadata": {
    "extensions": {
     "jupyter_dashboards": {
      "version": 1,
      "views": {
       "grid_default": {
        "hidden": true
       },
       "report_default": {}
      }
     }
    }
   },
   "outputs": [],
   "source": [
    "%matplotlib inline"
   ]
  },
  {
   "cell_type": "code",
   "execution_count": null,
   "metadata": {
    "extensions": {
     "jupyter_dashboards": {
      "version": 1,
      "views": {
       "grid_default": {
        "col": 0,
        "height": 15,
        "hidden": false,
        "row": 45,
        "width": 6
       },
       "report_default": {}
      }
     }
    }
   },
   "outputs": [],
   "source": [
    "import matplotlib.pyplot as plt\n",
    "import seaborn as sns\n",
    "\n",
    "sns.set()"
   ]
  },
  {
   "cell_type": "markdown",
   "metadata": {
    "slideshow": {
     "slide_type": "slide"
    },
    "toc-hr-collapsed": false
   },
   "source": [
    "### Jenks Natural Breaks\n",
    "\n",
    "The Jenks optimization method, also called the Jenks natural breaks classification method, is a data clustering method designed to determine the best arrangement of values into different classes. This is done by seeking to minimize each class’s average deviation from the class mean, while maximizing each class’s deviation from the means of the other groups. In other words, the method seeks to reduce the variance within classes and maximize the variance between classes.\n",
    "\n",
    "The Jenks optimization method is directly related to Otsu's Method and Fisher's Discriminant Analysis.\n",
    "\n",
    "-- [Wikipedia](wikipedia.org)"
   ]
  },
  {
   "cell_type": "code",
   "execution_count": null,
   "metadata": {
    "extensions": {
     "jupyter_dashboards": {
      "version": 1,
      "views": {
       "grid_default": {
        "col": 0,
        "height": 15,
        "hidden": false,
        "row": 45,
        "width": 6
       },
       "report_default": {}
      }
     }
    },
    "slideshow": {
     "slide_type": "subslide"
    }
   },
   "outputs": [],
   "source": [
    "k_splits = min(len(commits), 5)\n",
    "\n",
    "if len(commits) > k_splits > 3 :\n",
    "\n",
    "    f, ax = plt.subplots(figsize=(10,7))\n",
    "    f.suptitle(f\"Jenks Natural Breaks split for k={k_splits}\")\n",
    "\n",
    "    sns.scatterplot(x=commit_message_lengths, y=[0] * len(commit_message_lengths), ax=ax)\n",
    "\n",
    "    jenks_split = jenks_breaks(commit_message_lengths, k_splits)\n",
    "\n",
    "    for x in jenks_split:\n",
    "        ax.plot([x] * 100, np.linspace(-0.05, 0.05, 100), 'r')\n",
    "\n",
    "    plt.show()\n",
    "\n",
    "else:\n",
    "    k_splits = 1\n",
    "    jenks_split = [len(commits[0]), len(commits[-1])]"
   ]
  },
  {
   "cell_type": "code",
   "execution_count": null,
   "metadata": {
    "extensions": {
     "jupyter_dashboards": {
      "version": 1,
      "views": {
       "grid_default": {
        "hidden": true
       },
       "report_default": {}
      }
     }
    }
   },
   "outputs": [],
   "source": [
    "# discard similar commits\n",
    "# unique_commits = []\n",
    "for commit in commits:\n",
    "    pass\n",
    "\n",
    "# FIXME -- make commits unique by similarity metric\n",
    "unique_commits = commits"
   ]
  },
  {
   "cell_type": "code",
   "execution_count": null,
   "metadata": {
    "code_folding": [
     8
    ],
    "extensions": {
     "jupyter_dashboards": {
      "version": 1,
      "views": {
       "grid_default": {
        "hidden": true
       },
       "report_default": {}
      }
     }
    }
   },
   "outputs": [],
   "source": [
    "# split messages by their length into bins\n",
    "intervals = list(zip(jenks_split[:-1], jenks_split[1:]))\n",
    "\n",
    "commit_lookup_table = {}\n",
    "\n",
    "cve_commit_bins = [list() for _ in range(k_splits)]\n",
    "commit_bins = [list() for _ in range(k_splits)]\n",
    "\n",
    "for idx, commit in enumerate(unique_commits):\n",
    "    bin_ = get_interval(intervals, len(set(commit)))\n",
    "    \n",
    "    commit_lookup_table[(bin_, len(commit_bins[bin_]))] = commit_data[idx]\n",
    "    commit_bins[bin_].append(commit)\n",
    "    \n",
    "    if contains_cve(commit):\n",
    "        cve_commit_bins[bin_].append(commit)"
   ]
  },
  {
   "cell_type": "code",
   "execution_count": null,
   "metadata": {
    "extensions": {
     "jupyter_dashboards": {
      "version": 1,
      "views": {
       "grid_default": {
        "hidden": true
       },
       "report_default": {
        "hidden": true
       }
      }
     }
    }
   },
   "outputs": [],
   "source": [
    "interval_means = np.array([\n",
    "    (low + high) / 2 for low, high in zip(jenks_split[:-1], jenks_split[1:])\n",
    "])"
   ]
  },
  {
   "cell_type": "markdown",
   "metadata": {
    "extensions": {
     "jupyter_dashboards": {
      "version": 1,
      "views": {
       "grid_default": {
        "col": 0,
        "height": 2,
        "hidden": false,
        "row": 32,
        "width": 12
       },
       "report_default": {}
      }
     }
    },
    "slideshow": {
     "slide_type": "slide"
    }
   },
   "source": [
    "### TF-IDF"
   ]
  },
  {
   "cell_type": "code",
   "execution_count": null,
   "metadata": {
    "extensions": {
     "jupyter_dashboards": {
      "version": 1,
      "views": {
       "grid_default": {
        "col": 0,
        "height": 11,
        "hidden": false,
        "row": 34,
        "width": 12
       },
       "report_default": {}
      }
     }
    },
    "scrolled": true,
    "slideshow": {
     "slide_type": "subslide"
    }
   },
   "outputs": [],
   "source": [
    "for frame in topic_frames:\n",
    "    display(frame.loc[:, frame.columns[:10]])"
   ]
  },
  {
   "cell_type": "code",
   "execution_count": null,
   "metadata": {
    "code_folding": [
     7
    ],
    "extensions": {
     "jupyter_dashboards": {
      "version": 1,
      "views": {
       "grid_default": {
        "hidden": true
       },
       "report_default": {}
      }
     }
    }
   },
   "outputs": [],
   "source": [
    "commit_score_bins = [None] * k_splits\n",
    "\n",
    "min_f = 0.05\n",
    "lookup_table = [\n",
    "    topic[topic > min_f].dropna(axis=1) for topic in topic_frames\n",
    "] \n",
    "\n",
    "for idx, bin_ in enumerate(commit_bins):\n",
    "    score_bin = []\n",
    "    \n",
    "    msg_lengths = [len(commit) for commit in bin_]\n",
    "    std_msg_length = np.mean(msg_lengths) + 2 * np.std(msg_lengths)\n",
    "    \n",
    "    for commit in bin_:\n",
    "    \n",
    "        # capture 95 % commit length within bin\n",
    "        score_bin.append(get_commit_score(commit, lookup_table, u=std_msg_length))\n",
    "        \n",
    "    commit_score_bins[idx] = np.array(score_bin)\n",
    "\n",
    "commit_score_bins = np.array(commit_score_bins)"
   ]
  },
  {
   "cell_type": "code",
   "execution_count": null,
   "metadata": {
    "extensions": {
     "jupyter_dashboards": {
      "version": 1,
      "views": {
       "grid_default": {
        "hidden": true
       },
       "report_default": {}
      }
     }
    }
   },
   "outputs": [],
   "source": [
    "# soften \n",
    "\n",
    "soft_topic_scores = []\n",
    "min_bin_size = min([len(bin_) for bin_ in commit_bins])\n",
    "\n",
    "for basket, basket_mean in zip(commit_score_bins, interval_means):\n",
    "    basket_scores = np.sum(basket, axis=1) / np.log10(basket_mean)\n",
    "    basket_scores = np.exp(basket_scores) / np.sum(np.exp(basket_scores))\n",
    "    \n",
    "    soft_topic_scores.append(basket_scores)\n",
    "\n",
    "soft_topic_scores = np.array(soft_topic_scores)"
   ]
  },
  {
   "cell_type": "code",
   "execution_count": null,
   "metadata": {
    "extensions": {
     "jupyter_dashboards": {
      "version": 1,
      "views": {
       "grid_default": {
        "col": 0,
        "height": 6,
        "hidden": true,
        "row": 18,
        "width": 4
       },
       "report_default": {}
      }
     }
    }
   },
   "outputs": [],
   "source": [
    "candidate_scores = np.array([\n",
    "    np.sort(soft_topic_scores[i], axis=0)[::-1][:5]\n",
    "    for i in range(k_splits)\n",
    "])\n",
    "candidate_scores"
   ]
  },
  {
   "cell_type": "code",
   "execution_count": null,
   "metadata": {
    "extensions": {
     "jupyter_dashboards": {
      "version": 1,
      "views": {
       "grid_default": {
        "col": 0,
        "height": 4,
        "hidden": true,
        "row": 18,
        "width": 4
       },
       "report_default": {}
      }
     }
    }
   },
   "outputs": [],
   "source": [
    "candidates = np.array([\n",
    "    np.argsort(soft_topic_scores[i], axis=0)[::-1][:5]\n",
    "    for i in range(k_splits)\n",
    "])\n",
    "\n",
    "candidates"
   ]
  },
  {
   "cell_type": "code",
   "execution_count": null,
   "metadata": {
    "code_folding": [
     2
    ],
    "extensions": {
     "jupyter_dashboards": {
      "version": 1,
      "views": {
       "grid_default": {
        "col": 0,
        "height": 16,
        "hidden": true,
        "row": 49,
        "width": 12
       },
       "report_default": {}
      }
     }
    },
    "scrolled": true
   },
   "outputs": [],
   "source": [
    "df_candidates = pd.DataFrame()\n",
    "\n",
    "for bin_number, (arg_bucket, score_bucket) in enumerate(zip(candidates, candidate_scores)):\n",
    "    for arg, score in zip(arg_bucket, score_bucket):\n",
    "\n",
    "        flat_idx = sum(len(bin_) for bin_ in commit_bins[:bin_number]) + arg\n",
    "        \n",
    "        df_candidates = df_candidates.append(pd.Series({\n",
    "            'bin': bin_number,\n",
    "            'message': str(commit_bins[bin_number][arg]),\n",
    "            'sha': commit_lookup_table[(bin_number, arg)].sha[:8],\n",
    "            'score': score,\n",
    "        }, name=flat_idx))\n",
    "        "
   ]
  },
  {
   "cell_type": "markdown",
   "metadata": {
    "slideshow": {
     "slide_type": "slide"
    }
   },
   "source": [
    "#### Results"
   ]
  },
  {
   "cell_type": "code",
   "execution_count": null,
   "metadata": {
    "extensions": {
     "jupyter_dashboards": {
      "version": 1,
      "views": {
       "grid_default": {
        "col": 0,
        "height": 22,
        "hidden": false,
        "row": 60,
        "width": null
       },
       "report_default": {}
      }
     }
    },
    "slideshow": {
     "slide_type": "subslide"
    }
   },
   "outputs": [],
   "source": [
    "df_candidates.reset_index().set_index(['bin', 'index'], drop=True).style"
   ]
  },
  {
   "cell_type": "markdown",
   "metadata": {},
   "source": [
    "##### CVE Commits"
   ]
  },
  {
   "cell_type": "code",
   "execution_count": null,
   "metadata": {
    "code_folding": [
     7
    ],
    "extensions": {
     "jupyter_dashboards": {
      "version": 1,
      "views": {
       "grid_default": {
        "hidden": true
       },
       "report_default": {}
      }
     }
    }
   },
   "outputs": [],
   "source": [
    "commit_score_bins = [None] * k_splits\n",
    "\n",
    "min_f = 0.05\n",
    "lookup_table = [\n",
    "    topic[topic > min_f].dropna(axis=1) for topic in topic_frames\n",
    "] \n",
    "\n",
    "for idx, bin_ in enumerate(cve_commit_bins):\n",
    "    score_bin = []\n",
    "    \n",
    "    msg_lengths = [len(commit) for commit in bin_]\n",
    "    std_msg_length = np.mean(msg_lengths) + 2 * np.std(msg_lengths)\n",
    "    \n",
    "    for commit in bin_:\n",
    "    \n",
    "        # capture 95 % commit length within bin\n",
    "        score_bin.append(get_commit_score(commit, lookup_table, u=std_msg_length))\n",
    "        \n",
    "    commit_score_bins[idx] = np.array(score_bin)\n",
    "\n",
    "commit_score_bins = np.array(commit_score_bins)"
   ]
  },
  {
   "cell_type": "code",
   "execution_count": null,
   "metadata": {
    "code_folding": [
     5
    ],
    "extensions": {
     "jupyter_dashboards": {
      "version": 1,
      "views": {
       "grid_default": {
        "hidden": true
       },
       "report_default": {}
      }
     }
    }
   },
   "outputs": [],
   "source": [
    "# soften \n",
    "\n",
    "soft_topic_scores = []\n",
    "min_bin_size = min([len(bin_) for bin_ in commit_bins])\n",
    "\n",
    "for basket, basket_mean in zip(commit_score_bins, interval_means):\n",
    "    if np.any(basket):\n",
    "        basket_scores = np.sum(basket, axis=1) / np.log10(basket_mean)\n",
    "        basket_scores = np.exp(basket_scores) / np.sum(np.exp(basket_scores))\n",
    "    \n",
    "    else:\n",
    "        basket_scores = []\n",
    "        \n",
    "    soft_topic_scores.append(basket_scores)\n",
    "\n",
    "soft_topic_scores = np.array(soft_topic_scores)"
   ]
  },
  {
   "cell_type": "code",
   "execution_count": null,
   "metadata": {
    "extensions": {
     "jupyter_dashboards": {
      "version": 1,
      "views": {
       "grid_default": {
        "col": 0,
        "height": 6,
        "hidden": true,
        "row": 18,
        "width": 4
       },
       "report_default": {}
      }
     }
    }
   },
   "outputs": [],
   "source": [
    "candidate_scores = np.array([\n",
    "    np.sort(soft_topic_scores[i], axis=0)[::-1][:5]\n",
    "    for i in range(k_splits)\n",
    "])\n",
    "candidate_scores"
   ]
  },
  {
   "cell_type": "code",
   "execution_count": null,
   "metadata": {
    "extensions": {
     "jupyter_dashboards": {
      "version": 1,
      "views": {
       "grid_default": {
        "col": 0,
        "height": 4,
        "hidden": true,
        "row": 18,
        "width": 4
       },
       "report_default": {}
      }
     }
    }
   },
   "outputs": [],
   "source": [
    "candidates = np.array([\n",
    "    np.argsort(soft_topic_scores[i], axis=0)[::-1][:5]\n",
    "    for i in range(k_splits)\n",
    "])\n",
    "\n",
    "candidates"
   ]
  },
  {
   "cell_type": "code",
   "execution_count": null,
   "metadata": {
    "code_folding": [
     2
    ],
    "extensions": {
     "jupyter_dashboards": {
      "version": 1,
      "views": {
       "grid_default": {
        "col": 0,
        "height": 16,
        "hidden": true,
        "row": 49,
        "width": 12
       },
       "report_default": {}
      }
     }
    },
    "scrolled": true
   },
   "outputs": [],
   "source": [
    "df_candidates = pd.DataFrame(columns=['bin', 'message', 'sha', 'score'])\n",
    "\n",
    "for bin_number, (arg_bucket, score_bucket) in enumerate(zip(candidates, candidate_scores)):\n",
    "    for arg, score in zip(arg_bucket, score_bucket):\n",
    "\n",
    "        flat_idx = sum(len(bin_) for bin_ in commit_bins[:bin_number]) + arg\n",
    "        \n",
    "        df_candidates = df_candidates.append(pd.Series({\n",
    "            'bin': bin_number,\n",
    "            'message': str(cve_commit_bins[bin_number][arg]),\n",
    "            'sha': commit_lookup_table[(bin_number, arg)].sha[:8],\n",
    "            'score': score,\n",
    "        }, name=flat_idx))\n",
    "        "
   ]
  },
  {
   "cell_type": "code",
   "execution_count": null,
   "metadata": {
    "extensions": {
     "jupyter_dashboards": {
      "version": 1,
      "views": {
       "grid_default": {
        "col": 0,
        "height": 22,
        "hidden": false,
        "row": 60,
        "width": null
       },
       "report_default": {}
      }
     }
    }
   },
   "outputs": [],
   "source": [
    "df_candidates.reset_index().set_index(['bin', 'index'], drop=True).style"
   ]
  },
  {
   "cell_type": "markdown",
   "metadata": {
    "extensions": {
     "jupyter_dashboards": {
      "version": 1,
      "views": {
       "grid_default": {
        "col": 0,
        "height": 2,
        "hidden": true,
        "row": 64,
        "width": 12
       },
       "report_default": {}
      }
     }
    }
   },
   "source": [
    "---"
   ]
  },
  {
   "cell_type": "markdown",
   "metadata": {
    "slideshow": {
     "slide_type": "slide"
    }
   },
   "source": [
    "### Spacy"
   ]
  },
  {
   "cell_type": "code",
   "execution_count": null,
   "metadata": {
    "extensions": {
     "jupyter_dashboards": {
      "version": 1,
      "views": {
       "grid_default": {
        "hidden": true
       },
       "report_default": {}
      }
     }
    }
   },
   "outputs": [],
   "source": [
    "# compute similarity of cve description to commits\n",
    "cve_description = cve.descriptions.data[0].value"
   ]
  },
  {
   "cell_type": "code",
   "execution_count": null,
   "metadata": {
    "extensions": {
     "jupyter_dashboards": {
      "version": 1,
      "views": {
       "grid_default": {
        "hidden": true
       },
       "report_default": {}
      }
     }
    }
   },
   "outputs": [],
   "source": [
    "description = nlp(clean_text(cve_description))\n",
    "description"
   ]
  },
  {
   "cell_type": "code",
   "execution_count": null,
   "metadata": {
    "code_folding": [
     2
    ],
    "extensions": {
     "jupyter_dashboards": {
      "version": 1,
      "views": {
       "grid_default": {
        "hidden": true
       },
       "report_default": {}
      }
     }
    }
   },
   "outputs": [],
   "source": [
    "sim_scores = []\n",
    "\n",
    "for basket in commit_bins:\n",
    "    basket_scores = [\n",
    "        commit.similarity(description)\n",
    "        for commit in basket\n",
    "    ]\n",
    "    sim_scores.append(basket_scores)\n",
    "\n",
    "sim_scores = np.array(sim_scores)"
   ]
  },
  {
   "cell_type": "code",
   "execution_count": null,
   "metadata": {
    "extensions": {
     "jupyter_dashboards": {
      "version": 1,
      "views": {
       "grid_default": {
        "hidden": true
       },
       "report_default": {}
      }
     }
    }
   },
   "outputs": [],
   "source": [
    "candidate_scores = np.array([\n",
    "    np.sort(sim_scores[i], axis=0)[::-1][:5]\n",
    "    for i in range(k_splits)\n",
    "])\n",
    "candidate_scores"
   ]
  },
  {
   "cell_type": "code",
   "execution_count": null,
   "metadata": {
    "extensions": {
     "jupyter_dashboards": {
      "version": 1,
      "views": {
       "grid_default": {
        "hidden": true
       },
       "report_default": {}
      }
     }
    }
   },
   "outputs": [],
   "source": [
    "candidates = np.array([\n",
    "    np.argsort(sim_scores[i], axis=0)[::-1][:5]\n",
    "    for i in range(k_splits)\n",
    "])\n",
    "\n",
    "candidates"
   ]
  },
  {
   "cell_type": "code",
   "execution_count": null,
   "metadata": {
    "code_folding": [
     2
    ],
    "extensions": {
     "jupyter_dashboards": {
      "version": 1,
      "views": {
       "grid_default": {
        "hidden": true
       },
       "report_default": {
        "hidden": true
       }
      }
     }
    },
    "scrolled": true
   },
   "outputs": [],
   "source": [
    "df_candidates = pd.DataFrame()\n",
    "\n",
    "for bin_number, (arg_bucket, score_bucket) in enumerate(zip(candidates, candidate_scores)):\n",
    "    for arg, score in zip(arg_bucket, score_bucket):\n",
    "\n",
    "        flat_idx = sum(len(bins) for bins in commit_bins[:bin_number]) + arg\n",
    "        \n",
    "        df_candidates = df_candidates.append(pd.Series({\n",
    "            'bin': bin_number,\n",
    "            'message': str(commit_bins[bin_number][arg]),\n",
    "            'sha': commit_lookup_table[(bin_number, arg)].sha[:8],\n",
    "            'score': score,\n",
    "        }, name=flat_idx))\n",
    "        "
   ]
  },
  {
   "cell_type": "markdown",
   "metadata": {
    "slideshow": {
     "slide_type": "slide"
    }
   },
   "source": [
    "#### Results"
   ]
  },
  {
   "cell_type": "code",
   "execution_count": null,
   "metadata": {
    "extensions": {
     "jupyter_dashboards": {
      "version": 1,
      "views": {
       "grid_default": {
        "col": 0,
        "height": 22,
        "hidden": false,
        "row": 84,
        "width": null
       },
       "report_default": {}
      }
     }
    },
    "slideshow": {
     "slide_type": "subslide"
    }
   },
   "outputs": [],
   "source": [
    "df_candidates.reset_index().set_index(['bin', 'index'], drop=True).style"
   ]
  },
  {
   "cell_type": "code",
   "execution_count": null,
   "metadata": {},
   "outputs": [],
   "source": [
    "#### Same for CVE commits"
   ]
  },
  {
   "cell_type": "code",
   "execution_count": null,
   "metadata": {
    "code_folding": [
     2
    ],
    "extensions": {
     "jupyter_dashboards": {
      "version": 1,
      "views": {
       "grid_default": {
        "hidden": true
       },
       "report_default": {}
      }
     }
    }
   },
   "outputs": [],
   "source": [
    "sim_scores = []\n",
    "\n",
    "for basket in cve_commit_bins:\n",
    "    basket_scores = [\n",
    "        commit.similarity(description)\n",
    "        for commit in basket\n",
    "    ]\n",
    "    sim_scores.append(basket_scores)\n",
    "\n",
    "sim_scores = np.array(sim_scores)"
   ]
  },
  {
   "cell_type": "code",
   "execution_count": null,
   "metadata": {
    "extensions": {
     "jupyter_dashboards": {
      "version": 1,
      "views": {
       "grid_default": {
        "hidden": true
       },
       "report_default": {}
      }
     }
    }
   },
   "outputs": [],
   "source": [
    "candidate_scores = np.array([\n",
    "    np.sort(sim_scores[i], axis=0)[::-1][:5]\n",
    "    for i in range(k_splits)\n",
    "])\n",
    "candidate_scores"
   ]
  },
  {
   "cell_type": "code",
   "execution_count": null,
   "metadata": {
    "extensions": {
     "jupyter_dashboards": {
      "version": 1,
      "views": {
       "grid_default": {
        "hidden": true
       },
       "report_default": {}
      }
     }
    }
   },
   "outputs": [],
   "source": [
    "candidates = np.array([\n",
    "    np.argsort(sim_scores[i], axis=0)[::-1][:5]\n",
    "    for i in range(k_splits)\n",
    "])\n",
    "\n",
    "candidates"
   ]
  },
  {
   "cell_type": "code",
   "execution_count": null,
   "metadata": {
    "code_folding": [
     2
    ],
    "extensions": {
     "jupyter_dashboards": {
      "version": 1,
      "views": {
       "grid_default": {
        "hidden": true
       },
       "report_default": {
        "hidden": true
       }
      }
     }
    },
    "scrolled": true
   },
   "outputs": [],
   "source": [
    "df_candidates = pd.DataFrame(columns=['bin', 'message', 'sha', 'score'])\n",
    "\n",
    "for bin_number, (arg_bucket, score_bucket) in enumerate(zip(candidates, candidate_scores)):\n",
    "    for arg, score in zip(arg_bucket, score_bucket):\n",
    "\n",
    "        flat_idx = sum(len(bins) for bins in commit_bins[:bin_number]) + arg\n",
    "        \n",
    "        df_candidates = df_candidates.append(pd.Series({\n",
    "            'bin': bin_number,\n",
    "            'message': str(cve_commit_bins[bin_number][arg]),\n",
    "            'sha': commit_lookup_table[(bin_number, arg)].sha[:8],\n",
    "            'score': score,\n",
    "        }, name=flat_idx))\n",
    "        "
   ]
  },
  {
   "cell_type": "code",
   "execution_count": null,
   "metadata": {
    "extensions": {
     "jupyter_dashboards": {
      "version": 1,
      "views": {
       "grid_default": {
        "col": 0,
        "height": 22,
        "hidden": false,
        "row": 84,
        "width": null
       },
       "report_default": {}
      }
     }
    }
   },
   "outputs": [],
   "source": [
    "df_candidates.reset_index().set_index(['bin', 'index'], drop=True).style"
   ]
  },
  {
   "cell_type": "markdown",
   "metadata": {},
   "source": [
    "---"
   ]
  },
  {
   "cell_type": "markdown",
   "metadata": {
    "slideshow": {
     "slide_type": "slide"
    }
   },
   "source": [
    "### Gensim"
   ]
  },
  {
   "cell_type": "markdown",
   "metadata": {
    "slideshow": {
     "slide_type": "slide"
    }
   },
   "source": [
    "#### Topic Classification Approach"
   ]
  },
  {
   "cell_type": "code",
   "execution_count": null,
   "metadata": {},
   "outputs": [],
   "source": [
    "# model = Doc2Vec.load('data/models/doc2vec_cvedetails_20k/doc2vec.model')\n",
    "model = Doc2Vec.load('data/models/gensim/doc2vec_cvedetails_20k/doc2vec.model')"
   ]
  },
  {
   "cell_type": "code",
   "execution_count": null,
   "metadata": {
    "code_folding": [
     2
    ],
    "extensions": {
     "jupyter_dashboards": {
      "version": 1,
      "views": {
       "grid_default": {
        "hidden": true
       },
       "report_default": {}
      }
     }
    }
   },
   "outputs": [],
   "source": [
    "sim_scores = []\n",
    "\n",
    "for basket in commit_bins:\n",
    "    basket_scores = []\n",
    "    \n",
    "    for commit in basket:\n",
    "        processed_commit = preprocess_string(str(commit))\n",
    "        \n",
    "        _, score = model.docvecs.most_similar(\n",
    "            [model.infer_vector(processed_commit, epochs=50, alpha=0.125)],\n",
    "            topn=1\n",
    "        )[0]\n",
    "        basket_scores.append(score)\n",
    "        \n",
    "    sim_scores.append(basket_scores)\n",
    "\n",
    "sim_scores = np.array(sim_scores)"
   ]
  },
  {
   "cell_type": "code",
   "execution_count": null,
   "metadata": {
    "extensions": {
     "jupyter_dashboards": {
      "version": 1,
      "views": {
       "grid_default": {
        "hidden": true
       },
       "report_default": {}
      }
     }
    }
   },
   "outputs": [],
   "source": [
    "candidate_scores = np.array([\n",
    "    np.sort(sim_scores[i], axis=0)[::-1][:5]\n",
    "    for i in range(k_splits)\n",
    "])\n",
    "candidate_scores"
   ]
  },
  {
   "cell_type": "code",
   "execution_count": null,
   "metadata": {
    "extensions": {
     "jupyter_dashboards": {
      "version": 1,
      "views": {
       "grid_default": {
        "hidden": true
       },
       "report_default": {}
      }
     }
    }
   },
   "outputs": [],
   "source": [
    "candidates = np.array([\n",
    "    np.argsort(sim_scores[i], axis=0)[::-1][:5]\n",
    "    for i in range(k_splits)\n",
    "])\n",
    "\n",
    "candidates"
   ]
  },
  {
   "cell_type": "code",
   "execution_count": null,
   "metadata": {
    "code_folding": [
     2
    ],
    "extensions": {
     "jupyter_dashboards": {
      "version": 1,
      "views": {
       "grid_default": {
        "hidden": true
       },
       "report_default": {
        "hidden": true
       }
      }
     }
    },
    "scrolled": true
   },
   "outputs": [],
   "source": [
    "df_candidates = pd.DataFrame(columns=['bin', 'message', 'sha', 'score'])\n",
    "\n",
    "for bin_number, (arg_bucket, score_bucket) in enumerate(zip(candidates, candidate_scores)):\n",
    "    for arg, score in zip(arg_bucket, score_bucket):\n",
    "\n",
    "        flat_idx = sum(len(bins) for bins in commit_bins[:bin_number]) + arg\n",
    "        \n",
    "        df_candidates = df_candidates.append(pd.Series({\n",
    "            'bin': bin_number,\n",
    "            'message': str(commit_bins[bin_number][arg]),\n",
    "            'sha': commit_lookup_table[(bin_number, arg)].sha[:8],\n",
    "            'score': score,\n",
    "        }, name=flat_idx))\n",
    "        "
   ]
  },
  {
   "cell_type": "markdown",
   "metadata": {
    "slideshow": {
     "slide_type": "slide"
    }
   },
   "source": [
    "##### Results"
   ]
  },
  {
   "cell_type": "code",
   "execution_count": null,
   "metadata": {
    "extensions": {
     "jupyter_dashboards": {
      "version": 1,
      "views": {
       "grid_default": {
        "col": 0,
        "height": 22,
        "hidden": false,
        "row": 84,
        "width": null
       },
       "report_default": {}
      }
     }
    },
    "slideshow": {
     "slide_type": "subslide"
    }
   },
   "outputs": [],
   "source": [
    "df_candidates.reset_index().set_index(['bin', 'index'], drop=True).style"
   ]
  },
  {
   "cell_type": "markdown",
   "metadata": {
    "slideshow": {
     "slide_type": "slide"
    }
   },
   "source": [
    "#### Description similarity"
   ]
  },
  {
   "cell_type": "code",
   "execution_count": null,
   "metadata": {},
   "outputs": [],
   "source": [
    "# model = Doc2Vec.load('data/models/doc2vec_cvedetails_20k/doc2vec.model')\n",
    "model = Doc2Vec.load('data/models/gensim/doc2vec_cvedetails_20k/doc2vec.model')"
   ]
  },
  {
   "cell_type": "code",
   "execution_count": null,
   "metadata": {},
   "outputs": [],
   "source": [
    "description = preprocess_string(clean_text(cve_description))\n",
    "description_vector = model.infer_vector(description, epochs=50, alpha=0.125)"
   ]
  },
  {
   "cell_type": "code",
   "execution_count": null,
   "metadata": {
    "code_folding": [
     2
    ],
    "extensions": {
     "jupyter_dashboards": {
      "version": 1,
      "views": {
       "grid_default": {
        "hidden": true
       },
       "report_default": {}
      }
     }
    }
   },
   "outputs": [],
   "source": [
    "sim_scores = []\n",
    "\n",
    "for basket in commit_bins:\n",
    "    basket_scores = []\n",
    "    \n",
    "    for commit in basket:\n",
    "        processed_commit = preprocess_string(str(commit))\n",
    "        \n",
    "        score, = model.wv.cosine_similarities(\n",
    "            model.infer_vector(processed_commit, epochs=50, alpha=0.001),\n",
    "            [description_vector]\n",
    "        )\n",
    "        basket_scores.append(score)\n",
    "        \n",
    "    sim_scores.append(basket_scores)\n",
    "\n",
    "sim_scores = np.array(sim_scores)"
   ]
  },
  {
   "cell_type": "code",
   "execution_count": null,
   "metadata": {
    "extensions": {
     "jupyter_dashboards": {
      "version": 1,
      "views": {
       "grid_default": {
        "hidden": true
       },
       "report_default": {}
      }
     }
    }
   },
   "outputs": [],
   "source": [
    "candidate_scores = np.array([\n",
    "    np.sort(sim_scores[i], axis=0)[::-1][:5]\n",
    "    for i in range(k_splits)\n",
    "])\n",
    "candidate_scores"
   ]
  },
  {
   "cell_type": "code",
   "execution_count": null,
   "metadata": {
    "extensions": {
     "jupyter_dashboards": {
      "version": 1,
      "views": {
       "grid_default": {
        "hidden": true
       },
       "report_default": {}
      }
     }
    }
   },
   "outputs": [],
   "source": [
    "candidates = np.array([\n",
    "    np.argsort(sim_scores[i], axis=0)[::-1][:5]\n",
    "    for i in range(k_splits)\n",
    "])\n",
    "\n",
    "candidates"
   ]
  },
  {
   "cell_type": "code",
   "execution_count": null,
   "metadata": {
    "code_folding": [
     2
    ],
    "extensions": {
     "jupyter_dashboards": {
      "version": 1,
      "views": {
       "grid_default": {
        "hidden": true
       },
       "report_default": {
        "hidden": true
       }
      }
     }
    },
    "scrolled": true
   },
   "outputs": [],
   "source": [
    "df_candidates = pd.DataFrame(columns=['bin', 'message', 'sha', 'score'])\n",
    "\n",
    "for bin_number, (arg_bucket, score_bucket) in enumerate(zip(candidates, candidate_scores)):\n",
    "    for arg, score in zip(arg_bucket, score_bucket):\n",
    "\n",
    "        flat_idx = sum(len(bins) for bins in commit_bins[:bin_number]) + arg\n",
    "        \n",
    "        df_candidates = df_candidates.append(pd.Series({\n",
    "            'bin': bin_number,\n",
    "            'message': str(commit_bins[bin_number][arg]),\n",
    "            'sha': commit_lookup_table[(bin_number, arg)].sha[:8],\n",
    "            'score': score,\n",
    "        }, name=flat_idx))\n",
    "        "
   ]
  },
  {
   "cell_type": "markdown",
   "metadata": {
    "slideshow": {
     "slide_type": "subslide"
    }
   },
   "source": [
    "##### Results"
   ]
  },
  {
   "cell_type": "code",
   "execution_count": null,
   "metadata": {
    "extensions": {
     "jupyter_dashboards": {
      "version": 1,
      "views": {
       "grid_default": {
        "col": 0,
        "height": 22,
        "hidden": false,
        "row": 84,
        "width": null
       },
       "report_default": {}
      }
     }
    },
    "slideshow": {
     "slide_type": "subslide"
    }
   },
   "outputs": [],
   "source": [
    "df_candidates.reset_index().set_index(['bin', 'index'], drop=True).style"
   ]
  }
 ],
 "metadata": {
  "celltoolbar": "Slideshow",
  "extensions": {
   "jupyter_dashboards": {
    "activeView": "grid_default",
    "version": 1,
    "views": {
     "grid_default": {
      "cellMargin": 10,
      "defaultCellHeight": 20,
      "maxColumns": 12,
      "name": "grid",
      "type": "grid"
     },
     "report_default": {
      "name": "report",
      "type": "report"
     }
    }
   }
  },
  "hide_input": false,
  "kernelspec": {
   "display_name": "Python 3",
   "language": "python",
   "name": "python3"
  },
  "language_info": {
   "codemirror_mode": {
    "name": "ipython",
    "version": 3
   },
   "file_extension": ".py",
   "mimetype": "text/x-python",
   "name": "python",
   "nbconvert_exporter": "python",
   "pygments_lexer": "ipython3",
   "version": "3.6.6"
  },
  "notify_time": "30",
  "toc": {
   "base_numbering": 1,
   "nav_menu": {
    "height": "184px",
    "width": "247px"
   },
   "number_sections": true,
   "sideBar": true,
   "skip_h1_title": false,
   "title_cell": "Table of Contents",
   "title_sidebar": "Contents",
   "toc_cell": true,
   "toc_position": {
    "height": "calc(100% - 180px)",
    "left": "10px",
    "top": "150px",
    "width": "255.994px"
   },
   "toc_section_display": true,
   "toc_window_display": true
  },
  "toc-autonumbering": false,
  "toc-showmarkdowntxt": true,
  "toc-showtags": true,
  "varInspector": {
   "cols": {
    "lenName": 16,
    "lenType": 16,
    "lenVar": 40
   },
   "kernels_config": {
    "python": {
     "delete_cmd_postfix": "",
     "delete_cmd_prefix": "del ",
     "library": "var_list.py",
     "varRefreshCmd": "print(var_dic_list())"
    },
    "r": {
     "delete_cmd_postfix": ") ",
     "delete_cmd_prefix": "rm(",
     "library": "var_list.r",
     "varRefreshCmd": "cat(var_dic_list()) "
    }
   },
   "position": {
    "height": "565px",
    "left": "1887px",
    "right": "20px",
    "top": "120px",
    "width": "654px"
   },
   "types_to_exclude": [
    "module",
    "function",
    "builtin_function_or_method",
    "instance",
    "_Feature"
   ],
   "window_display": true
  },
  "widgets": {
   "application/vnd.jupyter.widget-state+json": {
    "state": {
     "086f0456067644da979e2bc54777593d": {
      "model_module": "@jupyter-widgets/controls",
      "model_module_version": "1.4.0",
      "model_name": "DescriptionStyleModel",
      "state": {
       "description_width": ""
      }
     },
     "098bfe798d4f4c8095f5c26cacf4f19d": {
      "model_module": "@jupyter-widgets/base",
      "model_module_version": "1.1.0",
      "model_name": "LayoutModel",
      "state": {}
     },
     "0d8a440b7cbc4cbca6260820cda36071": {
      "model_module": "@jupyter-widgets/base",
      "model_module_version": "1.1.0",
      "model_name": "LayoutModel",
      "state": {}
     },
     "23d3c04e37404c6fa547d0a3c63635ee": {
      "model_module": "@jupyter-widgets/controls",
      "model_module_version": "1.4.0",
      "model_name": "SelectModel",
      "state": {
       "_options_labels": [
        "06c7077e",
        "07fbeac6",
        "09def308",
        "1a6086f2",
        "1e7aacdc",
        "2bf492c2",
        "3468b12c",
        "4b28760a",
        "4d34a181",
        "5fb46952",
        "7029298b",
        "70f5e3e8",
        "771d4040",
        "9478bf59",
        "ae8484fd",
        "b57eb94f",
        "bd9d92f5",
        "c924c9ec",
        "d93a6632",
        "db586ede",
        "dc2b4b4e",
        "deea8c5d",
        "e3f986df",
        "e4548642",
        "ec0ee336",
        "fffd762f"
       ],
       "description": "Find specific commit",
       "index": 0,
       "layout": "IPY_MODEL_9a0d9917b30b413fa39ceeeda1f0511c",
       "style": "IPY_MODEL_af0db044d9be49fd958eb2218d88feb7"
      }
     },
     "26714e6bc6ad403daecf40409d594a2d": {
      "model_module": "@jupyter-widgets/controls",
      "model_module_version": "1.4.0",
      "model_name": "SelectionRangeSliderModel",
      "state": {
       "_model_name": "SelectionRangeSliderModel",
       "_options_labels": [
        "v0.1.dev1",
        "v0.1.dev2",
        "v0.1",
        "v0.2",
        "v0.3",
        "v0.3.1",
        "v0.4",
        "v0.4.1",
        "v0.4.2",
        "v0.5",
        "v0.6",
        "v0.6.1",
        "v0.7",
        "v0.8",
        "v0.9",
        "v0.10",
        "v0.11",
        "v0.11.1",
        "v1.0.rc0",
        "v1.0",
        "v1.1",
        "v1.2",
        "v1.2.1",
        "v1.3",
        "v1.4",
        "v2.0",
        "v2.1",
        "v2.2",
        "v3.0",
        "v4.0",
        "v4.1",
        "v4.2"
       ],
       "_view_name": "SelectionRangeSliderView",
       "continuous_update": false,
       "description": "Version range: ",
       "index": [
        21,
        25
       ],
       "layout": "IPY_MODEL_a8786fd65bd4493cb6078213f4304c78",
       "style": "IPY_MODEL_27d5c1ccc4694463b9f53fc3ecbc6271"
      }
     },
     "2724363987ac46c5847289de3fa19efc": {
      "model_module": "@jupyter-widgets/controls",
      "model_module_version": "1.4.0",
      "model_name": "TextareaModel",
      "state": {
       "disabled": true,
       "layout": "IPY_MODEL_37bfb6ca78eb4638a796586dc9d92ac1",
       "placeholder": "<CVE>",
       "style": "IPY_MODEL_086f0456067644da979e2bc54777593d",
       "value": "{\n    'id_': 'CVE-2017-1000487',\n    'year': 2017,\n    'assigner': 'cve@mitre.org',\n    'data_version': '4.0',\n    'affects': {'data': []},\n    'references': {\n        'data': [\n            {\n                'url': 'https://access.redhat.com/errata/RHSA-2018:1322',\n                'name': 'RHSA-2018:1322',\n                'refsource': 'REDHAT'\n            },\n            {\n                'url':\n                    'https://github.com/codehaus-plexus/plexus-utils/commit/'\n                    'b38a1b3a4352303e4312b2bb601a0d7ec6e28f41',\n                'name':\n                    'https://github.com/codehaus-plexus/plexus-utils/commit/'\n                    'b38a1b3a4352303e4312b2bb601a0d7ec6e28f41',\n                'refsource': 'CONFIRM'\n            },\n            {\n                'url':\n                    'https://lists.debian.org/debian-lts-announce/2018/01/'\n                    'msg00010.html',\n                'name':\n                    '[debian-lts-announce] 20180109 [SECURITY] [DLA 1236-1] '\n                    'plexus-utils security update',\n                'refsource': 'MLIST'\n            },\n            {\n                'url':\n                    'https://lists.debian.org/debian-lts-announce/2018/01/'\n                    'msg00011.html',\n                'name':\n                    '[debian-lts-announce] 20180109 [SECURITY] [DLA 1237-1] '\n                    'plexus-utils2 security update',\n                'refsource': 'MLIST'\n            },\n            {\n                'url': 'https://snyk.io/vuln/SNYK-JAVA-ORGCODEHAUSPLEXUS-31522',\n                'name':\n                    'https://snyk.io/vuln/SNYK-JAVA-ORGCODEHAUSPLEXUS-31522',\n                'refsource': 'MISC'\n            },\n            {\n                'url': 'https://www.debian.org/security/2018/dsa-4146',\n                'name': 'DSA-4146',\n                'refsource': 'DEBIAN'\n            },\n            {\n                'url': 'https://www.debian.org/security/2018/dsa-4149',\n                'name': 'DSA-4149',\n                'refsource': 'DEBIAN'\n            }\n        ]\n    },\n    'descriptions': {\n        'data': [\n            {\n                'lang': 'en',\n                'value':\n                    'Plexus-utils before 3.0.16 is vulnerable to command '\n                    'injection because it does not correctly process the '\n                    'contents of double quoted strings.'\n            }\n        ]\n    }\n}\n"
      }
     },
     "27d5c1ccc4694463b9f53fc3ecbc6271": {
      "model_module": "@jupyter-widgets/controls",
      "model_module_version": "1.4.0",
      "model_name": "DescriptionStyleModel",
      "state": {
       "description_width": ""
      }
     },
     "2829bdd43c0146fa834fd19993dc179e": {
      "model_module": "@jupyter-widgets/controls",
      "model_module_version": "1.4.0",
      "model_name": "DescriptionStyleModel",
      "state": {
       "description_width": ""
      }
     },
     "2dde88b215ff469eb399d6af7af413f9": {
      "model_module": "@jupyter-widgets/controls",
      "model_module_version": "1.4.0",
      "model_name": "ButtonModel",
      "state": {
       "description": "Previous",
       "layout": "IPY_MODEL_e0f42a0e85b54e3bb2f17bce46533864",
       "style": "IPY_MODEL_2fa858ff02b944d1b6daabe09c75833c",
       "tooltip": "Get previous CVE"
      }
     },
     "2fa858ff02b944d1b6daabe09c75833c": {
      "model_module": "@jupyter-widgets/controls",
      "model_module_version": "1.4.0",
      "model_name": "ButtonStyleModel",
      "state": {}
     },
     "332d8e0291464ffe9a3c9d8738f48ac7": {
      "model_module": "@jupyter-widgets/base",
      "model_module_version": "1.1.0",
      "model_name": "LayoutModel",
      "state": {
       "align_items": "center",
       "display": "flex",
       "justify_content": "center",
       "width": "100%"
      }
     },
     "35c0f17dd4ca4cc5972225b49870a279": {
      "model_module": "@jupyter-widgets/base",
      "model_module_version": "1.1.0",
      "model_name": "LayoutModel",
      "state": {
       "display": "flex",
       "justify_content": "center",
       "width": "100%"
      }
     },
     "37bfb6ca78eb4638a796586dc9d92ac1": {
      "model_module": "@jupyter-widgets/base",
      "model_module_version": "1.1.0",
      "model_name": "LayoutModel",
      "state": {
       "align_self": "flex-end",
       "display": "flex",
       "flex_flow": "row",
       "height": "500px",
       "width": "100%"
      }
     },
     "3f1fcb34731d4ef9a17ab1f394140ecb": {
      "model_module": "@jupyter-widgets/base",
      "model_module_version": "1.1.0",
      "model_name": "LayoutModel",
      "state": {}
     },
     "454e7961cf6140ffafc606aabe69c4f3": {
      "model_module": "@jupyter-widgets/base",
      "model_module_version": "1.1.0",
      "model_name": "LayoutModel",
      "state": {
       "height": "60px",
       "width": "150px"
      }
     },
     "478c1944eeb54d6b8b3eab7d1945bba4": {
      "model_module": "@jupyter-widgets/base",
      "model_module_version": "1.1.0",
      "model_name": "LayoutModel",
      "state": {}
     },
     "47e4b611c70a4832a498a8dcb439ef56": {
      "model_module": "@jupyter-widgets/controls",
      "model_module_version": "1.4.0",
      "model_name": "DescriptionStyleModel",
      "state": {
       "description_width": ""
      }
     },
     "490a39e8608342e4a3a70e272c3ab954": {
      "model_module": "@jupyter-widgets/controls",
      "model_module_version": "1.4.0",
      "model_name": "TextModel",
      "state": {
       "description": "[OPT] Newest: ",
       "layout": "IPY_MODEL_c173e54b395345c585fbe26e24b7b9c4",
       "placeholder": "<version> [optional]",
       "style": "IPY_MODEL_b7301dda0f6f4fcdb9890c969f888da4",
       "value": "2.0"
      }
     },
     "4b9fb62223ef4b61a6c5cb719137fa7f": {
      "model_module": "@jupyter-widgets/controls",
      "model_module_version": "1.4.0",
      "model_name": "HBoxModel",
      "state": {
       "children": [
        "IPY_MODEL_616066953cd84c50812e64058a03fb85",
        "IPY_MODEL_ea767df200744591a8a81195c149c631"
       ],
       "layout": "IPY_MODEL_d612c7d3a06341c09e26a121b4265793"
      }
     },
     "4cbeb5215754437db3d6a13ea55fb422": {
      "model_module": "@jupyter-widgets/base",
      "model_module_version": "1.1.0",
      "model_name": "LayoutModel",
      "state": {}
     },
     "616066953cd84c50812e64058a03fb85": {
      "model_module": "@jupyter-widgets/controls",
      "model_module_version": "1.4.0",
      "model_name": "TextModel",
      "state": {
       "description": "Owner: ",
       "layout": "IPY_MODEL_4cbeb5215754437db3d6a13ea55fb422",
       "placeholder": "<owner>",
       "style": "IPY_MODEL_2829bdd43c0146fa834fd19993dc179e",
       "value": "anymail"
      }
     },
     "62842b078f554f71bd286a19e6fd70bf": {
      "model_module": "@jupyter-widgets/controls",
      "model_module_version": "1.4.0",
      "model_name": "DescriptionStyleModel",
      "state": {
       "description_width": ""
      }
     },
     "6a43064cfca442e6b19c5aa8b1496960": {
      "model_module": "@jupyter-widgets/controls",
      "model_module_version": "1.4.0",
      "model_name": "ButtonModel",
      "state": {
       "description": "Next",
       "layout": "IPY_MODEL_7fb861b5c3b34a1cae46bc9d6da5071d",
       "style": "IPY_MODEL_dddab6030fb04bb79c3320cb49c7f550",
       "tooltip": "Get next CVE"
      }
     },
     "7a1f6a1c070c4f64afdecde1557d081e": {
      "model_module": "@jupyter-widgets/controls",
      "model_module_version": "1.4.0",
      "model_name": "HBoxModel",
      "state": {
       "children": [
        "IPY_MODEL_a6b31b1399074b52a0b888619f34dbae"
       ],
       "layout": "IPY_MODEL_35c0f17dd4ca4cc5972225b49870a279"
      }
     },
     "7fb861b5c3b34a1cae46bc9d6da5071d": {
      "model_module": "@jupyter-widgets/base",
      "model_module_version": "1.1.0",
      "model_name": "LayoutModel",
      "state": {
       "width": "300px"
      }
     },
     "846ae87150594cf89ce44479eda8bb1c": {
      "model_module": "@jupyter-widgets/controls",
      "model_module_version": "1.4.0",
      "model_name": "HBoxModel",
      "state": {
       "children": [
        "IPY_MODEL_a310dc798ed1467c9abab84c94f8ce60",
        "IPY_MODEL_b93c00e4a1794a459e29cf2d8ad49428"
       ],
       "layout": "IPY_MODEL_332d8e0291464ffe9a3c9d8738f48ac7"
      }
     },
     "85f3323cbf5044efb879a5387cd841c7": {
      "model_module": "@jupyter-widgets/base",
      "model_module_version": "1.1.0",
      "model_name": "LayoutModel",
      "state": {
       "display": "flex",
       "justify_content": "center",
       "width": "100%"
      }
     },
     "8e6a86315f5f48d092b9e5834262f876": {
      "model_module": "@jupyter-widgets/controls",
      "model_module_version": "1.4.0",
      "model_name": "ButtonStyleModel",
      "state": {}
     },
     "9a0d9917b30b413fa39ceeeda1f0511c": {
      "model_module": "@jupyter-widgets/base",
      "model_module_version": "1.1.0",
      "model_name": "LayoutModel",
      "state": {
       "height": "150px",
       "width": "400px"
      }
     },
     "a310dc798ed1467c9abab84c94f8ce60": {
      "model_module": "@jupyter-widgets/controls",
      "model_module_version": "1.4.0",
      "model_name": "VBoxModel",
      "state": {
       "children": [
        "IPY_MODEL_4b9fb62223ef4b61a6c5cb719137fa7f",
        "IPY_MODEL_b70dd3933503442984ff706e35522fc2"
       ],
       "layout": "IPY_MODEL_098bfe798d4f4c8095f5c26cacf4f19d"
      }
     },
     "a6b31b1399074b52a0b888619f34dbae": {
      "model_module": "@jupyter-widgets/controls",
      "model_module_version": "1.4.0",
      "model_name": "ButtonModel",
      "state": {
       "button_style": "danger",
       "description": "Run Analysis",
       "layout": "IPY_MODEL_efa73feee864466fb03e0fae7fc42bc7",
       "style": "IPY_MODEL_8e6a86315f5f48d092b9e5834262f876"
      }
     },
     "a8786fd65bd4493cb6078213f4304c78": {
      "model_module": "@jupyter-widgets/base",
      "model_module_version": "1.1.0",
      "model_name": "LayoutModel",
      "state": {
       "display": "flex",
       "justify_content": "center",
       "width": "80%"
      }
     },
     "af0db044d9be49fd958eb2218d88feb7": {
      "model_module": "@jupyter-widgets/controls",
      "model_module_version": "1.4.0",
      "model_name": "DescriptionStyleModel",
      "state": {
       "description_width": ""
      }
     },
     "b70dd3933503442984ff706e35522fc2": {
      "model_module": "@jupyter-widgets/controls",
      "model_module_version": "1.4.0",
      "model_name": "HBoxModel",
      "state": {
       "children": [
        "IPY_MODEL_d117d9d480964a33ba09c6b7397b2ca6",
        "IPY_MODEL_490a39e8608342e4a3a70e272c3ab954"
       ],
       "layout": "IPY_MODEL_0d8a440b7cbc4cbca6260820cda36071"
      }
     },
     "b7301dda0f6f4fcdb9890c969f888da4": {
      "model_module": "@jupyter-widgets/controls",
      "model_module_version": "1.4.0",
      "model_name": "DescriptionStyleModel",
      "state": {
       "description_width": ""
      }
     },
     "b93c00e4a1794a459e29cf2d8ad49428": {
      "model_module": "@jupyter-widgets/controls",
      "model_module_version": "1.4.0",
      "model_name": "ButtonModel",
      "state": {
       "description": "Find",
       "layout": "IPY_MODEL_454e7961cf6140ffafc606aabe69c4f3",
       "style": "IPY_MODEL_bbddc32cc2de49089ed7a6f912957b3a",
       "tooltip": "Find commits for given repository."
      }
     },
     "bbddc32cc2de49089ed7a6f912957b3a": {
      "model_module": "@jupyter-widgets/controls",
      "model_module_version": "1.4.0",
      "model_name": "ButtonStyleModel",
      "state": {}
     },
     "bddb1b6e6d4f49579e013ef783b4e547": {
      "model_module": "@jupyter-widgets/controls",
      "model_module_version": "1.4.0",
      "model_name": "HBoxModel",
      "state": {
       "children": [
        "IPY_MODEL_2dde88b215ff469eb399d6af7af413f9",
        "IPY_MODEL_6a43064cfca442e6b19c5aa8b1496960"
       ],
       "layout": "IPY_MODEL_db014f6764e442afb8a2365de9103af1"
      }
     },
     "c173e54b395345c585fbe26e24b7b9c4": {
      "model_module": "@jupyter-widgets/base",
      "model_module_version": "1.1.0",
      "model_name": "LayoutModel",
      "state": {}
     },
     "d117d9d480964a33ba09c6b7397b2ca6": {
      "model_module": "@jupyter-widgets/controls",
      "model_module_version": "1.4.0",
      "model_name": "TextModel",
      "state": {
       "description": "[OPT] Oldest: ",
       "layout": "IPY_MODEL_3f1fcb34731d4ef9a17ab1f394140ecb",
       "placeholder": "<version> [optional]",
       "style": "IPY_MODEL_62842b078f554f71bd286a19e6fd70bf",
       "value": "1.2"
      }
     },
     "d612c7d3a06341c09e26a121b4265793": {
      "model_module": "@jupyter-widgets/base",
      "model_module_version": "1.1.0",
      "model_name": "LayoutModel",
      "state": {}
     },
     "db014f6764e442afb8a2365de9103af1": {
      "model_module": "@jupyter-widgets/base",
      "model_module_version": "1.1.0",
      "model_name": "LayoutModel",
      "state": {
       "justify_content": "center",
       "width": "100%"
      }
     },
     "dddab6030fb04bb79c3320cb49c7f550": {
      "model_module": "@jupyter-widgets/controls",
      "model_module_version": "1.4.0",
      "model_name": "ButtonStyleModel",
      "state": {}
     },
     "e0f42a0e85b54e3bb2f17bce46533864": {
      "model_module": "@jupyter-widgets/base",
      "model_module_version": "1.1.0",
      "model_name": "LayoutModel",
      "state": {
       "width": "300px"
      }
     },
     "e8f8a3e09c5e4665b876af85f3297eb0": {
      "model_module": "@jupyter-widgets/controls",
      "model_module_version": "1.4.0",
      "model_name": "HBoxModel",
      "state": {
       "children": [
        "IPY_MODEL_26714e6bc6ad403daecf40409d594a2d"
       ],
       "layout": "IPY_MODEL_85f3323cbf5044efb879a5387cd841c7"
      }
     },
     "ea767df200744591a8a81195c149c631": {
      "model_module": "@jupyter-widgets/controls",
      "model_module_version": "1.4.0",
      "model_name": "TextModel",
      "state": {
       "description": "Repository: ",
       "layout": "IPY_MODEL_478c1944eeb54d6b8b3eab7d1945bba4",
       "placeholder": "<repository>",
       "style": "IPY_MODEL_47e4b611c70a4832a498a8dcb439ef56",
       "value": "django-anymail"
      }
     },
     "efa73feee864466fb03e0fae7fc42bc7": {
      "model_module": "@jupyter-widgets/base",
      "model_module_version": "1.1.0",
      "model_name": "LayoutModel",
      "state": {}
     }
    },
    "version_major": 2,
    "version_minor": 0
   }
  }
 },
 "nbformat": 4,
 "nbformat_minor": 2
}
