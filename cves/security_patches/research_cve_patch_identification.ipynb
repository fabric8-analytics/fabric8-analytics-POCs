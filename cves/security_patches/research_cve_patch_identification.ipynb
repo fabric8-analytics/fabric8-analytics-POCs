{
 "cells": [
  {
   "cell_type": "markdown",
   "metadata": {
    "slideshow": {
     "slide_type": "slide"
    }
   },
   "source": [
    "# CVE Patch Identification\n",
    "\n",
    "\n",
    "\n",
    "GitHub Link: [openshift.io:4228](https://github.com/openshiftio/openshift.io/issues/4228)\n",
    "Description:\n",
    "\n",
    "Maven support in CVEjob is lacking behind NPM and Python support. The reason for that is the complexity of Maven ecosystem, namely multi-module projects which publish multiple artifacts for each release and the naming schema (gid:aid::) which is very different from other “standard” language ecosystems.\n",
    "\n",
    "Sometimes the only way how to reliably map CVE for complex Maven project is to find the patch which fixes the vulnerability. We want to research whether it would be possible, at least to some degree, identify commits in Git which likely fix some security issue (those that have “CVE-xxxx-xxxx” in the description, or other keywords).\n",
    "\n",
    "Input:\n",
    "\n",
    "    - git repository and commit range - we don’t need to check all commits in the repository, only commits between 2 releases (we know the fix is there somewhere)\n",
    "    - CVE record from NVD\n",
    "\n",
    "Note this is just a research, we don’t expect to have anything production-ready at the end.\n"
   ]
  },
  {
   "cell_type": "markdown",
   "metadata": {
    "slideshow": {
     "slide_type": "-"
    },
    "toc": true
   },
   "source": [
    "<h1>Table of Contents<span class=\"tocSkip\"></span></h1>\n",
    "<div class=\"toc\"><ul class=\"toc-item\"><li><span><a href=\"#CVE-Patch-Identification\" data-toc-modified-id=\"CVE-Patch-Identification-1\"><span class=\"toc-item-num\">1&nbsp;&nbsp;</span>CVE Patch Identification</a></span></li><li><span><a href=\"#global\" data-toc-modified-id=\"global-2\"><span class=\"toc-item-num\">2&nbsp;&nbsp;</span>global</a></span></li><li><span><a href=\"#ops\" data-toc-modified-id=\"ops-3\"><span class=\"toc-item-num\">3&nbsp;&nbsp;</span>ops</a></span><ul class=\"toc-item\"><li><span><a href=\"#Data-Gathering\" data-toc-modified-id=\"Data-Gathering-3.1\"><span class=\"toc-item-num\">3.1&nbsp;&nbsp;</span>Data Gathering</a></span><ul class=\"toc-item\"><li><span><a href=\"#Sample-of-Topic-data\" data-toc-modified-id=\"Sample-of-Topic-data-3.1.1\"><span class=\"toc-item-num\">3.1.1&nbsp;&nbsp;</span>Sample of Topic data</a></span></li><li><span><a href=\"#Example-of-commit-fixing-a-CVE\" data-toc-modified-id=\"Example-of-commit-fixing-a-CVE-3.1.2\"><span class=\"toc-item-num\">3.1.2&nbsp;&nbsp;</span>Example of commit fixing a CVE</a></span></li></ul></li><li><span><a href=\"#Analysis\" data-toc-modified-id=\"Analysis-3.2\"><span class=\"toc-item-num\">3.2&nbsp;&nbsp;</span>Analysis</a></span><ul class=\"toc-item\"><li><span><a href=\"#Jenks-Natural-Breaks\" data-toc-modified-id=\"Jenks-Natural-Breaks-3.2.1\"><span class=\"toc-item-num\">3.2.1&nbsp;&nbsp;</span>Jenks Natural Breaks</a></span></li><li><span><a href=\"#TF-IDF\" data-toc-modified-id=\"TF-IDF-3.2.2\"><span class=\"toc-item-num\">3.2.2&nbsp;&nbsp;</span>TF-IDF</a></span><ul class=\"toc-item\"><li><span><a href=\"#Results\" data-toc-modified-id=\"Results-3.2.2.1\"><span class=\"toc-item-num\">3.2.2.1&nbsp;&nbsp;</span>Results</a></span></li></ul></li><li><span><a href=\"#Spacy\" data-toc-modified-id=\"Spacy-3.2.3\"><span class=\"toc-item-num\">3.2.3&nbsp;&nbsp;</span>Spacy</a></span><ul class=\"toc-item\"><li><span><a href=\"#Results\" data-toc-modified-id=\"Results-3.2.3.1\"><span class=\"toc-item-num\">3.2.3.1&nbsp;&nbsp;</span>Results</a></span></li></ul></li><li><span><a href=\"#Gensim\" data-toc-modified-id=\"Gensim-3.2.4\"><span class=\"toc-item-num\">3.2.4&nbsp;&nbsp;</span>Gensim</a></span><ul class=\"toc-item\"><li><span><a href=\"#Topic-Classification-Approach\" data-toc-modified-id=\"Topic-Classification-Approach-3.2.4.1\"><span class=\"toc-item-num\">3.2.4.1&nbsp;&nbsp;</span>Topic Classification Approach</a></span></li><li><span><a href=\"#Description-similarity\" data-toc-modified-id=\"Description-similarity-3.2.4.2\"><span class=\"toc-item-num\">3.2.4.2&nbsp;&nbsp;</span>Description similarity</a></span></li></ul></li></ul></li></ul></li></ul></div>"
   ]
  },
  {
   "cell_type": "markdown",
   "metadata": {
    "extensions": {
     "jupyter_dashboards": {
      "version": 1,
      "views": {
       "grid_default": {
        "col": 0,
        "height": 4,
        "hidden": false,
        "row": 106,
        "width": 4
       },
       "report_default": {}
      }
     }
    }
   },
   "source": [
    "# global"
   ]
  },
  {
   "cell_type": "code",
   "execution_count": 3,
   "metadata": {
    "extensions": {
     "jupyter_dashboards": {
      "version": 1,
      "views": {
       "grid_default": {
        "hidden": true
       },
       "report_default": {}
      }
     }
    },
    "init_cell": true
   },
   "outputs": [
    {
     "name": "stdout",
     "output_type": "stream",
     "text": [
      "The autoreload extension is already loaded. To reload it, use:\n",
      "  %reload_ext autoreload\n"
     ]
    }
   ],
   "source": [
    "%load_ext autoreload\n",
    "%autoreload 2"
   ]
  },
  {
   "cell_type": "code",
   "execution_count": 4,
   "metadata": {
    "extensions": {
     "jupyter_dashboards": {
      "version": 1,
      "views": {
       "grid_default": {
        "hidden": true
       },
       "report_default": {}
      }
     }
    },
    "init_cell": true
   },
   "outputs": [],
   "source": [
    "import os\n",
    "import re\n",
    "import requests\n",
    "import sys\n",
    "\n",
    "import json\n",
    "import yaml\n",
    "\n",
    "from io import StringIO\n",
    "from contextlib import redirect_stdout\n",
    "\n",
    "import ipywidgets as widgets\n",
    "\n",
    "import nltk\n",
    "\n",
    "import numpy as np\n",
    "import pandas as pd\n",
    "\n",
    "import spacy\n",
    "\n",
    "from spacy.attrs import ORTH, LEMMA, ENT_TYPE, ENT_IOB\n",
    "from sklearn.feature_extraction.text import CountVectorizer, TfidfTransformer, TfidfVectorizer\n",
    "\n",
    "from jenkspy import jenks_breaks\n",
    "\n",
    "from nltk.corpus import stopwords\n",
    "from collections import namedtuple, Counter, OrderedDict\n",
    "\n",
    "from IPython.display import Javascript, clear_output\n",
    "from prettyprinter import pprint\n",
    "\n",
    "import gensim\n",
    "from gensim.parsing.preprocessing import preprocess_documents, preprocess_string, DEFAULT_FILTERS\n",
    "from gensim.models.doc2vec import Doc2Vec, Doc2VecKeyedVectors, Doc2VecVocab\n",
    "from gensim.models.word2vec import Word2Vec\n",
    "\n",
    "import nvdlib\n",
    "\n",
    "from nvdlib.manager import FeedManager\n",
    "from nvdlib import query_selectors as q\n",
    "from nvdlib import utils"
   ]
  },
  {
   "cell_type": "code",
   "execution_count": 5,
   "metadata": {
    "cell_style": "split",
    "extensions": {
     "jupyter_dashboards": {
      "version": 1,
      "views": {
       "grid_default": {
        "hidden": true
       },
       "report_default": {}
      }
     }
    },
    "init_cell": true,
    "scrolled": true
   },
   "outputs": [
    {
     "name": "stdout",
     "output_type": "stream",
     "text": [
      "\n",
      "\u001b[93m    Linking successful\u001b[0m\n",
      "    /home/macermak/.local/lib/python3.6/site-packages/en_core_web_md -->\n",
      "    /home/macermak/.local/lib/python3.6/site-packages/spacy/data/en_core_web_md\n",
      "\n",
      "    You can now load the model via spacy.load('en_core_web_md')\n",
      "\n"
     ]
    }
   ],
   "source": [
    "# download model with vectors (if applicable)\n",
    "spacy.cli.download('en_core_web_md')"
   ]
  },
  {
   "cell_type": "code",
   "execution_count": 6,
   "metadata": {
    "cell_style": "split",
    "extensions": {
     "jupyter_dashboards": {
      "version": 1,
      "views": {
       "grid_default": {
        "hidden": true
       },
       "report_default": {}
      }
     }
    },
    "init_cell": true
   },
   "outputs": [],
   "source": [
    "# set up parser\n",
    "nlp = spacy.load('en_core_web_md')  # load model with vectors\n",
    "\n",
    "# custom models\n",
    "#  model trained on 20k cves from cvedetails.com\n",
    "# nlp = spacy.load('data/spacy/w2v_cvedetails_20k/')\n",
    "# model trained on 100k cves, full collection\n",
    "# nlp = spacy.load('data/spacy/w2v_cve_collection_100k/')"
   ]
  },
  {
   "cell_type": "code",
   "execution_count": 8,
   "metadata": {
    "extensions": {
     "jupyter_dashboards": {
      "version": 1,
      "views": {
       "grid_default": {
        "hidden": true
       },
       "report_default": {}
      }
     }
    },
    "init_cell": true
   },
   "outputs": [],
   "source": [
    "LEMMA_BLACKLIST = {\n",
    "    'number', 'numb', 'version', 'release'\n",
    "}\n",
    "\n",
    "CVE_PATTERN = r\"C[VW]E(-\\d+)?(-\\d+)?\"\n",
    "CVE_TOKEN = u'>CVE<'\n",
    "\n",
    "VERSION_PATTERN = r\"[v]?(?P<major>\\d+)[.](?P<minor>\\d+|((\\d+)|[xX]{1,}))([.](?P<patch>\\d+|((\\d+)|[xX]{1,})))?(?P<release>[-]?[A-Za-z]+)?\"\n",
    "VERSION_TOKEN = u'>VERSION<'\n",
    "\n",
    "NUMBER_TOKEN = u'>NUMBER<'\n",
    "CVE_PATTERN = r\"C[VW]E(-\\d+)?(-\\d+)?\"\n",
    "CVE_TOKEN = u'CVE'\n",
    "\n",
    "VERSION_PATTERN = r\"[v]?(?P<major>\\d+)[.](?P<minor>\\d+|((\\d+)|[xX]{1,}))([.](?P<patch>\\d+|((\\d+)|[xX]{1,})))?(?P<release>[-]?[A-Za-z]+)?\"\n",
    "VERSION_TOKEN = u'>VERSION<'\n",
    "\n",
    "# add special cases to the tokenizer\n",
    "cve_case = [{ORTH: CVE_TOKEN, LEMMA: 'cve'}]\n",
    "version_case = [{ORTH: VERSION_TOKEN, LEMMA: 'version'}]\n",
    "\n",
    "nlp.tokenizer.add_special_case(CVE_TOKEN, cve_case)\n",
    "nlp.tokenizer.add_special_case(VERSION_TOKEN, version_case)\n",
    "nlp.tokenizer.add_special_case('<', [{ORTH: 'lower than', LEMMA: 'low'}])\n",
    "nlp.tokenizer.add_special_case('>', [{ORTH: 'greater than', LEMMA: 'high'}])\n",
    "\n",
    "TOPICS = ['DoS', 'Code Execution', 'Overflow', 'Memory Corruption', 'Sql Injection', 'XSS',\n",
    "          'Directory Traversal', 'Http Response Splitting', 'Bypass something', 'Gain Information',\n",
    "          'Gain Privileges', 'CSRF', 'File Inclusion']\n",
    "\n",
    "API_BASE_URL = \"https://api.github.com/repos/{owner}/{repo}\"\n",
    "\n",
    "API_COMMIT_URL = API_BASE_URL + \"/commits?sha={sha}\"\n",
    "API_TAG_URL = API_BASE_URL + \"/tags\"\n",
    "\n",
    "with open('secrets', 'r') as f:\n",
    "    TOKEN = f.read().strip()\n",
    "    HEADERS = {'Authorization': f\"token {TOKEN}\"}"
   ]
  },
  {
   "cell_type": "code",
   "execution_count": 9,
   "metadata": {
    "code_folding": [
     0,
     28,
     36,
     59,
     96,
     113,
     123,
     131,
     135,
     150,
     157,
     174,
     181,
     189
    ],
    "extensions": {
     "jupyter_dashboards": {
      "version": 1,
      "views": {
       "grid_default": {
        "hidden": true
       },
       "report_default": {}
      }
     }
    },
    "init_cell": true
   },
   "outputs": [],
   "source": [
    "def get_tags(owner: str, repo: str):\n",
    "    \n",
    "    def _get_tags(url, tags = []):\n",
    "        \n",
    "        if url is None:\n",
    "            return tags\n",
    "        \n",
    "        response = requests.get(url, headers=HEADERS)\n",
    "    \n",
    "        if response.status_code != 200:\n",
    "            raise ResponseStatusError(\n",
    "                f\"Response status code returned: {response.status_code}\",\n",
    "                status_code=response.status_code\n",
    "            )\n",
    "        \n",
    "        tags.extend(response.json())\n",
    "        next_page = response.links.get('next', {}).get('url', None)\n",
    "        \n",
    "        return _get_tags(next_page, tags)\n",
    "\n",
    "    url = API_TAG_URL.format(owner=owner, repo=repo)\n",
    "    \n",
    "    return _get_tags(url)\n",
    "\n",
    "def tag_to_hash(tag): return tag['commit']['sha']\n",
    "\n",
    "VERSION_PATTERN = r\"[v]?(?P<major>\\d+)[.](?P<minor>\\d+|((\\d+)|[xX]{1,}))([.](?P<patch>\\d+|((\\d+)|[xX]{1,})))?(?P<release>[-]?[A-Za-z]+)?\"\n",
    "\n",
    "class ResponseStatusError(Exception):\n",
    "    \n",
    "    def __init__(self, *args, **kwargs):\n",
    "        self.status_code = kwargs.pop('status_code', None)\n",
    "        \n",
    "        super().__init__(self.status_code, *args, **kwargs)\n",
    "        \n",
    "    \n",
    "def get_commits(owner: str = None,\n",
    "                repo: str = None,\n",
    "                newest: str = '',\n",
    "                oldest: str = '',\n",
    "                tags: list = [],\n",
    "                limit: int = 500) -> list:\n",
    "    \"\"\"Return commits between (and excluding given commits).\n",
    "    \n",
    "    NOTE: Commits are sorted from newest to oldest.\n",
    "    \"\"\"\n",
    "    if any([newest, oldest]) and not tags:\n",
    "        raise ValueError(\"If `oldest` or `newest` is specified, `tags` must be provided.\")\n",
    "    \n",
    "    hash_newest = newest\n",
    "    hash_oldest = oldest\n",
    "    \n",
    "    if any([bool(re.fullmatch(VERSION_PATTERN, c)) for c in [newest, oldest]]):\n",
    "        for t in tags:\n",
    "            if newest and re.fullmatch(t['name'], newest):\n",
    "                hash_newest = tag_to_hash(t)\n",
    "            elif oldest and re.fullmatch(t['name'], oldest):\n",
    "                hash_oldest = tag_to_hash(t)\n",
    "    \n",
    "    def _get_commits(url, commits = []):\n",
    "        \n",
    "        if url is None:\n",
    "            return commits\n",
    "        \n",
    "        if len(commits) >= limit:\n",
    "            return commits[:limit]\n",
    "    \n",
    "        response = requests.get(url, headers=HEADERS)\n",
    "    \n",
    "        if response.status_code != 200:\n",
    "            raise ResponseStatusError(\n",
    "                f\"Response status code returned: {response.status_code}\",\n",
    "                status_code=response.status_code\n",
    "            )\n",
    "\n",
    "        commits.extend(response.json())\n",
    "\n",
    "        if hash_oldest:\n",
    "            for i, commit_dict in enumerate(commits):\n",
    "                if commit_dict['sha'].startswith(hash_oldest):\n",
    "                    commits = commits[:i+1]\n",
    "                    \n",
    "                    return commits\n",
    "                \n",
    "        next_page = response.links.get('next', {}).get('url', None)\n",
    "        \n",
    "        return _get_commits(next_page, commits)\n",
    "\n",
    "    url = API_COMMIT_URL.format(owner=owner, repo=repo, sha=hash_newest)\n",
    "    \n",
    "    return _get_commits(url)\n",
    "\n",
    "Commit = namedtuple('Commit', [\n",
    "    'url', 'sha', 'message'\n",
    "])\n",
    "\n",
    "def parse_commit(commit: dict) -> Commit:\n",
    "    if not isinstance(commit, dict):\n",
    "        raise TypeError(f\"dict expected, got {type(commit)}\")\n",
    "        \n",
    "    url: str = commit['url']\n",
    "    sha: str = commit['sha']\n",
    "        \n",
    "    message: str = commit['commit']['message']\n",
    "    \n",
    "    return Commit(\n",
    "        url=url,\n",
    "        sha=sha,\n",
    "        message=message,\n",
    "    )\n",
    "\n",
    "# ---\n",
    "\n",
    "def clean_text(text: str):\n",
    "    text = text.lower()\n",
    "    \n",
    "    text = re.sub(CVE_PATTERN, CVE_TOKEN, text, flags=re.IGNORECASE)\n",
    "    text = re.sub(VERSION_PATTERN, VERSION_TOKEN, text, flags=re.IGNORECASE)\n",
    "    # don't care about numbers\n",
    "    text = re.sub(r\"[0xb]*(\\d+)\", NUMBER_TOKEN, text)\n",
    "    \n",
    "    return text\n",
    "\n",
    "def entitizer(doc):\n",
    "    for i, token in enumerate(doc):\n",
    "        if token.orth_ in [CVE_TOKEN, VERSION_TOKEN, NUMBER_TOKEN]:\n",
    "            span = spacy.tokens.Span(doc, i, i+1, label=doc.vocab.strings[u'CARDINAL'])\n",
    "            doc.ents = list(doc.ents) + [span]\n",
    "    \n",
    "    return doc\n",
    "\n",
    "def display_entities(doc):\n",
    "    spacy.displacy.render(doc, style='ent', options={'compact': True}, jupyter=True)\n",
    "\n",
    "# vectorizer = CountVectorizer(tokenizer=lambda doc: [t.lemma_ for t in nlp.tokenizer(doc)])\n",
    "def include_token(token):\n",
    "    ret = True\n",
    "    \n",
    "    if not token.is_alpha or len(token.lemma_) < 1:\n",
    "        ret = False\n",
    "    elif token.lemma_ in nlp.Defaults.stop_words:\n",
    "        ret = False\n",
    "    elif token.lemma_ in LEMMA_BLACKLIST:\n",
    "        ret = False\n",
    "    \n",
    "    return ret\n",
    "\n",
    "# ---\n",
    "\n",
    "# check for cve in commits\n",
    "def contains_cve(commit):\n",
    "    for token in commit:\n",
    "        if re.fullmatch(CVE_PATTERN, token.lemma_, flags=re.IGNORECASE):\n",
    "            return True\n",
    "    \n",
    "    return False\n",
    "\n",
    "def get_commit_score_per_topic(commit, lookup_table):\n",
    "    word_set = set(commit)\n",
    "    commit_vec = np.empty((len(word_set), len(lookup_table))) \n",
    "   \n",
    "    for jdx, token in enumerate(word_set):\n",
    "        token_vec = np.zeros((len(lookup_table), ))\n",
    "        try:\n",
    "#             token_vec = lookup_table[token.lemma_.lower()]\n",
    "            for topic_idx, topic in enumerate(lookup_table):\n",
    "                token_vec[topic_idx], = topic[token.lemma_.lower()].values\n",
    "        except KeyError:\n",
    "            pass\n",
    "        \n",
    "        commit_vec[jdx] = token_vec\n",
    "    \n",
    "    return commit_vec\n",
    "        \n",
    "def get_commit_score(commit, lookup_table, u=None):\n",
    "    commit_vec = get_commit_score_per_topic(commit, lookup_table)\n",
    "    if u:\n",
    "        commit_vec = commit_vec[np.argsort(commit_vec.sum(axis=1))[::-1][:int(u)]]\n",
    "    \n",
    "    return commit_vec.sum(axis=0)\n",
    "\n",
    "def get_interval(intervals, num):\n",
    "    i = 0\n",
    "    for i, (low, high) in enumerate(intervals):\n",
    "        if low <= num < high:\n",
    "            return i\n",
    "    \n",
    "    return i\n",
    "\n",
    "def unravel2d(index, arr):\n",
    "    flat_idx = 0\n",
    "    \n",
    "    for idx, sub_arr in enumerate(arr):\n",
    "        for jdx, element in enumerate(sub_arr):\n",
    "            \n",
    "            if flat_idx == index:\n",
    "                return (idx, jdx), element\n",
    "            \n",
    "            flat_idx += 1"
   ]
  },
  {
   "cell_type": "markdown",
   "metadata": {
    "extensions": {
     "jupyter_dashboards": {
      "version": 1,
      "views": {
       "grid_default": {
        "col": 8,
        "height": 4,
        "hidden": false,
        "row": 106,
        "width": 4
       },
       "report_default": {}
      }
     }
    },
    "toc-hr-collapsed": false
   },
   "source": [
    "# ops"
   ]
  },
  {
   "cell_type": "markdown",
   "metadata": {
    "extensions": {
     "jupyter_dashboards": {
      "version": 1,
      "views": {
       "grid_default": {
        "col": 0,
        "height": 4,
        "hidden": false,
        "row": 110,
        "width": 4
       },
       "report_default": {}
      }
     }
    }
   },
   "source": [
    "## Data Gathering"
   ]
  },
  {
   "cell_type": "code",
   "execution_count": 10,
   "metadata": {
    "extensions": {
     "jupyter_dashboards": {
      "version": 1,
      "views": {
       "grid_default": {
        "hidden": true
       },
       "report_default": {}
      }
     }
    }
   },
   "outputs": [],
   "source": [
    "topic_df = pd.read_csv('data/cvedetails.csv')"
   ]
  },
  {
   "cell_type": "code",
   "execution_count": 11,
   "metadata": {
    "code_folding": [
     3
    ]
   },
   "outputs": [],
   "source": [
    "# duplicate row into every relevant topic\n",
    "\n",
    "topic_data = []\n",
    "for idx, row in topic_df.iterrows():\n",
    "    \n",
    "    # split by vulnerabilities\n",
    "    vulnerabilities = preprocess_string(row.vulnerabilities, filters=DEFAULT_FILTERS[:-1])\n",
    "    for v in vulnerabilities:\n",
    "        used_topics = []\n",
    "        \n",
    "        # find relevant topics\n",
    "        for idx, topic in enumerate(TOPICS):\n",
    "            if re.search(v, topic, flags=re.IGNORECASE) and not idx in used_topics:\n",
    "                row_ = row.copy()\n",
    "                row_['topic'] = topic\n",
    "                \n",
    "                topic_data.append(row_)\n",
    "                used_topics.append(idx)"
   ]
  },
  {
   "cell_type": "code",
   "execution_count": 12,
   "metadata": {},
   "outputs": [],
   "source": [
    "topic_df = pd.DataFrame(topic_data)"
   ]
  },
  {
   "cell_type": "code",
   "execution_count": 13,
   "metadata": {},
   "outputs": [
    {
     "name": "stdout",
     "output_type": "stream",
     "text": [
      "<class 'pandas.core.frame.DataFrame'>\n",
      "Int64Index: 67234 entries, 0 to 29330\n",
      "Data columns (total 15 columns):\n",
      "cve_id             67234 non-null object\n",
      "cwe_id             58154 non-null float64\n",
      "vulnerabilities    67234 non-null object\n",
      "publish_date       67234 non-null object\n",
      "update_date        67234 non-null object\n",
      "score              67234 non-null float64\n",
      "access_level       67234 non-null object\n",
      "access             67234 non-null object\n",
      "complexity         67234 non-null object\n",
      "auth               67234 non-null object\n",
      "confidentiality    67234 non-null object\n",
      "integrity          67234 non-null object\n",
      "availability       67234 non-null object\n",
      "summary            67234 non-null object\n",
      "topic              67234 non-null object\n",
      "dtypes: float64(2), object(13)\n",
      "memory usage: 8.2+ MB\n"
     ]
    }
   ],
   "source": [
    "topic_df.info()"
   ]
  },
  {
   "cell_type": "code",
   "execution_count": 14,
   "metadata": {
    "extensions": {
     "jupyter_dashboards": {
      "version": 1,
      "views": {
       "grid_default": {
        "hidden": true
       },
       "report_default": {}
      }
     }
    }
   },
   "outputs": [],
   "source": [
    "topic_df = topic_df.set_index(['topic', 'cve_id'])\n",
    "\n",
    "index = topic_df.index\n",
    "v_idx = index.get_level_values(level=0).unique()"
   ]
  },
  {
   "cell_type": "markdown",
   "metadata": {},
   "source": [
    "### Sample of Topic data"
   ]
  },
  {
   "cell_type": "code",
   "execution_count": 15,
   "metadata": {
    "slideshow": {
     "slide_type": "subslide"
    }
   },
   "outputs": [
    {
     "data": {
      "text/html": [
       "<div>\n",
       "<style scoped>\n",
       "    .dataframe tbody tr th:only-of-type {\n",
       "        vertical-align: middle;\n",
       "    }\n",
       "\n",
       "    .dataframe tbody tr th {\n",
       "        vertical-align: top;\n",
       "    }\n",
       "\n",
       "    .dataframe thead th {\n",
       "        text-align: right;\n",
       "    }\n",
       "</style>\n",
       "<table border=\"1\" class=\"dataframe\">\n",
       "  <thead>\n",
       "    <tr style=\"text-align: right;\">\n",
       "      <th></th>\n",
       "      <th></th>\n",
       "      <th>cwe_id</th>\n",
       "      <th>vulnerabilities</th>\n",
       "      <th>publish_date</th>\n",
       "      <th>update_date</th>\n",
       "      <th>score</th>\n",
       "      <th>access_level</th>\n",
       "      <th>access</th>\n",
       "      <th>complexity</th>\n",
       "      <th>auth</th>\n",
       "      <th>confidentiality</th>\n",
       "      <th>integrity</th>\n",
       "      <th>availability</th>\n",
       "      <th>summary</th>\n",
       "    </tr>\n",
       "    <tr>\n",
       "      <th>topic</th>\n",
       "      <th>cve_id</th>\n",
       "      <th></th>\n",
       "      <th></th>\n",
       "      <th></th>\n",
       "      <th></th>\n",
       "      <th></th>\n",
       "      <th></th>\n",
       "      <th></th>\n",
       "      <th></th>\n",
       "      <th></th>\n",
       "      <th></th>\n",
       "      <th></th>\n",
       "      <th></th>\n",
       "      <th></th>\n",
       "    </tr>\n",
       "  </thead>\n",
       "  <tbody>\n",
       "    <tr>\n",
       "      <th rowspan=\"2\" valign=\"top\">Gain Information</th>\n",
       "      <th>CVE-2017-8118</th>\n",
       "      <td>200.0</td>\n",
       "      <td>+Info</td>\n",
       "      <td>2017-11-22</td>\n",
       "      <td>2017-12-08</td>\n",
       "      <td>2.1</td>\n",
       "      <td>None</td>\n",
       "      <td>Local</td>\n",
       "      <td>Low</td>\n",
       "      <td>Not required</td>\n",
       "      <td>Partial</td>\n",
       "      <td>None</td>\n",
       "      <td>None</td>\n",
       "      <td>The UMA product with software V200R001 and V30...</td>\n",
       "    </tr>\n",
       "    <tr>\n",
       "      <th>CVE-2018-11338</th>\n",
       "      <td>NaN</td>\n",
       "      <td>+Info</td>\n",
       "      <td>2018-07-31</td>\n",
       "      <td>2018-07-31</td>\n",
       "      <td>0.0</td>\n",
       "      <td>None</td>\n",
       "      <td>???</td>\n",
       "      <td>???</td>\n",
       "      <td>???</td>\n",
       "      <td>???</td>\n",
       "      <td>???</td>\n",
       "      <td>???</td>\n",
       "      <td>Intuit Lacerte 2017 for Windows in a client/se...</td>\n",
       "    </tr>\n",
       "    <tr>\n",
       "      <th>Directory Traversal</th>\n",
       "      <th>CVE-2007-6290</th>\n",
       "      <td>22.0</td>\n",
       "      <td>Dir. Trav.</td>\n",
       "      <td>2007-12-10</td>\n",
       "      <td>2017-09-28</td>\n",
       "      <td>5.0</td>\n",
       "      <td>None</td>\n",
       "      <td>Remote</td>\n",
       "      <td>Low</td>\n",
       "      <td>Not required</td>\n",
       "      <td>Partial</td>\n",
       "      <td>None</td>\n",
       "      <td>None</td>\n",
       "      <td>Multiple directory traversal vulnerabilities i...</td>\n",
       "    </tr>\n",
       "    <tr>\n",
       "      <th>DoS</th>\n",
       "      <th>CVE-2017-15769</th>\n",
       "      <td>119.0</td>\n",
       "      <td>DoS Overflow</td>\n",
       "      <td>2017-10-22</td>\n",
       "      <td>2017-10-24</td>\n",
       "      <td>6.8</td>\n",
       "      <td>None</td>\n",
       "      <td>Remote</td>\n",
       "      <td>Medium</td>\n",
       "      <td>Not required</td>\n",
       "      <td>Partial</td>\n",
       "      <td>Partial</td>\n",
       "      <td>Partial</td>\n",
       "      <td>IrfanView 4.50 - 64bit allows attackers to cau...</td>\n",
       "    </tr>\n",
       "    <tr>\n",
       "      <th>Bypass something</th>\n",
       "      <th>CVE-2016-3834</th>\n",
       "      <td>200.0</td>\n",
       "      <td>Bypass +Info</td>\n",
       "      <td>2016-08-05</td>\n",
       "      <td>2016-11-28</td>\n",
       "      <td>4.3</td>\n",
       "      <td>None</td>\n",
       "      <td>Remote</td>\n",
       "      <td>Medium</td>\n",
       "      <td>Not required</td>\n",
       "      <td>Partial</td>\n",
       "      <td>None</td>\n",
       "      <td>None</td>\n",
       "      <td>The camera APIs in Android 4.x before 4.4.4, 5...</td>\n",
       "    </tr>\n",
       "    <tr>\n",
       "      <th>Code Execution</th>\n",
       "      <th>CVE-2015-0029</th>\n",
       "      <td>399.0</td>\n",
       "      <td>DoS Exec Code Mem. Corr.</td>\n",
       "      <td>2015-02-10</td>\n",
       "      <td>2015-09-01</td>\n",
       "      <td>9.3</td>\n",
       "      <td>None</td>\n",
       "      <td>Remote</td>\n",
       "      <td>Medium</td>\n",
       "      <td>Not required</td>\n",
       "      <td>Complete</td>\n",
       "      <td>Complete</td>\n",
       "      <td>Complete</td>\n",
       "      <td>Microsoft Internet Explorer 6 and 8 allows rem...</td>\n",
       "    </tr>\n",
       "    <tr>\n",
       "      <th>Gain Information</th>\n",
       "      <th>CVE-2017-13204</th>\n",
       "      <td>200.0</td>\n",
       "      <td>+Info</td>\n",
       "      <td>2018-01-12</td>\n",
       "      <td>2018-01-25</td>\n",
       "      <td>8.5</td>\n",
       "      <td>None</td>\n",
       "      <td>Remote</td>\n",
       "      <td>Low</td>\n",
       "      <td>Not required</td>\n",
       "      <td>Partial</td>\n",
       "      <td>None</td>\n",
       "      <td>Complete</td>\n",
       "      <td>An information disclosure vulnerability in the...</td>\n",
       "    </tr>\n",
       "    <tr>\n",
       "      <th>Overflow</th>\n",
       "      <th>CVE-2018-0304</th>\n",
       "      <td>119.0</td>\n",
       "      <td>DoS Exec Code Overflow</td>\n",
       "      <td>2018-06-20</td>\n",
       "      <td>2018-08-13</td>\n",
       "      <td>10.0</td>\n",
       "      <td>None</td>\n",
       "      <td>Remote</td>\n",
       "      <td>Low</td>\n",
       "      <td>Not required</td>\n",
       "      <td>Complete</td>\n",
       "      <td>Complete</td>\n",
       "      <td>Complete</td>\n",
       "      <td>A vulnerability in the Cisco Fabric Services c...</td>\n",
       "    </tr>\n",
       "    <tr>\n",
       "      <th>Http Response Splitting</th>\n",
       "      <th>CVE-2006-6965</th>\n",
       "      <td>NaN</td>\n",
       "      <td>XSS Http R.Spl.</td>\n",
       "      <td>2007-01-29</td>\n",
       "      <td>2017-07-28</td>\n",
       "      <td>4.3</td>\n",
       "      <td>None</td>\n",
       "      <td>Remote</td>\n",
       "      <td>Medium</td>\n",
       "      <td>Not required</td>\n",
       "      <td>None</td>\n",
       "      <td>Partial</td>\n",
       "      <td>None</td>\n",
       "      <td>CRLF injection vulnerability in lib/exe/fetch....</td>\n",
       "    </tr>\n",
       "    <tr>\n",
       "      <th>XSS</th>\n",
       "      <th>CVE-2018-1000160</th>\n",
       "      <td>79.0</td>\n",
       "      <td>XSS</td>\n",
       "      <td>2018-04-18</td>\n",
       "      <td>2018-05-21</td>\n",
       "      <td>4.3</td>\n",
       "      <td>None</td>\n",
       "      <td>Remote</td>\n",
       "      <td>Medium</td>\n",
       "      <td>Not required</td>\n",
       "      <td>None</td>\n",
       "      <td>Partial</td>\n",
       "      <td>None</td>\n",
       "      <td>RisingStack protect version 1.2.0 and earlier ...</td>\n",
       "    </tr>\n",
       "  </tbody>\n",
       "</table>\n",
       "</div>"
      ],
      "text/plain": [
       "                                          cwe_id           vulnerabilities  \\\n",
       "topic                   cve_id                                               \n",
       "Gain Information        CVE-2017-8118      200.0                     +Info   \n",
       "                        CVE-2018-11338       NaN                     +Info   \n",
       "Directory Traversal     CVE-2007-6290       22.0                Dir. Trav.   \n",
       "DoS                     CVE-2017-15769     119.0              DoS Overflow   \n",
       "Bypass something        CVE-2016-3834      200.0              Bypass +Info   \n",
       "Code Execution          CVE-2015-0029      399.0  DoS Exec Code Mem. Corr.   \n",
       "Gain Information        CVE-2017-13204     200.0                     +Info   \n",
       "Overflow                CVE-2018-0304      119.0    DoS Exec Code Overflow   \n",
       "Http Response Splitting CVE-2006-6965        NaN           XSS Http R.Spl.   \n",
       "XSS                     CVE-2018-1000160    79.0                       XSS   \n",
       "\n",
       "                                         publish_date update_date  score  \\\n",
       "topic                   cve_id                                             \n",
       "Gain Information        CVE-2017-8118      2017-11-22  2017-12-08    2.1   \n",
       "                        CVE-2018-11338     2018-07-31  2018-07-31    0.0   \n",
       "Directory Traversal     CVE-2007-6290      2007-12-10  2017-09-28    5.0   \n",
       "DoS                     CVE-2017-15769     2017-10-22  2017-10-24    6.8   \n",
       "Bypass something        CVE-2016-3834      2016-08-05  2016-11-28    4.3   \n",
       "Code Execution          CVE-2015-0029      2015-02-10  2015-09-01    9.3   \n",
       "Gain Information        CVE-2017-13204     2018-01-12  2018-01-25    8.5   \n",
       "Overflow                CVE-2018-0304      2018-06-20  2018-08-13   10.0   \n",
       "Http Response Splitting CVE-2006-6965      2007-01-29  2017-07-28    4.3   \n",
       "XSS                     CVE-2018-1000160   2018-04-18  2018-05-21    4.3   \n",
       "\n",
       "                                         access_level  access complexity  \\\n",
       "topic                   cve_id                                             \n",
       "Gain Information        CVE-2017-8118            None   Local        Low   \n",
       "                        CVE-2018-11338           None     ???        ???   \n",
       "Directory Traversal     CVE-2007-6290            None  Remote        Low   \n",
       "DoS                     CVE-2017-15769           None  Remote     Medium   \n",
       "Bypass something        CVE-2016-3834            None  Remote     Medium   \n",
       "Code Execution          CVE-2015-0029            None  Remote     Medium   \n",
       "Gain Information        CVE-2017-13204           None  Remote        Low   \n",
       "Overflow                CVE-2018-0304            None  Remote        Low   \n",
       "Http Response Splitting CVE-2006-6965            None  Remote     Medium   \n",
       "XSS                     CVE-2018-1000160         None  Remote     Medium   \n",
       "\n",
       "                                                  auth confidentiality  \\\n",
       "topic                   cve_id                                           \n",
       "Gain Information        CVE-2017-8118     Not required         Partial   \n",
       "                        CVE-2018-11338             ???             ???   \n",
       "Directory Traversal     CVE-2007-6290     Not required         Partial   \n",
       "DoS                     CVE-2017-15769    Not required         Partial   \n",
       "Bypass something        CVE-2016-3834     Not required         Partial   \n",
       "Code Execution          CVE-2015-0029     Not required        Complete   \n",
       "Gain Information        CVE-2017-13204    Not required         Partial   \n",
       "Overflow                CVE-2018-0304     Not required        Complete   \n",
       "Http Response Splitting CVE-2006-6965     Not required            None   \n",
       "XSS                     CVE-2018-1000160  Not required            None   \n",
       "\n",
       "                                         integrity availability  \\\n",
       "topic                   cve_id                                    \n",
       "Gain Information        CVE-2017-8118         None         None   \n",
       "                        CVE-2018-11338         ???          ???   \n",
       "Directory Traversal     CVE-2007-6290         None         None   \n",
       "DoS                     CVE-2017-15769     Partial      Partial   \n",
       "Bypass something        CVE-2016-3834         None         None   \n",
       "Code Execution          CVE-2015-0029     Complete     Complete   \n",
       "Gain Information        CVE-2017-13204        None     Complete   \n",
       "Overflow                CVE-2018-0304     Complete     Complete   \n",
       "Http Response Splitting CVE-2006-6965      Partial         None   \n",
       "XSS                     CVE-2018-1000160   Partial         None   \n",
       "\n",
       "                                                                                    summary  \n",
       "topic                   cve_id                                                               \n",
       "Gain Information        CVE-2017-8118     The UMA product with software V200R001 and V30...  \n",
       "                        CVE-2018-11338    Intuit Lacerte 2017 for Windows in a client/se...  \n",
       "Directory Traversal     CVE-2007-6290     Multiple directory traversal vulnerabilities i...  \n",
       "DoS                     CVE-2017-15769    IrfanView 4.50 - 64bit allows attackers to cau...  \n",
       "Bypass something        CVE-2016-3834     The camera APIs in Android 4.x before 4.4.4, 5...  \n",
       "Code Execution          CVE-2015-0029     Microsoft Internet Explorer 6 and 8 allows rem...  \n",
       "Gain Information        CVE-2017-13204    An information disclosure vulnerability in the...  \n",
       "Overflow                CVE-2018-0304     A vulnerability in the Cisco Fabric Services c...  \n",
       "Http Response Splitting CVE-2006-6965     CRLF injection vulnerability in lib/exe/fetch....  \n",
       "XSS                     CVE-2018-1000160  RisingStack protect version 1.2.0 and earlier ...  "
      ]
     },
     "execution_count": 15,
     "metadata": {},
     "output_type": "execute_result"
    }
   ],
   "source": [
    "topic_df.sample(10)"
   ]
  },
  {
   "cell_type": "code",
   "execution_count": 16,
   "metadata": {
    "code_folding": [
     6
    ],
    "extensions": {
     "jupyter_dashboards": {
      "version": 1,
      "views": {
       "grid_default": {
        "hidden": true
       },
       "report_default": {}
      }
     }
    }
   },
   "outputs": [],
   "source": [
    "vectorizer = TfidfVectorizer(tokenizer=lambda doc: [\n",
    "    t.lemma_ for t in nlp.tokenizer(doc) if include_token(t)\n",
    "])\n",
    "\n",
    "topic_data = list()\n",
    "\n",
    "for idx in v_idx:\n",
    "    # concatenate all the data for given topic\n",
    "    text = [clean_text(doc) for doc in topic_df.loc[idx].summary.values]\n",
    "    topic_data.append(\"\\n\".join(text))"
   ]
  },
  {
   "cell_type": "code",
   "execution_count": 17,
   "metadata": {
    "extensions": {
     "jupyter_dashboards": {
      "version": 1,
      "views": {
       "grid_default": {
        "hidden": true
       },
       "report_default": {}
      }
     }
    }
   },
   "outputs": [
    {
     "name": "stderr",
     "output_type": "stream",
     "text": [
      "/usr/lib64/python3.6/site-packages/sklearn/feature_extraction/text.py:1089: FutureWarning: Conversion of the second argument of issubdtype from `float` to `np.floating` is deprecated. In future, it will be treated as `np.float64 == np.dtype(float).type`.\n",
      "  if hasattr(X, 'dtype') and np.issubdtype(X.dtype, np.float):\n"
     ]
    }
   ],
   "source": [
    "tf_idf = vectorizer.fit_transform(topic_data)"
   ]
  },
  {
   "cell_type": "code",
   "execution_count": 18,
   "metadata": {
    "extensions": {
     "jupyter_dashboards": {
      "version": 1,
      "views": {
       "grid_default": {
        "col": 0,
        "height": 11,
        "hidden": false,
        "row": 34,
        "width": 12
       },
       "report_default": {}
      }
     }
    }
   },
   "outputs": [],
   "source": [
    "from IPython.display import display\n",
    "\n",
    "df = pd.DataFrame(data=tf_idf.toarray(), columns=vectorizer.get_feature_names())\n",
    "# df.sort_values(by=list(df.index), axis=1, ascending=False)\n",
    "\n",
    "topic_frames = list()\n",
    "\n",
    "for i, topic in df.iterrows():\n",
    "    topic.sort_values(ascending=False, inplace=True)\n",
    "    topic_frames.append(topic.to_frame(name=v_idx[i]).transpose())"
   ]
  },
  {
   "cell_type": "markdown",
   "metadata": {
    "extensions": {
     "jupyter_dashboards": {
      "version": 1,
      "views": {
       "grid_default": {
        "col": 4,
        "height": 4,
        "hidden": true,
        "row": 0,
        "width": 4
       },
       "report_default": {}
      }
     }
    }
   },
   "source": [
    "---"
   ]
  },
  {
   "cell_type": "code",
   "execution_count": 19,
   "metadata": {
    "extensions": {
     "jupyter_dashboards": {
      "version": 1,
      "views": {
       "grid_default": {
        "hidden": true
       },
       "report_default": {}
      }
     }
    }
   },
   "outputs": [],
   "source": [
    "CVEDB_PATH = f\"./cvedb/database\""
   ]
  },
  {
   "cell_type": "code",
   "execution_count": 20,
   "metadata": {
    "code_folding": [
     3
    ],
    "extensions": {
     "jupyter_dashboards": {
      "version": 1,
      "views": {
       "grid_default": {
        "hidden": true
       },
       "report_default": {}
      }
     }
    }
   },
   "outputs": [],
   "source": [
    "database = dict()\n",
    "required_nvd_feeds = set()\n",
    "\n",
    "for eco in os.listdir(CVEDB_PATH):\n",
    "    years_in_db = os.listdir(os.path.join(CVEDB_PATH, eco))\n",
    "    required_nvd_feeds.update(years_in_db)\n",
    "    \n",
    "    for year in years_in_db:\n",
    "        walk_path = os.path.join(CVEDB_PATH, eco, year)\n",
    "\n",
    "        for root, walkdir, walkfile in os.walk(walk_path):\n",
    "            for file in walkfile:\n",
    "                if file.endswith('.yaml'):\n",
    "                    with open(os.path.join(root, file)) as f:\n",
    "                        content = yaml.load(f.read())\n",
    "\n",
    "                    content['id'] = f\"CVE-{content.pop('cve')}\"\n",
    "                    database[content['id']] = content"
   ]
  },
  {
   "cell_type": "code",
   "execution_count": 21,
   "metadata": {
    "extensions": {
     "jupyter_dashboards": {
      "version": 1,
      "views": {
       "grid_default": {
        "hidden": true
       },
       "report_default": {}
      }
     }
    }
   },
   "outputs": [],
   "source": [
    "with FeedManager(n_workers=5) as fm:\n",
    "    \n",
    "    feeds = fm.fetch_feeds(required_nvd_feeds)\n",
    "    collection = fm.collect(feeds)\n",
    "    collection.set_name('ALL')"
   ]
  },
  {
   "cell_type": "code",
   "execution_count": 22,
   "metadata": {
    "extensions": {
     "jupyter_dashboards": {
      "version": 1,
      "views": {
       "grid_default": {
        "hidden": true
       },
       "report_default": {}
      }
     }
    }
   },
   "outputs": [],
   "source": [
    "cvedb_collection = collection.find({'cve.id_': q.in_(set(database.keys()))})\n",
    "cvedb_collection.set_name('CVEDB')"
   ]
  },
  {
   "cell_type": "code",
   "execution_count": 23,
   "metadata": {
    "extensions": {
     "jupyter_dashboards": {
      "version": 1,
      "views": {
       "grid_default": {
        "hidden": true
       },
       "report_default": {}
      }
     }
    }
   },
   "outputs": [],
   "source": [
    "gh_cvedb_collection = cvedb_collection.find({'cve.references.data.url': q.search('github')})"
   ]
  },
  {
   "cell_type": "code",
   "execution_count": 24,
   "metadata": {
    "extensions": {
     "jupyter_dashboards": {
      "version": 1,
      "views": {
       "grid_default": {
        "hidden": true
       },
       "report_default": {}
      }
     }
    }
   },
   "outputs": [],
   "source": [
    "commit_cvedb_collection = gh_cvedb_collection.find({\n",
    "    'cve.references.data.url': q.search('commit'),\n",
    "})"
   ]
  },
  {
   "cell_type": "code",
   "execution_count": 25,
   "metadata": {
    "code_folding": [
     1,
     6,
     12,
     18,
     28
    ],
    "extensions": {
     "jupyter_dashboards": {
      "version": 1,
      "views": {
       "grid_default": {
        "hidden": true
       },
       "report_default": {}
      }
     }
    }
   },
   "outputs": [],
   "source": [
    "# widgets\n",
    "owner_widget = widgets.Text(\n",
    "    description=\"Owner: \",\n",
    "    placeholder=\"<owner>\",\n",
    "    value='anymail'\n",
    ")\n",
    "repo_widget = widgets.Text(\n",
    "    description=\"Repository: \",\n",
    "    placeholder=\"<repository>\",\n",
    "    value='django-anymail'\n",
    ")\n",
    "\n",
    "version_lower = widgets.Text(\n",
    "    description=\"[OPT] Oldest: \",\n",
    "    placeholder=\"<version> [optional]\",\n",
    "    value='1.2'\n",
    ")\n",
    "\n",
    "version_higher = widgets.Text(\n",
    "    description=\"[OPT] Newest: \",\n",
    "    placeholder=\"<version> [optional]\",\n",
    "    value='2.0'\n",
    ")\n",
    "\n",
    "gh_box = widgets.HBox([owner_widget, repo_widget])\n",
    "version_box = widgets.HBox([version_lower, version_higher])\n",
    "\n",
    "\n",
    "search_button = widgets.Button(\n",
    "    description=\"Find\",\n",
    "    button_style='',\n",
    "    tooltip=\"Find commits for given repository.\",\n",
    "    layout=widgets.Layout(width='150px', height='60px')\n",
    ")\n",
    "\n",
    "search_box = widgets.VBox([gh_box, version_box])"
   ]
  },
  {
   "cell_type": "code",
   "execution_count": 26,
   "metadata": {
    "code_folding": [
     0,
     7,
     14,
     22
    ],
    "extensions": {
     "jupyter_dashboards": {
      "version": 1,
      "views": {
       "grid_default": {
        "hidden": true
       },
       "report_default": {}
      }
     }
    }
   },
   "outputs": [],
   "source": [
    "cve_browser_button_next = widgets.Button(\n",
    "    description=\"Next\",\n",
    "    button_style='',\n",
    "    tooltip=\"Get next CVE\",\n",
    "    layout=widgets.Layout(width='300px')\n",
    ")\n",
    "\n",
    "cve_browser_button_previous = widgets.Button(\n",
    "    description=\"Previous\",\n",
    "    button_style='',\n",
    "    tooltip=\"Get previous CVE\",\n",
    "    layout=widgets.Layout(width='300px')\n",
    ")\n",
    "\n",
    "cve_browser_button_box = widgets.HBox(\n",
    "    [cve_browser_button_previous, cve_browser_button_next],\n",
    "    layout=widgets.Layout(\n",
    "        width='100%',\n",
    "        justify_content='center'\n",
    "    )\n",
    ")\n",
    "\n",
    "cve_browser_area = widgets.Textarea(\n",
    "    placeholder=\"<CVE>\",\n",
    "    disabled=True,\n",
    "    layout=widgets.Layout(\n",
    "#         overflow_x='scroll',\n",
    "#         overflow_y='scroll',\n",
    "        width='100%',\n",
    "        height='500px',\n",
    "        display='flex',\n",
    "        flex_flow='row',\n",
    "        align_self='flex-end'\n",
    "    )\n",
    ")"
   ]
  },
  {
   "cell_type": "code",
   "execution_count": 27,
   "metadata": {
    "extensions": {
     "jupyter_dashboards": {
      "version": 1,
      "views": {
       "grid_default": {
        "hidden": true
       },
       "report_default": {}
      }
     }
    }
   },
   "outputs": [],
   "source": [
    "cursor = commit_cvedb_collection.cursor()"
   ]
  },
  {
   "cell_type": "code",
   "execution_count": 28,
   "metadata": {
    "code_folding": [
     0
    ],
    "extensions": {
     "jupyter_dashboards": {
      "version": 1,
      "views": {
       "grid_default": {
        "hidden": true
       },
       "report_default": {}
      }
     }
    }
   },
   "outputs": [],
   "source": [
    "def next_cve(collection):\n",
    "    global cursor\n",
    "    \n",
    "    try:\n",
    "        cve = cursor.next().cve\n",
    "    except StopIteration:\n",
    "        cursor = collection.cursor()\n",
    "        cve = cursor.next().cve\n",
    "    \n",
    "    return cve\n",
    "\n",
    "def update_area_with_next_cve(handle):\n",
    "    display(Javascript('IPython.notebook.execute_cell_range(IPython.notebook.get_selected_index()+1,'\n",
    "                       'IPython.notebook.get_selected_index()+2)'))\n",
    "    \n",
    "def update_area_with_previous_cve(handle):\n",
    "    display(Javascript('IPython.notebook.execute_cell_range(IPython.notebook.get_selected_index()+2,'\n",
    "                       'IPython.notebook.get_selected_index()+3)'))"
   ]
  },
  {
   "cell_type": "code",
   "execution_count": 29,
   "metadata": {
    "extensions": {
     "jupyter_dashboards": {
      "version": 1,
      "views": {
       "grid_default": {
        "hidden": true
       },
       "report_default": {}
      }
     }
    }
   },
   "outputs": [],
   "source": [
    "cve_browser_button_next.on_click(update_area_with_next_cve)\n",
    "cve_browser_button_previous.on_click(update_area_with_previous_cve)"
   ]
  },
  {
   "cell_type": "markdown",
   "metadata": {
    "extensions": {
     "jupyter_dashboards": {
      "version": 1,
      "views": {
       "grid_default": {
        "col": 0,
        "height": 4,
        "hidden": true,
        "row": 71,
        "width": 4
       },
       "report_default": {}
      }
     }
    }
   },
   "source": [
    "---"
   ]
  },
  {
   "cell_type": "code",
   "execution_count": 30,
   "metadata": {
    "extensions": {
     "jupyter_dashboards": {
      "version": 1,
      "views": {
       "grid_default": {
        "hidden": true
       },
       "report_default": {
        "hidden": true
       }
      }
     }
    }
   },
   "outputs": [],
   "source": [
    "from collections import deque\n",
    "CACHE_LIMIT = 5\n",
    "\n",
    "previous_cves = deque(maxlen=CACHE_LIMIT)"
   ]
  },
  {
   "cell_type": "code",
   "execution_count": 31,
   "metadata": {
    "extensions": {
     "jupyter_dashboards": {
      "version": 1,
      "views": {
       "grid_default": {
        "col": 0,
        "height": 20,
        "hidden": false,
        "row": 0,
        "width": 12
       },
       "report_default": {
        "hidden": true
       }
      }
     }
    },
    "slideshow": {
     "slide_type": "slide"
    }
   },
   "outputs": [
    {
     "data": {
      "application/vnd.jupyter.widget-view+json": {
       "model_id": "da276434606943d1975a431028c89b71",
       "version_major": 2,
       "version_minor": 0
      },
      "text/plain": [
       "Textarea(value='', disabled=True, layout=Layout(align_self='flex-end', display='flex', flex_flow='row', height…"
      ]
     },
     "metadata": {},
     "output_type": "display_data"
    },
    {
     "data": {
      "application/vnd.jupyter.widget-view+json": {
       "model_id": "7d9581d48df047d0af4a65af77337b63",
       "version_major": 2,
       "version_minor": 0
      },
      "text/plain": [
       "HBox(children=(Button(description='Previous', layout=Layout(width='300px'), style=ButtonStyle(), tooltip='Get …"
      ]
     },
     "metadata": {},
     "output_type": "display_data"
    }
   ],
   "source": [
    "display(cve_browser_area)\n",
    "display(cve_browser_button_box)"
   ]
  },
  {
   "cell_type": "code",
   "execution_count": 32,
   "metadata": {
    "code_folding": [
     1
    ],
    "extensions": {
     "jupyter_dashboards": {
      "version": 1,
      "views": {
       "grid_default": {
        "hidden": true
       },
       "report_default": {}
      }
     }
    }
   },
   "outputs": [],
   "source": [
    "buffer = StringIO()\n",
    "with redirect_stdout(buffer):\n",
    "    cve = next_cve(gh_cvedb_collection)\n",
    "    cve.pretty()\n",
    "    \n",
    "    value = buffer.getvalue()\n",
    "    previous_cves.append(value)\n",
    "\n",
    "buffer.close()\n",
    "    \n",
    "cve_browser_area.value = value"
   ]
  },
  {
   "cell_type": "code",
   "execution_count": 33,
   "metadata": {
    "extensions": {
     "jupyter_dashboards": {
      "version": 1,
      "views": {
       "grid_default": {
        "hidden": true
       },
       "report_default": {}
      }
     }
    }
   },
   "outputs": [],
   "source": [
    "if previous_cves and previous_cves[0] != cve_browser_area.value:\n",
    "    \n",
    "    cve_browser_area.value = previous_cves.popleft()"
   ]
  },
  {
   "cell_type": "markdown",
   "metadata": {
    "extensions": {
     "jupyter_dashboards": {
      "version": 1,
      "views": {
       "grid_default": {
        "col": 0,
        "height": 4,
        "hidden": true,
        "row": 90,
        "width": 4
       },
       "report_default": {}
      }
     }
    }
   },
   "source": [
    "---"
   ]
  },
  {
   "cell_type": "code",
   "execution_count": 34,
   "metadata": {
    "extensions": {
     "jupyter_dashboards": {
      "version": 1,
      "views": {
       "grid_default": {
        "hidden": true
       },
       "report_default": {}
      }
     }
    }
   },
   "outputs": [],
   "source": [
    "def search_and_update(handle):\n",
    "    display(Javascript('IPython.notebook.execute_cell_range(IPython.notebook.get_selected_index()+1,'\n",
    "                       'IPython.notebook.get_selected_index()+11)'))\n",
    "\n",
    "search_button.on_click(search_and_update)"
   ]
  },
  {
   "cell_type": "code",
   "execution_count": 35,
   "metadata": {
    "extensions": {
     "jupyter_dashboards": {
      "version": 1,
      "views": {
       "grid_default": {
        "col": 0,
        "height": 5,
        "hidden": false,
        "row": 20,
        "width": 12
       },
       "report_default": {
        "hidden": true
       }
      }
     }
    },
    "slideshow": {
     "slide_type": "slide"
    }
   },
   "outputs": [
    {
     "data": {
      "application/vnd.jupyter.widget-view+json": {
       "model_id": "211573d818e24471935d49d44c728483",
       "version_major": 2,
       "version_minor": 0
      },
      "text/plain": [
       "HBox(children=(VBox(children=(HBox(children=(Text(value='anymail', description='Owner: ', placeholder='<owner>…"
      ]
     },
     "metadata": {},
     "output_type": "display_data"
    }
   ],
   "source": [
    "display(widgets.HBox(\n",
    "    [search_box, search_button],\n",
    "    layout=widgets.Layout(width='100%', align_items='center', justify_content='center', display='flex')\n",
    "))"
   ]
  },
  {
   "cell_type": "code",
   "execution_count": 36,
   "metadata": {
    "extensions": {
     "jupyter_dashboards": {
      "version": 1,
      "views": {
       "grid_default": {
        "hidden": true
       },
       "report_default": {}
      }
     }
    }
   },
   "outputs": [],
   "source": [
    "owner = owner_widget.value\n",
    "repo = repo_widget.value\n",
    "\n",
    "v_oldest = version_lower.value\n",
    "v_newest = version_higher.value\n",
    "\n",
    "tags = []\n",
    "if owner and repo:\n",
    "    tags = get_tags(owner, repo)"
   ]
  },
  {
   "cell_type": "code",
   "execution_count": 37,
   "metadata": {
    "extensions": {
     "jupyter_dashboards": {
      "version": 1,
      "views": {
       "grid_default": {
        "hidden": true
       },
       "report_default": {}
      }
     }
    }
   },
   "outputs": [],
   "source": [
    "tag_names = [t.get('name') for t in tags][::-1]\n",
    "\n",
    "current_index = [0, len(tags) - 1]\n",
    "\n",
    "if any([v_oldest, v_newest]):\n",
    "    for idx, v in enumerate([v_oldest, v_newest]):\n",
    "        if not v: break\n",
    "        current_index[idx] = [\n",
    "            idx for idx, tag in enumerate(tag_names) if re.search(v, tag)\n",
    "        ][0]"
   ]
  },
  {
   "cell_type": "code",
   "execution_count": 38,
   "metadata": {
    "extensions": {
     "jupyter_dashboards": {
      "version": 1,
      "views": {
       "grid_default": {
        "col": 0,
        "height": 3,
        "hidden": false,
        "row": 25,
        "width": 12
       },
       "report_default": {}
      }
     }
    }
   },
   "outputs": [],
   "source": [
    "version_range_widget = widgets.SelectionRangeSlider(\n",
    "    description=\"Version range: \",\n",
    "    options=tag_names,\n",
    "    labels=tag_names,\n",
    "    index=current_index,\n",
    "    layout=widgets.Layout(\n",
    "        width='80%',\n",
    "        display='flex',\n",
    "        justify_content='center'\n",
    "    ),\n",
    "    continuous_update=False,\n",
    ")"
   ]
  },
  {
   "cell_type": "code",
   "execution_count": 39,
   "metadata": {
    "code_folding": [
     0
    ],
    "extensions": {
     "jupyter_dashboards": {
      "version": 1,
      "views": {
       "grid_default": {
        "col": 0,
        "height": 4,
        "hidden": false,
        "row": 28,
        "width": 12
       },
       "report_default": {
        "hidden": true
       }
      }
     }
    }
   },
   "outputs": [],
   "source": [
    "def run_analysis(handle):\n",
    "    display(Javascript('IPython.notebook.execute_cells_below()'))\n",
    "\n",
    "run_analysis_button = widgets.Button(\n",
    "    description=\"Run Analysis\",\n",
    "    button_style='danger',\n",
    ")\n",
    "\n",
    "run_analysis_button.on_click(run_analysis)"
   ]
  },
  {
   "cell_type": "code",
   "execution_count": 40,
   "metadata": {
    "extensions": {
     "jupyter_dashboards": {
      "version": 1,
      "views": {
       "grid_default": {
        "col": 0,
        "height": 4,
        "hidden": false,
        "row": 28,
        "width": 12
       },
       "report_default": {
        "hidden": true
       }
      }
     }
    },
    "slideshow": {
     "slide_type": "subslide"
    }
   },
   "outputs": [
    {
     "data": {
      "application/vnd.jupyter.widget-view+json": {
       "model_id": "86872c126dfe41e09da501bc8718fea9",
       "version_major": 2,
       "version_minor": 0
      },
      "text/plain": [
       "HBox(children=(SelectionRangeSlider(continuous_update=False, description='Version range: ', index=(21, 25), la…"
      ]
     },
     "metadata": {},
     "output_type": "display_data"
    },
    {
     "data": {
      "application/vnd.jupyter.widget-view+json": {
       "model_id": "bca23eb5e7484bef8aa41de0ef2bc8f1",
       "version_major": 2,
       "version_minor": 0
      },
      "text/plain": [
       "HBox(children=(Button(button_style='danger', description='Run Analysis', style=ButtonStyle()),), layout=Layout…"
      ]
     },
     "metadata": {},
     "output_type": "display_data"
    }
   ],
   "source": [
    "display(widgets.HBox(\n",
    "    [version_range_widget],\n",
    "    layout=widgets.Layout(width='100%', justify_content='center', display='flex')\n",
    "))\n",
    "display(widgets.HBox(\n",
    "    [run_analysis_button],\n",
    "    layout=widgets.Layout(width='100%', justify_content='center', display='flex')\n",
    "))"
   ]
  },
  {
   "cell_type": "markdown",
   "metadata": {
    "extensions": {
     "jupyter_dashboards": {
      "version": 1,
      "views": {
       "grid_default": {
        "hidden": true
       },
       "report_default": {
        "hidden": true
       }
      }
     }
    }
   },
   "source": [
    "---"
   ]
  },
  {
   "cell_type": "code",
   "execution_count": 41,
   "metadata": {
    "extensions": {
     "jupyter_dashboards": {
      "version": 1,
      "views": {
       "grid_default": {
        "hidden": true
       },
       "report_default": {}
      }
     }
    }
   },
   "outputs": [],
   "source": [
    "commit_data = []\n",
    "\n",
    "v_oldest, v_newest = version_range_widget.label\n",
    "\n",
    "if owner_widget.value and repo_widget.value:\n",
    "    tags = get_tags(owner, repo)\n",
    "    \n",
    "    commit_data = list(\n",
    "        map(parse_commit, get_commits(owner=owner,\n",
    "                                      repo=repo,\n",
    "                                      tags=tags,\n",
    "                                      oldest=v_oldest,\n",
    "                                      newest=v_newest\n",
    "                                     ))\n",
    "    )"
   ]
  },
  {
   "cell_type": "code",
   "execution_count": 42,
   "metadata": {
    "code_folding": [
     0,
     6
    ],
    "extensions": {
     "jupyter_dashboards": {
      "version": 1,
      "views": {
       "grid_default": {
        "hidden": true
       },
       "report_default": {}
      }
     }
    }
   },
   "outputs": [],
   "source": [
    "def get_commit_by_sha(sha):\n",
    "    clear_output(wait=True)\n",
    "    for commit in commit_data:\n",
    "        if commit.sha.startswith(sha):\n",
    "            return commit\n",
    "\n",
    "def print_commit_and_update(handle):\n",
    "    display(Javascript('IPython.notebook.execute_cell_range(IPython.notebook.get_selected_index()+1,'\n",
    "                       'IPython.notebook.get_selected_index()+2)'))"
   ]
  },
  {
   "cell_type": "code",
   "execution_count": 43,
   "metadata": {
    "code_folding": [
     0
    ],
    "extensions": {
     "jupyter_dashboards": {
      "version": 1,
      "views": {
       "grid_default": {
        "hidden": true
       },
       "report_default": {}
      }
     }
    }
   },
   "outputs": [
    {
     "name": "stderr",
     "output_type": "stream",
     "text": [
      "/home/macermak/.local/lib/python3.6/site-packages/ipykernel_launcher.py:11: DeprecationWarning: on_trait_change is deprecated in traitlets 4.1: use observe instead\n",
      "  # This is added back by InteractiveShellApp.init_path()\n"
     ]
    }
   ],
   "source": [
    "commit_widget = widgets.Select(\n",
    "    options=list(sorted([commit.sha[:8] for commit in commit_data])),\n",
    "    description=\"Find specific commit\",\n",
    "    disabled=False,\n",
    "    layout=widgets.Layout(\n",
    "        width='400px',\n",
    "        height='150px'\n",
    "    )\n",
    ")\n",
    "\n",
    "commit_widget.on_trait_change(print_commit_and_update, 'value')"
   ]
  },
  {
   "cell_type": "code",
   "execution_count": 44,
   "metadata": {
    "extensions": {
     "jupyter_dashboards": {
      "version": 1,
      "views": {
       "grid_default": {
        "col": 6,
        "height": 7,
        "hidden": false,
        "row": 45,
        "width": 6
       },
       "report_default": {
        "hidden": true
       }
      }
     }
    }
   },
   "outputs": [
    {
     "data": {
      "application/vnd.jupyter.widget-view+json": {
       "model_id": "36dcbb56f6ca419a9e8121569374e9ac",
       "version_major": 2,
       "version_minor": 0
      },
      "text/plain": [
       "Select(description='Find specific commit', layout=Layout(height='150px', width='400px'), options=('06c7077e', …"
      ]
     },
     "metadata": {},
     "output_type": "display_data"
    }
   ],
   "source": [
    "display(commit_widget)"
   ]
  },
  {
   "cell_type": "markdown",
   "metadata": {
    "slideshow": {
     "slide_type": "slide"
    }
   },
   "source": [
    "### Example of commit fixing a CVE"
   ]
  },
  {
   "cell_type": "code",
   "execution_count": 45,
   "metadata": {
    "extensions": {
     "jupyter_dashboards": {
      "version": 1,
      "views": {
       "grid_default": {
        "col": 6,
        "height": 8,
        "hidden": false,
        "row": 52,
        "width": 6
       },
       "report_default": {}
      }
     }
    },
    "scrolled": true,
    "slideshow": {
     "slide_type": "subslide"
    }
   },
   "outputs": [
    {
     "name": "stdout",
     "output_type": "stream",
     "text": [
      "Commit(\n",
      "    url='https://api.github.com/repos/anymail/django-anymail/commits/'\n",
      "        '06c7077e37e2371eefcb6a3146fc0cc949a256ac',\n",
      "    sha='06c7077e37e2371eefcb6a3146fc0cc949a256ac',\n",
      "    message='Fix: flag extra_headers[\"To\"] as unsupported\\n\\nDjango\\'s SMTP '\n",
      "        'EmailBackend allows spoofing the To header by setting\\n'\n",
      "        '`message.extra_headers[\"To\"]`` different from `message.to`.\\n\\nNo '\n",
      "        'current Anymail ESP supports this. Treat extra_headers[\"To\"] as\\nan '\n",
      "        'unsupported ESP feature, to flag attempts to use it.\\n\\nAlso '\n",
      "        'document Anymail\\'s special header handling that replicates\\n'\n",
      "        'Django\\'s SMTP EmailBackend behavior.'\n",
      ")\n"
     ]
    },
    {
     "data": {
      "text/plain": [
       "None"
      ]
     },
     "metadata": {},
     "output_type": "display_data"
    }
   ],
   "source": [
    "display(pprint(get_commit_by_sha(commit_widget.value)))"
   ]
  },
  {
   "cell_type": "markdown",
   "metadata": {
    "extensions": {
     "jupyter_dashboards": {
      "version": 1,
      "views": {
       "grid_default": {
        "col": 4,
        "height": 4,
        "hidden": true,
        "row": 71,
        "width": 4
       },
       "report_default": {}
      }
     }
    }
   },
   "source": [
    "---"
   ]
  },
  {
   "cell_type": "markdown",
   "metadata": {
    "extensions": {
     "jupyter_dashboards": {
      "version": 1,
      "views": {
       "grid_default": {
        "col": 4,
        "height": 4,
        "hidden": false,
        "row": 110,
        "width": 4
       },
       "report_default": {}
      }
     }
    },
    "slideshow": {
     "slide_type": "slide"
    }
   },
   "source": [
    "## Analysis\n",
    "\n",
    "\n",
    "Three approaches have been tried and compared:\n",
    "- TF-IDF analysis\n",
    "- word2vec embeddings, document similarity with pre-trained word embeddings\n",
    "- Gensim word2vec and doc2vec custom-trained models\n",
    "\n",
    "Jenks Natural Breaks algorithm has been applied to split commits into natural clusters in all cases."
   ]
  },
  {
   "cell_type": "code",
   "execution_count": 46,
   "metadata": {
    "extensions": {
     "jupyter_dashboards": {
      "version": 1,
      "views": {
       "grid_default": {
        "hidden": true
       },
       "report_default": {}
      }
     }
    }
   },
   "outputs": [],
   "source": [
    "commits = list(map(entitizer, nlp.pipe([clean_text(c.message) for c in commit_data])))"
   ]
  },
  {
   "cell_type": "code",
   "execution_count": 47,
   "metadata": {
    "extensions": {
     "jupyter_dashboards": {
      "version": 1,
      "views": {
       "grid_default": {
        "col": 0,
        "height": 4,
        "hidden": true,
        "row": 18,
        "width": 4
       },
       "report_default": {}
      }
     }
    }
   },
   "outputs": [
    {
     "data": {
      "text/plain": [
       "(21,)"
      ]
     },
     "execution_count": 47,
     "metadata": {},
     "output_type": "execute_result"
    }
   ],
   "source": [
    "commit_message_lengths = np.unique([\n",
    "    len(set(commit)) for commit in commits\n",
    "])\n",
    "\n",
    "commit_message_lengths.shape"
   ]
  },
  {
   "cell_type": "code",
   "execution_count": 48,
   "metadata": {
    "extensions": {
     "jupyter_dashboards": {
      "version": 1,
      "views": {
       "grid_default": {
        "hidden": true
       },
       "report_default": {}
      }
     }
    }
   },
   "outputs": [],
   "source": [
    "%matplotlib inline"
   ]
  },
  {
   "cell_type": "code",
   "execution_count": 49,
   "metadata": {
    "extensions": {
     "jupyter_dashboards": {
      "version": 1,
      "views": {
       "grid_default": {
        "col": 0,
        "height": 15,
        "hidden": false,
        "row": 45,
        "width": 6
       },
       "report_default": {}
      }
     }
    }
   },
   "outputs": [],
   "source": [
    "import matplotlib.pyplot as plt\n",
    "import seaborn as sns\n",
    "\n",
    "sns.set()"
   ]
  },
  {
   "cell_type": "markdown",
   "metadata": {
    "slideshow": {
     "slide_type": "slide"
    },
    "toc-hr-collapsed": false
   },
   "source": [
    "### Jenks Natural Breaks\n",
    "\n",
    "The Jenks optimization method, also called the Jenks natural breaks classification method, is a data clustering method designed to determine the best arrangement of values into different classes. This is done by seeking to minimize each class’s average deviation from the class mean, while maximizing each class’s deviation from the means of the other groups. In other words, the method seeks to reduce the variance within classes and maximize the variance between classes.\n",
    "\n",
    "The Jenks optimization method is directly related to Otsu's Method and Fisher's Discriminant Analysis.\n",
    "\n",
    "-- [Wikipedia](wikipedia.org)"
   ]
  },
  {
   "cell_type": "code",
   "execution_count": 50,
   "metadata": {
    "extensions": {
     "jupyter_dashboards": {
      "version": 1,
      "views": {
       "grid_default": {
        "col": 0,
        "height": 15,
        "hidden": false,
        "row": 45,
        "width": 6
       },
       "report_default": {}
      }
     }
    },
    "slideshow": {
     "slide_type": "subslide"
    }
   },
   "outputs": [
    {
     "data": {
      "image/png": "[encoded data removed]",
      "text/plain": [
       "<Figure size 720x504 with 1 Axes>"
      ]
     },
     "metadata": {},
     "output_type": "display_data"
    }
   ],
   "source": [
    "k_splits = min(len(commits), 5)\n",
    "\n",
    "if len(commits) > k_splits > 3 :\n",
    "\n",
    "    f, ax = plt.subplots(figsize=(10,7))\n",
    "    f.suptitle(f\"Jenks Natural Breaks split for k={k_splits}\")\n",
    "\n",
    "    sns.scatterplot(x=commit_message_lengths, y=[0] * len(commit_message_lengths), ax=ax)\n",
    "\n",
    "    jenks_split = jenks_breaks(commit_message_lengths, k_splits)\n",
    "\n",
    "    for x in jenks_split:\n",
    "        ax.plot([x] * 100, np.linspace(-0.05, 0.05, 100), 'r')\n",
    "\n",
    "    plt.show()\n",
    "\n",
    "else:\n",
    "    k_splits = 1\n",
    "    jenks_split = [len(commits[0]), len(commits[-1])]"
   ]
  },
  {
   "cell_type": "code",
   "execution_count": 51,
   "metadata": {
    "extensions": {
     "jupyter_dashboards": {
      "version": 1,
      "views": {
       "grid_default": {
        "hidden": true
       },
       "report_default": {}
      }
     }
    }
   },
   "outputs": [],
   "source": [
    "# discard similar commits\n",
    "# unique_commits = []\n",
    "for commit in commits:\n",
    "    pass\n",
    "\n",
    "# FIXME -- make commits unique by similarity metric\n",
    "unique_commits = commits"
   ]
  },
  {
   "cell_type": "code",
   "execution_count": 52,
   "metadata": {
    "code_folding": [
     8
    ],
    "extensions": {
     "jupyter_dashboards": {
      "version": 1,
      "views": {
       "grid_default": {
        "hidden": true
       },
       "report_default": {}
      }
     }
    }
   },
   "outputs": [],
   "source": [
    "# split messages by their length into bins\n",
    "intervals = list(zip(jenks_split[:-1], jenks_split[1:]))\n",
    "\n",
    "commit_lookup_table = {}\n",
    "\n",
    "cve_commit_bins = [list() for _ in range(k_splits)]\n",
    "commit_bins = [list() for _ in range(k_splits)]\n",
    "\n",
    "for idx, commit in enumerate(unique_commits):\n",
    "    bin_ = get_interval(intervals, len(set(commit)))\n",
    "    \n",
    "    commit_lookup_table[(bin_, len(commit_bins[bin_]))] = commit_data[idx]\n",
    "    commit_bins[bin_].append(commit)\n",
    "    \n",
    "    if contains_cve(commit):\n",
    "        cve_commit_bins[bin_].append(commit)"
   ]
  },
  {
   "cell_type": "code",
   "execution_count": 53,
   "metadata": {
    "extensions": {
     "jupyter_dashboards": {
      "version": 1,
      "views": {
       "grid_default": {
        "hidden": true
       },
       "report_default": {
        "hidden": true
       }
      }
     }
    }
   },
   "outputs": [],
   "source": [
    "interval_means = np.array([\n",
    "    (low + high) / 2 for low, high in zip(jenks_split[:-1], jenks_split[1:])\n",
    "])"
   ]
  },
  {
   "cell_type": "markdown",
   "metadata": {
    "extensions": {
     "jupyter_dashboards": {
      "version": 1,
      "views": {
       "grid_default": {
        "col": 0,
        "height": 2,
        "hidden": false,
        "row": 32,
        "width": 12
       },
       "report_default": {}
      }
     }
    },
    "slideshow": {
     "slide_type": "slide"
    }
   },
   "source": [
    "### TF-IDF"
   ]
  },
  {
   "cell_type": "code",
   "execution_count": 54,
   "metadata": {
    "extensions": {
     "jupyter_dashboards": {
      "version": 1,
      "views": {
       "grid_default": {
        "col": 0,
        "height": 11,
        "hidden": false,
        "row": 34,
        "width": 12
       },
       "report_default": {}
      }
     }
    },
    "scrolled": true,
    "slideshow": {
     "slide_type": "subslide"
    }
   },
   "outputs": [
    {
     "data": {
      "text/html": [
       "<div>\n",
       "<style scoped>\n",
       "    .dataframe tbody tr th:only-of-type {\n",
       "        vertical-align: middle;\n",
       "    }\n",
       "\n",
       "    .dataframe tbody tr th {\n",
       "        vertical-align: top;\n",
       "    }\n",
       "\n",
       "    .dataframe thead th {\n",
       "        text-align: right;\n",
       "    }\n",
       "</style>\n",
       "<table border=\"1\" class=\"dataframe\">\n",
       "  <thead>\n",
       "    <tr style=\"text-align: right;\">\n",
       "      <th></th>\n",
       "      <th>information</th>\n",
       "      <th>vulnerability</th>\n",
       "      <th>allow</th>\n",
       "      <th>attacker</th>\n",
       "      <th>window</th>\n",
       "      <th>cve</th>\n",
       "      <th>sensitive</th>\n",
       "      <th>server</th>\n",
       "      <th>obtain</th>\n",
       "      <th>user</th>\n",
       "    </tr>\n",
       "  </thead>\n",
       "  <tbody>\n",
       "    <tr>\n",
       "      <th>Gain Information</th>\n",
       "      <td>0.363947</td>\n",
       "      <td>0.301982</td>\n",
       "      <td>0.292438</td>\n",
       "      <td>0.287732</td>\n",
       "      <td>0.262502</td>\n",
       "      <td>0.242108</td>\n",
       "      <td>0.190471</td>\n",
       "      <td>0.172038</td>\n",
       "      <td>0.167724</td>\n",
       "      <td>0.150599</td>\n",
       "    </tr>\n",
       "  </tbody>\n",
       "</table>\n",
       "</div>"
      ],
      "text/plain": [
       "                  information  vulnerability     allow  attacker    window  \\\n",
       "Gain Information     0.363947       0.301982  0.292438  0.287732  0.262502   \n",
       "\n",
       "                       cve  sensitive    server    obtain      user  \n",
       "Gain Information  0.242108   0.190471  0.172038  0.167724  0.150599  "
      ]
     },
     "metadata": {},
     "output_type": "display_data"
    },
    {
     "data": {
      "text/html": [
       "<div>\n",
       "<style scoped>\n",
       "    .dataframe tbody tr th:only-of-type {\n",
       "        vertical-align: middle;\n",
       "    }\n",
       "\n",
       "    .dataframe tbody tr th {\n",
       "        vertical-align: top;\n",
       "    }\n",
       "\n",
       "    .dataframe thead th {\n",
       "        text-align: right;\n",
       "    }\n",
       "</style>\n",
       "<table border=\"1\" class=\"dataframe\">\n",
       "  <thead>\n",
       "    <tr style=\"text-align: right;\">\n",
       "      <th></th>\n",
       "      <th>traversal</th>\n",
       "      <th>directory</th>\n",
       "      <th>dot</th>\n",
       "      <th>file</th>\n",
       "      <th>allow</th>\n",
       "      <th>vulnerability</th>\n",
       "      <th>remote</th>\n",
       "      <th>arbitrary</th>\n",
       "      <th>attacker</th>\n",
       "      <th>parameter</th>\n",
       "    </tr>\n",
       "  </thead>\n",
       "  <tbody>\n",
       "    <tr>\n",
       "      <th>Directory Traversal</th>\n",
       "      <td>0.364082</td>\n",
       "      <td>0.363559</td>\n",
       "      <td>0.342997</td>\n",
       "      <td>0.342738</td>\n",
       "      <td>0.287564</td>\n",
       "      <td>0.285981</td>\n",
       "      <td>0.27307</td>\n",
       "      <td>0.264788</td>\n",
       "      <td>0.256627</td>\n",
       "      <td>0.179408</td>\n",
       "    </tr>\n",
       "  </tbody>\n",
       "</table>\n",
       "</div>"
      ],
      "text/plain": [
       "                     traversal  directory       dot      file     allow  \\\n",
       "Directory Traversal   0.364082   0.363559  0.342997  0.342738  0.287564   \n",
       "\n",
       "                     vulnerability   remote  arbitrary  attacker  parameter  \n",
       "Directory Traversal       0.285981  0.27307   0.264788  0.256627   0.179408  "
      ]
     },
     "metadata": {},
     "output_type": "display_data"
    },
    {
     "data": {
      "text/html": [
       "<div>\n",
       "<style scoped>\n",
       "    .dataframe tbody tr th:only-of-type {\n",
       "        vertical-align: middle;\n",
       "    }\n",
       "\n",
       "    .dataframe tbody tr th {\n",
       "        vertical-align: top;\n",
       "    }\n",
       "\n",
       "    .dataframe thead th {\n",
       "        text-align: right;\n",
       "    }\n",
       "</style>\n",
       "<table border=\"1\" class=\"dataframe\">\n",
       "  <thead>\n",
       "    <tr style=\"text-align: right;\">\n",
       "      <th></th>\n",
       "      <th>cve</th>\n",
       "      <th>vulnerability</th>\n",
       "      <th>remote</th>\n",
       "      <th>attacker</th>\n",
       "      <th>allow</th>\n",
       "      <th>code</th>\n",
       "      <th>execute</th>\n",
       "      <th>arbitrary</th>\n",
       "      <th>memory</th>\n",
       "      <th>php</th>\n",
       "    </tr>\n",
       "  </thead>\n",
       "  <tbody>\n",
       "    <tr>\n",
       "      <th>Code Execution</th>\n",
       "      <td>0.44894</td>\n",
       "      <td>0.309135</td>\n",
       "      <td>0.298918</td>\n",
       "      <td>0.278663</td>\n",
       "      <td>0.272355</td>\n",
       "      <td>0.268416</td>\n",
       "      <td>0.265188</td>\n",
       "      <td>0.264833</td>\n",
       "      <td>0.14125</td>\n",
       "      <td>0.132402</td>\n",
       "    </tr>\n",
       "  </tbody>\n",
       "</table>\n",
       "</div>"
      ],
      "text/plain": [
       "                    cve  vulnerability    remote  attacker     allow  \\\n",
       "Code Execution  0.44894       0.309135  0.298918  0.278663  0.272355   \n",
       "\n",
       "                    code   execute  arbitrary   memory       php  \n",
       "Code Execution  0.268416  0.265188   0.264833  0.14125  0.132402  "
      ]
     },
     "metadata": {},
     "output_type": "display_data"
    },
    {
     "data": {
      "text/html": [
       "<div>\n",
       "<style scoped>\n",
       "    .dataframe tbody tr th:only-of-type {\n",
       "        vertical-align: middle;\n",
       "    }\n",
       "\n",
       "    .dataframe tbody tr th {\n",
       "        vertical-align: top;\n",
       "    }\n",
       "\n",
       "    .dataframe thead th {\n",
       "        text-align: right;\n",
       "    }\n",
       "</style>\n",
       "<table border=\"1\" class=\"dataframe\">\n",
       "  <thead>\n",
       "    <tr style=\"text-align: right;\">\n",
       "      <th></th>\n",
       "      <th>bypass</th>\n",
       "      <th>allow</th>\n",
       "      <th>attacker</th>\n",
       "      <th>remote</th>\n",
       "      <th>cve</th>\n",
       "      <th>vulnerability</th>\n",
       "      <th>window</th>\n",
       "      <th>restriction</th>\n",
       "      <th>user</th>\n",
       "      <th>access</th>\n",
       "    </tr>\n",
       "  </thead>\n",
       "  <tbody>\n",
       "    <tr>\n",
       "      <th>Bypass something</th>\n",
       "      <td>0.467463</td>\n",
       "      <td>0.375246</td>\n",
       "      <td>0.328848</td>\n",
       "      <td>0.237066</td>\n",
       "      <td>0.220827</td>\n",
       "      <td>0.204732</td>\n",
       "      <td>0.162104</td>\n",
       "      <td>0.147018</td>\n",
       "      <td>0.146155</td>\n",
       "      <td>0.143835</td>\n",
       "    </tr>\n",
       "  </tbody>\n",
       "</table>\n",
       "</div>"
      ],
      "text/plain": [
       "                    bypass     allow  attacker    remote       cve  \\\n",
       "Bypass something  0.467463  0.375246  0.328848  0.237066  0.220827   \n",
       "\n",
       "                  vulnerability    window  restriction      user    access  \n",
       "Bypass something       0.204732  0.162104     0.147018  0.146155  0.143835  "
      ]
     },
     "metadata": {},
     "output_type": "display_data"
    },
    {
     "data": {
      "text/html": [
       "<div>\n",
       "<style scoped>\n",
       "    .dataframe tbody tr th:only-of-type {\n",
       "        vertical-align: middle;\n",
       "    }\n",
       "\n",
       "    .dataframe tbody tr th {\n",
       "        vertical-align: top;\n",
       "    }\n",
       "\n",
       "    .dataframe thead th {\n",
       "        text-align: right;\n",
       "    }\n",
       "</style>\n",
       "<table border=\"1\" class=\"dataframe\">\n",
       "  <thead>\n",
       "    <tr style=\"text-align: right;\">\n",
       "      <th></th>\n",
       "      <th>sql</th>\n",
       "      <th>injection</th>\n",
       "      <th>vulnerability</th>\n",
       "      <th>allow</th>\n",
       "      <th>parameter</th>\n",
       "      <th>remote</th>\n",
       "      <th>execute</th>\n",
       "      <th>arbitrary</th>\n",
       "      <th>command</th>\n",
       "      <th>attacker</th>\n",
       "    </tr>\n",
       "  </thead>\n",
       "  <tbody>\n",
       "    <tr>\n",
       "      <th>Sql Injection</th>\n",
       "      <td>0.572078</td>\n",
       "      <td>0.319342</td>\n",
       "      <td>0.281456</td>\n",
       "      <td>0.27119</td>\n",
       "      <td>0.266546</td>\n",
       "      <td>0.260191</td>\n",
       "      <td>0.249436</td>\n",
       "      <td>0.243448</td>\n",
       "      <td>0.234649</td>\n",
       "      <td>0.225849</td>\n",
       "    </tr>\n",
       "  </tbody>\n",
       "</table>\n",
       "</div>"
      ],
      "text/plain": [
       "                    sql  injection  vulnerability    allow  parameter  \\\n",
       "Sql Injection  0.572078   0.319342       0.281456  0.27119   0.266546   \n",
       "\n",
       "                 remote   execute  arbitrary   command  attacker  \n",
       "Sql Injection  0.260191  0.249436   0.243448  0.234649  0.225849  "
      ]
     },
     "metadata": {},
     "output_type": "display_data"
    },
    {
     "data": {
      "text/html": [
       "<div>\n",
       "<style scoped>\n",
       "    .dataframe tbody tr th:only-of-type {\n",
       "        vertical-align: middle;\n",
       "    }\n",
       "\n",
       "    .dataframe tbody tr th {\n",
       "        vertical-align: top;\n",
       "    }\n",
       "\n",
       "    .dataframe thead th {\n",
       "        text-align: right;\n",
       "    }\n",
       "</style>\n",
       "<table border=\"1\" class=\"dataframe\">\n",
       "  <thead>\n",
       "    <tr style=\"text-align: right;\">\n",
       "      <th></th>\n",
       "      <th>remote</th>\n",
       "      <th>php</th>\n",
       "      <th>inclusion</th>\n",
       "      <th>file</th>\n",
       "      <th>parameter</th>\n",
       "      <th>vulnerability</th>\n",
       "      <th>allow</th>\n",
       "      <th>attacker</th>\n",
       "      <th>arbitrary</th>\n",
       "      <th>code</th>\n",
       "    </tr>\n",
       "  </thead>\n",
       "  <tbody>\n",
       "    <tr>\n",
       "      <th>File Inclusion</th>\n",
       "      <td>0.456638</td>\n",
       "      <td>0.449978</td>\n",
       "      <td>0.271802</td>\n",
       "      <td>0.263805</td>\n",
       "      <td>0.248403</td>\n",
       "      <td>0.236748</td>\n",
       "      <td>0.231337</td>\n",
       "      <td>0.228423</td>\n",
       "      <td>0.227799</td>\n",
       "      <td>0.22426</td>\n",
       "    </tr>\n",
       "  </tbody>\n",
       "</table>\n",
       "</div>"
      ],
      "text/plain": [
       "                  remote       php  inclusion      file  parameter  \\\n",
       "File Inclusion  0.456638  0.449978   0.271802  0.263805   0.248403   \n",
       "\n",
       "                vulnerability     allow  attacker  arbitrary     code  \n",
       "File Inclusion       0.236748  0.231337  0.228423   0.227799  0.22426  "
      ]
     },
     "metadata": {},
     "output_type": "display_data"
    },
    {
     "data": {
      "text/html": [
       "<div>\n",
       "<style scoped>\n",
       "    .dataframe tbody tr th:only-of-type {\n",
       "        vertical-align: middle;\n",
       "    }\n",
       "\n",
       "    .dataframe tbody tr th {\n",
       "        vertical-align: top;\n",
       "    }\n",
       "\n",
       "    .dataframe thead th {\n",
       "        text-align: right;\n",
       "    }\n",
       "</style>\n",
       "<table border=\"1\" class=\"dataframe\">\n",
       "  <thead>\n",
       "    <tr style=\"text-align: right;\">\n",
       "      <th></th>\n",
       "      <th>csrf</th>\n",
       "      <th>request</th>\n",
       "      <th>forgery</th>\n",
       "      <th>site</th>\n",
       "      <th>allow</th>\n",
       "      <th>cross</th>\n",
       "      <th>attacker</th>\n",
       "      <th>vulnerability</th>\n",
       "      <th>remote</th>\n",
       "      <th>hijack</th>\n",
       "    </tr>\n",
       "  </thead>\n",
       "  <tbody>\n",
       "    <tr>\n",
       "      <th>CSRF</th>\n",
       "      <td>0.412066</td>\n",
       "      <td>0.402199</td>\n",
       "      <td>0.314038</td>\n",
       "      <td>0.260669</td>\n",
       "      <td>0.25665</td>\n",
       "      <td>0.255358</td>\n",
       "      <td>0.248181</td>\n",
       "      <td>0.244162</td>\n",
       "      <td>0.240286</td>\n",
       "      <td>0.192008</td>\n",
       "    </tr>\n",
       "  </tbody>\n",
       "</table>\n",
       "</div>"
      ],
      "text/plain": [
       "          csrf   request   forgery      site    allow     cross  attacker  \\\n",
       "CSRF  0.412066  0.402199  0.314038  0.260669  0.25665  0.255358  0.248181   \n",
       "\n",
       "      vulnerability    remote    hijack  \n",
       "CSRF       0.244162  0.240286  0.192008  "
      ]
     },
     "metadata": {},
     "output_type": "display_data"
    },
    {
     "data": {
      "text/html": [
       "<div>\n",
       "<style scoped>\n",
       "    .dataframe tbody tr th:only-of-type {\n",
       "        vertical-align: middle;\n",
       "    }\n",
       "\n",
       "    .dataframe tbody tr th {\n",
       "        vertical-align: top;\n",
       "    }\n",
       "\n",
       "    .dataframe thead th {\n",
       "        text-align: right;\n",
       "    }\n",
       "</style>\n",
       "<table border=\"1\" class=\"dataframe\">\n",
       "  <thead>\n",
       "    <tr style=\"text-align: right;\">\n",
       "      <th></th>\n",
       "      <th>xss</th>\n",
       "      <th>script</th>\n",
       "      <th>vulnerability</th>\n",
       "      <th>site</th>\n",
       "      <th>cross</th>\n",
       "      <th>allow</th>\n",
       "      <th>attacker</th>\n",
       "      <th>user</th>\n",
       "      <th>web</th>\n",
       "      <th>arbitrary</th>\n",
       "    </tr>\n",
       "  </thead>\n",
       "  <tbody>\n",
       "    <tr>\n",
       "      <th>XSS</th>\n",
       "      <td>0.376697</td>\n",
       "      <td>0.355118</td>\n",
       "      <td>0.304765</td>\n",
       "      <td>0.275195</td>\n",
       "      <td>0.263758</td>\n",
       "      <td>0.26306</td>\n",
       "      <td>0.231398</td>\n",
       "      <td>0.216055</td>\n",
       "      <td>0.199876</td>\n",
       "      <td>0.15566</td>\n",
       "    </tr>\n",
       "  </tbody>\n",
       "</table>\n",
       "</div>"
      ],
      "text/plain": [
       "          xss    script  vulnerability      site     cross    allow  attacker  \\\n",
       "XSS  0.376697  0.355118       0.304765  0.275195  0.263758  0.26306  0.231398   \n",
       "\n",
       "         user       web  arbitrary  \n",
       "XSS  0.216055  0.199876    0.15566  "
      ]
     },
     "metadata": {},
     "output_type": "display_data"
    },
    {
     "data": {
      "text/html": [
       "<div>\n",
       "<style scoped>\n",
       "    .dataframe tbody tr th:only-of-type {\n",
       "        vertical-align: middle;\n",
       "    }\n",
       "\n",
       "    .dataframe tbody tr th {\n",
       "        vertical-align: top;\n",
       "    }\n",
       "\n",
       "    .dataframe thead th {\n",
       "        text-align: right;\n",
       "    }\n",
       "</style>\n",
       "<table border=\"1\" class=\"dataframe\">\n",
       "  <thead>\n",
       "    <tr style=\"text-align: right;\">\n",
       "      <th></th>\n",
       "      <th>privilege</th>\n",
       "      <th>gain</th>\n",
       "      <th>allow</th>\n",
       "      <th>window</th>\n",
       "      <th>user</th>\n",
       "      <th>sp</th>\n",
       "      <th>local</th>\n",
       "      <th>vulnerability</th>\n",
       "      <th>attacker</th>\n",
       "      <th>craft</th>\n",
       "    </tr>\n",
       "  </thead>\n",
       "  <tbody>\n",
       "    <tr>\n",
       "      <th>Gain Privileges</th>\n",
       "      <td>0.420438</td>\n",
       "      <td>0.364976</td>\n",
       "      <td>0.333554</td>\n",
       "      <td>0.304677</td>\n",
       "      <td>0.275433</td>\n",
       "      <td>0.241906</td>\n",
       "      <td>0.215721</td>\n",
       "      <td>0.208379</td>\n",
       "      <td>0.125542</td>\n",
       "      <td>0.123584</td>\n",
       "    </tr>\n",
       "  </tbody>\n",
       "</table>\n",
       "</div>"
      ],
      "text/plain": [
       "                 privilege      gain     allow    window      user        sp  \\\n",
       "Gain Privileges   0.420438  0.364976  0.333554  0.304677  0.275433  0.241906   \n",
       "\n",
       "                    local  vulnerability  attacker     craft  \n",
       "Gain Privileges  0.215721       0.208379  0.125542  0.123584  "
      ]
     },
     "metadata": {},
     "output_type": "display_data"
    },
    {
     "data": {
      "text/html": [
       "<div>\n",
       "<style scoped>\n",
       "    .dataframe tbody tr th:only-of-type {\n",
       "        vertical-align: middle;\n",
       "    }\n",
       "\n",
       "    .dataframe tbody tr th {\n",
       "        vertical-align: top;\n",
       "    }\n",
       "\n",
       "    .dataframe thead th {\n",
       "        text-align: right;\n",
       "    }\n",
       "</style>\n",
       "<table border=\"1\" class=\"dataframe\">\n",
       "  <thead>\n",
       "    <tr style=\"text-align: right;\">\n",
       "      <th></th>\n",
       "      <th>cve</th>\n",
       "      <th>service</th>\n",
       "      <th>denial</th>\n",
       "      <th>allow</th>\n",
       "      <th>attacker</th>\n",
       "      <th>memory</th>\n",
       "      <th>craft</th>\n",
       "      <th>corruption</th>\n",
       "      <th>vulnerability</th>\n",
       "      <th>affect</th>\n",
       "    </tr>\n",
       "  </thead>\n",
       "  <tbody>\n",
       "    <tr>\n",
       "      <th>DoS</th>\n",
       "      <td>0.492961</td>\n",
       "      <td>0.325695</td>\n",
       "      <td>0.309284</td>\n",
       "      <td>0.273359</td>\n",
       "      <td>0.253897</td>\n",
       "      <td>0.201663</td>\n",
       "      <td>0.18273</td>\n",
       "      <td>0.179681</td>\n",
       "      <td>0.16816</td>\n",
       "      <td>0.159481</td>\n",
       "    </tr>\n",
       "  </tbody>\n",
       "</table>\n",
       "</div>"
      ],
      "text/plain": [
       "          cve   service    denial     allow  attacker    memory    craft  \\\n",
       "DoS  0.492961  0.325695  0.309284  0.273359  0.253897  0.201663  0.18273   \n",
       "\n",
       "     corruption  vulnerability    affect  \n",
       "DoS    0.179681        0.16816  0.159481  "
      ]
     },
     "metadata": {},
     "output_type": "display_data"
    },
    {
     "data": {
      "text/html": [
       "<div>\n",
       "<style scoped>\n",
       "    .dataframe tbody tr th:only-of-type {\n",
       "        vertical-align: middle;\n",
       "    }\n",
       "\n",
       "    .dataframe tbody tr th {\n",
       "        vertical-align: top;\n",
       "    }\n",
       "\n",
       "    .dataframe thead th {\n",
       "        text-align: right;\n",
       "    }\n",
       "</style>\n",
       "<table border=\"1\" class=\"dataframe\">\n",
       "  <thead>\n",
       "    <tr style=\"text-align: right;\">\n",
       "      <th></th>\n",
       "      <th>cve</th>\n",
       "      <th>memory</th>\n",
       "      <th>corruption</th>\n",
       "      <th>code</th>\n",
       "      <th>vulnerability</th>\n",
       "      <th>allow</th>\n",
       "      <th>attacker</th>\n",
       "      <th>affect</th>\n",
       "      <th>arbitrary</th>\n",
       "      <th>service</th>\n",
       "    </tr>\n",
       "  </thead>\n",
       "  <tbody>\n",
       "    <tr>\n",
       "      <th>Memory Corruption</th>\n",
       "      <td>0.774488</td>\n",
       "      <td>0.281281</td>\n",
       "      <td>0.252075</td>\n",
       "      <td>0.145563</td>\n",
       "      <td>0.14521</td>\n",
       "      <td>0.135845</td>\n",
       "      <td>0.12366</td>\n",
       "      <td>0.118978</td>\n",
       "      <td>0.11792</td>\n",
       "      <td>0.116762</td>\n",
       "    </tr>\n",
       "  </tbody>\n",
       "</table>\n",
       "</div>"
      ],
      "text/plain": [
       "                        cve    memory  corruption      code  vulnerability  \\\n",
       "Memory Corruption  0.774488  0.281281    0.252075  0.145563        0.14521   \n",
       "\n",
       "                      allow  attacker    affect  arbitrary   service  \n",
       "Memory Corruption  0.135845   0.12366  0.118978    0.11792  0.116762  "
      ]
     },
     "metadata": {},
     "output_type": "display_data"
    },
    {
     "data": {
      "text/html": [
       "<div>\n",
       "<style scoped>\n",
       "    .dataframe tbody tr th:only-of-type {\n",
       "        vertical-align: middle;\n",
       "    }\n",
       "\n",
       "    .dataframe tbody tr th {\n",
       "        vertical-align: top;\n",
       "    }\n",
       "\n",
       "    .dataframe thead th {\n",
       "        text-align: right;\n",
       "    }\n",
       "</style>\n",
       "<table border=\"1\" class=\"dataframe\">\n",
       "  <thead>\n",
       "    <tr style=\"text-align: right;\">\n",
       "      <th></th>\n",
       "      <th>cve</th>\n",
       "      <th>memory</th>\n",
       "      <th>allow</th>\n",
       "      <th>attacker</th>\n",
       "      <th>corruption</th>\n",
       "      <th>service</th>\n",
       "      <th>code</th>\n",
       "      <th>vulnerability</th>\n",
       "      <th>denial</th>\n",
       "      <th>arbitrary</th>\n",
       "    </tr>\n",
       "  </thead>\n",
       "  <tbody>\n",
       "    <tr>\n",
       "      <th>Overflow</th>\n",
       "      <td>0.655166</td>\n",
       "      <td>0.230763</td>\n",
       "      <td>0.213627</td>\n",
       "      <td>0.187314</td>\n",
       "      <td>0.185173</td>\n",
       "      <td>0.171727</td>\n",
       "      <td>0.170641</td>\n",
       "      <td>0.162087</td>\n",
       "      <td>0.159569</td>\n",
       "      <td>0.143373</td>\n",
       "    </tr>\n",
       "  </tbody>\n",
       "</table>\n",
       "</div>"
      ],
      "text/plain": [
       "               cve    memory     allow  attacker  corruption   service  \\\n",
       "Overflow  0.655166  0.230763  0.213627  0.187314    0.185173  0.171727   \n",
       "\n",
       "              code  vulnerability    denial  arbitrary  \n",
       "Overflow  0.170641       0.162087  0.159569   0.143373  "
      ]
     },
     "metadata": {},
     "output_type": "display_data"
    },
    {
     "data": {
      "text/html": [
       "<div>\n",
       "<style scoped>\n",
       "    .dataframe tbody tr th:only-of-type {\n",
       "        vertical-align: middle;\n",
       "    }\n",
       "\n",
       "    .dataframe tbody tr th {\n",
       "        vertical-align: top;\n",
       "    }\n",
       "\n",
       "    .dataframe thead th {\n",
       "        text-align: right;\n",
       "    }\n",
       "</style>\n",
       "<table border=\"1\" class=\"dataframe\">\n",
       "  <thead>\n",
       "    <tr style=\"text-align: right;\">\n",
       "      <th></th>\n",
       "      <th>http</th>\n",
       "      <th>crlf</th>\n",
       "      <th>split</th>\n",
       "      <th>response</th>\n",
       "      <th>attack</th>\n",
       "      <th>attacker</th>\n",
       "      <th>allow</th>\n",
       "      <th>vulnerability</th>\n",
       "      <th>remote</th>\n",
       "      <th>header</th>\n",
       "    </tr>\n",
       "  </thead>\n",
       "  <tbody>\n",
       "    <tr>\n",
       "      <th>Http Response Splitting</th>\n",
       "      <td>0.427348</td>\n",
       "      <td>0.333249</td>\n",
       "      <td>0.299116</td>\n",
       "      <td>0.291698</td>\n",
       "      <td>0.252273</td>\n",
       "      <td>0.248138</td>\n",
       "      <td>0.239866</td>\n",
       "      <td>0.232974</td>\n",
       "      <td>0.223324</td>\n",
       "      <td>0.199889</td>\n",
       "    </tr>\n",
       "  </tbody>\n",
       "</table>\n",
       "</div>"
      ],
      "text/plain": [
       "                             http      crlf     split  response    attack  \\\n",
       "Http Response Splitting  0.427348  0.333249  0.299116  0.291698  0.252273   \n",
       "\n",
       "                         attacker     allow  vulnerability    remote    header  \n",
       "Http Response Splitting  0.248138  0.239866       0.232974  0.223324  0.199889  "
      ]
     },
     "metadata": {},
     "output_type": "display_data"
    }
   ],
   "source": [
    "for frame in topic_frames:\n",
    "    display(frame.loc[:, frame.columns[:10]])"
   ]
  },
  {
   "cell_type": "code",
   "execution_count": 55,
   "metadata": {
    "code_folding": [
     7
    ],
    "extensions": {
     "jupyter_dashboards": {
      "version": 1,
      "views": {
       "grid_default": {
        "hidden": true
       },
       "report_default": {}
      }
     }
    }
   },
   "outputs": [],
   "source": [
    "commit_score_bins = [None] * k_splits\n",
    "\n",
    "min_f = 0.05\n",
    "lookup_table = [\n",
    "    topic[topic > min_f].dropna(axis=1) for topic in topic_frames\n",
    "] \n",
    "\n",
    "for idx, bin_ in enumerate(commit_bins):\n",
    "    score_bin = []\n",
    "    \n",
    "    msg_lengths = [len(commit) for commit in bin_]\n",
    "    std_msg_length = np.mean(msg_lengths) + 2 * np.std(msg_lengths)\n",
    "    \n",
    "    for commit in bin_:\n",
    "    \n",
    "        # capture 95 % commit length within bin\n",
    "        score_bin.append(get_commit_score(commit, lookup_table, u=std_msg_length))\n",
    "        \n",
    "    commit_score_bins[idx] = np.array(score_bin)\n",
    "\n",
    "commit_score_bins = np.array(commit_score_bins)"
   ]
  },
  {
   "cell_type": "code",
   "execution_count": 56,
   "metadata": {
    "extensions": {
     "jupyter_dashboards": {
      "version": 1,
      "views": {
       "grid_default": {
        "hidden": true
       },
       "report_default": {}
      }
     }
    }
   },
   "outputs": [],
   "source": [
    "# soften \n",
    "\n",
    "soft_topic_scores = []\n",
    "min_bin_size = min([len(bin_) for bin_ in commit_bins])\n",
    "\n",
    "for basket, basket_mean in zip(commit_score_bins, interval_means):\n",
    "    basket_scores = np.sum(basket, axis=1) / np.log10(basket_mean)\n",
    "    basket_scores = np.exp(basket_scores) / np.sum(np.exp(basket_scores))\n",
    "    \n",
    "    soft_topic_scores.append(basket_scores)\n",
    "\n",
    "soft_topic_scores = np.array(soft_topic_scores)"
   ]
  },
  {
   "cell_type": "code",
   "execution_count": 57,
   "metadata": {
    "extensions": {
     "jupyter_dashboards": {
      "version": 1,
      "views": {
       "grid_default": {
        "col": 0,
        "height": 6,
        "hidden": true,
        "row": 18,
        "width": 4
       },
       "report_default": {}
      }
     }
    }
   },
   "outputs": [
    {
     "data": {
      "text/plain": [
       "array([array([0.08333333, 0.08333333, 0.08333333, 0.08333333, 0.08333333]),\n",
       "       array([0.38974808, 0.35528036, 0.05194473, 0.05135734, 0.05135734]),\n",
       "       array([0.53379295, 0.24882547, 0.21738159]),\n",
       "       array([0.9895769, 0.0104231]), array([0.84786079, 0.15213921])],\n",
       "      dtype=object)"
      ]
     },
     "execution_count": 57,
     "metadata": {},
     "output_type": "execute_result"
    }
   ],
   "source": [
    "candidate_scores = np.array([\n",
    "    np.sort(soft_topic_scores[i], axis=0)[::-1][:5]\n",
    "    for i in range(k_splits)\n",
    "])\n",
    "candidate_scores"
   ]
  },
  {
   "cell_type": "code",
   "execution_count": 58,
   "metadata": {
    "extensions": {
     "jupyter_dashboards": {
      "version": 1,
      "views": {
       "grid_default": {
        "col": 0,
        "height": 4,
        "hidden": true,
        "row": 18,
        "width": 4
       },
       "report_default": {}
      }
     }
    }
   },
   "outputs": [
    {
     "data": {
      "text/plain": [
       "array([array([11, 10,  9,  8,  7]), array([3, 4, 6, 2, 1]),\n",
       "       array([0, 2, 1]), array([1, 0]), array([1, 0])], dtype=object)"
      ]
     },
     "execution_count": 58,
     "metadata": {},
     "output_type": "execute_result"
    }
   ],
   "source": [
    "candidates = np.array([\n",
    "    np.argsort(soft_topic_scores[i], axis=0)[::-1][:5]\n",
    "    for i in range(k_splits)\n",
    "])\n",
    "\n",
    "candidates"
   ]
  },
  {
   "cell_type": "code",
   "execution_count": 59,
   "metadata": {
    "code_folding": [
     2
    ],
    "extensions": {
     "jupyter_dashboards": {
      "version": 1,
      "views": {
       "grid_default": {
        "col": 0,
        "height": 16,
        "hidden": true,
        "row": 49,
        "width": 12
       },
       "report_default": {}
      }
     }
    },
    "scrolled": true
   },
   "outputs": [],
   "source": [
    "df_candidates = pd.DataFrame()\n",
    "\n",
    "for bin_number, (arg_bucket, score_bucket) in enumerate(zip(candidates, candidate_scores)):\n",
    "    for arg, score in zip(arg_bucket, score_bucket):\n",
    "\n",
    "        flat_idx = sum(len(bin_) for bin_ in commit_bins[:bin_number]) + arg\n",
    "        \n",
    "        df_candidates = df_candidates.append(pd.Series({\n",
    "            'bin': bin_number,\n",
    "            'message': str(commit_bins[bin_number][arg]),\n",
    "            'sha': commit_lookup_table[(bin_number, arg)].sha[:8],\n",
    "            'score': score,\n",
    "        }, name=flat_idx))\n",
    "        "
   ]
  },
  {
   "cell_type": "markdown",
   "metadata": {
    "slideshow": {
     "slide_type": "slide"
    }
   },
   "source": [
    "#### Results"
   ]
  },
  {
   "cell_type": "code",
   "execution_count": 60,
   "metadata": {
    "extensions": {
     "jupyter_dashboards": {
      "version": 1,
      "views": {
       "grid_default": {
        "col": 0,
        "height": 22,
        "hidden": false,
        "row": 60,
        "width": null
       },
       "report_default": {}
      }
     }
    },
    "slideshow": {
     "slide_type": "subslide"
    }
   },
   "outputs": [
    {
     "data": {
      "text/html": [
       "<style  type=\"text/css\" >\n",
       "</style>  \n",
       "<table id=\"T_581e767c_c2df_11e8_88d4_c85b7694a487\" > \n",
       "<thead>    <tr> \n",
       "        <th class=\"blank\" ></th> \n",
       "        <th class=\"blank level0\" ></th> \n",
       "        <th class=\"col_heading level0 col0\" >message</th> \n",
       "        <th class=\"col_heading level0 col1\" >score</th> \n",
       "        <th class=\"col_heading level0 col2\" >sha</th> \n",
       "    </tr>    <tr> \n",
       "        <th class=\"index_name level0\" >bin</th> \n",
       "        <th class=\"index_name level1\" >index</th> \n",
       "        <th class=\"blank\" ></th> \n",
       "        <th class=\"blank\" ></th> \n",
       "        <th class=\"blank\" ></th> \n",
       "    </tr></thead> \n",
       "<tbody>    <tr> \n",
       "        <th id=\"T_581e767c_c2df_11e8_88d4_c85b7694a487level0_row0\" class=\"row_heading level0 row0\" rowspan=5>0.0</th> \n",
       "        <th id=\"T_581e767c_c2df_11e8_88d4_c85b7694a487level1_row0\" class=\"row_heading level1 row0\" >11</th> \n",
       "        <td id=\"T_581e767c_c2df_11e8_88d4_c85b7694a487row0_col0\" class=\"data row0 col0\" >release >VERSION<</td> \n",
       "        <td id=\"T_581e767c_c2df_11e8_88d4_c85b7694a487row0_col1\" class=\"data row0 col1\" >0.0833333</td> \n",
       "        <td id=\"T_581e767c_c2df_11e8_88d4_c85b7694a487row0_col2\" class=\"data row0 col2\" >7029298b</td> \n",
       "    </tr>    <tr> \n",
       "        <th id=\"T_581e767c_c2df_11e8_88d4_c85b7694a487level1_row1\" class=\"row_heading level1 row1\" >10</th> \n",
       "        <td id=\"T_581e767c_c2df_11e8_88d4_c85b7694a487row1_col0\" class=\"data row1 col0\" >travis: switch to released django >VERSION<\n",
       "\n",
       "and move python >VERSION< live integration tests from django >VERSION<\n",
       "to django >VERSION<.</td> \n",
       "        <td id=\"T_581e767c_c2df_11e8_88d4_c85b7694a487row1_col1\" class=\"data row1 col1\" >0.0833333</td> \n",
       "        <td id=\"T_581e767c_c2df_11e8_88d4_c85b7694a487row1_col2\" class=\"data row1 col2\" >e4548642</td> \n",
       "    </tr>    <tr> \n",
       "        <th id=\"T_581e767c_c2df_11e8_88d4_c85b7694a487level1_row2\" class=\"row_heading level1 row2\" >9</th> \n",
       "        <td id=\"T_581e767c_c2df_11e8_88d4_c85b7694a487row2_col0\" class=\"data row2 col0\" >docs: update intersphinx source urls\n",
       "\n",
       "python and django have both moved their docs to https.</td> \n",
       "        <td id=\"T_581e767c_c2df_11e8_88d4_c85b7694a487row2_col1\" class=\"data row2 col1\" >0.0833333</td> \n",
       "        <td id=\"T_581e767c_c2df_11e8_88d4_c85b7694a487row2_col2\" class=\"data row2 col2\" >2bf492c2</td> \n",
       "    </tr>    <tr> \n",
       "        <th id=\"T_581e767c_c2df_11e8_88d4_c85b7694a487level1_row3\" class=\"row_heading level1 row3\" >8</th> \n",
       "        <td id=\"T_581e767c_c2df_11e8_88d4_c85b7694a487row3_col0\" class=\"data row3 col0\" >add developer notes on supporting new esps\n",
       "\n",
       "(this should eventually migrate to the docs.)</td> \n",
       "        <td id=\"T_581e767c_c2df_11e8_88d4_c85b7694a487row3_col1\" class=\"data row3 col1\" >0.0833333</td> \n",
       "        <td id=\"T_581e767c_c2df_11e8_88d4_c85b7694a487row3_col2\" class=\"data row3 col2\" >c924c9ec</td> \n",
       "    </tr>    <tr> \n",
       "        <th id=\"T_581e767c_c2df_11e8_88d4_c85b7694a487level1_row4\" class=\"row_heading level1 row4\" >7</th> \n",
       "        <td id=\"T_581e767c_c2df_11e8_88d4_c85b7694a487row4_col0\" class=\"data row4 col0\" >add inbound mail handling\n",
       "\n",
       "add normalized event, signal, and webhooks for inbound mail.\r\n",
       "\r\n",
       "closes #>NUMBER<\r\n",
       "closes #>NUMBER<</td> \n",
       "        <td id=\"T_581e767c_c2df_11e8_88d4_c85b7694a487row4_col1\" class=\"data row4 col1\" >0.0833333</td> \n",
       "        <td id=\"T_581e767c_c2df_11e8_88d4_c85b7694a487row4_col2\" class=\"data row4 col2\" >b57eb94f</td> \n",
       "    </tr>    <tr> \n",
       "        <th id=\"T_581e767c_c2df_11e8_88d4_c85b7694a487level0_row5\" class=\"row_heading level0 row5\" rowspan=5>1.0</th> \n",
       "        <th id=\"T_581e767c_c2df_11e8_88d4_c85b7694a487level1_row5\" class=\"row_heading level1 row5\" >15</th> \n",
       "        <td id=\"T_581e767c_c2df_11e8_88d4_c85b7694a487row5_col0\" class=\"data row5 col0\" >[breaking] webhooks: disallow deprecated webhook_authorization setting\n",
       "\n",
       "drop support for the webhook_authorization setting deprecated in >VERSION<.\n",
       "only the webhook_secret replacement is allowed now.\n",
       "\n",
       "most django management commands will now issue a system check error\n",
       "if the old name is still used in settings.py</td> \n",
       "        <td id=\"T_581e767c_c2df_11e8_88d4_c85b7694a487row5_col1\" class=\"data row5 col1\" >0.389748</td> \n",
       "        <td id=\"T_581e767c_c2df_11e8_88d4_c85b7694a487row5_col2\" class=\"data row5 col2\" >9478bf59</td> \n",
       "    </tr>    <tr> \n",
       "        <th id=\"T_581e767c_c2df_11e8_88d4_c85b7694a487level1_row6\" class=\"row_heading level1 row6\" >16</th> \n",
       "        <td id=\"T_581e767c_c2df_11e8_88d4_c85b7694a487row6_col0\" class=\"data row6 col0\" >fix: flag extra_headers[\"to\"] as unsupported\n",
       "\n",
       "django's smtp emailbackend allows spoofing the to header by setting\n",
       "`message.extra_headers[\"to\"]`` different from `message.to`.\n",
       "\n",
       "no current anymail esp supports this. treat extra_headers[\"to\"] as\n",
       "an unsupported esp feature, to flag attempts to use it.\n",
       "\n",
       "also document anymail's special header handling that replicates\n",
       "django's smtp emailbackend behavior.</td> \n",
       "        <td id=\"T_581e767c_c2df_11e8_88d4_c85b7694a487row6_col1\" class=\"data row6 col1\" >0.35528</td> \n",
       "        <td id=\"T_581e767c_c2df_11e8_88d4_c85b7694a487row6_col2\" class=\"data row6 col2\" >06c7077e</td> \n",
       "    </tr>    <tr> \n",
       "        <th id=\"T_581e767c_c2df_11e8_88d4_c85b7694a487level1_row7\" class=\"row_heading level1 row7\" >18</th> \n",
       "        <td id=\"T_581e767c_c2df_11e8_88d4_c85b7694a487row7_col0\" class=\"data row7 col0\" >tests: fix mockrequestsbackend.get_api_call_arg edge cases\n",
       "\n",
       "get_api_call_arg had incorrectly returned none if a kwarg was passed\n",
       "to the mocked function with a false-y value (e.g., [] or {})\n",
       "\n",
       "get_api_call_json had only considered data param, ignoring json param\n",
       "requests added a while back</td> \n",
       "        <td id=\"T_581e767c_c2df_11e8_88d4_c85b7694a487row7_col1\" class=\"data row7 col1\" >0.0519447</td> \n",
       "        <td id=\"T_581e767c_c2df_11e8_88d4_c85b7694a487row7_col2\" class=\"data row7 col2\" >5fb46952</td> \n",
       "    </tr>    <tr> \n",
       "        <th id=\"T_581e767c_c2df_11e8_88d4_c85b7694a487level1_row8\" class=\"row_heading level1 row8\" >14</th> \n",
       "        <td id=\"T_581e767c_c2df_11e8_88d4_c85b7694a487row8_col0\" class=\"data row8 col0\" >sendinblue: update docs, readme, setup, travis config\n",
       "\n",
       "* flesh out sendinblue docs, add a readme mention\n",
       "* stop trying to list all the supported esps in the project short\n",
       "  description and similar headlines -- it was becoming unwieldy.\n",
       "* support `pip install django-anymail[sendinblue]`\n",
       "  and use it in travis tests (for consistency; sendinblue\n",
       "  doesn't require any extra packages)</td> \n",
       "        <td id=\"T_581e767c_c2df_11e8_88d4_c85b7694a487row8_col1\" class=\"data row8 col1\" >0.0513573</td> \n",
       "        <td id=\"T_581e767c_c2df_11e8_88d4_c85b7694a487row8_col2\" class=\"data row8 col2\" >1e7aacdc</td> \n",
       "    </tr>    <tr> \n",
       "        <th id=\"T_581e767c_c2df_11e8_88d4_c85b7694a487level1_row9\" class=\"row_heading level1 row9\" >13</th> \n",
       "        <td id=\"T_581e767c_c2df_11e8_88d4_c85b7694a487row9_col0\" class=\"data row9 col0\" >docs: clean up \"securing webhooks\"\n",
       "\n",
       "* \"ssl\" --> \"https\"\n",
       "* \"authorization\" --> \"authentication\"\n",
       "  (e.g., \"http basic authentication\" -- except when referring\n",
       "  specifically to the http \"authorization\" header used to send it)\n",
       "* add a sidebar with more details on why it matters</td> \n",
       "        <td id=\"T_581e767c_c2df_11e8_88d4_c85b7694a487row9_col1\" class=\"data row9 col1\" >0.0513573</td> \n",
       "        <td id=\"T_581e767c_c2df_11e8_88d4_c85b7694a487row9_col2\" class=\"data row9 col2\" >ae8484fd</td> \n",
       "    </tr>    <tr> \n",
       "        <th id=\"T_581e767c_c2df_11e8_88d4_c85b7694a487level0_row10\" class=\"row_heading level0 row10\" rowspan=3>2.0</th> \n",
       "        <th id=\"T_581e767c_c2df_11e8_88d4_c85b7694a487level1_row10\" class=\"row_heading level1 row10\" >19</th> \n",
       "        <td id=\"T_581e767c_c2df_11e8_88d4_c85b7694a487row10_col0\" class=\"data row10 col0\" >setup: add universal wheel; update metadata; clean up setup.py\n",
       "\n",
       "* follow current setup.py recommendations from the pypa sample project\n",
       "  (utf->NUMBER< encoding on file reads, ensure files are read relative to\n",
       "  own location)\n",
       "* add/update some missing classifiers and other metadata\n",
       "* read _version.py constants into an isolated dict (rather than\n",
       "  the global setup.py context)\n",
       "* add setup.cfg specifying universal bdist_wheel</td> \n",
       "        <td id=\"T_581e767c_c2df_11e8_88d4_c85b7694a487row10_col1\" class=\"data row10 col1\" >0.533793</td> \n",
       "        <td id=\"T_581e767c_c2df_11e8_88d4_c85b7694a487row10_col2\" class=\"data row10 col2\" >deea8c5d</td> \n",
       "    </tr>    <tr> \n",
       "        <th id=\"T_581e767c_c2df_11e8_88d4_c85b7694a487level1_row11\" class=\"row_heading level1 row11\" >21</th> \n",
       "        <td id=\"T_581e767c_c2df_11e8_88d4_c85b7694a487row11_col0\" class=\"data row11 col0\" >add timeout to all requests calls\n",
       "\n",
       "use a default timeout of >NUMBER< seconds for all requests, and add a\n",
       "requests_timeout anymail setting to override.\n",
       "\n",
       "(i'm making a judgement call that this is not a breaking change in the\n",
       "real world, and not bumping the major version. theoretically, it could\n",
       "affect you if your network somehow takes >>NUMBER<s to connect to your esp,\n",
       "but eventually succeeds. if so, set requests_timeout to none to restore\n",
       "the earlier behavior.)\n",
       "\n",
       "fixes #>NUMBER<.</td> \n",
       "        <td id=\"T_581e767c_c2df_11e8_88d4_c85b7694a487row11_col1\" class=\"data row11 col1\" >0.248825</td> \n",
       "        <td id=\"T_581e767c_c2df_11e8_88d4_c85b7694a487row11_col2\" class=\"data row11 col2\" >09def308</td> \n",
       "    </tr>    <tr> \n",
       "        <th id=\"T_581e767c_c2df_11e8_88d4_c85b7694a487level1_row12\" class=\"row_heading level1 row12\" >20</th> \n",
       "        <td id=\"T_581e767c_c2df_11e8_88d4_c85b7694a487row12_col0\" class=\"data row12 col0\" >un-hardcode message_id in test backend; add console backend\n",
       "\n",
       "* un-hardcode status message_id in test backend\r\n",
       "\r\n",
       "for the test emailbackend, get message id's based on array position in\r\n",
       "`mail.outbox`, so that tests can predict the message id.\r\n",
       "\r\n",
       "\r\n",
       "* add a console backend for use in development\r\n",
       "\r\n",
       "adds an emailbackend derived from both anymail's test backend and\r\n",
       "django's console backend, to provide anymail statuses and signal\r\n",
       "handling while printing messages to the console.  for use during\r\n",
       "development on localhost.\r\n",
       "\r\n",
       "closes #>NUMBER<</td> \n",
       "        <td id=\"T_581e767c_c2df_11e8_88d4_c85b7694a487row12_col1\" class=\"data row12 col1\" >0.217382</td> \n",
       "        <td id=\"T_581e767c_c2df_11e8_88d4_c85b7694a487row12_col2\" class=\"data row12 col2\" >771d4040</td> \n",
       "    </tr>    <tr> \n",
       "        <th id=\"T_581e767c_c2df_11e8_88d4_c85b7694a487level0_row13\" class=\"row_heading level0 row13\" rowspan=2>3.0</th> \n",
       "        <th id=\"T_581e767c_c2df_11e8_88d4_c85b7694a487level1_row13\" class=\"row_heading level1 row13\" >23</th> \n",
       "        <td id=\"T_581e767c_c2df_11e8_88d4_c85b7694a487row13_col0\" class=\"data row13 col0\" >security: prevent timing attack on webhook_authorization secret\n",
       "\n",
       "anymail's webhook validation was vulnerable to a timing attack.\n",
       "an attacker could have used this to recover your webhook_authorization\n",
       "shared secret, potentially allowing them to post fabricated or malicious\n",
       "email tracking events to your app.\n",
       "\n",
       "there have not been any reports of attempted exploit in the wild. (the\n",
       "vulnerability was discovered through code review.) attempts would be\n",
       "visible in http logs as a very large number of >NUMBER< responses on\n",
       "anymail's webhook urls, or in python error monitoring as a very large\n",
       "number of anymailwebhookvalidationfailure exceptions.\n",
       "\n",
       "if you are using anymail's webhooks, you should upgrade to this release.\n",
       "in addition, you may want to rotate to a new webhook_authorization\n",
       "secret ([docs](http://anymail.readthedocs.io/en/stable/tips/securing_webhooks/#use-a-shared-authorization-secret)),\n",
       "particularly if your logs indicate attempted exploit.</td> \n",
       "        <td id=\"T_581e767c_c2df_11e8_88d4_c85b7694a487row13_col1\" class=\"data row13 col1\" >0.989577</td> \n",
       "        <td id=\"T_581e767c_c2df_11e8_88d4_c85b7694a487row13_col2\" class=\"data row13 col2\" >db586ede</td> \n",
       "    </tr>    <tr> \n",
       "        <th id=\"T_581e767c_c2df_11e8_88d4_c85b7694a487level1_row14\" class=\"row_heading level1 row14\" >22</th> \n",
       "        <td id=\"T_581e767c_c2df_11e8_88d4_c85b7694a487row14_col0\" class=\"data row14 col0\" >feature: add envelope_sender\n",
       "\n",
       "new emailmessage attribute `envelope_sender` controls esp's sender,\n",
       "sending domain, or return path where supported:\n",
       "\n",
       "* mailgun: overrides sender_domain on individual message\n",
       "  (domain portion only)\n",
       "* mailjet: becomes `sender` api param\n",
       "* mandrill: becomes `return_path_domain` api param\n",
       "  (domain portion only)\n",
       "* sparkpost: becomes `return_path` api param\n",
       "* other esps: not believed to be supported\n",
       "\n",
       "also support undocumented django smtp backend behavior, where envelope\n",
       "sender is given by `message.from_email` when\n",
       "`message.extra_headers[\"from\"]` is set. fixes #>NUMBER<.</td> \n",
       "        <td id=\"T_581e767c_c2df_11e8_88d4_c85b7694a487row14_col1\" class=\"data row14 col1\" >0.0104231</td> \n",
       "        <td id=\"T_581e767c_c2df_11e8_88d4_c85b7694a487row14_col2\" class=\"data row14 col2\" >07fbeac6</td> \n",
       "    </tr>    <tr> \n",
       "        <th id=\"T_581e767c_c2df_11e8_88d4_c85b7694a487level0_row15\" class=\"row_heading level0 row15\" rowspan=2>4.0</th> \n",
       "        <th id=\"T_581e767c_c2df_11e8_88d4_c85b7694a487level1_row15\" class=\"row_heading level1 row15\" >25</th> \n",
       "        <td id=\"T_581e767c_c2df_11e8_88d4_c85b7694a487row15_col0\" class=\"data row15 col0\" >security: rename webhook_authorization --> webhook_secret\n",
       "\n",
       "this fixes a low severity security issue affecting anymail >VERSION<-->VERSION<.\n",
       "\n",
       "django error reporting includes the value of your anymail\n",
       "webhook_authorization setting. in a properly-configured deployment,\n",
       "this should not be cause for concern. but if you have somehow exposed\n",
       "your django error reports (e.g., by mis-deploying with debug=true or by\n",
       "sending error reports through insecure channels), anyone who gains\n",
       "access to those reports could discover your webhook shared secret. an\n",
       "attacker could use this to post fabricated or malicious anymail\n",
       "tracking/inbound events to your app, if you are using those anymail\n",
       "features.\n",
       "\n",
       "the fix renames anymail's webhook shared secret setting so that\n",
       "django's error reporting mechanism will [sanitize][>NUMBER<] it.\n",
       "\n",
       "if you are using anymail's event tracking and/or inbound webhooks, you\n",
       "should upgrade to this release and change \"webhook_authorization\" to\n",
       "\"webhook_secret\" in the anymail section of your settings.py. you may\n",
       "also want to [rotate the shared secret][>NUMBER<] value, particularly if you\n",
       "have ever exposed your django error reports to untrusted individuals.\n",
       "\n",
       "if you are only using anymail's emailbackends for sending email and\n",
       "have not set up anymail's webhooks, this issue does not affect you.\n",
       "\n",
       "the old webhook_authorization setting is still allowed in this release,\n",
       "but will issue a system-check warning when running most django\n",
       "management commands. it will be removed completely in a near-future\n",
       "release, as a breaking change.\n",
       "\n",
       "thanks to charlie detar (@yourcelf) for responsibly reporting this\n",
       "security issue through private channels.\n",
       "\n",
       "[>NUMBER<]: https://docs.djangoproject.com/en/stable/ref/settings/#debug\n",
       "[>NUMBER<]: https://anymail.readthedocs.io/en/>VERSION</tips/securing_webhooks/#use-a-shared-authorization-secret</td> \n",
       "        <td id=\"T_581e767c_c2df_11e8_88d4_c85b7694a487row15_col1\" class=\"data row15 col1\" >0.847861</td> \n",
       "        <td id=\"T_581e767c_c2df_11e8_88d4_c85b7694a487row15_col2\" class=\"data row15 col2\" >1a6086f2</td> \n",
       "    </tr>    <tr> \n",
       "        <th id=\"T_581e767c_c2df_11e8_88d4_c85b7694a487level1_row16\" class=\"row_heading level1 row16\" >24</th> \n",
       "        <td id=\"T_581e767c_c2df_11e8_88d4_c85b7694a487row16_col0\" class=\"data row16 col0\" >cleanup: centralize reply-to header handling; case-insensitive headers\n",
       "\n",
       "django allows setting the reply address with either message.reply_to\n",
       "or message.extra_headers[\"reply-to\"]. if both are supplied, the extra\n",
       "headers version takes precedence. (see emailmessage.message().)\n",
       "\n",
       "several anymail backends had duplicate logic to handle conflicting\n",
       "properties. move that logic into the base payload.\n",
       "\n",
       "(also prepares for common handling of extra_headers['from'], later.)\n",
       "\n",
       "related changes:\n",
       "\n",
       "* use caseinsensitivedict for processing extra_headers.\n",
       "  this is potentially a breaking change, but any code that was trying\n",
       "  to send multiple headers differing only in case was likely already\n",
       "  broken. (email header field names are case-insensitive, per rfc->NUMBER<.)\n",
       "\n",
       "* handle caseinsensitivedict in requestspayload.serialize_json().\n",
       "  (several backends had duplicate code for handling this, too.)\n",
       "\n",
       "* fixes sparkpost backend, which had been incorrectly treating\n",
       "  message.reply_to and message.extra_headers['reply-to'] differently.</td> \n",
       "        <td id=\"T_581e767c_c2df_11e8_88d4_c85b7694a487row16_col1\" class=\"data row16 col1\" >0.152139</td> \n",
       "        <td id=\"T_581e767c_c2df_11e8_88d4_c85b7694a487row16_col2\" class=\"data row16 col2\" >bd9d92f5</td> \n",
       "    </tr></tbody> \n",
       "</table> "
      ],
      "text/plain": [
       "<pandas.io.formats.style.Styler at 0x7fe0861cf5f8>"
      ]
     },
     "execution_count": 60,
     "metadata": {},
     "output_type": "execute_result"
    }
   ],
   "source": [
    "df_candidates.reset_index().set_index(['bin', 'index'], drop=True).style"
   ]
  },
  {
   "cell_type": "markdown",
   "metadata": {},
   "source": [
    "##### CVE Commits"
   ]
  },
  {
   "cell_type": "code",
   "execution_count": 61,
   "metadata": {
    "code_folding": [
     7
    ],
    "extensions": {
     "jupyter_dashboards": {
      "version": 1,
      "views": {
       "grid_default": {
        "hidden": true
       },
       "report_default": {}
      }
     }
    }
   },
   "outputs": [
    {
     "name": "stderr",
     "output_type": "stream",
     "text": [
      "/home/macermak/.local/lib/python3.6/site-packages/numpy/core/fromnumeric.py:2920: RuntimeWarning: Mean of empty slice.\n",
      "  out=out, **kwargs)\n",
      "/home/macermak/.local/lib/python3.6/site-packages/numpy/core/_methods.py:85: RuntimeWarning: invalid value encountered in double_scalars\n",
      "  ret = ret.dtype.type(ret / rcount)\n",
      "/home/macermak/.local/lib/python3.6/site-packages/numpy/core/_methods.py:140: RuntimeWarning: Degrees of freedom <= 0 for slice\n",
      "  keepdims=keepdims)\n",
      "/home/macermak/.local/lib/python3.6/site-packages/numpy/core/_methods.py:110: RuntimeWarning: invalid value encountered in true_divide\n",
      "  arrmean, rcount, out=arrmean, casting='unsafe', subok=False)\n",
      "/home/macermak/.local/lib/python3.6/site-packages/numpy/core/_methods.py:132: RuntimeWarning: invalid value encountered in double_scalars\n",
      "  ret = ret.dtype.type(ret / rcount)\n"
     ]
    }
   ],
   "source": [
    "commit_score_bins = [None] * k_splits\n",
    "\n",
    "min_f = 0.05\n",
    "lookup_table = [\n",
    "    topic[topic > min_f].dropna(axis=1) for topic in topic_frames\n",
    "] \n",
    "\n",
    "for idx, bin_ in enumerate(cve_commit_bins):\n",
    "    score_bin = []\n",
    "    \n",
    "    msg_lengths = [len(commit) for commit in bin_]\n",
    "    std_msg_length = np.mean(msg_lengths) + 2 * np.std(msg_lengths)\n",
    "    \n",
    "    for commit in bin_:\n",
    "    \n",
    "        # capture 95 % commit length within bin\n",
    "        score_bin.append(get_commit_score(commit, lookup_table, u=std_msg_length))\n",
    "        \n",
    "    commit_score_bins[idx] = np.array(score_bin)\n",
    "\n",
    "commit_score_bins = np.array(commit_score_bins)"
   ]
  },
  {
   "cell_type": "code",
   "execution_count": 62,
   "metadata": {
    "code_folding": [
     5
    ],
    "extensions": {
     "jupyter_dashboards": {
      "version": 1,
      "views": {
       "grid_default": {
        "hidden": true
       },
       "report_default": {}
      }
     }
    }
   },
   "outputs": [],
   "source": [
    "# soften \n",
    "\n",
    "soft_topic_scores = []\n",
    "min_bin_size = min([len(bin_) for bin_ in commit_bins])\n",
    "\n",
    "for basket, basket_mean in zip(commit_score_bins, interval_means):\n",
    "    if np.any(basket):\n",
    "        basket_scores = np.sum(basket, axis=1) / np.log10(basket_mean)\n",
    "        basket_scores = np.exp(basket_scores) / np.sum(np.exp(basket_scores))\n",
    "    \n",
    "    else:\n",
    "        basket_scores = []\n",
    "        \n",
    "    soft_topic_scores.append(basket_scores)\n",
    "\n",
    "soft_topic_scores = np.array(soft_topic_scores)"
   ]
  },
  {
   "cell_type": "code",
   "execution_count": 63,
   "metadata": {
    "extensions": {
     "jupyter_dashboards": {
      "version": 1,
      "views": {
       "grid_default": {
        "col": 0,
        "height": 6,
        "hidden": true,
        "row": 18,
        "width": 4
       },
       "report_default": {}
      }
     }
    }
   },
   "outputs": [
    {
     "data": {
      "text/plain": [
       "array([], shape=(5, 0), dtype=float64)"
      ]
     },
     "execution_count": 63,
     "metadata": {},
     "output_type": "execute_result"
    }
   ],
   "source": [
    "candidate_scores = np.array([\n",
    "    np.sort(soft_topic_scores[i], axis=0)[::-1][:5]\n",
    "    for i in range(k_splits)\n",
    "])\n",
    "candidate_scores"
   ]
  },
  {
   "cell_type": "code",
   "execution_count": 64,
   "metadata": {
    "extensions": {
     "jupyter_dashboards": {
      "version": 1,
      "views": {
       "grid_default": {
        "col": 0,
        "height": 4,
        "hidden": true,
        "row": 18,
        "width": 4
       },
       "report_default": {}
      }
     }
    }
   },
   "outputs": [
    {
     "data": {
      "text/plain": [
       "array([], shape=(5, 0), dtype=int64)"
      ]
     },
     "execution_count": 64,
     "metadata": {},
     "output_type": "execute_result"
    }
   ],
   "source": [
    "candidates = np.array([\n",
    "    np.argsort(soft_topic_scores[i], axis=0)[::-1][:5]\n",
    "    for i in range(k_splits)\n",
    "])\n",
    "\n",
    "candidates"
   ]
  },
  {
   "cell_type": "code",
   "execution_count": 65,
   "metadata": {
    "code_folding": [
     2
    ],
    "extensions": {
     "jupyter_dashboards": {
      "version": 1,
      "views": {
       "grid_default": {
        "col": 0,
        "height": 16,
        "hidden": true,
        "row": 49,
        "width": 12
       },
       "report_default": {}
      }
     }
    },
    "scrolled": true
   },
   "outputs": [],
   "source": [
    "df_candidates = pd.DataFrame(columns=['bin', 'message', 'sha', 'score'])\n",
    "\n",
    "for bin_number, (arg_bucket, score_bucket) in enumerate(zip(candidates, candidate_scores)):\n",
    "    for arg, score in zip(arg_bucket, score_bucket):\n",
    "\n",
    "        flat_idx = sum(len(bin_) for bin_ in commit_bins[:bin_number]) + arg\n",
    "        \n",
    "        df_candidates = df_candidates.append(pd.Series({\n",
    "            'bin': bin_number,\n",
    "            'message': str(cve_commit_bins[bin_number][arg]),\n",
    "            'sha': commit_lookup_table[(bin_number, arg)].sha[:8],\n",
    "            'score': score,\n",
    "        }, name=flat_idx))\n",
    "        "
   ]
  },
  {
   "cell_type": "code",
   "execution_count": 66,
   "metadata": {
    "extensions": {
     "jupyter_dashboards": {
      "version": 1,
      "views": {
       "grid_default": {
        "col": 0,
        "height": 22,
        "hidden": false,
        "row": 60,
        "width": null
       },
       "report_default": {}
      }
     }
    }
   },
   "outputs": [
    {
     "data": {
      "text/html": [
       "<style  type=\"text/css\" >\n",
       "</style>  \n",
       "<table id=\"T_58a6619a_c2df_11e8_88d4_c85b7694a487\" > \n",
       "<thead>    <tr> \n",
       "        <th class=\"blank\" ></th> \n",
       "        <th class=\"blank level0\" ></th> \n",
       "        <th class=\"col_heading level0 col0\" >message</th> \n",
       "        <th class=\"col_heading level0 col1\" >sha</th> \n",
       "        <th class=\"col_heading level0 col2\" >score</th> \n",
       "    </tr>    <tr> \n",
       "        <th class=\"index_name level0\" >bin</th> \n",
       "        <th class=\"index_name level1\" >index</th> \n",
       "        <th class=\"blank\" ></th> \n",
       "        <th class=\"blank\" ></th> \n",
       "        <th class=\"blank\" ></th> \n",
       "    </tr></thead> \n",
       "<tbody></tbody> \n",
       "</table> "
      ],
      "text/plain": [
       "<pandas.io.formats.style.Styler at 0x7fe077f44dd8>"
      ]
     },
     "execution_count": 66,
     "metadata": {},
     "output_type": "execute_result"
    }
   ],
   "source": [
    "df_candidates.reset_index().set_index(['bin', 'index'], drop=True).style"
   ]
  },
  {
   "cell_type": "markdown",
   "metadata": {
    "extensions": {
     "jupyter_dashboards": {
      "version": 1,
      "views": {
       "grid_default": {
        "col": 0,
        "height": 2,
        "hidden": true,
        "row": 64,
        "width": 12
       },
       "report_default": {}
      }
     }
    }
   },
   "source": [
    "---"
   ]
  },
  {
   "cell_type": "markdown",
   "metadata": {
    "slideshow": {
     "slide_type": "slide"
    }
   },
   "source": [
    "### Spacy"
   ]
  },
  {
   "cell_type": "code",
   "execution_count": 67,
   "metadata": {
    "extensions": {
     "jupyter_dashboards": {
      "version": 1,
      "views": {
       "grid_default": {
        "hidden": true
       },
       "report_default": {}
      }
     }
    }
   },
   "outputs": [],
   "source": [
    "# compute similarity of cve description to commits\n",
    "cve_description = cve.descriptions.data[0].value"
   ]
  },
  {
   "cell_type": "code",
   "execution_count": 68,
   "metadata": {
    "extensions": {
     "jupyter_dashboards": {
      "version": 1,
      "views": {
       "grid_default": {
        "hidden": true
       },
       "report_default": {}
      }
     }
    }
   },
   "outputs": [
    {
     "data": {
      "text/plain": [
       "filesystembytecodecache in jinja>NUMBER< >VERSION< does not properly create temporary directories, which allows local users to gain privileges by pre-creating a temporary directory with a user's uid.  note: this vulnerability exists because of an incomplete fix for CVE."
      ]
     },
     "execution_count": 68,
     "metadata": {},
     "output_type": "execute_result"
    }
   ],
   "source": [
    "description = nlp(clean_text(cve_description))\n",
    "description"
   ]
  },
  {
   "cell_type": "code",
   "execution_count": 69,
   "metadata": {
    "code_folding": [
     2
    ],
    "extensions": {
     "jupyter_dashboards": {
      "version": 1,
      "views": {
       "grid_default": {
        "hidden": true
       },
       "report_default": {}
      }
     }
    }
   },
   "outputs": [],
   "source": [
    "sim_scores = []\n",
    "\n",
    "for basket in commit_bins:\n",
    "    basket_scores = [\n",
    "        commit.similarity(description)\n",
    "        for commit in basket\n",
    "    ]\n",
    "    sim_scores.append(basket_scores)\n",
    "\n",
    "sim_scores = np.array(sim_scores)"
   ]
  },
  {
   "cell_type": "code",
   "execution_count": 70,
   "metadata": {
    "extensions": {
     "jupyter_dashboards": {
      "version": 1,
      "views": {
       "grid_default": {
        "hidden": true
       },
       "report_default": {}
      }
     }
    }
   },
   "outputs": [
    {
     "data": {
      "text/plain": [
       "array([array([0.88626411, 0.8656206 , 0.82061928, 0.81184861, 0.74211225]),\n",
       "       array([0.931966  , 0.91908256, 0.91624352, 0.90611971, 0.897671  ]),\n",
       "       array([0.93840748, 0.92555599, 0.91920745]),\n",
       "       array([0.94010463, 0.88396036]), array([0.95197931, 0.92616367])],\n",
       "      dtype=object)"
      ]
     },
     "execution_count": 70,
     "metadata": {},
     "output_type": "execute_result"
    }
   ],
   "source": [
    "candidate_scores = np.array([\n",
    "    np.sort(sim_scores[i], axis=0)[::-1][:5]\n",
    "    for i in range(k_splits)\n",
    "])\n",
    "candidate_scores"
   ]
  },
  {
   "cell_type": "code",
   "execution_count": 71,
   "metadata": {
    "extensions": {
     "jupyter_dashboards": {
      "version": 1,
      "views": {
       "grid_default": {
        "hidden": true
       },
       "report_default": {}
      }
     }
    }
   },
   "outputs": [
    {
     "data": {
      "text/plain": [
       "array([array([2, 8, 9, 7, 3]), array([3, 2, 4, 0, 5]), array([2, 1, 0]),\n",
       "       array([1, 0]), array([1, 0])], dtype=object)"
      ]
     },
     "execution_count": 71,
     "metadata": {},
     "output_type": "execute_result"
    }
   ],
   "source": [
    "candidates = np.array([\n",
    "    np.argsort(sim_scores[i], axis=0)[::-1][:5]\n",
    "    for i in range(k_splits)\n",
    "])\n",
    "\n",
    "candidates"
   ]
  },
  {
   "cell_type": "code",
   "execution_count": 72,
   "metadata": {
    "code_folding": [
     2
    ],
    "extensions": {
     "jupyter_dashboards": {
      "version": 1,
      "views": {
       "grid_default": {
        "hidden": true
       },
       "report_default": {
        "hidden": true
       }
      }
     }
    },
    "scrolled": true
   },
   "outputs": [],
   "source": [
    "df_candidates = pd.DataFrame()\n",
    "\n",
    "for bin_number, (arg_bucket, score_bucket) in enumerate(zip(candidates, candidate_scores)):\n",
    "    for arg, score in zip(arg_bucket, score_bucket):\n",
    "\n",
    "        flat_idx = sum(len(bins) for bins in commit_bins[:bin_number]) + arg\n",
    "        \n",
    "        df_candidates = df_candidates.append(pd.Series({\n",
    "            'bin': bin_number,\n",
    "            'message': str(commit_bins[bin_number][arg]),\n",
    "            'sha': commit_lookup_table[(bin_number, arg)].sha[:8],\n",
    "            'score': score,\n",
    "        }, name=flat_idx))\n",
    "        "
   ]
  },
  {
   "cell_type": "markdown",
   "metadata": {
    "slideshow": {
     "slide_type": "slide"
    }
   },
   "source": [
    "#### Results"
   ]
  },
  {
   "cell_type": "code",
   "execution_count": 73,
   "metadata": {
    "extensions": {
     "jupyter_dashboards": {
      "version": 1,
      "views": {
       "grid_default": {
        "col": 0,
        "height": 22,
        "hidden": false,
        "row": 84,
        "width": null
       },
       "report_default": {}
      }
     }
    },
    "slideshow": {
     "slide_type": "subslide"
    }
   },
   "outputs": [
    {
     "data": {
      "text/html": [
       "<style  type=\"text/css\" >\n",
       "</style>  \n",
       "<table id=\"T_58fa3c7a_c2df_11e8_88d4_c85b7694a487\" > \n",
       "<thead>    <tr> \n",
       "        <th class=\"blank\" ></th> \n",
       "        <th class=\"blank level0\" ></th> \n",
       "        <th class=\"col_heading level0 col0\" >message</th> \n",
       "        <th class=\"col_heading level0 col1\" >score</th> \n",
       "        <th class=\"col_heading level0 col2\" >sha</th> \n",
       "    </tr>    <tr> \n",
       "        <th class=\"index_name level0\" >bin</th> \n",
       "        <th class=\"index_name level1\" >index</th> \n",
       "        <th class=\"blank\" ></th> \n",
       "        <th class=\"blank\" ></th> \n",
       "        <th class=\"blank\" ></th> \n",
       "    </tr></thead> \n",
       "<tbody>    <tr> \n",
       "        <th id=\"T_58fa3c7a_c2df_11e8_88d4_c85b7694a487level0_row0\" class=\"row_heading level0 row0\" rowspan=5>0.0</th> \n",
       "        <th id=\"T_58fa3c7a_c2df_11e8_88d4_c85b7694a487level1_row0\" class=\"row_heading level1 row0\" >2</th> \n",
       "        <td id=\"T_58fa3c7a_c2df_11e8_88d4_c85b7694a487row0_col0\" class=\"data row0 col0\" >sendinblue: fix template from_email checking\n",
       "\n",
       "and add some tests for template unsupported feature warnings,\n",
       "recipients in non-template sends.</td> \n",
       "        <td id=\"T_58fa3c7a_c2df_11e8_88d4_c85b7694a487row0_col1\" class=\"data row0 col1\" >0.886264</td> \n",
       "        <td id=\"T_58fa3c7a_c2df_11e8_88d4_c85b7694a487row0_col2\" class=\"data row0 col2\" >e3f986df</td> \n",
       "    </tr>    <tr> \n",
       "        <th id=\"T_58fa3c7a_c2df_11e8_88d4_c85b7694a487level1_row1\" class=\"row_heading level1 row1\" >8</th> \n",
       "        <td id=\"T_58fa3c7a_c2df_11e8_88d4_c85b7694a487row1_col0\" class=\"data row1 col0\" >add developer notes on supporting new esps\n",
       "\n",
       "(this should eventually migrate to the docs.)</td> \n",
       "        <td id=\"T_58fa3c7a_c2df_11e8_88d4_c85b7694a487row1_col1\" class=\"data row1 col1\" >0.865621</td> \n",
       "        <td id=\"T_58fa3c7a_c2df_11e8_88d4_c85b7694a487row1_col2\" class=\"data row1 col2\" >c924c9ec</td> \n",
       "    </tr>    <tr> \n",
       "        <th id=\"T_58fa3c7a_c2df_11e8_88d4_c85b7694a487level1_row2\" class=\"row_heading level1 row2\" >9</th> \n",
       "        <td id=\"T_58fa3c7a_c2df_11e8_88d4_c85b7694a487row2_col0\" class=\"data row2 col0\" >docs: update intersphinx source urls\n",
       "\n",
       "python and django have both moved their docs to https.</td> \n",
       "        <td id=\"T_58fa3c7a_c2df_11e8_88d4_c85b7694a487row2_col1\" class=\"data row2 col1\" >0.820619</td> \n",
       "        <td id=\"T_58fa3c7a_c2df_11e8_88d4_c85b7694a487row2_col2\" class=\"data row2 col2\" >2bf492c2</td> \n",
       "    </tr>    <tr> \n",
       "        <th id=\"T_58fa3c7a_c2df_11e8_88d4_c85b7694a487level1_row3\" class=\"row_heading level1 row3\" >7</th> \n",
       "        <td id=\"T_58fa3c7a_c2df_11e8_88d4_c85b7694a487row3_col0\" class=\"data row3 col0\" >add inbound mail handling\n",
       "\n",
       "add normalized event, signal, and webhooks for inbound mail.\r\n",
       "\r\n",
       "closes #>NUMBER<\r\n",
       "closes #>NUMBER<</td> \n",
       "        <td id=\"T_58fa3c7a_c2df_11e8_88d4_c85b7694a487row3_col1\" class=\"data row3 col1\" >0.811849</td> \n",
       "        <td id=\"T_58fa3c7a_c2df_11e8_88d4_c85b7694a487row3_col2\" class=\"data row3 col2\" >b57eb94f</td> \n",
       "    </tr>    <tr> \n",
       "        <th id=\"T_58fa3c7a_c2df_11e8_88d4_c85b7694a487level1_row4\" class=\"row_heading level1 row4\" >3</th> \n",
       "        <td id=\"T_58fa3c7a_c2df_11e8_88d4_c85b7694a487row4_col0\" class=\"data row4 col0\" >cleanup: avoid python >VERSION< deprecation warning on 'async' keyword\n",
       "\n",
       "fixes #>NUMBER<</td> \n",
       "        <td id=\"T_58fa3c7a_c2df_11e8_88d4_c85b7694a487row4_col1\" class=\"data row4 col1\" >0.742112</td> \n",
       "        <td id=\"T_58fa3c7a_c2df_11e8_88d4_c85b7694a487row4_col2\" class=\"data row4 col2\" >ec0ee336</td> \n",
       "    </tr>    <tr> \n",
       "        <th id=\"T_58fa3c7a_c2df_11e8_88d4_c85b7694a487level0_row5\" class=\"row_heading level0 row5\" rowspan=5>1.0</th> \n",
       "        <th id=\"T_58fa3c7a_c2df_11e8_88d4_c85b7694a487level1_row5\" class=\"row_heading level1 row5\" >15</th> \n",
       "        <td id=\"T_58fa3c7a_c2df_11e8_88d4_c85b7694a487row5_col0\" class=\"data row5 col0\" >[breaking] webhooks: disallow deprecated webhook_authorization setting\n",
       "\n",
       "drop support for the webhook_authorization setting deprecated in >VERSION<.\n",
       "only the webhook_secret replacement is allowed now.\n",
       "\n",
       "most django management commands will now issue a system check error\n",
       "if the old name is still used in settings.py</td> \n",
       "        <td id=\"T_58fa3c7a_c2df_11e8_88d4_c85b7694a487row5_col1\" class=\"data row5 col1\" >0.931966</td> \n",
       "        <td id=\"T_58fa3c7a_c2df_11e8_88d4_c85b7694a487row5_col2\" class=\"data row5 col2\" >9478bf59</td> \n",
       "    </tr>    <tr> \n",
       "        <th id=\"T_58fa3c7a_c2df_11e8_88d4_c85b7694a487level1_row6\" class=\"row_heading level1 row6\" >14</th> \n",
       "        <td id=\"T_58fa3c7a_c2df_11e8_88d4_c85b7694a487row6_col0\" class=\"data row6 col0\" >sendinblue: update docs, readme, setup, travis config\n",
       "\n",
       "* flesh out sendinblue docs, add a readme mention\n",
       "* stop trying to list all the supported esps in the project short\n",
       "  description and similar headlines -- it was becoming unwieldy.\n",
       "* support `pip install django-anymail[sendinblue]`\n",
       "  and use it in travis tests (for consistency; sendinblue\n",
       "  doesn't require any extra packages)</td> \n",
       "        <td id=\"T_58fa3c7a_c2df_11e8_88d4_c85b7694a487row6_col1\" class=\"data row6 col1\" >0.919083</td> \n",
       "        <td id=\"T_58fa3c7a_c2df_11e8_88d4_c85b7694a487row6_col2\" class=\"data row6 col2\" >1e7aacdc</td> \n",
       "    </tr>    <tr> \n",
       "        <th id=\"T_58fa3c7a_c2df_11e8_88d4_c85b7694a487level1_row7\" class=\"row_heading level1 row7\" >16</th> \n",
       "        <td id=\"T_58fa3c7a_c2df_11e8_88d4_c85b7694a487row7_col0\" class=\"data row7 col0\" >fix: flag extra_headers[\"to\"] as unsupported\n",
       "\n",
       "django's smtp emailbackend allows spoofing the to header by setting\n",
       "`message.extra_headers[\"to\"]`` different from `message.to`.\n",
       "\n",
       "no current anymail esp supports this. treat extra_headers[\"to\"] as\n",
       "an unsupported esp feature, to flag attempts to use it.\n",
       "\n",
       "also document anymail's special header handling that replicates\n",
       "django's smtp emailbackend behavior.</td> \n",
       "        <td id=\"T_58fa3c7a_c2df_11e8_88d4_c85b7694a487row7_col1\" class=\"data row7 col1\" >0.916244</td> \n",
       "        <td id=\"T_58fa3c7a_c2df_11e8_88d4_c85b7694a487row7_col2\" class=\"data row7 col2\" >06c7077e</td> \n",
       "    </tr>    <tr> \n",
       "        <th id=\"T_58fa3c7a_c2df_11e8_88d4_c85b7694a487level1_row8\" class=\"row_heading level1 row8\" >12</th> \n",
       "        <td id=\"T_58fa3c7a_c2df_11e8_88d4_c85b7694a487row8_col0\" class=\"data row8 col0\" >sendinblue: cleanup integration tests, more docs\n",
       "\n",
       "* don't send *quite* so many emails during live integration tests.\n",
       "  (our test account is throttled to >NUMBER</hour.)\n",
       "* relax message_id check in integration tests. sendinblue appears\n",
       "  to use both @smtp-relay.mail.fr and @smtp-relay.sendinblue.com\n",
       "  message-ids.\n",
       "* note requirement for html message body in docs.</td> \n",
       "        <td id=\"T_58fa3c7a_c2df_11e8_88d4_c85b7694a487row8_col1\" class=\"data row8 col1\" >0.90612</td> \n",
       "        <td id=\"T_58fa3c7a_c2df_11e8_88d4_c85b7694a487row8_col2\" class=\"data row8 col2\" >4b28760a</td> \n",
       "    </tr>    <tr> \n",
       "        <th id=\"T_58fa3c7a_c2df_11e8_88d4_c85b7694a487level1_row9\" class=\"row_heading level1 row9\" >17</th> \n",
       "        <td id=\"T_58fa3c7a_c2df_11e8_88d4_c85b7694a487row9_col0\" class=\"data row9 col0\" >add sendinblue backend\n",
       "\n",
       "add support for sending transactional email through sendinblue. (thanks to @rignonnoel.)\r\n",
       "\r\n",
       "partially implements #>NUMBER<. (tracking webhooks will be a separate pr. sendinblue doesn't support inbound handling.)</td> \n",
       "        <td id=\"T_58fa3c7a_c2df_11e8_88d4_c85b7694a487row9_col1\" class=\"data row9 col1\" >0.897671</td> \n",
       "        <td id=\"T_58fa3c7a_c2df_11e8_88d4_c85b7694a487row9_col2\" class=\"data row9 col2\" >dc2b4b4e</td> \n",
       "    </tr>    <tr> \n",
       "        <th id=\"T_58fa3c7a_c2df_11e8_88d4_c85b7694a487level0_row10\" class=\"row_heading level0 row10\" rowspan=3>2.0</th> \n",
       "        <th id=\"T_58fa3c7a_c2df_11e8_88d4_c85b7694a487level1_row10\" class=\"row_heading level1 row10\" >21</th> \n",
       "        <td id=\"T_58fa3c7a_c2df_11e8_88d4_c85b7694a487row10_col0\" class=\"data row10 col0\" >add timeout to all requests calls\n",
       "\n",
       "use a default timeout of >NUMBER< seconds for all requests, and add a\n",
       "requests_timeout anymail setting to override.\n",
       "\n",
       "(i'm making a judgement call that this is not a breaking change in the\n",
       "real world, and not bumping the major version. theoretically, it could\n",
       "affect you if your network somehow takes >>NUMBER<s to connect to your esp,\n",
       "but eventually succeeds. if so, set requests_timeout to none to restore\n",
       "the earlier behavior.)\n",
       "\n",
       "fixes #>NUMBER<.</td> \n",
       "        <td id=\"T_58fa3c7a_c2df_11e8_88d4_c85b7694a487row10_col1\" class=\"data row10 col1\" >0.938407</td> \n",
       "        <td id=\"T_58fa3c7a_c2df_11e8_88d4_c85b7694a487row10_col2\" class=\"data row10 col2\" >09def308</td> \n",
       "    </tr>    <tr> \n",
       "        <th id=\"T_58fa3c7a_c2df_11e8_88d4_c85b7694a487level1_row11\" class=\"row_heading level1 row11\" >20</th> \n",
       "        <td id=\"T_58fa3c7a_c2df_11e8_88d4_c85b7694a487row11_col0\" class=\"data row11 col0\" >un-hardcode message_id in test backend; add console backend\n",
       "\n",
       "* un-hardcode status message_id in test backend\r\n",
       "\r\n",
       "for the test emailbackend, get message id's based on array position in\r\n",
       "`mail.outbox`, so that tests can predict the message id.\r\n",
       "\r\n",
       "\r\n",
       "* add a console backend for use in development\r\n",
       "\r\n",
       "adds an emailbackend derived from both anymail's test backend and\r\n",
       "django's console backend, to provide anymail statuses and signal\r\n",
       "handling while printing messages to the console.  for use during\r\n",
       "development on localhost.\r\n",
       "\r\n",
       "closes #>NUMBER<</td> \n",
       "        <td id=\"T_58fa3c7a_c2df_11e8_88d4_c85b7694a487row11_col1\" class=\"data row11 col1\" >0.925556</td> \n",
       "        <td id=\"T_58fa3c7a_c2df_11e8_88d4_c85b7694a487row11_col2\" class=\"data row11 col2\" >771d4040</td> \n",
       "    </tr>    <tr> \n",
       "        <th id=\"T_58fa3c7a_c2df_11e8_88d4_c85b7694a487level1_row12\" class=\"row_heading level1 row12\" >19</th> \n",
       "        <td id=\"T_58fa3c7a_c2df_11e8_88d4_c85b7694a487row12_col0\" class=\"data row12 col0\" >setup: add universal wheel; update metadata; clean up setup.py\n",
       "\n",
       "* follow current setup.py recommendations from the pypa sample project\n",
       "  (utf->NUMBER< encoding on file reads, ensure files are read relative to\n",
       "  own location)\n",
       "* add/update some missing classifiers and other metadata\n",
       "* read _version.py constants into an isolated dict (rather than\n",
       "  the global setup.py context)\n",
       "* add setup.cfg specifying universal bdist_wheel</td> \n",
       "        <td id=\"T_58fa3c7a_c2df_11e8_88d4_c85b7694a487row12_col1\" class=\"data row12 col1\" >0.919207</td> \n",
       "        <td id=\"T_58fa3c7a_c2df_11e8_88d4_c85b7694a487row12_col2\" class=\"data row12 col2\" >deea8c5d</td> \n",
       "    </tr>    <tr> \n",
       "        <th id=\"T_58fa3c7a_c2df_11e8_88d4_c85b7694a487level0_row13\" class=\"row_heading level0 row13\" rowspan=2>3.0</th> \n",
       "        <th id=\"T_58fa3c7a_c2df_11e8_88d4_c85b7694a487level1_row13\" class=\"row_heading level1 row13\" >23</th> \n",
       "        <td id=\"T_58fa3c7a_c2df_11e8_88d4_c85b7694a487row13_col0\" class=\"data row13 col0\" >security: prevent timing attack on webhook_authorization secret\n",
       "\n",
       "anymail's webhook validation was vulnerable to a timing attack.\n",
       "an attacker could have used this to recover your webhook_authorization\n",
       "shared secret, potentially allowing them to post fabricated or malicious\n",
       "email tracking events to your app.\n",
       "\n",
       "there have not been any reports of attempted exploit in the wild. (the\n",
       "vulnerability was discovered through code review.) attempts would be\n",
       "visible in http logs as a very large number of >NUMBER< responses on\n",
       "anymail's webhook urls, or in python error monitoring as a very large\n",
       "number of anymailwebhookvalidationfailure exceptions.\n",
       "\n",
       "if you are using anymail's webhooks, you should upgrade to this release.\n",
       "in addition, you may want to rotate to a new webhook_authorization\n",
       "secret ([docs](http://anymail.readthedocs.io/en/stable/tips/securing_webhooks/#use-a-shared-authorization-secret)),\n",
       "particularly if your logs indicate attempted exploit.</td> \n",
       "        <td id=\"T_58fa3c7a_c2df_11e8_88d4_c85b7694a487row13_col1\" class=\"data row13 col1\" >0.940105</td> \n",
       "        <td id=\"T_58fa3c7a_c2df_11e8_88d4_c85b7694a487row13_col2\" class=\"data row13 col2\" >db586ede</td> \n",
       "    </tr>    <tr> \n",
       "        <th id=\"T_58fa3c7a_c2df_11e8_88d4_c85b7694a487level1_row14\" class=\"row_heading level1 row14\" >22</th> \n",
       "        <td id=\"T_58fa3c7a_c2df_11e8_88d4_c85b7694a487row14_col0\" class=\"data row14 col0\" >feature: add envelope_sender\n",
       "\n",
       "new emailmessage attribute `envelope_sender` controls esp's sender,\n",
       "sending domain, or return path where supported:\n",
       "\n",
       "* mailgun: overrides sender_domain on individual message\n",
       "  (domain portion only)\n",
       "* mailjet: becomes `sender` api param\n",
       "* mandrill: becomes `return_path_domain` api param\n",
       "  (domain portion only)\n",
       "* sparkpost: becomes `return_path` api param\n",
       "* other esps: not believed to be supported\n",
       "\n",
       "also support undocumented django smtp backend behavior, where envelope\n",
       "sender is given by `message.from_email` when\n",
       "`message.extra_headers[\"from\"]` is set. fixes #>NUMBER<.</td> \n",
       "        <td id=\"T_58fa3c7a_c2df_11e8_88d4_c85b7694a487row14_col1\" class=\"data row14 col1\" >0.88396</td> \n",
       "        <td id=\"T_58fa3c7a_c2df_11e8_88d4_c85b7694a487row14_col2\" class=\"data row14 col2\" >07fbeac6</td> \n",
       "    </tr>    <tr> \n",
       "        <th id=\"T_58fa3c7a_c2df_11e8_88d4_c85b7694a487level0_row15\" class=\"row_heading level0 row15\" rowspan=2>4.0</th> \n",
       "        <th id=\"T_58fa3c7a_c2df_11e8_88d4_c85b7694a487level1_row15\" class=\"row_heading level1 row15\" >25</th> \n",
       "        <td id=\"T_58fa3c7a_c2df_11e8_88d4_c85b7694a487row15_col0\" class=\"data row15 col0\" >security: rename webhook_authorization --> webhook_secret\n",
       "\n",
       "this fixes a low severity security issue affecting anymail >VERSION<-->VERSION<.\n",
       "\n",
       "django error reporting includes the value of your anymail\n",
       "webhook_authorization setting. in a properly-configured deployment,\n",
       "this should not be cause for concern. but if you have somehow exposed\n",
       "your django error reports (e.g., by mis-deploying with debug=true or by\n",
       "sending error reports through insecure channels), anyone who gains\n",
       "access to those reports could discover your webhook shared secret. an\n",
       "attacker could use this to post fabricated or malicious anymail\n",
       "tracking/inbound events to your app, if you are using those anymail\n",
       "features.\n",
       "\n",
       "the fix renames anymail's webhook shared secret setting so that\n",
       "django's error reporting mechanism will [sanitize][>NUMBER<] it.\n",
       "\n",
       "if you are using anymail's event tracking and/or inbound webhooks, you\n",
       "should upgrade to this release and change \"webhook_authorization\" to\n",
       "\"webhook_secret\" in the anymail section of your settings.py. you may\n",
       "also want to [rotate the shared secret][>NUMBER<] value, particularly if you\n",
       "have ever exposed your django error reports to untrusted individuals.\n",
       "\n",
       "if you are only using anymail's emailbackends for sending email and\n",
       "have not set up anymail's webhooks, this issue does not affect you.\n",
       "\n",
       "the old webhook_authorization setting is still allowed in this release,\n",
       "but will issue a system-check warning when running most django\n",
       "management commands. it will be removed completely in a near-future\n",
       "release, as a breaking change.\n",
       "\n",
       "thanks to charlie detar (@yourcelf) for responsibly reporting this\n",
       "security issue through private channels.\n",
       "\n",
       "[>NUMBER<]: https://docs.djangoproject.com/en/stable/ref/settings/#debug\n",
       "[>NUMBER<]: https://anymail.readthedocs.io/en/>VERSION</tips/securing_webhooks/#use-a-shared-authorization-secret</td> \n",
       "        <td id=\"T_58fa3c7a_c2df_11e8_88d4_c85b7694a487row15_col1\" class=\"data row15 col1\" >0.951979</td> \n",
       "        <td id=\"T_58fa3c7a_c2df_11e8_88d4_c85b7694a487row15_col2\" class=\"data row15 col2\" >1a6086f2</td> \n",
       "    </tr>    <tr> \n",
       "        <th id=\"T_58fa3c7a_c2df_11e8_88d4_c85b7694a487level1_row16\" class=\"row_heading level1 row16\" >24</th> \n",
       "        <td id=\"T_58fa3c7a_c2df_11e8_88d4_c85b7694a487row16_col0\" class=\"data row16 col0\" >cleanup: centralize reply-to header handling; case-insensitive headers\n",
       "\n",
       "django allows setting the reply address with either message.reply_to\n",
       "or message.extra_headers[\"reply-to\"]. if both are supplied, the extra\n",
       "headers version takes precedence. (see emailmessage.message().)\n",
       "\n",
       "several anymail backends had duplicate logic to handle conflicting\n",
       "properties. move that logic into the base payload.\n",
       "\n",
       "(also prepares for common handling of extra_headers['from'], later.)\n",
       "\n",
       "related changes:\n",
       "\n",
       "* use caseinsensitivedict for processing extra_headers.\n",
       "  this is potentially a breaking change, but any code that was trying\n",
       "  to send multiple headers differing only in case was likely already\n",
       "  broken. (email header field names are case-insensitive, per rfc->NUMBER<.)\n",
       "\n",
       "* handle caseinsensitivedict in requestspayload.serialize_json().\n",
       "  (several backends had duplicate code for handling this, too.)\n",
       "\n",
       "* fixes sparkpost backend, which had been incorrectly treating\n",
       "  message.reply_to and message.extra_headers['reply-to'] differently.</td> \n",
       "        <td id=\"T_58fa3c7a_c2df_11e8_88d4_c85b7694a487row16_col1\" class=\"data row16 col1\" >0.926164</td> \n",
       "        <td id=\"T_58fa3c7a_c2df_11e8_88d4_c85b7694a487row16_col2\" class=\"data row16 col2\" >bd9d92f5</td> \n",
       "    </tr></tbody> \n",
       "</table> "
      ],
      "text/plain": [
       "<pandas.io.formats.style.Styler at 0x7fe0842193c8>"
      ]
     },
     "execution_count": 73,
     "metadata": {},
     "output_type": "execute_result"
    }
   ],
   "source": [
    "df_candidates.reset_index().set_index(['bin', 'index'], drop=True).style"
   ]
  },
  {
   "cell_type": "code",
   "execution_count": 74,
   "metadata": {},
   "outputs": [],
   "source": [
    "#### Same for CVE commits"
   ]
  },
  {
   "cell_type": "code",
   "execution_count": 75,
   "metadata": {
    "code_folding": [
     2
    ],
    "extensions": {
     "jupyter_dashboards": {
      "version": 1,
      "views": {
       "grid_default": {
        "hidden": true
       },
       "report_default": {}
      }
     }
    }
   },
   "outputs": [],
   "source": [
    "sim_scores = []\n",
    "\n",
    "for basket in cve_commit_bins:\n",
    "    basket_scores = [\n",
    "        commit.similarity(description)\n",
    "        for commit in basket\n",
    "    ]\n",
    "    sim_scores.append(basket_scores)\n",
    "\n",
    "sim_scores = np.array(sim_scores)"
   ]
  },
  {
   "cell_type": "code",
   "execution_count": 76,
   "metadata": {
    "extensions": {
     "jupyter_dashboards": {
      "version": 1,
      "views": {
       "grid_default": {
        "hidden": true
       },
       "report_default": {}
      }
     }
    }
   },
   "outputs": [
    {
     "data": {
      "text/plain": [
       "array([], shape=(5, 0), dtype=float64)"
      ]
     },
     "execution_count": 76,
     "metadata": {},
     "output_type": "execute_result"
    }
   ],
   "source": [
    "candidate_scores = np.array([\n",
    "    np.sort(sim_scores[i], axis=0)[::-1][:5]\n",
    "    for i in range(k_splits)\n",
    "])\n",
    "candidate_scores"
   ]
  },
  {
   "cell_type": "code",
   "execution_count": 77,
   "metadata": {
    "extensions": {
     "jupyter_dashboards": {
      "version": 1,
      "views": {
       "grid_default": {
        "hidden": true
       },
       "report_default": {}
      }
     }
    }
   },
   "outputs": [
    {
     "data": {
      "text/plain": [
       "array([], shape=(5, 0), dtype=int64)"
      ]
     },
     "execution_count": 77,
     "metadata": {},
     "output_type": "execute_result"
    }
   ],
   "source": [
    "candidates = np.array([\n",
    "    np.argsort(sim_scores[i], axis=0)[::-1][:5]\n",
    "    for i in range(k_splits)\n",
    "])\n",
    "\n",
    "candidates"
   ]
  },
  {
   "cell_type": "code",
   "execution_count": 78,
   "metadata": {
    "code_folding": [
     2
    ],
    "extensions": {
     "jupyter_dashboards": {
      "version": 1,
      "views": {
       "grid_default": {
        "hidden": true
       },
       "report_default": {
        "hidden": true
       }
      }
     }
    },
    "scrolled": true
   },
   "outputs": [],
   "source": [
    "df_candidates = pd.DataFrame(columns=['bin', 'message', 'sha', 'score'])\n",
    "\n",
    "for bin_number, (arg_bucket, score_bucket) in enumerate(zip(candidates, candidate_scores)):\n",
    "    for arg, score in zip(arg_bucket, score_bucket):\n",
    "\n",
    "        flat_idx = sum(len(bins) for bins in commit_bins[:bin_number]) + arg\n",
    "        \n",
    "        df_candidates = df_candidates.append(pd.Series({\n",
    "            'bin': bin_number,\n",
    "            'message': str(cve_commit_bins[bin_number][arg]),\n",
    "            'sha': commit_lookup_table[(bin_number, arg)].sha[:8],\n",
    "            'score': score,\n",
    "        }, name=flat_idx))\n",
    "        "
   ]
  },
  {
   "cell_type": "code",
   "execution_count": 79,
   "metadata": {
    "extensions": {
     "jupyter_dashboards": {
      "version": 1,
      "views": {
       "grid_default": {
        "col": 0,
        "height": 22,
        "hidden": false,
        "row": 84,
        "width": null
       },
       "report_default": {}
      }
     }
    }
   },
   "outputs": [
    {
     "data": {
      "text/html": [
       "<style  type=\"text/css\" >\n",
       "</style>  \n",
       "<table id=\"T_5927530e_c2df_11e8_88d4_c85b7694a487\" > \n",
       "<thead>    <tr> \n",
       "        <th class=\"blank\" ></th> \n",
       "        <th class=\"blank level0\" ></th> \n",
       "        <th class=\"col_heading level0 col0\" >message</th> \n",
       "        <th class=\"col_heading level0 col1\" >sha</th> \n",
       "        <th class=\"col_heading level0 col2\" >score</th> \n",
       "    </tr>    <tr> \n",
       "        <th class=\"index_name level0\" >bin</th> \n",
       "        <th class=\"index_name level1\" >index</th> \n",
       "        <th class=\"blank\" ></th> \n",
       "        <th class=\"blank\" ></th> \n",
       "        <th class=\"blank\" ></th> \n",
       "    </tr></thead> \n",
       "<tbody></tbody> \n",
       "</table> "
      ],
      "text/plain": [
       "<pandas.io.formats.style.Styler at 0x7fe0871b7dd8>"
      ]
     },
     "execution_count": 79,
     "metadata": {},
     "output_type": "execute_result"
    }
   ],
   "source": [
    "df_candidates.reset_index().set_index(['bin', 'index'], drop=True).style"
   ]
  },
  {
   "cell_type": "markdown",
   "metadata": {},
   "source": [
    "---"
   ]
  },
  {
   "cell_type": "markdown",
   "metadata": {
    "slideshow": {
     "slide_type": "slide"
    }
   },
   "source": [
    "### Gensim"
   ]
  },
  {
   "cell_type": "markdown",
   "metadata": {
    "slideshow": {
     "slide_type": "slide"
    }
   },
   "source": [
    "#### Topic Classification Approach"
   ]
  },
  {
   "cell_type": "code",
   "execution_count": 80,
   "metadata": {},
   "outputs": [],
   "source": [
    "# model = Doc2Vec.load('data/models/doc2vec_cvedetails_20k/doc2vec.model')\n",
    "model = Doc2Vec.load('data/models/gensim/doc2vec_cvedetails_20k/doc2vec.model')"
   ]
  },
  {
   "cell_type": "code",
   "execution_count": 81,
   "metadata": {
    "code_folding": [
     2
    ],
    "extensions": {
     "jupyter_dashboards": {
      "version": 1,
      "views": {
       "grid_default": {
        "hidden": true
       },
       "report_default": {}
      }
     }
    }
   },
   "outputs": [
    {
     "name": "stderr",
     "output_type": "stream",
     "text": [
      "/home/macermak/.local/lib/python3.6/site-packages/gensim/matutils.py:737: FutureWarning: Conversion of the second argument of issubdtype from `int` to `np.signedinteger` is deprecated. In future, it will be treated as `np.int64 == np.dtype(int).type`.\n",
      "  if np.issubdtype(vec.dtype, np.int):\n"
     ]
    }
   ],
   "source": [
    "sim_scores = []\n",
    "\n",
    "for basket in commit_bins:\n",
    "    basket_scores = []\n",
    "    \n",
    "    for commit in basket:\n",
    "        processed_commit = preprocess_string(str(commit))\n",
    "        \n",
    "        _, score = model.docvecs.most_similar(\n",
    "            [model.infer_vector(processed_commit, epochs=50, alpha=0.125)],\n",
    "            topn=1\n",
    "        )[0]\n",
    "        basket_scores.append(score)\n",
    "        \n",
    "    sim_scores.append(basket_scores)\n",
    "\n",
    "sim_scores = np.array(sim_scores)"
   ]
  },
  {
   "cell_type": "code",
   "execution_count": 82,
   "metadata": {
    "extensions": {
     "jupyter_dashboards": {
      "version": 1,
      "views": {
       "grid_default": {
        "hidden": true
       },
       "report_default": {}
      }
     }
    }
   },
   "outputs": [
    {
     "data": {
      "text/plain": [
       "array([array([0.22580123, 0.22130626, 0.21456458, 0.21292654, 0.21211305]),\n",
       "       array([0.25721061, 0.23509994, 0.2226707 , 0.21853039, 0.16993049]),\n",
       "       array([0.19038542, 0.12558784, 0.05869767]),\n",
       "       array([0.27520484, 0.17115498]), array([0.19489262, 0.14545986])],\n",
       "      dtype=object)"
      ]
     },
     "execution_count": 82,
     "metadata": {},
     "output_type": "execute_result"
    }
   ],
   "source": [
    "candidate_scores = np.array([\n",
    "    np.sort(sim_scores[i], axis=0)[::-1][:5]\n",
    "    for i in range(k_splits)\n",
    "])\n",
    "candidate_scores"
   ]
  },
  {
   "cell_type": "code",
   "execution_count": 83,
   "metadata": {
    "extensions": {
     "jupyter_dashboards": {
      "version": 1,
      "views": {
       "grid_default": {
        "hidden": true
       },
       "report_default": {}
      }
     }
    }
   },
   "outputs": [
    {
     "data": {
      "text/plain": [
       "array([array([11,  4,  5,  6,  1]), array([4, 3, 1, 6, 2]),\n",
       "       array([1, 2, 0]), array([1, 0]), array([1, 0])], dtype=object)"
      ]
     },
     "execution_count": 83,
     "metadata": {},
     "output_type": "execute_result"
    }
   ],
   "source": [
    "candidates = np.array([\n",
    "    np.argsort(sim_scores[i], axis=0)[::-1][:5]\n",
    "    for i in range(k_splits)\n",
    "])\n",
    "\n",
    "candidates"
   ]
  },
  {
   "cell_type": "code",
   "execution_count": 84,
   "metadata": {
    "code_folding": [
     2
    ],
    "extensions": {
     "jupyter_dashboards": {
      "version": 1,
      "views": {
       "grid_default": {
        "hidden": true
       },
       "report_default": {
        "hidden": true
       }
      }
     }
    },
    "scrolled": true
   },
   "outputs": [],
   "source": [
    "df_candidates = pd.DataFrame(columns=['bin', 'message', 'sha', 'score'])\n",
    "\n",
    "for bin_number, (arg_bucket, score_bucket) in enumerate(zip(candidates, candidate_scores)):\n",
    "    for arg, score in zip(arg_bucket, score_bucket):\n",
    "\n",
    "        flat_idx = sum(len(bins) for bins in commit_bins[:bin_number]) + arg\n",
    "        \n",
    "        df_candidates = df_candidates.append(pd.Series({\n",
    "            'bin': bin_number,\n",
    "            'message': str(commit_bins[bin_number][arg]),\n",
    "            'sha': commit_lookup_table[(bin_number, arg)].sha[:8],\n",
    "            'score': score,\n",
    "        }, name=flat_idx))\n",
    "        "
   ]
  },
  {
   "cell_type": "markdown",
   "metadata": {
    "slideshow": {
     "slide_type": "slide"
    }
   },
   "source": [
    "##### Results"
   ]
  },
  {
   "cell_type": "code",
   "execution_count": 85,
   "metadata": {
    "extensions": {
     "jupyter_dashboards": {
      "version": 1,
      "views": {
       "grid_default": {
        "col": 0,
        "height": 22,
        "hidden": false,
        "row": 84,
        "width": null
       },
       "report_default": {}
      }
     }
    },
    "slideshow": {
     "slide_type": "subslide"
    }
   },
   "outputs": [
    {
     "data": {
      "text/html": [
       "<style  type=\"text/css\" >\n",
       "</style>  \n",
       "<table id=\"T_5a0a512c_c2df_11e8_88d4_c85b7694a487\" > \n",
       "<thead>    <tr> \n",
       "        <th class=\"blank\" ></th> \n",
       "        <th class=\"blank level0\" ></th> \n",
       "        <th class=\"col_heading level0 col0\" >message</th> \n",
       "        <th class=\"col_heading level0 col1\" >sha</th> \n",
       "        <th class=\"col_heading level0 col2\" >score</th> \n",
       "    </tr>    <tr> \n",
       "        <th class=\"index_name level0\" >bin</th> \n",
       "        <th class=\"index_name level1\" >index</th> \n",
       "        <th class=\"blank\" ></th> \n",
       "        <th class=\"blank\" ></th> \n",
       "        <th class=\"blank\" ></th> \n",
       "    </tr></thead> \n",
       "<tbody>    <tr> \n",
       "        <th id=\"T_5a0a512c_c2df_11e8_88d4_c85b7694a487level0_row0\" class=\"row_heading level0 row0\" rowspan=5>0</th> \n",
       "        <th id=\"T_5a0a512c_c2df_11e8_88d4_c85b7694a487level1_row0\" class=\"row_heading level1 row0\" >11</th> \n",
       "        <td id=\"T_5a0a512c_c2df_11e8_88d4_c85b7694a487row0_col0\" class=\"data row0 col0\" >release >VERSION<</td> \n",
       "        <td id=\"T_5a0a512c_c2df_11e8_88d4_c85b7694a487row0_col1\" class=\"data row0 col1\" >7029298b</td> \n",
       "        <td id=\"T_5a0a512c_c2df_11e8_88d4_c85b7694a487row0_col2\" class=\"data row0 col2\" >0.225801</td> \n",
       "    </tr>    <tr> \n",
       "        <th id=\"T_5a0a512c_c2df_11e8_88d4_c85b7694a487level1_row1\" class=\"row_heading level1 row1\" >4</th> \n",
       "        <td id=\"T_5a0a512c_c2df_11e8_88d4_c85b7694a487row1_col0\" class=\"data row1 col0\" >release >VERSION<</td> \n",
       "        <td id=\"T_5a0a512c_c2df_11e8_88d4_c85b7694a487row1_col1\" class=\"data row1 col1\" >fffd762f</td> \n",
       "        <td id=\"T_5a0a512c_c2df_11e8_88d4_c85b7694a487row1_col2\" class=\"data row1 col2\" >0.221306</td> \n",
       "    </tr>    <tr> \n",
       "        <th id=\"T_5a0a512c_c2df_11e8_88d4_c85b7694a487level1_row2\" class=\"row_heading level1 row2\" >5</th> \n",
       "        <td id=\"T_5a0a512c_c2df_11e8_88d4_c85b7694a487row2_col0\" class=\"data row2 col0\" >add django appconfig</td> \n",
       "        <td id=\"T_5a0a512c_c2df_11e8_88d4_c85b7694a487row2_col1\" class=\"data row2 col1\" >4d34a181</td> \n",
       "        <td id=\"T_5a0a512c_c2df_11e8_88d4_c85b7694a487row2_col2\" class=\"data row2 col2\" >0.214565</td> \n",
       "    </tr>    <tr> \n",
       "        <th id=\"T_5a0a512c_c2df_11e8_88d4_c85b7694a487level1_row3\" class=\"row_heading level1 row3\" >6</th> \n",
       "        <td id=\"T_5a0a512c_c2df_11e8_88d4_c85b7694a487row3_col0\" class=\"data row3 col0\" >release >VERSION<</td> \n",
       "        <td id=\"T_5a0a512c_c2df_11e8_88d4_c85b7694a487row3_col1\" class=\"data row3 col1\" >3468b12c</td> \n",
       "        <td id=\"T_5a0a512c_c2df_11e8_88d4_c85b7694a487row3_col2\" class=\"data row3 col2\" >0.212927</td> \n",
       "    </tr>    <tr> \n",
       "        <th id=\"T_5a0a512c_c2df_11e8_88d4_c85b7694a487level1_row4\" class=\"row_heading level1 row4\" >1</th> \n",
       "        <td id=\"T_5a0a512c_c2df_11e8_88d4_c85b7694a487row4_col0\" class=\"data row4 col0\" >sendinblue: implement tracking webhooks\n",
       "\n",
       "completes #>NUMBER<</td> \n",
       "        <td id=\"T_5a0a512c_c2df_11e8_88d4_c85b7694a487row4_col1\" class=\"data row4 col1\" >d93a6632</td> \n",
       "        <td id=\"T_5a0a512c_c2df_11e8_88d4_c85b7694a487row4_col2\" class=\"data row4 col2\" >0.212113</td> \n",
       "    </tr>    <tr> \n",
       "        <th id=\"T_5a0a512c_c2df_11e8_88d4_c85b7694a487level0_row5\" class=\"row_heading level0 row5\" rowspan=5>1</th> \n",
       "        <th id=\"T_5a0a512c_c2df_11e8_88d4_c85b7694a487level1_row5\" class=\"row_heading level1 row5\" >16</th> \n",
       "        <td id=\"T_5a0a512c_c2df_11e8_88d4_c85b7694a487row5_col0\" class=\"data row5 col0\" >fix: flag extra_headers[\"to\"] as unsupported\n",
       "\n",
       "django's smtp emailbackend allows spoofing the to header by setting\n",
       "`message.extra_headers[\"to\"]`` different from `message.to`.\n",
       "\n",
       "no current anymail esp supports this. treat extra_headers[\"to\"] as\n",
       "an unsupported esp feature, to flag attempts to use it.\n",
       "\n",
       "also document anymail's special header handling that replicates\n",
       "django's smtp emailbackend behavior.</td> \n",
       "        <td id=\"T_5a0a512c_c2df_11e8_88d4_c85b7694a487row5_col1\" class=\"data row5 col1\" >06c7077e</td> \n",
       "        <td id=\"T_5a0a512c_c2df_11e8_88d4_c85b7694a487row5_col2\" class=\"data row5 col2\" >0.257211</td> \n",
       "    </tr>    <tr> \n",
       "        <th id=\"T_5a0a512c_c2df_11e8_88d4_c85b7694a487level1_row6\" class=\"row_heading level1 row6\" >15</th> \n",
       "        <td id=\"T_5a0a512c_c2df_11e8_88d4_c85b7694a487row6_col0\" class=\"data row6 col0\" >[breaking] webhooks: disallow deprecated webhook_authorization setting\n",
       "\n",
       "drop support for the webhook_authorization setting deprecated in >VERSION<.\n",
       "only the webhook_secret replacement is allowed now.\n",
       "\n",
       "most django management commands will now issue a system check error\n",
       "if the old name is still used in settings.py</td> \n",
       "        <td id=\"T_5a0a512c_c2df_11e8_88d4_c85b7694a487row6_col1\" class=\"data row6 col1\" >9478bf59</td> \n",
       "        <td id=\"T_5a0a512c_c2df_11e8_88d4_c85b7694a487row6_col2\" class=\"data row6 col2\" >0.2351</td> \n",
       "    </tr>    <tr> \n",
       "        <th id=\"T_5a0a512c_c2df_11e8_88d4_c85b7694a487level1_row7\" class=\"row_heading level1 row7\" >13</th> \n",
       "        <td id=\"T_5a0a512c_c2df_11e8_88d4_c85b7694a487row7_col0\" class=\"data row7 col0\" >docs: clean up \"securing webhooks\"\n",
       "\n",
       "* \"ssl\" --> \"https\"\n",
       "* \"authorization\" --> \"authentication\"\n",
       "  (e.g., \"http basic authentication\" -- except when referring\n",
       "  specifically to the http \"authorization\" header used to send it)\n",
       "* add a sidebar with more details on why it matters</td> \n",
       "        <td id=\"T_5a0a512c_c2df_11e8_88d4_c85b7694a487row7_col1\" class=\"data row7 col1\" >ae8484fd</td> \n",
       "        <td id=\"T_5a0a512c_c2df_11e8_88d4_c85b7694a487row7_col2\" class=\"data row7 col2\" >0.222671</td> \n",
       "    </tr>    <tr> \n",
       "        <th id=\"T_5a0a512c_c2df_11e8_88d4_c85b7694a487level1_row8\" class=\"row_heading level1 row8\" >18</th> \n",
       "        <td id=\"T_5a0a512c_c2df_11e8_88d4_c85b7694a487row8_col0\" class=\"data row8 col0\" >tests: fix mockrequestsbackend.get_api_call_arg edge cases\n",
       "\n",
       "get_api_call_arg had incorrectly returned none if a kwarg was passed\n",
       "to the mocked function with a false-y value (e.g., [] or {})\n",
       "\n",
       "get_api_call_json had only considered data param, ignoring json param\n",
       "requests added a while back</td> \n",
       "        <td id=\"T_5a0a512c_c2df_11e8_88d4_c85b7694a487row8_col1\" class=\"data row8 col1\" >5fb46952</td> \n",
       "        <td id=\"T_5a0a512c_c2df_11e8_88d4_c85b7694a487row8_col2\" class=\"data row8 col2\" >0.21853</td> \n",
       "    </tr>    <tr> \n",
       "        <th id=\"T_5a0a512c_c2df_11e8_88d4_c85b7694a487level1_row9\" class=\"row_heading level1 row9\" >14</th> \n",
       "        <td id=\"T_5a0a512c_c2df_11e8_88d4_c85b7694a487row9_col0\" class=\"data row9 col0\" >sendinblue: update docs, readme, setup, travis config\n",
       "\n",
       "* flesh out sendinblue docs, add a readme mention\n",
       "* stop trying to list all the supported esps in the project short\n",
       "  description and similar headlines -- it was becoming unwieldy.\n",
       "* support `pip install django-anymail[sendinblue]`\n",
       "  and use it in travis tests (for consistency; sendinblue\n",
       "  doesn't require any extra packages)</td> \n",
       "        <td id=\"T_5a0a512c_c2df_11e8_88d4_c85b7694a487row9_col1\" class=\"data row9 col1\" >1e7aacdc</td> \n",
       "        <td id=\"T_5a0a512c_c2df_11e8_88d4_c85b7694a487row9_col2\" class=\"data row9 col2\" >0.16993</td> \n",
       "    </tr>    <tr> \n",
       "        <th id=\"T_5a0a512c_c2df_11e8_88d4_c85b7694a487level0_row10\" class=\"row_heading level0 row10\" rowspan=3>2</th> \n",
       "        <th id=\"T_5a0a512c_c2df_11e8_88d4_c85b7694a487level1_row10\" class=\"row_heading level1 row10\" >20</th> \n",
       "        <td id=\"T_5a0a512c_c2df_11e8_88d4_c85b7694a487row10_col0\" class=\"data row10 col0\" >un-hardcode message_id in test backend; add console backend\n",
       "\n",
       "* un-hardcode status message_id in test backend\r\n",
       "\r\n",
       "for the test emailbackend, get message id's based on array position in\r\n",
       "`mail.outbox`, so that tests can predict the message id.\r\n",
       "\r\n",
       "\r\n",
       "* add a console backend for use in development\r\n",
       "\r\n",
       "adds an emailbackend derived from both anymail's test backend and\r\n",
       "django's console backend, to provide anymail statuses and signal\r\n",
       "handling while printing messages to the console.  for use during\r\n",
       "development on localhost.\r\n",
       "\r\n",
       "closes #>NUMBER<</td> \n",
       "        <td id=\"T_5a0a512c_c2df_11e8_88d4_c85b7694a487row10_col1\" class=\"data row10 col1\" >771d4040</td> \n",
       "        <td id=\"T_5a0a512c_c2df_11e8_88d4_c85b7694a487row10_col2\" class=\"data row10 col2\" >0.190385</td> \n",
       "    </tr>    <tr> \n",
       "        <th id=\"T_5a0a512c_c2df_11e8_88d4_c85b7694a487level1_row11\" class=\"row_heading level1 row11\" >21</th> \n",
       "        <td id=\"T_5a0a512c_c2df_11e8_88d4_c85b7694a487row11_col0\" class=\"data row11 col0\" >add timeout to all requests calls\n",
       "\n",
       "use a default timeout of >NUMBER< seconds for all requests, and add a\n",
       "requests_timeout anymail setting to override.\n",
       "\n",
       "(i'm making a judgement call that this is not a breaking change in the\n",
       "real world, and not bumping the major version. theoretically, it could\n",
       "affect you if your network somehow takes >>NUMBER<s to connect to your esp,\n",
       "but eventually succeeds. if so, set requests_timeout to none to restore\n",
       "the earlier behavior.)\n",
       "\n",
       "fixes #>NUMBER<.</td> \n",
       "        <td id=\"T_5a0a512c_c2df_11e8_88d4_c85b7694a487row11_col1\" class=\"data row11 col1\" >09def308</td> \n",
       "        <td id=\"T_5a0a512c_c2df_11e8_88d4_c85b7694a487row11_col2\" class=\"data row11 col2\" >0.125588</td> \n",
       "    </tr>    <tr> \n",
       "        <th id=\"T_5a0a512c_c2df_11e8_88d4_c85b7694a487level1_row12\" class=\"row_heading level1 row12\" >19</th> \n",
       "        <td id=\"T_5a0a512c_c2df_11e8_88d4_c85b7694a487row12_col0\" class=\"data row12 col0\" >setup: add universal wheel; update metadata; clean up setup.py\n",
       "\n",
       "* follow current setup.py recommendations from the pypa sample project\n",
       "  (utf->NUMBER< encoding on file reads, ensure files are read relative to\n",
       "  own location)\n",
       "* add/update some missing classifiers and other metadata\n",
       "* read _version.py constants into an isolated dict (rather than\n",
       "  the global setup.py context)\n",
       "* add setup.cfg specifying universal bdist_wheel</td> \n",
       "        <td id=\"T_5a0a512c_c2df_11e8_88d4_c85b7694a487row12_col1\" class=\"data row12 col1\" >deea8c5d</td> \n",
       "        <td id=\"T_5a0a512c_c2df_11e8_88d4_c85b7694a487row12_col2\" class=\"data row12 col2\" >0.0586977</td> \n",
       "    </tr>    <tr> \n",
       "        <th id=\"T_5a0a512c_c2df_11e8_88d4_c85b7694a487level0_row13\" class=\"row_heading level0 row13\" rowspan=2>3</th> \n",
       "        <th id=\"T_5a0a512c_c2df_11e8_88d4_c85b7694a487level1_row13\" class=\"row_heading level1 row13\" >23</th> \n",
       "        <td id=\"T_5a0a512c_c2df_11e8_88d4_c85b7694a487row13_col0\" class=\"data row13 col0\" >security: prevent timing attack on webhook_authorization secret\n",
       "\n",
       "anymail's webhook validation was vulnerable to a timing attack.\n",
       "an attacker could have used this to recover your webhook_authorization\n",
       "shared secret, potentially allowing them to post fabricated or malicious\n",
       "email tracking events to your app.\n",
       "\n",
       "there have not been any reports of attempted exploit in the wild. (the\n",
       "vulnerability was discovered through code review.) attempts would be\n",
       "visible in http logs as a very large number of >NUMBER< responses on\n",
       "anymail's webhook urls, or in python error monitoring as a very large\n",
       "number of anymailwebhookvalidationfailure exceptions.\n",
       "\n",
       "if you are using anymail's webhooks, you should upgrade to this release.\n",
       "in addition, you may want to rotate to a new webhook_authorization\n",
       "secret ([docs](http://anymail.readthedocs.io/en/stable/tips/securing_webhooks/#use-a-shared-authorization-secret)),\n",
       "particularly if your logs indicate attempted exploit.</td> \n",
       "        <td id=\"T_5a0a512c_c2df_11e8_88d4_c85b7694a487row13_col1\" class=\"data row13 col1\" >db586ede</td> \n",
       "        <td id=\"T_5a0a512c_c2df_11e8_88d4_c85b7694a487row13_col2\" class=\"data row13 col2\" >0.275205</td> \n",
       "    </tr>    <tr> \n",
       "        <th id=\"T_5a0a512c_c2df_11e8_88d4_c85b7694a487level1_row14\" class=\"row_heading level1 row14\" >22</th> \n",
       "        <td id=\"T_5a0a512c_c2df_11e8_88d4_c85b7694a487row14_col0\" class=\"data row14 col0\" >feature: add envelope_sender\n",
       "\n",
       "new emailmessage attribute `envelope_sender` controls esp's sender,\n",
       "sending domain, or return path where supported:\n",
       "\n",
       "* mailgun: overrides sender_domain on individual message\n",
       "  (domain portion only)\n",
       "* mailjet: becomes `sender` api param\n",
       "* mandrill: becomes `return_path_domain` api param\n",
       "  (domain portion only)\n",
       "* sparkpost: becomes `return_path` api param\n",
       "* other esps: not believed to be supported\n",
       "\n",
       "also support undocumented django smtp backend behavior, where envelope\n",
       "sender is given by `message.from_email` when\n",
       "`message.extra_headers[\"from\"]` is set. fixes #>NUMBER<.</td> \n",
       "        <td id=\"T_5a0a512c_c2df_11e8_88d4_c85b7694a487row14_col1\" class=\"data row14 col1\" >07fbeac6</td> \n",
       "        <td id=\"T_5a0a512c_c2df_11e8_88d4_c85b7694a487row14_col2\" class=\"data row14 col2\" >0.171155</td> \n",
       "    </tr>    <tr> \n",
       "        <th id=\"T_5a0a512c_c2df_11e8_88d4_c85b7694a487level0_row15\" class=\"row_heading level0 row15\" rowspan=2>4</th> \n",
       "        <th id=\"T_5a0a512c_c2df_11e8_88d4_c85b7694a487level1_row15\" class=\"row_heading level1 row15\" >25</th> \n",
       "        <td id=\"T_5a0a512c_c2df_11e8_88d4_c85b7694a487row15_col0\" class=\"data row15 col0\" >security: rename webhook_authorization --> webhook_secret\n",
       "\n",
       "this fixes a low severity security issue affecting anymail >VERSION<-->VERSION<.\n",
       "\n",
       "django error reporting includes the value of your anymail\n",
       "webhook_authorization setting. in a properly-configured deployment,\n",
       "this should not be cause for concern. but if you have somehow exposed\n",
       "your django error reports (e.g., by mis-deploying with debug=true or by\n",
       "sending error reports through insecure channels), anyone who gains\n",
       "access to those reports could discover your webhook shared secret. an\n",
       "attacker could use this to post fabricated or malicious anymail\n",
       "tracking/inbound events to your app, if you are using those anymail\n",
       "features.\n",
       "\n",
       "the fix renames anymail's webhook shared secret setting so that\n",
       "django's error reporting mechanism will [sanitize][>NUMBER<] it.\n",
       "\n",
       "if you are using anymail's event tracking and/or inbound webhooks, you\n",
       "should upgrade to this release and change \"webhook_authorization\" to\n",
       "\"webhook_secret\" in the anymail section of your settings.py. you may\n",
       "also want to [rotate the shared secret][>NUMBER<] value, particularly if you\n",
       "have ever exposed your django error reports to untrusted individuals.\n",
       "\n",
       "if you are only using anymail's emailbackends for sending email and\n",
       "have not set up anymail's webhooks, this issue does not affect you.\n",
       "\n",
       "the old webhook_authorization setting is still allowed in this release,\n",
       "but will issue a system-check warning when running most django\n",
       "management commands. it will be removed completely in a near-future\n",
       "release, as a breaking change.\n",
       "\n",
       "thanks to charlie detar (@yourcelf) for responsibly reporting this\n",
       "security issue through private channels.\n",
       "\n",
       "[>NUMBER<]: https://docs.djangoproject.com/en/stable/ref/settings/#debug\n",
       "[>NUMBER<]: https://anymail.readthedocs.io/en/>VERSION</tips/securing_webhooks/#use-a-shared-authorization-secret</td> \n",
       "        <td id=\"T_5a0a512c_c2df_11e8_88d4_c85b7694a487row15_col1\" class=\"data row15 col1\" >1a6086f2</td> \n",
       "        <td id=\"T_5a0a512c_c2df_11e8_88d4_c85b7694a487row15_col2\" class=\"data row15 col2\" >0.194893</td> \n",
       "    </tr>    <tr> \n",
       "        <th id=\"T_5a0a512c_c2df_11e8_88d4_c85b7694a487level1_row16\" class=\"row_heading level1 row16\" >24</th> \n",
       "        <td id=\"T_5a0a512c_c2df_11e8_88d4_c85b7694a487row16_col0\" class=\"data row16 col0\" >cleanup: centralize reply-to header handling; case-insensitive headers\n",
       "\n",
       "django allows setting the reply address with either message.reply_to\n",
       "or message.extra_headers[\"reply-to\"]. if both are supplied, the extra\n",
       "headers version takes precedence. (see emailmessage.message().)\n",
       "\n",
       "several anymail backends had duplicate logic to handle conflicting\n",
       "properties. move that logic into the base payload.\n",
       "\n",
       "(also prepares for common handling of extra_headers['from'], later.)\n",
       "\n",
       "related changes:\n",
       "\n",
       "* use caseinsensitivedict for processing extra_headers.\n",
       "  this is potentially a breaking change, but any code that was trying\n",
       "  to send multiple headers differing only in case was likely already\n",
       "  broken. (email header field names are case-insensitive, per rfc->NUMBER<.)\n",
       "\n",
       "* handle caseinsensitivedict in requestspayload.serialize_json().\n",
       "  (several backends had duplicate code for handling this, too.)\n",
       "\n",
       "* fixes sparkpost backend, which had been incorrectly treating\n",
       "  message.reply_to and message.extra_headers['reply-to'] differently.</td> \n",
       "        <td id=\"T_5a0a512c_c2df_11e8_88d4_c85b7694a487row16_col1\" class=\"data row16 col1\" >bd9d92f5</td> \n",
       "        <td id=\"T_5a0a512c_c2df_11e8_88d4_c85b7694a487row16_col2\" class=\"data row16 col2\" >0.14546</td> \n",
       "    </tr></tbody> \n",
       "</table> "
      ],
      "text/plain": [
       "<pandas.io.formats.style.Styler at 0x7fe0842192e8>"
      ]
     },
     "execution_count": 85,
     "metadata": {},
     "output_type": "execute_result"
    }
   ],
   "source": [
    "df_candidates.reset_index().set_index(['bin', 'index'], drop=True).style"
   ]
  },
  {
   "cell_type": "markdown",
   "metadata": {
    "slideshow": {
     "slide_type": "slide"
    }
   },
   "source": [
    "#### Description similarity"
   ]
  },
  {
   "cell_type": "code",
   "execution_count": 86,
   "metadata": {},
   "outputs": [],
   "source": [
    "# model = Doc2Vec.load('data/models/doc2vec_cvedetails_20k/doc2vec.model')\n",
    "model = Doc2Vec.load('data/models/gensim/doc2vec_cvedetails_20k/doc2vec.model')"
   ]
  },
  {
   "cell_type": "code",
   "execution_count": 87,
   "metadata": {},
   "outputs": [],
   "source": [
    "description = preprocess_string(clean_text(cve_description))\n",
    "description_vector = model.infer_vector(description, epochs=50, alpha=0.125)"
   ]
  },
  {
   "cell_type": "code",
   "execution_count": 88,
   "metadata": {
    "code_folding": [
     2
    ],
    "extensions": {
     "jupyter_dashboards": {
      "version": 1,
      "views": {
       "grid_default": {
        "hidden": true
       },
       "report_default": {}
      }
     }
    }
   },
   "outputs": [],
   "source": [
    "sim_scores = []\n",
    "\n",
    "for basket in commit_bins:\n",
    "    basket_scores = []\n",
    "    \n",
    "    for commit in basket:\n",
    "        processed_commit = preprocess_string(str(commit))\n",
    "        \n",
    "        score, = model.wv.cosine_similarities(\n",
    "            model.infer_vector(processed_commit, epochs=50, alpha=0.001),\n",
    "            [description_vector]\n",
    "        )\n",
    "        basket_scores.append(score)\n",
    "        \n",
    "    sim_scores.append(basket_scores)\n",
    "\n",
    "sim_scores = np.array(sim_scores)"
   ]
  },
  {
   "cell_type": "code",
   "execution_count": 89,
   "metadata": {
    "extensions": {
     "jupyter_dashboards": {
      "version": 1,
      "views": {
       "grid_default": {
        "hidden": true
       },
       "report_default": {}
      }
     }
    }
   },
   "outputs": [
    {
     "data": {
      "text/plain": [
       "array([array([0.46584696, 0.42075565, 0.34434262, 0.3393493 , 0.3390711 ],\n",
       "      dtype=float32),\n",
       "       array([0.38195646, 0.37339044, 0.3315656 , 0.293278  , 0.23723407],\n",
       "      dtype=float32),\n",
       "       array([0.4224901 , 0.35324714, 0.14853337], dtype=float32),\n",
       "       array([0.40970474, 0.34336466], dtype=float32),\n",
       "       array([0.3079575 , 0.26013935], dtype=float32)], dtype=object)"
      ]
     },
     "execution_count": 89,
     "metadata": {},
     "output_type": "execute_result"
    }
   ],
   "source": [
    "candidate_scores = np.array([\n",
    "    np.sort(sim_scores[i], axis=0)[::-1][:5]\n",
    "    for i in range(k_splits)\n",
    "])\n",
    "candidate_scores"
   ]
  },
  {
   "cell_type": "code",
   "execution_count": 90,
   "metadata": {
    "extensions": {
     "jupyter_dashboards": {
      "version": 1,
      "views": {
       "grid_default": {
        "hidden": true
       },
       "report_default": {}
      }
     }
    }
   },
   "outputs": [
    {
     "data": {
      "text/plain": [
       "array([array([ 3,  9,  5, 11,  6]), array([2, 6, 0, 4, 3]),\n",
       "       array([2, 1, 0]), array([0, 1]), array([0, 1])], dtype=object)"
      ]
     },
     "execution_count": 90,
     "metadata": {},
     "output_type": "execute_result"
    }
   ],
   "source": [
    "candidates = np.array([\n",
    "    np.argsort(sim_scores[i], axis=0)[::-1][:5]\n",
    "    for i in range(k_splits)\n",
    "])\n",
    "\n",
    "candidates"
   ]
  },
  {
   "cell_type": "code",
   "execution_count": 91,
   "metadata": {
    "code_folding": [
     2
    ],
    "extensions": {
     "jupyter_dashboards": {
      "version": 1,
      "views": {
       "grid_default": {
        "hidden": true
       },
       "report_default": {
        "hidden": true
       }
      }
     }
    },
    "scrolled": true
   },
   "outputs": [],
   "source": [
    "df_candidates = pd.DataFrame(columns=['bin', 'message', 'sha', 'score'])\n",
    "\n",
    "for bin_number, (arg_bucket, score_bucket) in enumerate(zip(candidates, candidate_scores)):\n",
    "    for arg, score in zip(arg_bucket, score_bucket):\n",
    "\n",
    "        flat_idx = sum(len(bins) for bins in commit_bins[:bin_number]) + arg\n",
    "        \n",
    "        df_candidates = df_candidates.append(pd.Series({\n",
    "            'bin': bin_number,\n",
    "            'message': str(commit_bins[bin_number][arg]),\n",
    "            'sha': commit_lookup_table[(bin_number, arg)].sha[:8],\n",
    "            'score': score,\n",
    "        }, name=flat_idx))\n",
    "        "
   ]
  },
  {
   "cell_type": "markdown",
   "metadata": {
    "slideshow": {
     "slide_type": "subslide"
    }
   },
   "source": [
    "##### Results"
   ]
  },
  {
   "cell_type": "code",
   "execution_count": 92,
   "metadata": {
    "extensions": {
     "jupyter_dashboards": {
      "version": 1,
      "views": {
       "grid_default": {
        "col": 0,
        "height": 22,
        "hidden": false,
        "row": 84,
        "width": null
       },
       "report_default": {}
      }
     }
    },
    "slideshow": {
     "slide_type": "subslide"
    }
   },
   "outputs": [
    {
     "data": {
      "text/html": [
       "<style  type=\"text/css\" >\n",
       "</style>  \n",
       "<table id=\"T_5acff15c_c2df_11e8_88d4_c85b7694a487\" > \n",
       "<thead>    <tr> \n",
       "        <th class=\"blank\" ></th> \n",
       "        <th class=\"blank level0\" ></th> \n",
       "        <th class=\"col_heading level0 col0\" >message</th> \n",
       "        <th class=\"col_heading level0 col1\" >sha</th> \n",
       "        <th class=\"col_heading level0 col2\" >score</th> \n",
       "    </tr>    <tr> \n",
       "        <th class=\"index_name level0\" >bin</th> \n",
       "        <th class=\"index_name level1\" >index</th> \n",
       "        <th class=\"blank\" ></th> \n",
       "        <th class=\"blank\" ></th> \n",
       "        <th class=\"blank\" ></th> \n",
       "    </tr></thead> \n",
       "<tbody>    <tr> \n",
       "        <th id=\"T_5acff15c_c2df_11e8_88d4_c85b7694a487level0_row0\" class=\"row_heading level0 row0\" rowspan=5>0</th> \n",
       "        <th id=\"T_5acff15c_c2df_11e8_88d4_c85b7694a487level1_row0\" class=\"row_heading level1 row0\" >3</th> \n",
       "        <td id=\"T_5acff15c_c2df_11e8_88d4_c85b7694a487row0_col0\" class=\"data row0 col0\" >cleanup: avoid python >VERSION< deprecation warning on 'async' keyword\n",
       "\n",
       "fixes #>NUMBER<</td> \n",
       "        <td id=\"T_5acff15c_c2df_11e8_88d4_c85b7694a487row0_col1\" class=\"data row0 col1\" >ec0ee336</td> \n",
       "        <td id=\"T_5acff15c_c2df_11e8_88d4_c85b7694a487row0_col2\" class=\"data row0 col2\" >0.465847</td> \n",
       "    </tr>    <tr> \n",
       "        <th id=\"T_5acff15c_c2df_11e8_88d4_c85b7694a487level1_row1\" class=\"row_heading level1 row1\" >9</th> \n",
       "        <td id=\"T_5acff15c_c2df_11e8_88d4_c85b7694a487row1_col0\" class=\"data row1 col0\" >docs: update intersphinx source urls\n",
       "\n",
       "python and django have both moved their docs to https.</td> \n",
       "        <td id=\"T_5acff15c_c2df_11e8_88d4_c85b7694a487row1_col1\" class=\"data row1 col1\" >2bf492c2</td> \n",
       "        <td id=\"T_5acff15c_c2df_11e8_88d4_c85b7694a487row1_col2\" class=\"data row1 col2\" >0.420756</td> \n",
       "    </tr>    <tr> \n",
       "        <th id=\"T_5acff15c_c2df_11e8_88d4_c85b7694a487level1_row2\" class=\"row_heading level1 row2\" >5</th> \n",
       "        <td id=\"T_5acff15c_c2df_11e8_88d4_c85b7694a487row2_col0\" class=\"data row2 col0\" >add django appconfig</td> \n",
       "        <td id=\"T_5acff15c_c2df_11e8_88d4_c85b7694a487row2_col1\" class=\"data row2 col1\" >4d34a181</td> \n",
       "        <td id=\"T_5acff15c_c2df_11e8_88d4_c85b7694a487row2_col2\" class=\"data row2 col2\" >0.344343</td> \n",
       "    </tr>    <tr> \n",
       "        <th id=\"T_5acff15c_c2df_11e8_88d4_c85b7694a487level1_row3\" class=\"row_heading level1 row3\" >11</th> \n",
       "        <td id=\"T_5acff15c_c2df_11e8_88d4_c85b7694a487row3_col0\" class=\"data row3 col0\" >release >VERSION<</td> \n",
       "        <td id=\"T_5acff15c_c2df_11e8_88d4_c85b7694a487row3_col1\" class=\"data row3 col1\" >7029298b</td> \n",
       "        <td id=\"T_5acff15c_c2df_11e8_88d4_c85b7694a487row3_col2\" class=\"data row3 col2\" >0.339349</td> \n",
       "    </tr>    <tr> \n",
       "        <th id=\"T_5acff15c_c2df_11e8_88d4_c85b7694a487level1_row4\" class=\"row_heading level1 row4\" >6</th> \n",
       "        <td id=\"T_5acff15c_c2df_11e8_88d4_c85b7694a487row4_col0\" class=\"data row4 col0\" >release >VERSION<</td> \n",
       "        <td id=\"T_5acff15c_c2df_11e8_88d4_c85b7694a487row4_col1\" class=\"data row4 col1\" >3468b12c</td> \n",
       "        <td id=\"T_5acff15c_c2df_11e8_88d4_c85b7694a487row4_col2\" class=\"data row4 col2\" >0.339071</td> \n",
       "    </tr>    <tr> \n",
       "        <th id=\"T_5acff15c_c2df_11e8_88d4_c85b7694a487level0_row5\" class=\"row_heading level0 row5\" rowspan=5>1</th> \n",
       "        <th id=\"T_5acff15c_c2df_11e8_88d4_c85b7694a487level1_row5\" class=\"row_heading level1 row5\" >14</th> \n",
       "        <td id=\"T_5acff15c_c2df_11e8_88d4_c85b7694a487row5_col0\" class=\"data row5 col0\" >sendinblue: update docs, readme, setup, travis config\n",
       "\n",
       "* flesh out sendinblue docs, add a readme mention\n",
       "* stop trying to list all the supported esps in the project short\n",
       "  description and similar headlines -- it was becoming unwieldy.\n",
       "* support `pip install django-anymail[sendinblue]`\n",
       "  and use it in travis tests (for consistency; sendinblue\n",
       "  doesn't require any extra packages)</td> \n",
       "        <td id=\"T_5acff15c_c2df_11e8_88d4_c85b7694a487row5_col1\" class=\"data row5 col1\" >1e7aacdc</td> \n",
       "        <td id=\"T_5acff15c_c2df_11e8_88d4_c85b7694a487row5_col2\" class=\"data row5 col2\" >0.381956</td> \n",
       "    </tr>    <tr> \n",
       "        <th id=\"T_5acff15c_c2df_11e8_88d4_c85b7694a487level1_row6\" class=\"row_heading level1 row6\" >18</th> \n",
       "        <td id=\"T_5acff15c_c2df_11e8_88d4_c85b7694a487row6_col0\" class=\"data row6 col0\" >tests: fix mockrequestsbackend.get_api_call_arg edge cases\n",
       "\n",
       "get_api_call_arg had incorrectly returned none if a kwarg was passed\n",
       "to the mocked function with a false-y value (e.g., [] or {})\n",
       "\n",
       "get_api_call_json had only considered data param, ignoring json param\n",
       "requests added a while back</td> \n",
       "        <td id=\"T_5acff15c_c2df_11e8_88d4_c85b7694a487row6_col1\" class=\"data row6 col1\" >5fb46952</td> \n",
       "        <td id=\"T_5acff15c_c2df_11e8_88d4_c85b7694a487row6_col2\" class=\"data row6 col2\" >0.37339</td> \n",
       "    </tr>    <tr> \n",
       "        <th id=\"T_5acff15c_c2df_11e8_88d4_c85b7694a487level1_row7\" class=\"row_heading level1 row7\" >12</th> \n",
       "        <td id=\"T_5acff15c_c2df_11e8_88d4_c85b7694a487row7_col0\" class=\"data row7 col0\" >sendinblue: cleanup integration tests, more docs\n",
       "\n",
       "* don't send *quite* so many emails during live integration tests.\n",
       "  (our test account is throttled to >NUMBER</hour.)\n",
       "* relax message_id check in integration tests. sendinblue appears\n",
       "  to use both @smtp-relay.mail.fr and @smtp-relay.sendinblue.com\n",
       "  message-ids.\n",
       "* note requirement for html message body in docs.</td> \n",
       "        <td id=\"T_5acff15c_c2df_11e8_88d4_c85b7694a487row7_col1\" class=\"data row7 col1\" >4b28760a</td> \n",
       "        <td id=\"T_5acff15c_c2df_11e8_88d4_c85b7694a487row7_col2\" class=\"data row7 col2\" >0.331566</td> \n",
       "    </tr>    <tr> \n",
       "        <th id=\"T_5acff15c_c2df_11e8_88d4_c85b7694a487level1_row8\" class=\"row_heading level1 row8\" >16</th> \n",
       "        <td id=\"T_5acff15c_c2df_11e8_88d4_c85b7694a487row8_col0\" class=\"data row8 col0\" >fix: flag extra_headers[\"to\"] as unsupported\n",
       "\n",
       "django's smtp emailbackend allows spoofing the to header by setting\n",
       "`message.extra_headers[\"to\"]`` different from `message.to`.\n",
       "\n",
       "no current anymail esp supports this. treat extra_headers[\"to\"] as\n",
       "an unsupported esp feature, to flag attempts to use it.\n",
       "\n",
       "also document anymail's special header handling that replicates\n",
       "django's smtp emailbackend behavior.</td> \n",
       "        <td id=\"T_5acff15c_c2df_11e8_88d4_c85b7694a487row8_col1\" class=\"data row8 col1\" >06c7077e</td> \n",
       "        <td id=\"T_5acff15c_c2df_11e8_88d4_c85b7694a487row8_col2\" class=\"data row8 col2\" >0.293278</td> \n",
       "    </tr>    <tr> \n",
       "        <th id=\"T_5acff15c_c2df_11e8_88d4_c85b7694a487level1_row9\" class=\"row_heading level1 row9\" >15</th> \n",
       "        <td id=\"T_5acff15c_c2df_11e8_88d4_c85b7694a487row9_col0\" class=\"data row9 col0\" >[breaking] webhooks: disallow deprecated webhook_authorization setting\n",
       "\n",
       "drop support for the webhook_authorization setting deprecated in >VERSION<.\n",
       "only the webhook_secret replacement is allowed now.\n",
       "\n",
       "most django management commands will now issue a system check error\n",
       "if the old name is still used in settings.py</td> \n",
       "        <td id=\"T_5acff15c_c2df_11e8_88d4_c85b7694a487row9_col1\" class=\"data row9 col1\" >9478bf59</td> \n",
       "        <td id=\"T_5acff15c_c2df_11e8_88d4_c85b7694a487row9_col2\" class=\"data row9 col2\" >0.237234</td> \n",
       "    </tr>    <tr> \n",
       "        <th id=\"T_5acff15c_c2df_11e8_88d4_c85b7694a487level0_row10\" class=\"row_heading level0 row10\" rowspan=3>2</th> \n",
       "        <th id=\"T_5acff15c_c2df_11e8_88d4_c85b7694a487level1_row10\" class=\"row_heading level1 row10\" >21</th> \n",
       "        <td id=\"T_5acff15c_c2df_11e8_88d4_c85b7694a487row10_col0\" class=\"data row10 col0\" >add timeout to all requests calls\n",
       "\n",
       "use a default timeout of >NUMBER< seconds for all requests, and add a\n",
       "requests_timeout anymail setting to override.\n",
       "\n",
       "(i'm making a judgement call that this is not a breaking change in the\n",
       "real world, and not bumping the major version. theoretically, it could\n",
       "affect you if your network somehow takes >>NUMBER<s to connect to your esp,\n",
       "but eventually succeeds. if so, set requests_timeout to none to restore\n",
       "the earlier behavior.)\n",
       "\n",
       "fixes #>NUMBER<.</td> \n",
       "        <td id=\"T_5acff15c_c2df_11e8_88d4_c85b7694a487row10_col1\" class=\"data row10 col1\" >09def308</td> \n",
       "        <td id=\"T_5acff15c_c2df_11e8_88d4_c85b7694a487row10_col2\" class=\"data row10 col2\" >0.42249</td> \n",
       "    </tr>    <tr> \n",
       "        <th id=\"T_5acff15c_c2df_11e8_88d4_c85b7694a487level1_row11\" class=\"row_heading level1 row11\" >20</th> \n",
       "        <td id=\"T_5acff15c_c2df_11e8_88d4_c85b7694a487row11_col0\" class=\"data row11 col0\" >un-hardcode message_id in test backend; add console backend\n",
       "\n",
       "* un-hardcode status message_id in test backend\r\n",
       "\r\n",
       "for the test emailbackend, get message id's based on array position in\r\n",
       "`mail.outbox`, so that tests can predict the message id.\r\n",
       "\r\n",
       "\r\n",
       "* add a console backend for use in development\r\n",
       "\r\n",
       "adds an emailbackend derived from both anymail's test backend and\r\n",
       "django's console backend, to provide anymail statuses and signal\r\n",
       "handling while printing messages to the console.  for use during\r\n",
       "development on localhost.\r\n",
       "\r\n",
       "closes #>NUMBER<</td> \n",
       "        <td id=\"T_5acff15c_c2df_11e8_88d4_c85b7694a487row11_col1\" class=\"data row11 col1\" >771d4040</td> \n",
       "        <td id=\"T_5acff15c_c2df_11e8_88d4_c85b7694a487row11_col2\" class=\"data row11 col2\" >0.353247</td> \n",
       "    </tr>    <tr> \n",
       "        <th id=\"T_5acff15c_c2df_11e8_88d4_c85b7694a487level1_row12\" class=\"row_heading level1 row12\" >19</th> \n",
       "        <td id=\"T_5acff15c_c2df_11e8_88d4_c85b7694a487row12_col0\" class=\"data row12 col0\" >setup: add universal wheel; update metadata; clean up setup.py\n",
       "\n",
       "* follow current setup.py recommendations from the pypa sample project\n",
       "  (utf->NUMBER< encoding on file reads, ensure files are read relative to\n",
       "  own location)\n",
       "* add/update some missing classifiers and other metadata\n",
       "* read _version.py constants into an isolated dict (rather than\n",
       "  the global setup.py context)\n",
       "* add setup.cfg specifying universal bdist_wheel</td> \n",
       "        <td id=\"T_5acff15c_c2df_11e8_88d4_c85b7694a487row12_col1\" class=\"data row12 col1\" >deea8c5d</td> \n",
       "        <td id=\"T_5acff15c_c2df_11e8_88d4_c85b7694a487row12_col2\" class=\"data row12 col2\" >0.148533</td> \n",
       "    </tr>    <tr> \n",
       "        <th id=\"T_5acff15c_c2df_11e8_88d4_c85b7694a487level0_row13\" class=\"row_heading level0 row13\" rowspan=2>3</th> \n",
       "        <th id=\"T_5acff15c_c2df_11e8_88d4_c85b7694a487level1_row13\" class=\"row_heading level1 row13\" >22</th> \n",
       "        <td id=\"T_5acff15c_c2df_11e8_88d4_c85b7694a487row13_col0\" class=\"data row13 col0\" >feature: add envelope_sender\n",
       "\n",
       "new emailmessage attribute `envelope_sender` controls esp's sender,\n",
       "sending domain, or return path where supported:\n",
       "\n",
       "* mailgun: overrides sender_domain on individual message\n",
       "  (domain portion only)\n",
       "* mailjet: becomes `sender` api param\n",
       "* mandrill: becomes `return_path_domain` api param\n",
       "  (domain portion only)\n",
       "* sparkpost: becomes `return_path` api param\n",
       "* other esps: not believed to be supported\n",
       "\n",
       "also support undocumented django smtp backend behavior, where envelope\n",
       "sender is given by `message.from_email` when\n",
       "`message.extra_headers[\"from\"]` is set. fixes #>NUMBER<.</td> \n",
       "        <td id=\"T_5acff15c_c2df_11e8_88d4_c85b7694a487row13_col1\" class=\"data row13 col1\" >07fbeac6</td> \n",
       "        <td id=\"T_5acff15c_c2df_11e8_88d4_c85b7694a487row13_col2\" class=\"data row13 col2\" >0.409705</td> \n",
       "    </tr>    <tr> \n",
       "        <th id=\"T_5acff15c_c2df_11e8_88d4_c85b7694a487level1_row14\" class=\"row_heading level1 row14\" >23</th> \n",
       "        <td id=\"T_5acff15c_c2df_11e8_88d4_c85b7694a487row14_col0\" class=\"data row14 col0\" >security: prevent timing attack on webhook_authorization secret\n",
       "\n",
       "anymail's webhook validation was vulnerable to a timing attack.\n",
       "an attacker could have used this to recover your webhook_authorization\n",
       "shared secret, potentially allowing them to post fabricated or malicious\n",
       "email tracking events to your app.\n",
       "\n",
       "there have not been any reports of attempted exploit in the wild. (the\n",
       "vulnerability was discovered through code review.) attempts would be\n",
       "visible in http logs as a very large number of >NUMBER< responses on\n",
       "anymail's webhook urls, or in python error monitoring as a very large\n",
       "number of anymailwebhookvalidationfailure exceptions.\n",
       "\n",
       "if you are using anymail's webhooks, you should upgrade to this release.\n",
       "in addition, you may want to rotate to a new webhook_authorization\n",
       "secret ([docs](http://anymail.readthedocs.io/en/stable/tips/securing_webhooks/#use-a-shared-authorization-secret)),\n",
       "particularly if your logs indicate attempted exploit.</td> \n",
       "        <td id=\"T_5acff15c_c2df_11e8_88d4_c85b7694a487row14_col1\" class=\"data row14 col1\" >db586ede</td> \n",
       "        <td id=\"T_5acff15c_c2df_11e8_88d4_c85b7694a487row14_col2\" class=\"data row14 col2\" >0.343365</td> \n",
       "    </tr>    <tr> \n",
       "        <th id=\"T_5acff15c_c2df_11e8_88d4_c85b7694a487level0_row15\" class=\"row_heading level0 row15\" rowspan=2>4</th> \n",
       "        <th id=\"T_5acff15c_c2df_11e8_88d4_c85b7694a487level1_row15\" class=\"row_heading level1 row15\" >24</th> \n",
       "        <td id=\"T_5acff15c_c2df_11e8_88d4_c85b7694a487row15_col0\" class=\"data row15 col0\" >cleanup: centralize reply-to header handling; case-insensitive headers\n",
       "\n",
       "django allows setting the reply address with either message.reply_to\n",
       "or message.extra_headers[\"reply-to\"]. if both are supplied, the extra\n",
       "headers version takes precedence. (see emailmessage.message().)\n",
       "\n",
       "several anymail backends had duplicate logic to handle conflicting\n",
       "properties. move that logic into the base payload.\n",
       "\n",
       "(also prepares for common handling of extra_headers['from'], later.)\n",
       "\n",
       "related changes:\n",
       "\n",
       "* use caseinsensitivedict for processing extra_headers.\n",
       "  this is potentially a breaking change, but any code that was trying\n",
       "  to send multiple headers differing only in case was likely already\n",
       "  broken. (email header field names are case-insensitive, per rfc->NUMBER<.)\n",
       "\n",
       "* handle caseinsensitivedict in requestspayload.serialize_json().\n",
       "  (several backends had duplicate code for handling this, too.)\n",
       "\n",
       "* fixes sparkpost backend, which had been incorrectly treating\n",
       "  message.reply_to and message.extra_headers['reply-to'] differently.</td> \n",
       "        <td id=\"T_5acff15c_c2df_11e8_88d4_c85b7694a487row15_col1\" class=\"data row15 col1\" >bd9d92f5</td> \n",
       "        <td id=\"T_5acff15c_c2df_11e8_88d4_c85b7694a487row15_col2\" class=\"data row15 col2\" >0.307958</td> \n",
       "    </tr>    <tr> \n",
       "        <th id=\"T_5acff15c_c2df_11e8_88d4_c85b7694a487level1_row16\" class=\"row_heading level1 row16\" >25</th> \n",
       "        <td id=\"T_5acff15c_c2df_11e8_88d4_c85b7694a487row16_col0\" class=\"data row16 col0\" >security: rename webhook_authorization --> webhook_secret\n",
       "\n",
       "this fixes a low severity security issue affecting anymail >VERSION<-->VERSION<.\n",
       "\n",
       "django error reporting includes the value of your anymail\n",
       "webhook_authorization setting. in a properly-configured deployment,\n",
       "this should not be cause for concern. but if you have somehow exposed\n",
       "your django error reports (e.g., by mis-deploying with debug=true or by\n",
       "sending error reports through insecure channels), anyone who gains\n",
       "access to those reports could discover your webhook shared secret. an\n",
       "attacker could use this to post fabricated or malicious anymail\n",
       "tracking/inbound events to your app, if you are using those anymail\n",
       "features.\n",
       "\n",
       "the fix renames anymail's webhook shared secret setting so that\n",
       "django's error reporting mechanism will [sanitize][>NUMBER<] it.\n",
       "\n",
       "if you are using anymail's event tracking and/or inbound webhooks, you\n",
       "should upgrade to this release and change \"webhook_authorization\" to\n",
       "\"webhook_secret\" in the anymail section of your settings.py. you may\n",
       "also want to [rotate the shared secret][>NUMBER<] value, particularly if you\n",
       "have ever exposed your django error reports to untrusted individuals.\n",
       "\n",
       "if you are only using anymail's emailbackends for sending email and\n",
       "have not set up anymail's webhooks, this issue does not affect you.\n",
       "\n",
       "the old webhook_authorization setting is still allowed in this release,\n",
       "but will issue a system-check warning when running most django\n",
       "management commands. it will be removed completely in a near-future\n",
       "release, as a breaking change.\n",
       "\n",
       "thanks to charlie detar (@yourcelf) for responsibly reporting this\n",
       "security issue through private channels.\n",
       "\n",
       "[>NUMBER<]: https://docs.djangoproject.com/en/stable/ref/settings/#debug\n",
       "[>NUMBER<]: https://anymail.readthedocs.io/en/>VERSION</tips/securing_webhooks/#use-a-shared-authorization-secret</td> \n",
       "        <td id=\"T_5acff15c_c2df_11e8_88d4_c85b7694a487row16_col1\" class=\"data row16 col1\" >1a6086f2</td> \n",
       "        <td id=\"T_5acff15c_c2df_11e8_88d4_c85b7694a487row16_col2\" class=\"data row16 col2\" >0.260139</td> \n",
       "    </tr></tbody> \n",
       "</table> "
      ],
      "text/plain": [
       "<pandas.io.formats.style.Styler at 0x7fe07596c588>"
      ]
     },
     "execution_count": 92,
     "metadata": {},
     "output_type": "execute_result"
    }
   ],
   "source": [
    "df_candidates.reset_index().set_index(['bin', 'index'], drop=True).style"
   ]
  }
 ],
 "metadata": {
  "celltoolbar": "Slideshow",
  "extensions": {
   "jupyter_dashboards": {
    "activeView": "grid_default",
    "version": 1,
    "views": {
     "grid_default": {
      "cellMargin": 10,
      "defaultCellHeight": 20,
      "maxColumns": 12,
      "name": "grid",
      "type": "grid"
     },
     "report_default": {
      "name": "report",
      "type": "report"
     }
    }
   }
  },
  "hide_input": false,
  "kernelspec": {
   "display_name": "Python 3",
   "language": "python",
   "name": "python3"
  },
  "language_info": {
   "codemirror_mode": {
    "name": "ipython",
    "version": 3
   },
   "file_extension": ".py",
   "mimetype": "text/x-python",
   "name": "python",
   "nbconvert_exporter": "python",
   "pygments_lexer": "ipython3",
   "version": "3.6.6"
  },
  "notify_time": "30",
  "toc": {
   "base_numbering": 1,
   "nav_menu": {
    "height": "184px",
    "width": "247px"
   },
   "number_sections": true,
   "sideBar": true,
   "skip_h1_title": false,
   "title_cell": "Table of Contents",
   "title_sidebar": "Contents",
   "toc_cell": true,
   "toc_position": {
    "height": "calc(100% - 180px)",
    "left": "10px",
    "top": "150px",
    "width": "255.994px"
   },
   "toc_section_display": true,
   "toc_window_display": true
  },
  "toc-autonumbering": false,
  "toc-showmarkdowntxt": true,
  "toc-showtags": true,
  "varInspector": {
   "cols": {
    "lenName": 16,
    "lenType": 16,
    "lenVar": 40
   },
   "kernels_config": {
    "python": {
     "delete_cmd_postfix": "",
     "delete_cmd_prefix": "del ",
     "library": "var_list.py",
     "varRefreshCmd": "print(var_dic_list())"
    },
    "r": {
     "delete_cmd_postfix": ") ",
     "delete_cmd_prefix": "rm(",
     "library": "var_list.r",
     "varRefreshCmd": "cat(var_dic_list()) "
    }
   },
   "position": {
    "height": "565px",
    "left": "1887px",
    "right": "20px",
    "top": "120px",
    "width": "654px"
   },
   "types_to_exclude": [
    "module",
    "function",
    "builtin_function_or_method",
    "instance",
    "_Feature"
   ],
   "window_display": true
  },
  "widgets": {
   "application/vnd.jupyter.widget-state+json": {
    "state": {
     "0534e596374f49d092884e0eda037ab7": {
      "model_module": "@jupyter-widgets/controls",
      "model_module_version": "1.4.0",
      "model_name": "DescriptionStyleModel",
      "state": {
       "description_width": ""
      }
     },
     "086f0456067644da979e2bc54777593d": {
      "model_module": "@jupyter-widgets/controls",
      "model_module_version": "1.4.0",
      "model_name": "DescriptionStyleModel",
      "state": {
       "description_width": ""
      }
     },
     "098bfe798d4f4c8095f5c26cacf4f19d": {
      "model_module": "@jupyter-widgets/base",
      "model_module_version": "1.1.0",
      "model_name": "LayoutModel",
      "state": {}
     },
     "0d8a440b7cbc4cbca6260820cda36071": {
      "model_module": "@jupyter-widgets/base",
      "model_module_version": "1.1.0",
      "model_name": "LayoutModel",
      "state": {}
     },
     "0e819aa59ebb4823b858accb6a0aa840": {
      "model_module": "@jupyter-widgets/controls",
      "model_module_version": "1.4.0",
      "model_name": "ButtonStyleModel",
      "state": {}
     },
     "0f1deaf60a744d24a08f044a7f5412ad": {
      "model_module": "@jupyter-widgets/controls",
      "model_module_version": "1.4.0",
      "model_name": "DescriptionStyleModel",
      "state": {
       "description_width": ""
      }
     },
     "0f83b81433314de6bff9ebc93848a145": {
      "model_module": "@jupyter-widgets/base",
      "model_module_version": "1.1.0",
      "model_name": "LayoutModel",
      "state": {}
     },
     "152bd5dca14344f9b1f3df4cce813e8d": {
      "model_module": "@jupyter-widgets/base",
      "model_module_version": "1.1.0",
      "model_name": "LayoutModel",
      "state": {}
     },
     "16686d09eef34ab2b8f950be9127f2e5": {
      "model_module": "@jupyter-widgets/base",
      "model_module_version": "1.1.0",
      "model_name": "LayoutModel",
      "state": {
       "height": "150px",
       "width": "400px"
      }
     },
     "1c4776a81bb34af88c8aad4174921783": {
      "model_module": "@jupyter-widgets/base",
      "model_module_version": "1.1.0",
      "model_name": "LayoutModel",
      "state": {}
     },
     "1dd72b0dcffb4aaf81e5fed5cda583fd": {
      "model_module": "@jupyter-widgets/controls",
      "model_module_version": "1.4.0",
      "model_name": "ButtonStyleModel",
      "state": {}
     },
     "211573d818e24471935d49d44c728483": {
      "model_module": "@jupyter-widgets/controls",
      "model_module_version": "1.4.0",
      "model_name": "HBoxModel",
      "state": {
       "children": [
        "IPY_MODEL_2abbf2249a0e4fcc9927e8628e293dd9",
        "IPY_MODEL_7cdfb5554bf84f18bb165e7816123ad8"
       ],
       "layout": "IPY_MODEL_b7a0563c8b0d46509221790629cbeb6f"
      }
     },
     "23af70d4f4cc455ebea692b9ceb1fd82": {
      "model_module": "@jupyter-widgets/controls",
      "model_module_version": "1.4.0",
      "model_name": "DescriptionStyleModel",
      "state": {
       "description_width": ""
      }
     },
     "23d3c04e37404c6fa547d0a3c63635ee": {
      "model_module": "@jupyter-widgets/controls",
      "model_module_version": "1.4.0",
      "model_name": "SelectModel",
      "state": {
       "_options_labels": [
        "06c7077e",
        "07fbeac6",
        "09def308",
        "1a6086f2",
        "1e7aacdc",
        "2bf492c2",
        "3468b12c",
        "4b28760a",
        "4d34a181",
        "5fb46952",
        "7029298b",
        "70f5e3e8",
        "771d4040",
        "9478bf59",
        "ae8484fd",
        "b57eb94f",
        "bd9d92f5",
        "c924c9ec",
        "d93a6632",
        "db586ede",
        "dc2b4b4e",
        "deea8c5d",
        "e3f986df",
        "e4548642",
        "ec0ee336",
        "fffd762f"
       ],
       "description": "Find specific commit",
       "index": 0,
       "layout": "IPY_MODEL_9a0d9917b30b413fa39ceeeda1f0511c",
       "style": "IPY_MODEL_af0db044d9be49fd958eb2218d88feb7"
      }
     },
     "257f30bea5604045b323c9b6e04616ee": {
      "model_module": "@jupyter-widgets/controls",
      "model_module_version": "1.4.0",
      "model_name": "ButtonStyleModel",
      "state": {}
     },
     "26714e6bc6ad403daecf40409d594a2d": {
      "model_module": "@jupyter-widgets/controls",
      "model_module_version": "1.4.0",
      "model_name": "SelectionRangeSliderModel",
      "state": {
       "_model_name": "SelectionRangeSliderModel",
       "_options_labels": [
        "v0.1.dev1",
        "v0.1.dev2",
        "v0.1",
        "v0.2",
        "v0.3",
        "v0.3.1",
        "v0.4",
        "v0.4.1",
        "v0.4.2",
        "v0.5",
        "v0.6",
        "v0.6.1",
        "v0.7",
        "v0.8",
        "v0.9",
        "v0.10",
        "v0.11",
        "v0.11.1",
        "v1.0.rc0",
        "v1.0",
        "v1.1",
        "v1.2",
        "v1.2.1",
        "v1.3",
        "v1.4",
        "v2.0",
        "v2.1",
        "v2.2",
        "v3.0",
        "v4.0",
        "v4.1",
        "v4.2"
       ],
       "_view_name": "SelectionRangeSliderView",
       "continuous_update": false,
       "description": "Version range: ",
       "index": [
        21,
        25
       ],
       "layout": "IPY_MODEL_a8786fd65bd4493cb6078213f4304c78",
       "style": "IPY_MODEL_27d5c1ccc4694463b9f53fc3ecbc6271"
      }
     },
     "2724363987ac46c5847289de3fa19efc": {
      "model_module": "@jupyter-widgets/controls",
      "model_module_version": "1.4.0",
      "model_name": "TextareaModel",
      "state": {
       "disabled": true,
       "layout": "IPY_MODEL_37bfb6ca78eb4638a796586dc9d92ac1",
       "placeholder": "<CVE>",
       "style": "IPY_MODEL_086f0456067644da979e2bc54777593d",
       "value": "{\n    'id_': 'CVE-2017-1000487',\n    'year': 2017,\n    'assigner': 'cve@mitre.org',\n    'data_version': '4.0',\n    'affects': {'data': []},\n    'references': {\n        'data': [\n            {\n                'url': 'https://access.redhat.com/errata/RHSA-2018:1322',\n                'name': 'RHSA-2018:1322',\n                'refsource': 'REDHAT'\n            },\n            {\n                'url':\n                    'https://github.com/codehaus-plexus/plexus-utils/commit/'\n                    'b38a1b3a4352303e4312b2bb601a0d7ec6e28f41',\n                'name':\n                    'https://github.com/codehaus-plexus/plexus-utils/commit/'\n                    'b38a1b3a4352303e4312b2bb601a0d7ec6e28f41',\n                'refsource': 'CONFIRM'\n            },\n            {\n                'url':\n                    'https://lists.debian.org/debian-lts-announce/2018/01/'\n                    'msg00010.html',\n                'name':\n                    '[debian-lts-announce] 20180109 [SECURITY] [DLA 1236-1] '\n                    'plexus-utils security update',\n                'refsource': 'MLIST'\n            },\n            {\n                'url':\n                    'https://lists.debian.org/debian-lts-announce/2018/01/'\n                    'msg00011.html',\n                'name':\n                    '[debian-lts-announce] 20180109 [SECURITY] [DLA 1237-1] '\n                    'plexus-utils2 security update',\n                'refsource': 'MLIST'\n            },\n            {\n                'url': 'https://snyk.io/vuln/SNYK-JAVA-ORGCODEHAUSPLEXUS-31522',\n                'name':\n                    'https://snyk.io/vuln/SNYK-JAVA-ORGCODEHAUSPLEXUS-31522',\n                'refsource': 'MISC'\n            },\n            {\n                'url': 'https://www.debian.org/security/2018/dsa-4146',\n                'name': 'DSA-4146',\n                'refsource': 'DEBIAN'\n            },\n            {\n                'url': 'https://www.debian.org/security/2018/dsa-4149',\n                'name': 'DSA-4149',\n                'refsource': 'DEBIAN'\n            }\n        ]\n    },\n    'descriptions': {\n        'data': [\n            {\n                'lang': 'en',\n                'value':\n                    'Plexus-utils before 3.0.16 is vulnerable to command '\n                    'injection because it does not correctly process the '\n                    'contents of double quoted strings.'\n            }\n        ]\n    }\n}\n"
      }
     },
     "27d5c1ccc4694463b9f53fc3ecbc6271": {
      "model_module": "@jupyter-widgets/controls",
      "model_module_version": "1.4.0",
      "model_name": "DescriptionStyleModel",
      "state": {
       "description_width": ""
      }
     },
     "2829bdd43c0146fa834fd19993dc179e": {
      "model_module": "@jupyter-widgets/controls",
      "model_module_version": "1.4.0",
      "model_name": "DescriptionStyleModel",
      "state": {
       "description_width": ""
      }
     },
     "2abbf2249a0e4fcc9927e8628e293dd9": {
      "model_module": "@jupyter-widgets/controls",
      "model_module_version": "1.4.0",
      "model_name": "VBoxModel",
      "state": {
       "children": [
        "IPY_MODEL_c070361087ec4698b1dd0f041a602382",
        "IPY_MODEL_513a2ed79b1740e691359cf1c5b80034"
       ],
       "layout": "IPY_MODEL_152bd5dca14344f9b1f3df4cce813e8d"
      }
     },
     "2b4505b88f4a4636a331460382dd1012": {
      "model_module": "@jupyter-widgets/base",
      "model_module_version": "1.1.0",
      "model_name": "LayoutModel",
      "state": {}
     },
     "2b627e17b70d4864a544a027ce3a8195": {
      "model_module": "@jupyter-widgets/controls",
      "model_module_version": "1.4.0",
      "model_name": "TextModel",
      "state": {
       "description": "[OPT] Oldest: ",
       "layout": "IPY_MODEL_2b4505b88f4a4636a331460382dd1012",
       "placeholder": "<version> [optional]",
       "style": "IPY_MODEL_0f1deaf60a744d24a08f044a7f5412ad",
       "value": "1.2"
      }
     },
     "2dde88b215ff469eb399d6af7af413f9": {
      "model_module": "@jupyter-widgets/controls",
      "model_module_version": "1.4.0",
      "model_name": "ButtonModel",
      "state": {
       "description": "Previous",
       "layout": "IPY_MODEL_e0f42a0e85b54e3bb2f17bce46533864",
       "style": "IPY_MODEL_2fa858ff02b944d1b6daabe09c75833c",
       "tooltip": "Get previous CVE"
      }
     },
     "2fa858ff02b944d1b6daabe09c75833c": {
      "model_module": "@jupyter-widgets/controls",
      "model_module_version": "1.4.0",
      "model_name": "ButtonStyleModel",
      "state": {}
     },
     "332d8e0291464ffe9a3c9d8738f48ac7": {
      "model_module": "@jupyter-widgets/base",
      "model_module_version": "1.1.0",
      "model_name": "LayoutModel",
      "state": {
       "align_items": "center",
       "display": "flex",
       "justify_content": "center",
       "width": "100%"
      }
     },
     "35c0f17dd4ca4cc5972225b49870a279": {
      "model_module": "@jupyter-widgets/base",
      "model_module_version": "1.1.0",
      "model_name": "LayoutModel",
      "state": {
       "display": "flex",
       "justify_content": "center",
       "width": "100%"
      }
     },
     "36dcbb56f6ca419a9e8121569374e9ac": {
      "model_module": "@jupyter-widgets/controls",
      "model_module_version": "1.4.0",
      "model_name": "SelectModel",
      "state": {
       "_options_labels": [
        "06c7077e",
        "07fbeac6",
        "09def308",
        "1a6086f2",
        "1e7aacdc",
        "2bf492c2",
        "3468b12c",
        "4b28760a",
        "4d34a181",
        "5fb46952",
        "7029298b",
        "70f5e3e8",
        "771d4040",
        "9478bf59",
        "ae8484fd",
        "b57eb94f",
        "bd9d92f5",
        "c924c9ec",
        "d93a6632",
        "db586ede",
        "dc2b4b4e",
        "deea8c5d",
        "e3f986df",
        "e4548642",
        "ec0ee336",
        "fffd762f"
       ],
       "description": "Find specific commit",
       "index": 0,
       "layout": "IPY_MODEL_16686d09eef34ab2b8f950be9127f2e5",
       "style": "IPY_MODEL_0534e596374f49d092884e0eda037ab7"
      }
     },
     "37bfb6ca78eb4638a796586dc9d92ac1": {
      "model_module": "@jupyter-widgets/base",
      "model_module_version": "1.1.0",
      "model_name": "LayoutModel",
      "state": {
       "align_self": "flex-end",
       "display": "flex",
       "flex_flow": "row",
       "height": "500px",
       "width": "100%"
      }
     },
     "3f1fcb34731d4ef9a17ab1f394140ecb": {
      "model_module": "@jupyter-widgets/base",
      "model_module_version": "1.1.0",
      "model_name": "LayoutModel",
      "state": {}
     },
     "42d3d281a36c4d57889beb4fd4c93093": {
      "model_module": "@jupyter-widgets/controls",
      "model_module_version": "1.4.0",
      "model_name": "SelectionRangeSliderModel",
      "state": {
       "_model_name": "SelectionRangeSliderModel",
       "_options_labels": [
        "v0.1.dev1",
        "v0.1.dev2",
        "v0.1",
        "v0.2",
        "v0.3",
        "v0.3.1",
        "v0.4",
        "v0.4.1",
        "v0.4.2",
        "v0.5",
        "v0.6",
        "v0.6.1",
        "v0.7",
        "v0.8",
        "v0.9",
        "v0.10",
        "v0.11",
        "v0.11.1",
        "v1.0.rc0",
        "v1.0",
        "v1.1",
        "v1.2",
        "v1.2.1",
        "v1.3",
        "v1.4",
        "v2.0",
        "v2.1",
        "v2.2",
        "v3.0",
        "v4.0",
        "v4.1",
        "v4.2"
       ],
       "_view_name": "SelectionRangeSliderView",
       "continuous_update": false,
       "description": "Version range: ",
       "index": [
        21,
        25
       ],
       "layout": "IPY_MODEL_cadd152fc92b4f218ff0a0abf1872262",
       "style": "IPY_MODEL_23af70d4f4cc455ebea692b9ceb1fd82"
      }
     },
     "454e7961cf6140ffafc606aabe69c4f3": {
      "model_module": "@jupyter-widgets/base",
      "model_module_version": "1.1.0",
      "model_name": "LayoutModel",
      "state": {
       "height": "60px",
       "width": "150px"
      }
     },
     "478c1944eeb54d6b8b3eab7d1945bba4": {
      "model_module": "@jupyter-widgets/base",
      "model_module_version": "1.1.0",
      "model_name": "LayoutModel",
      "state": {}
     },
     "47e4b611c70a4832a498a8dcb439ef56": {
      "model_module": "@jupyter-widgets/controls",
      "model_module_version": "1.4.0",
      "model_name": "DescriptionStyleModel",
      "state": {
       "description_width": ""
      }
     },
     "490a39e8608342e4a3a70e272c3ab954": {
      "model_module": "@jupyter-widgets/controls",
      "model_module_version": "1.4.0",
      "model_name": "TextModel",
      "state": {
       "description": "[OPT] Newest: ",
       "layout": "IPY_MODEL_c173e54b395345c585fbe26e24b7b9c4",
       "placeholder": "<version> [optional]",
       "style": "IPY_MODEL_b7301dda0f6f4fcdb9890c969f888da4",
       "value": "2.0"
      }
     },
     "4b9fb62223ef4b61a6c5cb719137fa7f": {
      "model_module": "@jupyter-widgets/controls",
      "model_module_version": "1.4.0",
      "model_name": "HBoxModel",
      "state": {
       "children": [
        "IPY_MODEL_616066953cd84c50812e64058a03fb85",
        "IPY_MODEL_ea767df200744591a8a81195c149c631"
       ],
       "layout": "IPY_MODEL_d612c7d3a06341c09e26a121b4265793"
      }
     },
     "4be232cfd5a9480987f77c282dd1386e": {
      "model_module": "@jupyter-widgets/base",
      "model_module_version": "1.1.0",
      "model_name": "LayoutModel",
      "state": {
       "align_self": "flex-end",
       "display": "flex",
       "flex_flow": "row",
       "height": "500px",
       "width": "100%"
      }
     },
     "4cbeb5215754437db3d6a13ea55fb422": {
      "model_module": "@jupyter-widgets/base",
      "model_module_version": "1.1.0",
      "model_name": "LayoutModel",
      "state": {}
     },
     "513a2ed79b1740e691359cf1c5b80034": {
      "model_module": "@jupyter-widgets/controls",
      "model_module_version": "1.4.0",
      "model_name": "HBoxModel",
      "state": {
       "children": [
        "IPY_MODEL_2b627e17b70d4864a544a027ce3a8195",
        "IPY_MODEL_ef7f7e78641448a6a12f32626672eaf0"
       ],
       "layout": "IPY_MODEL_b075de1d0567403eb26bd5eaedc09c07"
      }
     },
     "616066953cd84c50812e64058a03fb85": {
      "model_module": "@jupyter-widgets/controls",
      "model_module_version": "1.4.0",
      "model_name": "TextModel",
      "state": {
       "description": "Owner: ",
       "layout": "IPY_MODEL_4cbeb5215754437db3d6a13ea55fb422",
       "placeholder": "<owner>",
       "style": "IPY_MODEL_2829bdd43c0146fa834fd19993dc179e",
       "value": "anymail"
      }
     },
     "62842b078f554f71bd286a19e6fd70bf": {
      "model_module": "@jupyter-widgets/controls",
      "model_module_version": "1.4.0",
      "model_name": "DescriptionStyleModel",
      "state": {
       "description_width": ""
      }
     },
     "665a5b696865427c9d2088ce06583786": {
      "model_module": "@jupyter-widgets/controls",
      "model_module_version": "1.4.0",
      "model_name": "DescriptionStyleModel",
      "state": {
       "description_width": ""
      }
     },
     "6a43064cfca442e6b19c5aa8b1496960": {
      "model_module": "@jupyter-widgets/controls",
      "model_module_version": "1.4.0",
      "model_name": "ButtonModel",
      "state": {
       "description": "Next",
       "layout": "IPY_MODEL_7fb861b5c3b34a1cae46bc9d6da5071d",
       "style": "IPY_MODEL_dddab6030fb04bb79c3320cb49c7f550",
       "tooltip": "Get next CVE"
      }
     },
     "778694ca63bb479591ce19f7271fc088": {
      "model_module": "@jupyter-widgets/controls",
      "model_module_version": "1.4.0",
      "model_name": "ButtonStyleModel",
      "state": {}
     },
     "79ef515afbd344d3910de4b3d5f63e89": {
      "model_module": "@jupyter-widgets/base",
      "model_module_version": "1.1.0",
      "model_name": "LayoutModel",
      "state": {
       "height": "60px",
       "width": "150px"
      }
     },
     "7a1f6a1c070c4f64afdecde1557d081e": {
      "model_module": "@jupyter-widgets/controls",
      "model_module_version": "1.4.0",
      "model_name": "HBoxModel",
      "state": {
       "children": [
        "IPY_MODEL_a6b31b1399074b52a0b888619f34dbae"
       ],
       "layout": "IPY_MODEL_35c0f17dd4ca4cc5972225b49870a279"
      }
     },
     "7cdfb5554bf84f18bb165e7816123ad8": {
      "model_module": "@jupyter-widgets/controls",
      "model_module_version": "1.4.0",
      "model_name": "ButtonModel",
      "state": {
       "description": "Find",
       "layout": "IPY_MODEL_79ef515afbd344d3910de4b3d5f63e89",
       "style": "IPY_MODEL_778694ca63bb479591ce19f7271fc088",
       "tooltip": "Find commits for given repository."
      }
     },
     "7d9581d48df047d0af4a65af77337b63": {
      "model_module": "@jupyter-widgets/controls",
      "model_module_version": "1.4.0",
      "model_name": "HBoxModel",
      "state": {
       "children": [
        "IPY_MODEL_a33cb516673240cfae6a79d242e5862c",
        "IPY_MODEL_ee023e8b8686408987ea4a675379450d"
       ],
       "layout": "IPY_MODEL_d8c06dca73a14090bc3159326c7b6dc6"
      }
     },
     "7fb861b5c3b34a1cae46bc9d6da5071d": {
      "model_module": "@jupyter-widgets/base",
      "model_module_version": "1.1.0",
      "model_name": "LayoutModel",
      "state": {
       "width": "300px"
      }
     },
     "82044fc301004252a8f1690966331fd0": {
      "model_module": "@jupyter-widgets/base",
      "model_module_version": "1.1.0",
      "model_name": "LayoutModel",
      "state": {}
     },
     "846ae87150594cf89ce44479eda8bb1c": {
      "model_module": "@jupyter-widgets/controls",
      "model_module_version": "1.4.0",
      "model_name": "HBoxModel",
      "state": {
       "children": [
        "IPY_MODEL_a310dc798ed1467c9abab84c94f8ce60",
        "IPY_MODEL_b93c00e4a1794a459e29cf2d8ad49428"
       ],
       "layout": "IPY_MODEL_332d8e0291464ffe9a3c9d8738f48ac7"
      }
     },
     "85f3323cbf5044efb879a5387cd841c7": {
      "model_module": "@jupyter-widgets/base",
      "model_module_version": "1.1.0",
      "model_name": "LayoutModel",
      "state": {
       "display": "flex",
       "justify_content": "center",
       "width": "100%"
      }
     },
     "86872c126dfe41e09da501bc8718fea9": {
      "model_module": "@jupyter-widgets/controls",
      "model_module_version": "1.4.0",
      "model_name": "HBoxModel",
      "state": {
       "children": [
        "IPY_MODEL_42d3d281a36c4d57889beb4fd4c93093"
       ],
       "layout": "IPY_MODEL_a7c08b5c41bb4683978501996cebfd31"
      }
     },
     "8afe2b77650e474aacc381137dcf4ed3": {
      "model_module": "@jupyter-widgets/base",
      "model_module_version": "1.1.0",
      "model_name": "LayoutModel",
      "state": {}
     },
     "8bfcc69cf8c440a39a27102957557376": {
      "model_module": "@jupyter-widgets/controls",
      "model_module_version": "1.4.0",
      "model_name": "TextModel",
      "state": {
       "description": "Owner: ",
       "layout": "IPY_MODEL_c23b39e511ef4f1389a8457407a8ecd7",
       "placeholder": "<owner>",
       "style": "IPY_MODEL_be0f672138ea4f8a9356944db0de2bf0",
       "value": "anymail"
      }
     },
     "8e6a86315f5f48d092b9e5834262f876": {
      "model_module": "@jupyter-widgets/controls",
      "model_module_version": "1.4.0",
      "model_name": "ButtonStyleModel",
      "state": {}
     },
     "9a0d9917b30b413fa39ceeeda1f0511c": {
      "model_module": "@jupyter-widgets/base",
      "model_module_version": "1.1.0",
      "model_name": "LayoutModel",
      "state": {
       "height": "150px",
       "width": "400px"
      }
     },
     "a310dc798ed1467c9abab84c94f8ce60": {
      "model_module": "@jupyter-widgets/controls",
      "model_module_version": "1.4.0",
      "model_name": "VBoxModel",
      "state": {
       "children": [
        "IPY_MODEL_4b9fb62223ef4b61a6c5cb719137fa7f",
        "IPY_MODEL_b70dd3933503442984ff706e35522fc2"
       ],
       "layout": "IPY_MODEL_098bfe798d4f4c8095f5c26cacf4f19d"
      }
     },
     "a33cb516673240cfae6a79d242e5862c": {
      "model_module": "@jupyter-widgets/controls",
      "model_module_version": "1.4.0",
      "model_name": "ButtonModel",
      "state": {
       "description": "Previous",
       "layout": "IPY_MODEL_f6ff902db457442f90fd63227ff24ee8",
       "style": "IPY_MODEL_1dd72b0dcffb4aaf81e5fed5cda583fd",
       "tooltip": "Get previous CVE"
      }
     },
     "a6b31b1399074b52a0b888619f34dbae": {
      "model_module": "@jupyter-widgets/controls",
      "model_module_version": "1.4.0",
      "model_name": "ButtonModel",
      "state": {
       "button_style": "danger",
       "description": "Run Analysis",
       "layout": "IPY_MODEL_efa73feee864466fb03e0fae7fc42bc7",
       "style": "IPY_MODEL_8e6a86315f5f48d092b9e5834262f876"
      }
     },
     "a7c08b5c41bb4683978501996cebfd31": {
      "model_module": "@jupyter-widgets/base",
      "model_module_version": "1.1.0",
      "model_name": "LayoutModel",
      "state": {
       "display": "flex",
       "justify_content": "center",
       "width": "100%"
      }
     },
     "a8786fd65bd4493cb6078213f4304c78": {
      "model_module": "@jupyter-widgets/base",
      "model_module_version": "1.1.0",
      "model_name": "LayoutModel",
      "state": {
       "display": "flex",
       "justify_content": "center",
       "width": "80%"
      }
     },
     "af0db044d9be49fd958eb2218d88feb7": {
      "model_module": "@jupyter-widgets/controls",
      "model_module_version": "1.4.0",
      "model_name": "DescriptionStyleModel",
      "state": {
       "description_width": ""
      }
     },
     "b075de1d0567403eb26bd5eaedc09c07": {
      "model_module": "@jupyter-widgets/base",
      "model_module_version": "1.1.0",
      "model_name": "LayoutModel",
      "state": {}
     },
     "b656367e41704037a82784177a10bfe3": {
      "model_module": "@jupyter-widgets/base",
      "model_module_version": "1.1.0",
      "model_name": "LayoutModel",
      "state": {
       "width": "300px"
      }
     },
     "b70dd3933503442984ff706e35522fc2": {
      "model_module": "@jupyter-widgets/controls",
      "model_module_version": "1.4.0",
      "model_name": "HBoxModel",
      "state": {
       "children": [
        "IPY_MODEL_d117d9d480964a33ba09c6b7397b2ca6",
        "IPY_MODEL_490a39e8608342e4a3a70e272c3ab954"
       ],
       "layout": "IPY_MODEL_0d8a440b7cbc4cbca6260820cda36071"
      }
     },
     "b7301dda0f6f4fcdb9890c969f888da4": {
      "model_module": "@jupyter-widgets/controls",
      "model_module_version": "1.4.0",
      "model_name": "DescriptionStyleModel",
      "state": {
       "description_width": ""
      }
     },
     "b7a0563c8b0d46509221790629cbeb6f": {
      "model_module": "@jupyter-widgets/base",
      "model_module_version": "1.1.0",
      "model_name": "LayoutModel",
      "state": {
       "align_items": "center",
       "display": "flex",
       "justify_content": "center",
       "width": "100%"
      }
     },
     "b93c00e4a1794a459e29cf2d8ad49428": {
      "model_module": "@jupyter-widgets/controls",
      "model_module_version": "1.4.0",
      "model_name": "ButtonModel",
      "state": {
       "description": "Find",
       "layout": "IPY_MODEL_454e7961cf6140ffafc606aabe69c4f3",
       "style": "IPY_MODEL_bbddc32cc2de49089ed7a6f912957b3a",
       "tooltip": "Find commits for given repository."
      }
     },
     "bbddc32cc2de49089ed7a6f912957b3a": {
      "model_module": "@jupyter-widgets/controls",
      "model_module_version": "1.4.0",
      "model_name": "ButtonStyleModel",
      "state": {}
     },
     "bca23eb5e7484bef8aa41de0ef2bc8f1": {
      "model_module": "@jupyter-widgets/controls",
      "model_module_version": "1.4.0",
      "model_name": "HBoxModel",
      "state": {
       "children": [
        "IPY_MODEL_c79fb586c0da4d2da510e45e028765eb"
       ],
       "layout": "IPY_MODEL_c4839278b7f743c4be8b2cf7db595cf7"
      }
     },
     "bddb1b6e6d4f49579e013ef783b4e547": {
      "model_module": "@jupyter-widgets/controls",
      "model_module_version": "1.4.0",
      "model_name": "HBoxModel",
      "state": {
       "children": [
        "IPY_MODEL_2dde88b215ff469eb399d6af7af413f9",
        "IPY_MODEL_6a43064cfca442e6b19c5aa8b1496960"
       ],
       "layout": "IPY_MODEL_db014f6764e442afb8a2365de9103af1"
      }
     },
     "be0f672138ea4f8a9356944db0de2bf0": {
      "model_module": "@jupyter-widgets/controls",
      "model_module_version": "1.4.0",
      "model_name": "DescriptionStyleModel",
      "state": {
       "description_width": ""
      }
     },
     "c070361087ec4698b1dd0f041a602382": {
      "model_module": "@jupyter-widgets/controls",
      "model_module_version": "1.4.0",
      "model_name": "HBoxModel",
      "state": {
       "children": [
        "IPY_MODEL_8bfcc69cf8c440a39a27102957557376",
        "IPY_MODEL_fd6fd540767f45468a6b75f7a2d0a5b4"
       ],
       "layout": "IPY_MODEL_1c4776a81bb34af88c8aad4174921783"
      }
     },
     "c173e54b395345c585fbe26e24b7b9c4": {
      "model_module": "@jupyter-widgets/base",
      "model_module_version": "1.1.0",
      "model_name": "LayoutModel",
      "state": {}
     },
     "c23b39e511ef4f1389a8457407a8ecd7": {
      "model_module": "@jupyter-widgets/base",
      "model_module_version": "1.1.0",
      "model_name": "LayoutModel",
      "state": {}
     },
     "c4839278b7f743c4be8b2cf7db595cf7": {
      "model_module": "@jupyter-widgets/base",
      "model_module_version": "1.1.0",
      "model_name": "LayoutModel",
      "state": {
       "display": "flex",
       "justify_content": "center",
       "width": "100%"
      }
     },
     "c79fb586c0da4d2da510e45e028765eb": {
      "model_module": "@jupyter-widgets/controls",
      "model_module_version": "1.4.0",
      "model_name": "ButtonModel",
      "state": {
       "button_style": "danger",
       "description": "Run Analysis",
       "layout": "IPY_MODEL_82044fc301004252a8f1690966331fd0",
       "style": "IPY_MODEL_257f30bea5604045b323c9b6e04616ee"
      }
     },
     "cadd152fc92b4f218ff0a0abf1872262": {
      "model_module": "@jupyter-widgets/base",
      "model_module_version": "1.1.0",
      "model_name": "LayoutModel",
      "state": {
       "display": "flex",
       "justify_content": "center",
       "width": "80%"
      }
     },
     "d117d9d480964a33ba09c6b7397b2ca6": {
      "model_module": "@jupyter-widgets/controls",
      "model_module_version": "1.4.0",
      "model_name": "TextModel",
      "state": {
       "description": "[OPT] Oldest: ",
       "layout": "IPY_MODEL_3f1fcb34731d4ef9a17ab1f394140ecb",
       "placeholder": "<version> [optional]",
       "style": "IPY_MODEL_62842b078f554f71bd286a19e6fd70bf",
       "value": "1.2"
      }
     },
     "d612c7d3a06341c09e26a121b4265793": {
      "model_module": "@jupyter-widgets/base",
      "model_module_version": "1.1.0",
      "model_name": "LayoutModel",
      "state": {}
     },
     "d8c06dca73a14090bc3159326c7b6dc6": {
      "model_module": "@jupyter-widgets/base",
      "model_module_version": "1.1.0",
      "model_name": "LayoutModel",
      "state": {
       "justify_content": "center",
       "width": "100%"
      }
     },
     "da276434606943d1975a431028c89b71": {
      "model_module": "@jupyter-widgets/controls",
      "model_module_version": "1.4.0",
      "model_name": "TextareaModel",
      "state": {
       "disabled": true,
       "layout": "IPY_MODEL_4be232cfd5a9480987f77c282dd1386e",
       "placeholder": "<CVE>",
       "style": "IPY_MODEL_df2f9096a9474605a65651b115b7ddce",
       "value": "{\n    'id_': 'CVE-2014-0012',\n    'year': 2014,\n    'assigner': 'cve@mitre.org',\n    'data_version': '4.0',\n    'affects': {\n        'data': [\n            {\n                'vendor_name': 'pocoo',\n                'product_name': 'jinja2',\n                'versions': ['2.7.2']\n            }\n        ]\n    },\n    'references': {\n        'data': [\n            {\n                'url': 'http://seclists.org/oss-sec/2014/q1/73',\n                'name': '[oss-security] 20140110 CVE assignment for jinja2',\n                'refsource': 'MLIST'\n            },\n            {\n                'url': 'http://secunia.com/advisories/56328',\n                'name': '56328',\n                'refsource': 'SECUNIA'\n            },\n            {\n                'url': 'http://secunia.com/advisories/60738',\n                'name': '60738',\n                'refsource': 'SECUNIA'\n            },\n            {\n                'url':\n                    'http://www.gentoo.org/security/en/glsa/glsa-201408-13.xml',\n                'name': 'GLSA-201408-13',\n                'refsource': 'GENTOO'\n            },\n            {\n                'url': 'https://bugzilla.redhat.com/show_bug.cgi?id=1051421',\n                'name': 'https://bugzilla.redhat.com/show_bug.cgi?id=1051421',\n                'refsource': 'MISC'\n            },\n            {\n                'url':\n                    'https://github.com/mitsuhiko/jinja2/commit/'\n                    'acb672b6a179567632e032f547582f30fa2f4aa7',\n                'name':\n                    'https://github.com/mitsuhiko/jinja2/commit/'\n                    'acb672b6a179567632e032f547582f30fa2f4aa7',\n                'refsource': 'MISC'\n            },\n            {\n                'url': 'https://github.com/mitsuhiko/jinja2/pull/292',\n                'name': 'https://github.com/mitsuhiko/jinja2/pull/292',\n                'refsource': 'MISC'\n            },\n            {\n                'url': 'https://github.com/mitsuhiko/jinja2/pull/296',\n                'name': 'https://github.com/mitsuhiko/jinja2/pull/296',\n                'refsource': 'MISC'\n            }\n        ]\n    },\n    'descriptions': {\n        'data': [\n            {\n                'lang': 'en',\n                'value':\n                    \"FileSystemBytecodeCache in Jinja2 2.7.2 does not \"\n                    \"properly create temporary directories, which allows \"\n                    \"local users to gain privileges by pre-creating a \"\n                    \"temporary directory with a user's uid.  NOTE: this \"\n                    \"vulnerability exists because of an incomplete fix for \"\n                    \"CVE-2014-1402.\"\n            }\n        ]\n    }\n}\n"
      }
     },
     "db014f6764e442afb8a2365de9103af1": {
      "model_module": "@jupyter-widgets/base",
      "model_module_version": "1.1.0",
      "model_name": "LayoutModel",
      "state": {
       "justify_content": "center",
       "width": "100%"
      }
     },
     "dddab6030fb04bb79c3320cb49c7f550": {
      "model_module": "@jupyter-widgets/controls",
      "model_module_version": "1.4.0",
      "model_name": "ButtonStyleModel",
      "state": {}
     },
     "df2f9096a9474605a65651b115b7ddce": {
      "model_module": "@jupyter-widgets/controls",
      "model_module_version": "1.4.0",
      "model_name": "DescriptionStyleModel",
      "state": {
       "description_width": ""
      }
     },
     "e0f42a0e85b54e3bb2f17bce46533864": {
      "model_module": "@jupyter-widgets/base",
      "model_module_version": "1.1.0",
      "model_name": "LayoutModel",
      "state": {
       "width": "300px"
      }
     },
     "e8f8a3e09c5e4665b876af85f3297eb0": {
      "model_module": "@jupyter-widgets/controls",
      "model_module_version": "1.4.0",
      "model_name": "HBoxModel",
      "state": {
       "children": [
        "IPY_MODEL_26714e6bc6ad403daecf40409d594a2d"
       ],
       "layout": "IPY_MODEL_85f3323cbf5044efb879a5387cd841c7"
      }
     },
     "ea767df200744591a8a81195c149c631": {
      "model_module": "@jupyter-widgets/controls",
      "model_module_version": "1.4.0",
      "model_name": "TextModel",
      "state": {
       "description": "Repository: ",
       "layout": "IPY_MODEL_478c1944eeb54d6b8b3eab7d1945bba4",
       "placeholder": "<repository>",
       "style": "IPY_MODEL_47e4b611c70a4832a498a8dcb439ef56",
       "value": "django-anymail"
      }
     },
     "ee023e8b8686408987ea4a675379450d": {
      "model_module": "@jupyter-widgets/controls",
      "model_module_version": "1.4.0",
      "model_name": "ButtonModel",
      "state": {
       "description": "Next",
       "layout": "IPY_MODEL_b656367e41704037a82784177a10bfe3",
       "style": "IPY_MODEL_0e819aa59ebb4823b858accb6a0aa840",
       "tooltip": "Get next CVE"
      }
     },
     "ef7f7e78641448a6a12f32626672eaf0": {
      "model_module": "@jupyter-widgets/controls",
      "model_module_version": "1.4.0",
      "model_name": "TextModel",
      "state": {
       "description": "[OPT] Newest: ",
       "layout": "IPY_MODEL_8afe2b77650e474aacc381137dcf4ed3",
       "placeholder": "<version> [optional]",
       "style": "IPY_MODEL_ffcf5029d637469790ffe65e346d0bea",
       "value": "2.0"
      }
     },
     "efa73feee864466fb03e0fae7fc42bc7": {
      "model_module": "@jupyter-widgets/base",
      "model_module_version": "1.1.0",
      "model_name": "LayoutModel",
      "state": {}
     },
     "f6ff902db457442f90fd63227ff24ee8": {
      "model_module": "@jupyter-widgets/base",
      "model_module_version": "1.1.0",
      "model_name": "LayoutModel",
      "state": {
       "width": "300px"
      }
     },
     "fd6fd540767f45468a6b75f7a2d0a5b4": {
      "model_module": "@jupyter-widgets/controls",
      "model_module_version": "1.4.0",
      "model_name": "TextModel",
      "state": {
       "description": "Repository: ",
       "layout": "IPY_MODEL_0f83b81433314de6bff9ebc93848a145",
       "placeholder": "<repository>",
       "style": "IPY_MODEL_665a5b696865427c9d2088ce06583786",
       "value": "django-anymail"
      }
     },
     "ffcf5029d637469790ffe65e346d0bea": {
      "model_module": "@jupyter-widgets/controls",
      "model_module_version": "1.4.0",
      "model_name": "DescriptionStyleModel",
      "state": {
       "description_width": ""
      }
     }
    },
    "version_major": 2,
    "version_minor": 0
   }
  }
 },
 "nbformat": 4,
 "nbformat_minor": 2
}
