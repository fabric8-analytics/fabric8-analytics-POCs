{
 "cells": [
  {
   "cell_type": "code",
   "execution_count": 1,
   "metadata": {},
   "outputs": [],
   "source": [
    "import re\n",
    "import sys\n",
    "\n",
    "# nvdlib has be installed (I suggest to use venv for that)\n",
    "from nvdlib.nvd import NVD\n",
    "\n",
    "# add the experimental project to the path\n",
    "sys.path.append(\"../src\")\n",
    "import toolkit  # import the toolkit"
   ]
  },
  {
   "cell_type": "markdown",
   "metadata": {},
   "source": [
    "### Get the NVD Feed"
   ]
  },
  {
   "cell_type": "code",
   "execution_count": 2,
   "metadata": {},
   "outputs": [],
   "source": [
    "# get the nvd feed\n",
    "feed = NVD.from_feeds(feed_names=[2017])\n",
    "# update\n",
    "feed.update()\n",
    "\n",
    "# generator\n",
    "cves = feed.cves()\n",
    "\n",
    "# assign the cves to the DATA variable and unpack the iterator (iterator does not\n",
    "# matter to the pipeline, but for the purpose of reusing the DATA in the notebook,\n",
    "# it is usefull to unpack it)\n",
    "DATA = list(cves)"
   ]
  },
  {
   "cell_type": "markdown",
   "metadata": {},
   "source": [
    "## Preprocessing Example"
   ]
  },
  {
   "cell_type": "code",
   "execution_count": 3,
   "metadata": {},
   "outputs": [],
   "source": [
    "# apply NVDFeedPreprocessor transformation to extract relevant attributes\n",
    "nvd_prep = toolkit.preprocessing.NVDFeedPreprocessor(\n",
    "    attributes=['description']\n",
    ")\n",
    "\n",
    "# apply `transform` on the initial DATA\n",
    "data = nvd_prep.transform(DATA)"
   ]
  },
  {
   "cell_type": "code",
   "execution_count": 4,
   "metadata": {},
   "outputs": [],
   "source": [
    "# clear the instances so that it could be redefined\n",
    "toolkit.transformers.Hook.clear_current_instances()\n",
    "\n",
    "label_hook = toolkit.transformers.Hook(\n",
    "    key='label_hook',\n",
    "    # use the find_ function as a labeling hook - it searches the description for the\n",
    "    # project name and returns it as a label, if applicable\n",
    "    func=toolkit.utils.find_\n",
    ")"
   ]
  },
  {
   "cell_type": "code",
   "execution_count": 5,
   "metadata": {},
   "outputs": [],
   "source": [
    "# apply LabelPreprocessor to assign labels for future training\n",
    "label_prep = toolkit.preprocessing.LabelPreprocessor(\n",
    "    feed_attributes=['project', 'description'],\n",
    "    output_attributes=['description'],\n",
    "    hook=label_hook\n",
    ")\n",
    "\n",
    "# apply `fit_transform` on the data outputed by NVDFeedPreprocessor\n",
    "labeled_data = label_prep.fit_transform(data)"
   ]
  },
  {
   "cell_type": "code",
   "execution_count": 6,
   "metadata": {},
   "outputs": [],
   "source": [
    "# apply NLTKPreprocessor\n",
    "nltk_prep = toolkit.preprocessing.NLTKPreprocessor()\n",
    "\n",
    "# apply `fit_transform` on the data outputed by LabelPreprocessor\n",
    "processed_data = nltk_prep.fit_transform(\n",
    "    X=labeled_data,\n",
    "    feed_attributes=['description'],\n",
    "    output_attributes=['label']\n",
    ")"
   ]
  },
  {
   "cell_type": "code",
   "execution_count": 7,
   "metadata": {},
   "outputs": [
    {
     "data": {
      "text/plain": [
       "(1469,\n",
       " Series(values=[('The', 'DET'), ('hidden-service', 'ADJ'), ('feature', 'NOUN'), ('in', 'ADP'), ('Tor', 'NOUN'), ('before', 'ADP'), ('0.3.0.8', 'NUM'), ('allows', 'VERB'), ('a', 'DET'), ('denial', 'NOUN'), ('of', 'ADP'), ('service', 'NOUN'), ('assertion', 'ADJ'), ('failure', 'NOUN'), ('and', 'CONJ'), ('daemon', 'ADJ'), ('exit', 'NOUN'), ('in', 'ADP'), ('the', 'DET'), ('relay_send_end_cell_from_edge_', 'NOUN'), ('function', 'NOUN'), ('via', 'ADP'), ('a', 'DET'), ('malformed', 'ADJ'), ('BEGIN', 'NOUN'), ('cell', 'NOUN')], label='Tor'))"
      ]
     },
     "execution_count": 7,
     "metadata": {},
     "output_type": "execute_result"
    }
   ],
   "source": [
    "len(processed_data), processed_data[0]"
   ]
  },
  {
   "cell_type": "markdown",
   "metadata": {},
   "source": [
    "## Preprocessing Example with sklrearn Pipeline"
   ]
  },
  {
   "cell_type": "code",
   "execution_count": 8,
   "metadata": {},
   "outputs": [],
   "source": [
    "from sklearn.pipeline import Pipeline"
   ]
  },
  {
   "cell_type": "code",
   "execution_count": 9,
   "metadata": {},
   "outputs": [],
   "source": [
    "# clear all the hook instances\n",
    "toolkit.transformers.Hook.clear_current_instances()"
   ]
  },
  {
   "cell_type": "code",
   "execution_count": 10,
   "metadata": {},
   "outputs": [],
   "source": [
    "# create pipeline\n",
    "pipeline = Pipeline(\n",
    "    steps=[\n",
    "        (\n",
    "            'nvd_feed_preprocessor',\n",
    "            toolkit.preprocessing.NVDFeedPreprocessor(attributes=['description'])\n",
    "        ),\n",
    "        (\n",
    "            'label_preprocessor', \n",
    "            toolkit.preprocessing.LabelPreprocessor(\n",
    "                feed_attributes=['project', 'description'],\n",
    "                output_attributes=['description'],\n",
    "                hook=toolkit.transformers.Hook(\n",
    "                    key='label_hook', func=toolkit.utils.find_\n",
    "                )\n",
    "            )\n",
    "        ),\n",
    "        (\n",
    "            'nltk_preprocessor',\n",
    "            toolkit.preprocessing.NLTKPreprocessor()\n",
    "        )\n",
    "    ]\n",
    ")"
   ]
  },
  {
   "cell_type": "code",
   "execution_count": 11,
   "metadata": {},
   "outputs": [],
   "source": [
    "steps, preps = list(zip(*pipeline.steps))\n",
    "\n",
    "# set up fit parameters (see sklearn fit_params notation)\n",
    "fit_params = {\n",
    "    \"%s__feed_attributes\" % steps[2]: ['description'],\n",
    "    \"%s__output_attributes\" % steps[2]: ['label']\n",
    "}\n",
    "# in order to apply tokenization along with the labeling, we can make use of the `feed_attributes` argument,\n",
    "# for the **fit_params argument notation and per-step feed definitions, take a look at the\n",
    "# sklearn Pipeline documentation\n",
    "pipeline_output = pipeline.fit_transform(X=DATA, **fit_params)"
   ]
  },
  {
   "cell_type": "code",
   "execution_count": 12,
   "metadata": {},
   "outputs": [
    {
     "data": {
      "text/plain": [
       "(1469,\n",
       " Series(values=[('The', 'DET'), ('hidden-service', 'ADJ'), ('feature', 'NOUN'), ('in', 'ADP'), ('Tor', 'NOUN'), ('before', 'ADP'), ('0.3.0.8', 'NUM'), ('allows', 'VERB'), ('a', 'DET'), ('denial', 'NOUN'), ('of', 'ADP'), ('service', 'NOUN'), ('assertion', 'ADJ'), ('failure', 'NOUN'), ('and', 'CONJ'), ('daemon', 'ADJ'), ('exit', 'NOUN'), ('in', 'ADP'), ('the', 'DET'), ('relay_send_end_cell_from_edge_', 'NOUN'), ('function', 'NOUN'), ('via', 'ADP'), ('a', 'DET'), ('malformed', 'ADJ'), ('BEGIN', 'NOUN'), ('cell', 'NOUN')], label='Tor'))"
      ]
     },
     "execution_count": 12,
     "metadata": {},
     "output_type": "execute_result"
    }
   ],
   "source": [
    "len(pipeline_output), pipeline_output[0]"
   ]
  },
  {
   "cell_type": "code",
   "execution_count": 13,
   "metadata": {},
   "outputs": [],
   "source": [
    "import numpy as np"
   ]
  },
  {
   "cell_type": "code",
   "execution_count": 14,
   "metadata": {},
   "outputs": [
    {
     "data": {
      "text/plain": [
       "True"
      ]
     },
     "execution_count": 14,
     "metadata": {},
     "output_type": "execute_result"
    }
   ],
   "source": [
    "# check that the outputs are the same\n",
    "(np.array(pipeline_output) == np.array(processed_data)).all()"
   ]
  },
  {
   "cell_type": "code",
   "execution_count": 15,
   "metadata": {},
   "outputs": [
    {
     "data": {
      "text/plain": [
       "[Series(values=[('The', 'DET'), ('hidden-service', 'ADJ'), ('feature', 'NOUN'), ('in', 'ADP'), ('Tor', 'NOUN'), ('before', 'ADP'), ('0.3.0.8', 'NUM'), ('allows', 'VERB'), ('a', 'DET'), ('denial', 'NOUN'), ('of', 'ADP'), ('service', 'NOUN'), ('assertion', 'ADJ'), ('failure', 'NOUN'), ('and', 'CONJ'), ('daemon', 'ADJ'), ('exit', 'NOUN'), ('in', 'ADP'), ('the', 'DET'), ('relay_send_end_cell_from_edge_', 'NOUN'), ('function', 'NOUN'), ('via', 'ADP'), ('a', 'DET'), ('malformed', 'ADJ'), ('BEGIN', 'NOUN'), ('cell', 'NOUN')], label='Tor'),\n",
       " Series(values=[('The', 'DET'), ('hidden-service', 'ADJ'), ('feature', 'NOUN'), ('in', 'ADP'), ('Tor', 'NOUN'), ('before', 'ADP'), ('0.3.0.8', 'NUM'), ('allows', 'VERB'), ('a', 'DET'), ('denial', 'NOUN'), ('of', 'ADP'), ('service', 'NOUN'), ('assertion', 'ADJ'), ('failure', 'NOUN'), ('and', 'CONJ'), ('daemon', 'ADJ'), ('exit', 'NOUN'), ('in', 'ADP'), ('the', 'DET'), ('connection_edge_process_relay_cell', 'NOUN'), ('function', 'NOUN'), ('via', 'ADP'), ('a', 'DET'), ('BEGIN_DIR', 'NOUN'), ('cell', 'NOUN'), ('on', 'ADP'), ('a', 'DET'), ('rendezvous', 'ADJ'), ('circuit', 'NOUN')], label='Tor')]"
      ]
     },
     "execution_count": 15,
     "metadata": {},
     "output_type": "execute_result"
    }
   ],
   "source": [
    "# example of the pre-processed data\n",
    "pipeline_output[:2]"
   ]
  },
  {
   "cell_type": "code",
   "execution_count": 16,
   "metadata": {},
   "outputs": [
    {
     "data": {
      "text/plain": [
       "array([[list([('The', 'DET'), ('hidden-service', 'ADJ'), ('feature', 'NOUN'), ('in', 'ADP'), ('Tor', 'NOUN'), ('before', 'ADP'), ('0.3.0.8', 'NUM'), ('allows', 'VERB'), ('a', 'DET'), ('denial', 'NOUN'), ('of', 'ADP'), ('service', 'NOUN'), ('assertion', 'ADJ'), ('failure', 'NOUN'), ('and', 'CONJ'), ('daemon', 'ADJ'), ('exit', 'NOUN'), ('in', 'ADP'), ('the', 'DET'), ('relay_send_end_cell_from_edge_', 'NOUN'), ('function', 'NOUN'), ('via', 'ADP'), ('a', 'DET'), ('malformed', 'ADJ'), ('BEGIN', 'NOUN'), ('cell', 'NOUN')]),\n",
       "        'Tor'],\n",
       "       [list([('The', 'DET'), ('hidden-service', 'ADJ'), ('feature', 'NOUN'), ('in', 'ADP'), ('Tor', 'NOUN'), ('before', 'ADP'), ('0.3.0.8', 'NUM'), ('allows', 'VERB'), ('a', 'DET'), ('denial', 'NOUN'), ('of', 'ADP'), ('service', 'NOUN'), ('assertion', 'ADJ'), ('failure', 'NOUN'), ('and', 'CONJ'), ('daemon', 'ADJ'), ('exit', 'NOUN'), ('in', 'ADP'), ('the', 'DET'), ('connection_edge_process_relay_cell', 'NOUN'), ('function', 'NOUN'), ('via', 'ADP'), ('a', 'DET'), ('BEGIN_DIR', 'NOUN'), ('cell', 'NOUN'), ('on', 'ADP'), ('a', 'DET'), ('rendezvous', 'ADJ'), ('circuit', 'NOUN')]),\n",
       "        'Tor']], dtype=object)"
      ]
     },
     "execution_count": 16,
     "metadata": {},
     "output_type": "execute_result"
    }
   ],
   "source": [
    "# or as an ndarray\n",
    "np.array(pipeline_output[:2])"
   ]
  }
 ],
 "metadata": {
  "kernelspec": {
   "display_name": "env",
   "language": "python",
   "name": "env"
  },
  "language_info": {
   "codemirror_mode": {
    "name": "ipython",
    "version": 3
   },
   "file_extension": ".py",
   "mimetype": "text/x-python",
   "name": "python",
   "nbconvert_exporter": "python",
   "pygments_lexer": "ipython3",
   "version": "3.6.3"
  }
 },
 "nbformat": 4,
 "nbformat_minor": 2
}
