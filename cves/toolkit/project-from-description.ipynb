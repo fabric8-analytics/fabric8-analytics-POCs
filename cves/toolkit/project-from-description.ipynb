{
 "cells": [
  {
   "cell_type": "code",
   "execution_count": 1,
   "metadata": {
    "extensions": {
     "jupyter_dashboards": {
      "version": 1,
      "views": {
       "grid_default": {
        "hidden": true
       },
       "report_default": {}
      }
     }
    }
   },
   "outputs": [],
   "source": [
    "import os\n",
    "import sys\n",
    "\n",
    "import numpy as np\n",
    "import pandas as pd\n",
    "import matplotlib.pyplot as plt\n",
    "\n",
    "import json\n",
    "\n",
    "from nvdlib.nvd import NVD"
   ]
  },
  {
   "cell_type": "code",
   "execution_count": 2,
   "metadata": {
    "extensions": {
     "jupyter_dashboards": {
      "version": 1,
      "views": {
       "grid_default": {
        "hidden": true
       },
       "report_default": {}
      }
     }
    }
   },
   "outputs": [],
   "source": [
    "import nltk"
   ]
  },
  {
   "cell_type": "code",
   "execution_count": 3,
   "metadata": {
    "extensions": {
     "jupyter_dashboards": {
      "version": 1,
      "views": {
       "grid_default": {
        "hidden": true
       },
       "report_default": {}
      }
     }
    }
   },
   "outputs": [],
   "source": [
    "import ast\n",
    "df = pd.read_csv('dataframe-nvd-2017.csv', converters={'version_range': ast.literal_eval})"
   ]
  },
  {
   "cell_type": "code",
   "execution_count": 4,
   "metadata": {
    "extensions": {
     "jupyter_dashboards": {
      "version": 1,
      "views": {
       "grid_default": {
        "col": 0,
        "height": 4,
        "hidden": true,
        "row": 4,
        "width": 4
       },
       "report_default": {}
      }
     }
    }
   },
   "outputs": [
    {
     "data": {
      "text/html": [
       "<script>requirejs.config({paths: { 'plotly': ['https://cdn.plot.ly/plotly-latest.min']},});if(!window.Plotly) {{require(['plotly'],function(plotly) {window.Plotly=plotly;});}}</script>"
      ],
      "text/vnd.plotly.v1+html": [
       "<script>requirejs.config({paths: { 'plotly': ['https://cdn.plot.ly/plotly-latest.min']},});if(!window.Plotly) {{require(['plotly'],function(plotly) {window.Plotly=plotly;});}}</script>"
      ]
     },
     "metadata": {},
     "output_type": "display_data"
    }
   ],
   "source": [
    "import plotly\n",
    "\n",
    "from plotly import graph_objs as go\n",
    "from plotly.offline import iplot, init_notebook_mode\n",
    "\n",
    "init_notebook_mode(connected=True)"
   ]
  },
  {
   "cell_type": "code",
   "execution_count": 5,
   "metadata": {
    "extensions": {
     "jupyter_dashboards": {
      "version": 1,
      "views": {
       "grid_default": {
        "hidden": true
       },
       "report_default": {}
      }
     }
    }
   },
   "outputs": [],
   "source": [
    "%matplotlib inline"
   ]
  },
  {
   "cell_type": "markdown",
   "metadata": {
    "extensions": {
     "jupyter_dashboards": {
      "version": 1,
      "views": {
       "grid_default": {
        "col": 0,
        "height": 2,
        "hidden": false,
        "row": 0,
        "width": 12
       },
       "report_default": {}
      }
     }
    }
   },
   "source": [
    "## Data preparation\n",
    "\n",
    "\n",
    "The data consists of CPEs with direct reference to GitHub. This way it is possible to label the data with the project name infered from GitHub repository."
   ]
  },
  {
   "cell_type": "code",
   "execution_count": 6,
   "metadata": {
    "extensions": {
     "jupyter_dashboards": {
      "version": 1,
      "views": {
       "grid_default": {
        "hidden": true
       },
       "report_default": {}
      }
     }
    }
   },
   "outputs": [],
   "source": [
    "nvd = NVD.from_feeds(['2017'])"
   ]
  },
  {
   "cell_type": "code",
   "execution_count": 7,
   "metadata": {
    "extensions": {
     "jupyter_dashboards": {
      "version": 1,
      "views": {
       "grid_default": {
        "hidden": true
       },
       "report_default": {}
      }
     }
    }
   },
   "outputs": [],
   "source": [
    "nvd.update()"
   ]
  },
  {
   "cell_type": "code",
   "execution_count": 8,
   "metadata": {
    "extensions": {
     "jupyter_dashboards": {
      "version": 1,
      "views": {
       "grid_default": {
        "hidden": true
       },
       "report_default": {}
      }
     }
    }
   },
   "outputs": [],
   "source": [
    "GH_BASE_URL = u\"http[s]://github.com\""
   ]
  },
  {
   "cell_type": "code",
   "execution_count": 9,
   "metadata": {
    "extensions": {
     "jupyter_dashboards": {
      "version": 1,
      "views": {
       "grid_default": {
        "hidden": true
       },
       "report_default": {}
      }
     }
    },
    "scrolled": true
   },
   "outputs": [],
   "source": [
    "ecos = ['Java', 'JavaScript', 'Python']\n",
    "df_ecos = df[ecos]\n",
    "df_ecos = df[['username', 'project', 'version_range', 'url', *ecos]][df_ecos.any(1)]"
   ]
  },
  {
   "cell_type": "code",
   "execution_count": 10,
   "metadata": {
    "extensions": {
     "jupyter_dashboards": {
      "version": 1,
      "views": {
       "grid_default": {
        "hidden": true
       },
       "report_default": {}
      }
     }
    }
   },
   "outputs": [],
   "source": [
    "import re\n",
    "def get_reference(cve, url=None, pattern=None) -> str:\n",
    "    for ref in cve.references:\n",
    "        if url and url == ref:\n",
    "            return ref\n",
    "\n",
    "        if re.search(pattern, ref):\n",
    "            return ref\n",
    "\n",
    "    return None"
   ]
  },
  {
   "cell_type": "code",
   "execution_count": 11,
   "metadata": {
    "extensions": {
     "jupyter_dashboards": {
      "version": 1,
      "views": {
       "grid_default": {
        "hidden": true
       },
       "report_default": {}
      }
     }
    }
   },
   "outputs": [],
   "source": [
    "def strip_src_url(url: str):\n",
    "    \"\"\"ATM assume that the only reference to source is github.\"\"\"\n",
    "    url_base_pattern = u\"http[s]://github.com/([\\w-]+)/([\\w-]+[.]*[\\w-]+)\"\n",
    "    strip_url = re.search(url_base_pattern, url)\n",
    "    \n",
    "    if not strip_url:\n",
    "        print(url)\n",
    "        return None\n",
    "    \n",
    "    return strip_url[0]"
   ]
  },
  {
   "cell_type": "code",
   "execution_count": 12,
   "metadata": {
    "extensions": {
     "jupyter_dashboards": {
      "version": 1,
      "views": {
       "grid_default": {
        "hidden": true
       },
       "report_default": {}
      }
     }
    }
   },
   "outputs": [],
   "source": [
    "# Get descriptions and append them to the current DataFrame to avoid recreating a new one from scratch\n",
    "cves = dict()\n",
    "cve_list = list()\n",
    "\n",
    "for cve in nvd.cves():\n",
    "    ref = get_reference(cve, pattern=\"http[s]://github.com\")\n",
    "    if ref is None:\n",
    "        continue\n",
    "        \n",
    "    ref = strip_src_url(ref)\n",
    "    cve_list.append((cve.cve_id, ref, cve.description))\n",
    "    cves[cve.cve_id] = cve"
   ]
  },
  {
   "cell_type": "code",
   "execution_count": 13,
   "metadata": {
    "extensions": {
     "jupyter_dashboards": {
      "version": 1,
      "views": {
       "grid_default": {
        "hidden": true
       },
       "report_default": {}
      }
     }
    },
    "scrolled": true
   },
   "outputs": [],
   "source": [
    "df_desc = pd.DataFrame(cve_list, columns=['cve_id', 'url', 'description'])"
   ]
  },
  {
   "cell_type": "code",
   "execution_count": 14,
   "metadata": {
    "extensions": {
     "jupyter_dashboards": {
      "version": 1,
      "views": {
       "grid_default": {
        "hidden": true
       },
       "report_default": {}
      }
     }
    }
   },
   "outputs": [],
   "source": [
    "df = pd.merge(df_ecos, df_desc, how='inner', on='url').set_index(['username', 'project'])\n",
    "del df_desc"
   ]
  },
  {
   "cell_type": "code",
   "execution_count": 15,
   "metadata": {
    "extensions": {
     "jupyter_dashboards": {
      "version": 1,
      "views": {
       "grid_default": {
        "hidden": true
       },
       "report_default": {}
      }
     }
    }
   },
   "outputs": [],
   "source": [
    "df.columns.tolist()\n",
    "df = df[[\n",
    "    'cve_id',\n",
    "    'url',\n",
    "    'description',\n",
    "    'version_range',\n",
    "    'Java',\n",
    "    'JavaScript',\n",
    "    'Python',\n",
    "]]"
   ]
  },
  {
   "cell_type": "markdown",
   "metadata": {
    "extensions": {
     "jupyter_dashboards": {
      "version": 1,
      "views": {
       "grid_default": {
        "col": 0,
        "height": 2,
        "hidden": false,
        "row": 2,
        "width": 12
       },
       "report_default": {}
      }
     }
    }
   },
   "source": [
    "Sample of the initial unlabeled data for the 3 ecosystems"
   ]
  },
  {
   "cell_type": "code",
   "execution_count": 16,
   "metadata": {
    "extensions": {
     "jupyter_dashboards": {
      "version": 1,
      "views": {
       "grid_default": {
        "col": 0,
        "height": 13,
        "hidden": false,
        "row": 4,
        "width": 12
       },
       "report_default": {}
      }
     }
    }
   },
   "outputs": [
    {
     "data": {
      "text/html": [
       "<div>\n",
       "<style>\n",
       "    .dataframe thead tr:only-child th {\n",
       "        text-align: right;\n",
       "    }\n",
       "\n",
       "    .dataframe thead th {\n",
       "        text-align: left;\n",
       "    }\n",
       "\n",
       "    .dataframe tbody tr th {\n",
       "        vertical-align: top;\n",
       "    }\n",
       "</style>\n",
       "<table border=\"1\" class=\"dataframe\">\n",
       "  <thead>\n",
       "    <tr style=\"text-align: right;\">\n",
       "      <th></th>\n",
       "      <th></th>\n",
       "      <th>cve_id</th>\n",
       "      <th>url</th>\n",
       "      <th>description</th>\n",
       "      <th>version_range</th>\n",
       "      <th>Java</th>\n",
       "      <th>JavaScript</th>\n",
       "      <th>Python</th>\n",
       "    </tr>\n",
       "    <tr>\n",
       "      <th>username</th>\n",
       "      <th>project</th>\n",
       "      <th></th>\n",
       "      <th></th>\n",
       "      <th></th>\n",
       "      <th></th>\n",
       "      <th></th>\n",
       "      <th></th>\n",
       "      <th></th>\n",
       "    </tr>\n",
       "  </thead>\n",
       "  <tbody>\n",
       "    <tr>\n",
       "      <th>libjpeg-turbo</th>\n",
       "      <th>libjpeg-turbo</th>\n",
       "      <td>CVE-2017-15232</td>\n",
       "      <td>https://github.com/libjpeg-turbo/libjpeg-turbo</td>\n",
       "      <td>libjpeg-turbo 1.5.2 has a NULL Pointer Derefer...</td>\n",
       "      <td>(1.5.2, 1.5.2)</td>\n",
       "      <td>213453</td>\n",
       "      <td>0</td>\n",
       "      <td>0</td>\n",
       "    </tr>\n",
       "    <tr>\n",
       "      <th>RocketChat</th>\n",
       "      <th>Rocket.Chat</th>\n",
       "      <td>CVE-2017-1000493</td>\n",
       "      <td>https://github.com/RocketChat/Rocket.Chat</td>\n",
       "      <td>Rocket.Chat Server version 0.59 and prior is v...</td>\n",
       "      <td>(0.59, 0.59)</td>\n",
       "      <td>0</td>\n",
       "      <td>3347754</td>\n",
       "      <td>0</td>\n",
       "    </tr>\n",
       "    <tr>\n",
       "      <th>kanboard</th>\n",
       "      <th>kanboard</th>\n",
       "      <td>CVE-2017-15208</td>\n",
       "      <td>https://github.com/kanboard/kanboard</td>\n",
       "      <td>In Kanboard before 1.0.47, by altering form da...</td>\n",
       "      <td>(1.0.45, 1.0.45)</td>\n",
       "      <td>0</td>\n",
       "      <td>121222</td>\n",
       "      <td>0</td>\n",
       "    </tr>\n",
       "    <tr>\n",
       "      <th>Dolibarr</th>\n",
       "      <th>dolibarr</th>\n",
       "      <td>CVE-2017-14241</td>\n",
       "      <td>https://github.com/Dolibarr/dolibarr</td>\n",
       "      <td>Cross-site scripting (XSS) vulnerability in Do...</td>\n",
       "      <td>(6.0.2, 6.0.2)</td>\n",
       "      <td>0</td>\n",
       "      <td>15325771</td>\n",
       "      <td>12067</td>\n",
       "    </tr>\n",
       "    <tr>\n",
       "      <th>torvalds</th>\n",
       "      <th>linux</th>\n",
       "      <td>CVE-2017-15649</td>\n",
       "      <td>https://github.com/torvalds/linux</td>\n",
       "      <td>net/packet/af_packet.c in the Linux kernel bef...</td>\n",
       "      <td>(None, None)</td>\n",
       "      <td>0</td>\n",
       "      <td>0</td>\n",
       "      <td>585014</td>\n",
       "    </tr>\n",
       "  </tbody>\n",
       "</table>\n",
       "</div>"
      ],
      "text/plain": [
       "                                       cve_id  \\\n",
       "username      project                           \n",
       "libjpeg-turbo libjpeg-turbo    CVE-2017-15232   \n",
       "RocketChat    Rocket.Chat    CVE-2017-1000493   \n",
       "kanboard      kanboard         CVE-2017-15208   \n",
       "Dolibarr      dolibarr         CVE-2017-14241   \n",
       "torvalds      linux            CVE-2017-15649   \n",
       "\n",
       "                                                                        url  \\\n",
       "username      project                                                         \n",
       "libjpeg-turbo libjpeg-turbo  https://github.com/libjpeg-turbo/libjpeg-turbo   \n",
       "RocketChat    Rocket.Chat         https://github.com/RocketChat/Rocket.Chat   \n",
       "kanboard      kanboard                 https://github.com/kanboard/kanboard   \n",
       "Dolibarr      dolibarr                 https://github.com/Dolibarr/dolibarr   \n",
       "torvalds      linux                       https://github.com/torvalds/linux   \n",
       "\n",
       "                                                                   description  \\\n",
       "username      project                                                            \n",
       "libjpeg-turbo libjpeg-turbo  libjpeg-turbo 1.5.2 has a NULL Pointer Derefer...   \n",
       "RocketChat    Rocket.Chat    Rocket.Chat Server version 0.59 and prior is v...   \n",
       "kanboard      kanboard       In Kanboard before 1.0.47, by altering form da...   \n",
       "Dolibarr      dolibarr       Cross-site scripting (XSS) vulnerability in Do...   \n",
       "torvalds      linux          net/packet/af_packet.c in the Linux kernel bef...   \n",
       "\n",
       "                                version_range    Java  JavaScript  Python  \n",
       "username      project                                                      \n",
       "libjpeg-turbo libjpeg-turbo    (1.5.2, 1.5.2)  213453           0       0  \n",
       "RocketChat    Rocket.Chat        (0.59, 0.59)       0     3347754       0  \n",
       "kanboard      kanboard       (1.0.45, 1.0.45)       0      121222       0  \n",
       "Dolibarr      dolibarr         (6.0.2, 6.0.2)       0    15325771   12067  \n",
       "torvalds      linux              (None, None)       0           0  585014  "
      ]
     },
     "execution_count": 16,
     "metadata": {},
     "output_type": "execute_result"
    }
   ],
   "source": [
    "df.sample(frac=0.1).head()"
   ]
  },
  {
   "cell_type": "markdown",
   "metadata": {
    "extensions": {
     "jupyter_dashboards": {
      "version": 1,
      "views": {
       "grid_default": {
        "col": 0,
        "height": 4,
        "hidden": false,
        "row": 17,
        "width": 12
       },
       "report_default": {}
      }
     }
    }
   },
   "source": [
    "### Create toy data set\n",
    "\n",
    "For the purpose of quicker evaluation of feature extractos and classification accuracy, toy data set will be created.\n",
    "\n",
    "A small portion (about $10%$) of random samples will be taken from the dataset filtered on the Java ecosystem (when Java works... the rest of it will, too)."
   ]
  },
  {
   "cell_type": "code",
   "execution_count": 17,
   "metadata": {
    "extensions": {
     "jupyter_dashboards": {
      "version": 1,
      "views": {
       "grid_default": {
        "hidden": true
       },
       "report_default": {}
      }
     }
    }
   },
   "outputs": [],
   "source": [
    "toy_df = df[['cve_id', 'description']][df.Java > 1E2]"
   ]
  },
  {
   "cell_type": "code",
   "execution_count": 18,
   "metadata": {
    "extensions": {
     "jupyter_dashboards": {
      "version": 1,
      "views": {
       "grid_default": {
        "hidden": true
       },
       "report_default": {}
      }
     }
    }
   },
   "outputs": [],
   "source": [
    "# label_tuple are a position of the project token in the token list\n",
    "label_tuple = [None] * len(toy_df)\n",
    "for i, (index, row) in enumerate(toy_df.iterrows()):\n",
    "    proj = index[1].lower()\n",
    "    desc = row.description.lower()\n",
    "    # find the position of proj in the description, if applicable\n",
    "    tokens = nltk.word_tokenize(desc)\n",
    "    found = False\n",
    "    for pos, token in enumerate(tokens):\n",
    "        if token == proj:\n",
    "            found = True\n",
    "            break\n",
    "    if not found:\n",
    "        pos = None\n",
    "    label_tuple[i] = (row.cve_id, token, pos)\n",
    "\n",
    "# turn index into series\n",
    "label_series = pd.DataFrame(label_tuple, columns=['cve_id', 'label', 'pos'])\n",
    "\n",
    "del label_tuple"
   ]
  },
  {
   "cell_type": "code",
   "execution_count": 19,
   "metadata": {
    "extensions": {
     "jupyter_dashboards": {
      "version": 1,
      "views": {
       "grid_default": {
        "hidden": true
       },
       "report_default": {}
      }
     }
    }
   },
   "outputs": [],
   "source": [
    "toy_df = toy_df.reset_index().merge(label_series, how='outer', on='cve_id').set_index(['username', 'project'])"
   ]
  },
  {
   "cell_type": "code",
   "execution_count": 20,
   "metadata": {
    "extensions": {
     "jupyter_dashboards": {
      "version": 1,
      "views": {
       "grid_default": {
        "hidden": true
       },
       "report_default": {}
      }
     }
    }
   },
   "outputs": [],
   "source": [
    "# remove the projects where no project name was found\n",
    "toy_df = toy_df[toy_df.pos.notnull()]"
   ]
  },
  {
   "cell_type": "markdown",
   "metadata": {
    "extensions": {
     "jupyter_dashboards": {
      "version": 1,
      "views": {
       "grid_default": {
        "col": 0,
        "height": 2,
        "hidden": false,
        "row": 21,
        "width": 12
       },
       "report_default": {}
      }
     }
    }
   },
   "source": [
    "Sample of the labeled toy dataset"
   ]
  },
  {
   "cell_type": "code",
   "execution_count": 21,
   "metadata": {
    "extensions": {
     "jupyter_dashboards": {
      "version": 1,
      "views": {
       "grid_default": {
        "col": 0,
        "height": 10,
        "hidden": false,
        "row": 23,
        "width": 12
       },
       "report_default": {}
      }
     }
    },
    "scrolled": true
   },
   "outputs": [
    {
     "data": {
      "text/html": [
       "<div>\n",
       "<style>\n",
       "    .dataframe thead tr:only-child th {\n",
       "        text-align: right;\n",
       "    }\n",
       "\n",
       "    .dataframe thead th {\n",
       "        text-align: left;\n",
       "    }\n",
       "\n",
       "    .dataframe tbody tr th {\n",
       "        vertical-align: top;\n",
       "    }\n",
       "</style>\n",
       "<table border=\"1\" class=\"dataframe\">\n",
       "  <thead>\n",
       "    <tr style=\"text-align: right;\">\n",
       "      <th></th>\n",
       "      <th></th>\n",
       "      <th>cve_id</th>\n",
       "      <th>description</th>\n",
       "      <th>label</th>\n",
       "      <th>pos</th>\n",
       "    </tr>\n",
       "    <tr>\n",
       "      <th>username</th>\n",
       "      <th>project</th>\n",
       "      <th></th>\n",
       "      <th></th>\n",
       "      <th></th>\n",
       "      <th></th>\n",
       "    </tr>\n",
       "  </thead>\n",
       "  <tbody>\n",
       "    <tr>\n",
       "      <th>webmin</th>\n",
       "      <th>webmin</th>\n",
       "      <td>CVE-2017-17089</td>\n",
       "      <td>custom/run.cgi in Webmin before 1.870 allows r...</td>\n",
       "      <td>webmin</td>\n",
       "      <td>2.0</td>\n",
       "    </tr>\n",
       "    <tr>\n",
       "      <th>eldy</th>\n",
       "      <th>awstats</th>\n",
       "      <td>CVE-2017-1000501</td>\n",
       "      <td>Awstats version 7.6 and earlier is vulnerable ...</td>\n",
       "      <td>awstats</td>\n",
       "      <td>0.0</td>\n",
       "    </tr>\n",
       "    <tr>\n",
       "      <th>BigBadaboom</th>\n",
       "      <th>androidsvg</th>\n",
       "      <td>CVE-2017-1000498</td>\n",
       "      <td>AndroidSVG version 1.2.2 is vulnerable to XXE ...</td>\n",
       "      <td>androidsvg</td>\n",
       "      <td>0.0</td>\n",
       "    </tr>\n",
       "    <tr>\n",
       "      <th>libming</th>\n",
       "      <th>libming</th>\n",
       "      <td>CVE-2017-9988</td>\n",
       "      <td>The readEncUInt30 function in util/read.c in l...</td>\n",
       "      <td>libming</td>\n",
       "      <td>6.0</td>\n",
       "    </tr>\n",
       "    <tr>\n",
       "      <th>opencv</th>\n",
       "      <th>opencv</th>\n",
       "      <td>CVE-2017-12862</td>\n",
       "      <td>In modules/imgcodecs/src/grfmt_pxm.cpp, the le...</td>\n",
       "      <td>opencv</td>\n",
       "      <td>42.0</td>\n",
       "    </tr>\n",
       "  </tbody>\n",
       "</table>\n",
       "</div>"
      ],
      "text/plain": [
       "                                  cve_id  \\\n",
       "username    project                        \n",
       "webmin      webmin        CVE-2017-17089   \n",
       "eldy        awstats     CVE-2017-1000501   \n",
       "BigBadaboom androidsvg  CVE-2017-1000498   \n",
       "libming     libming        CVE-2017-9988   \n",
       "opencv      opencv        CVE-2017-12862   \n",
       "\n",
       "                                                              description  \\\n",
       "username    project                                                         \n",
       "webmin      webmin      custom/run.cgi in Webmin before 1.870 allows r...   \n",
       "eldy        awstats     Awstats version 7.6 and earlier is vulnerable ...   \n",
       "BigBadaboom androidsvg  AndroidSVG version 1.2.2 is vulnerable to XXE ...   \n",
       "libming     libming     The readEncUInt30 function in util/read.c in l...   \n",
       "opencv      opencv      In modules/imgcodecs/src/grfmt_pxm.cpp, the le...   \n",
       "\n",
       "                             label   pos  \n",
       "username    project                       \n",
       "webmin      webmin          webmin   2.0  \n",
       "eldy        awstats        awstats   0.0  \n",
       "BigBadaboom androidsvg  androidsvg   0.0  \n",
       "libming     libming        libming   6.0  \n",
       "opencv      opencv          opencv  42.0  "
      ]
     },
     "execution_count": 21,
     "metadata": {},
     "output_type": "execute_result"
    }
   ],
   "source": [
    "toy_df.sample(frac=0.5).head()"
   ]
  },
  {
   "cell_type": "markdown",
   "metadata": {
    "extensions": {
     "jupyter_dashboards": {
      "version": 1,
      "views": {
       "grid_default": {
        "col": 0,
        "height": 5,
        "hidden": false,
        "row": 33,
        "width": 12
       },
       "report_default": {}
      }
     }
    }
   },
   "source": [
    "## Classificator training and evaluation\n",
    "\n",
    "Model chosen for this approach will make use of Naive Bayes classification.\n",
    "\n",
    "Since it is unknown whether the current data evince a latent pattern, multiple feature extractors will be suggested and evaluated."
   ]
  },
  {
   "cell_type": "code",
   "execution_count": 22,
   "metadata": {
    "extensions": {
     "jupyter_dashboards": {
      "version": 1,
      "views": {
       "grid_default": {
        "hidden": true
       },
       "report_default": {}
      }
     }
    }
   },
   "outputs": [],
   "source": [
    "def similar(word, cpes) -> bool:\n",
    "    for cpe in cpes:\n",
    "        vendor, = cpe.vendor\n",
    "        product, = cpe.product\n",
    "#         if word.lower() in {vendor.lower(), product.lower()}:\n",
    "        if product.lower().find(word.lower()) != -1:\n",
    "            return True\n",
    "    \n",
    "    return False"
   ]
  },
  {
   "cell_type": "code",
   "execution_count": 23,
   "metadata": {
    "extensions": {
     "jupyter_dashboards": {
      "version": 1,
      "views": {
       "grid_default": {
        "hidden": true
       },
       "report_default": {}
      }
     }
    }
   },
   "outputs": [],
   "source": [
    "def create_feature_list_long(feature_extractor, sents, labels, cve_ids) -> list:\n",
    "    \"\"\"Uses all sentences to create feature list given feature extractor.\"\"\"\n",
    "    feature_list = list()\n",
    "    for i, desc in enumerate(sents):\n",
    "        label = labels[i]\n",
    "        tagged_sent = nltk.pos_tag(nltk.word_tokenize(desc), tagset='universal')\n",
    "        for j, (word, tag) in enumerate(tagged_sent):\n",
    "            is_label = word.lower() == label.lower()\n",
    "            features = feature_extractor(tagged_sent, j, cve_ids[i])\n",
    "            feature_list.append((features, is_label))\n",
    "    \n",
    "    return feature_list"
   ]
  },
  {
   "cell_type": "code",
   "execution_count": 24,
   "metadata": {
    "extensions": {
     "jupyter_dashboards": {
      "version": 1,
      "views": {
       "grid_default": {
        "hidden": true
       },
       "report_default": {}
      }
     }
    }
   },
   "outputs": [],
   "source": [
    "def eval_accuracy(classifier, extractor, sentences: list, labels: list,\n",
    "                  cve_ids: list, n=1, verbose=False) -> float:\n",
    "    \"\"\"Evaluate accuracy using raw classificator output.\"\"\"\n",
    "    from collections import Counter\n",
    "    \n",
    "    assert len(sentences) == len(labels)\n",
    "    \n",
    "    accurates = [None] * len(labels)\n",
    "    for i, sent in enumerate(sentences):\n",
    "        tagged = nltk.pos_tag(nltk.word_tokenize(sent), tagset='universal')\n",
    "        prob_dist = [classifier.prob_classify(extractor(tagged, j, cve_ids[i])) for j in range(len(tagged))]\n",
    "        probs = [(word, tag, prob.prob(True)) for (word, tag), prob in zip(tagged, prob_dist)]\n",
    "        probs  = sorted(probs, key=lambda x: x[2], reverse=True)\n",
    "        \n",
    "        most_prob = set([prob[0].lower() for prob in probs[:n]])\n",
    "        accurates[i] = labels[i].lower() in most_prob\n",
    "    \n",
    "        if verbose:\n",
    "            print('Sentence: ', sent)\n",
    "            print('Expected: `%s`' % labels[i], 'got: `%s`' % most_prob, '\\n')\n",
    "    \n",
    "    bag = Counter(accurates)\n",
    "    return bag[True] / len(labels)"
   ]
  },
  {
   "cell_type": "code",
   "execution_count": 25,
   "metadata": {
    "extensions": {
     "jupyter_dashboards": {
      "version": 1,
      "views": {
       "grid_default": {
        "hidden": true
       },
       "report_default": {}
      }
     }
    }
   },
   "outputs": [],
   "source": [
    "blacklist = set(nltk.corpus.stopwords.words())\n",
    "blacklist.update(set(['kernel', 'function', 'version', 'functions', 'versions', '<', '=', '.', '>']))\n",
    "\n",
    "def predict(sent, classifier, extractor, cve_id, n=1, verbose=False) -> list:\n",
    "    tagged = nltk.pos_tag(nltk.word_tokenize(sent), tagset='universal')\n",
    "    \n",
    "    prob_dist = [classifier.prob_classify(extractor(tagged, j, cve_id)) for j in range(len(tagged))]\n",
    "    probs = set([(word.lower(), prob.prob(True)) for (word, tag), prob in zip(tagged, prob_dist)\n",
    "                 if word.lower() not in blacklist and tag != 'NUM'\n",
    "                ])\n",
    "    \n",
    "    probs = sorted(probs, key=lambda x: x[1], reverse=True)\n",
    "    if verbose:\n",
    "        print(probs)\n",
    "    return probs[:n]"
   ]
  },
  {
   "cell_type": "code",
   "execution_count": 26,
   "metadata": {
    "extensions": {
     "jupyter_dashboards": {
      "version": 1,
      "views": {
       "grid_default": {
        "hidden": true
       },
       "report_default": {}
      }
     }
    }
   },
   "outputs": [],
   "source": [
    "def eval_accuracy_spec(classifier, extractor, sentences: list, labels: list, cve_ids: list,\n",
    "                       n=1, verbose=False) -> float:\n",
    "    \"\"\"Evaluate accuracy using predict function.\n",
    "    This also filters out blacklisted words and stopwords.\n",
    "    \"\"\"\n",
    "    from collections import Counter\n",
    "    \n",
    "    assert len(sentences) == len(labels)\n",
    "    \n",
    "    accurates = [None] * len(labels)\n",
    "    for i, sent in enumerate(sentences):\n",
    "        probs = predict(sent, classifier, extractor, cve_ids[i], n)\n",
    "        \n",
    "        most_prob = set([p[0].lower() for p in probs])\n",
    "        \n",
    "        accurates[i] = False\n",
    "        for prob in most_prob:\n",
    "            if labels[i].lower().find(prob) != -1:\n",
    "                accurates[i] = True\n",
    "    \n",
    "        if not accurates[i] and verbose:\n",
    "            print('Sentence: ', sent)\n",
    "            print('Expected: `%s`' % labels[i], 'got: `%s`' % most_prob, '\\n')\n",
    "    \n",
    "    bag = Counter(accurates)\n",
    "    return bag[True] / len(labels)"
   ]
  },
  {
   "cell_type": "code",
   "execution_count": 27,
   "metadata": {
    "extensions": {
     "jupyter_dashboards": {
      "version": 1,
      "views": {
       "grid_default": {
        "hidden": true
       },
       "report_default": {}
      }
     }
    }
   },
   "outputs": [],
   "source": [
    "def extract_features_vanilla(tagged: list, pos: int, cve_id=None):\n",
    "    \"\"\"Extract contextual features from the sentence w.r.t given position of a word.\"\"\"\n",
    "    word, tag = tagged[pos]\n",
    "    features = {\n",
    "        'tag': tag,\n",
    "        'has-uppercase': word[0].isupper(),\n",
    "        'word-len': len(word) > 3,\n",
    "    }\n",
    "    if pos == 0:\n",
    "        features['prev-tag'] = '<start>'\n",
    "    else:\n",
    "        features['prev-word'] = tagged[pos - 1][0].lower()\n",
    "        features['prev-tag'] = tagged[pos - 1][1]\n",
    "        \n",
    "    return features\n",
    "\n",
    "# # Lets not split the dataset here for now\n",
    "# feature_list = create_feature_list_long(extract_features_vanilla, descriptions, labels, cve_ids)\n",
    "\n",
    "# classifier = nltk.NaiveBayesClassifier.train(feature_list)\n",
    "# classifier.show_most_informative_features()\n",
    "\n",
    "# eval_accuracy(classifier, extract_features_vanilla, descriptions, labels, cve_ids, n=1)"
   ]
  },
  {
   "cell_type": "code",
   "execution_count": 28,
   "metadata": {
    "extensions": {
     "jupyter_dashboards": {
      "version": 1,
      "views": {
       "grid_default": {
        "hidden": true
       },
       "report_default": {}
      }
     }
    },
    "scrolled": true
   },
   "outputs": [],
   "source": [
    "def extract_features_v0(tagged: list, pos: int, cve_id=None):\n",
    "    \"\"\"Extract contextual features from the sentence w.r.t given position of a word.\"\"\"\n",
    "    word, tag = tagged[pos]\n",
    "    features = {\n",
    "        'tag': tag,\n",
    "        'word-len': len(word) > 3,\n",
    "    }\n",
    "    if pos == 0:\n",
    "        features['prev-tag'] = '<start>'\n",
    "    else:\n",
    "        if pos > 1:\n",
    "            features['prev-tag'] = tagged[pos - 1][1]\n",
    "            features['prev-bigram'] = \" \".join(w.lower() for w, t in tagged[pos - 2: pos])\n",
    "            \n",
    "        features['prev-word'] = tagged[pos - 1][0].lower()\n",
    "        features['prev-tag'] = tagged[pos - 1][1]\n",
    "        \n",
    "    return features\n",
    "\n",
    "# # Lets not split the dataset here for now\n",
    "# feature_list = create_feature_list_long(extract_features_v0, descriptions, labels, cve_ids)\n",
    "\n",
    "# classifier = nltk.NaiveBayesClassifier.train(feature_list)\n",
    "# classifier.show_most_informative_features()\n",
    "\n",
    "# eval_accuracy(classifier, extract_features_v0, descriptions, labels, cve_ids, n=1)"
   ]
  },
  {
   "cell_type": "code",
   "execution_count": 29,
   "metadata": {
    "extensions": {
     "jupyter_dashboards": {
      "version": 1,
      "views": {
       "grid_default": {
        "hidden": true
       },
       "report_default": {}
      }
     }
    },
    "scrolled": true
   },
   "outputs": [],
   "source": [
    "def extract_features_v1(tagged: list, pos: int, cve_id=None):\n",
    "    \"\"\"Extract contextual features from the sentence w.r.t given position of a word.\"\"\"\n",
    "    word, tag = tagged[pos]\n",
    "    cases = [w.isupper() for w in word]\n",
    "    features = {\n",
    "        'tag': tag,\n",
    "        'has-uppercase': any(cases) and not all(cases),\n",
    "        'vend_prod_match': similar(word, cves[cve_id].get_cpe(cpe_type='a')),\n",
    "        'word-len-threshold': len(word) > 3\n",
    "    }\n",
    "    if pos == 0:\n",
    "        features['prev-tag'] = '<start>'\n",
    "    else:\n",
    "        if pos > 1:\n",
    "            features['prev-tag'] = tagged[pos - 1][1]\n",
    "            features['prev-bigram'] = \" \".join(w.lower() for w, t in tagged[pos - 2: pos])\n",
    "            \n",
    "        features['prev-word'] = tagged[pos - 1][0].lower()\n",
    "        features['prev-tag'] = tagged[pos - 1][1]\n",
    "        \n",
    "    return features\n",
    "\n",
    "# # Lets not split the dataset here for now\n",
    "# feature_list = create_feature_list_long(extract_features_v1, descriptions, labels, cve_ids)\n",
    "\n",
    "# classifier = nltk.NaiveBayesClassifier.train(feature_list)\n",
    "# classifier.show_most_informative_features()\n",
    "\n",
    "# eval_accuracy(classifier, extract_features_v1, descriptions, labels, cve_ids, n=2)\n",
    "# eval_accuracy_spec(classifier, extract_features_v1, descriptions, labels, cve_ids, n=2)"
   ]
  },
  {
   "cell_type": "code",
   "execution_count": 30,
   "metadata": {
    "extensions": {
     "jupyter_dashboards": {
      "version": 1,
      "views": {
       "grid_default": {
        "hidden": true
       },
       "report_default": {}
      }
     }
    }
   },
   "outputs": [],
   "source": [
    "regex_tokenizer = nltk.RegexpTokenizer(pattern=u\"[-_]\", gaps=True)\n",
    "\n",
    "_version_pattern = u\"(\\d[.]?)+[-_]?(\\w)*\""
   ]
  },
  {
   "cell_type": "code",
   "execution_count": 31,
   "metadata": {
    "extensions": {
     "jupyter_dashboards": {
      "version": 1,
      "views": {
       "grid_default": {
        "hidden": true
       },
       "report_default": {}
      }
     }
    }
   },
   "outputs": [],
   "source": [
    "def extract_features_v2(tagged: list, pos: int, cve_id=None):\n",
    "    \"\"\"Extract contextual features from the sentence w.r.t given position of a word.\"\"\"\n",
    "    word, tag = tagged[pos]\n",
    "    word, tag = tagged[pos]\n",
    "    # retag if necessary\n",
    "    if re.match(_version_pattern, word) and tag != 'NUM':\n",
    "        tag = 'NUM'\n",
    "        tagged[pos] = word, tag\n",
    "        \n",
    "    features = {\n",
    "        'tag': tag,\n",
    "        'word-len': len(word) > 3,\n",
    "        'has-uppercase': any(w.isupper() for w in word),\n",
    "        'vend_prod_match': similar(word, cves[cve_id].get_cpe(cpe_type='a')),\n",
    "    }\n",
    "    if pos == 0:\n",
    "        features['prev-tag'] = '<start>'\n",
    "    else:\n",
    "        if pos > 1:\n",
    "            features['prev-bigram'] = \" \".join(w.lower() for w, t in tagged[pos - 2: pos])\n",
    "            \n",
    "        if pos < len(tagged):    \n",
    "            features['next-bigram'] = \" \".join(w.lower() for w, t in tagged[pos + 1: pos + 3])\n",
    "            features['next-bigram-tags'] = \" \".join(t for w, t in tagged[pos + 1: pos + 3])\n",
    "            \n",
    "        features['prev-tag'] = tagged[pos - 1][1]\n",
    "        features['prev-word'] = tagged[pos - 1][0].lower()\n",
    "        \n",
    "        \n",
    "    return features\n",
    "\n",
    "# # Lets not split the dataset here for now\n",
    "# feature_list = create_feature_list_long(extract_features_v2, descriptions, labels, cve_ids)\n",
    "\n",
    "# classifier = nltk.NaiveBayesClassifier.train(feature_list)\n",
    "# classifier.show_most_informative_features()\n",
    "\n",
    "# eval_accuracy(classifier, extract_features_v2, descriptions, labels, cve_ids, n=1)\n",
    "# eval_accuracy_spec(classifier, extract_features_v2, descriptions, labels, cve_ids, n=1)"
   ]
  },
  {
   "cell_type": "code",
   "execution_count": 32,
   "metadata": {
    "extensions": {
     "jupyter_dashboards": {
      "version": 1,
      "views": {
       "grid_default": {
        "hidden": true
       },
       "report_default": {}
      }
     }
    },
    "scrolled": true
   },
   "outputs": [],
   "source": [
    "def extract_features_v3(tagged: list, pos: int, cve_id=None):\n",
    "    \"\"\"Extract contextual features from the sentence w.r.t given position of a word.\"\"\"\n",
    "    word, tag = tagged[pos]\n",
    "    # retag if necessary\n",
    "    if re.match(_version_pattern, word) and tag != 'NUM':\n",
    "        tag = 'NUM'\n",
    "        tagged[pos] = (word, tag)\n",
    "    \n",
    "    try:\n",
    "        ver_pos = [pos for pos, (w, t) in enumerate(tagged[pos:]) if tag == 'NUM'][0]\n",
    "    except:\n",
    "        ver_pos = None\n",
    "        \n",
    "    try:\n",
    "        ver_follows = any([pos for pos, (w, t) in enumerate(tagged[pos:]) if tag == 'NUM'])\n",
    "    except:\n",
    "        print(tagged[pos:])\n",
    "        \n",
    "    features = {\n",
    "        'tag': tag,\n",
    "        'word-len': len(word) > 3,\n",
    "        'vend_prod_match': similar(word, cves[cve_id].get_cpe(cpe_type='a')),\n",
    "        'has-uppercase': any(w.isupper() for w in word),\n",
    "        'alnum': word.isalnum(),\n",
    "        'version_pos': ver_pos,\n",
    "        'ver_follows': ver_follows,\n",
    "    }\n",
    "    if pos == 0:\n",
    "        features['prev-tag'] = '<start>'\n",
    "    else:\n",
    "        if pos > 1:\n",
    "            features['prev-tag'] = tagged[pos - 1][1]\n",
    "            features['prev-bigram'] = \" \".join(w.lower() for w, t in tagged[pos - 2: pos])\n",
    "            \n",
    "        if pos < len(tagged) - 1:    \n",
    "            features['next-bigram'] = \" \".join(w.lower() for w, t in tagged[pos + 1: pos + 3])\n",
    "            features['next-bigram-tags'] = \" \".join(t for w, t in tagged[pos + 1: pos + 3])\n",
    "            \n",
    "        features['prev-word'] = tagged[pos - 1][0]\n",
    "            \n",
    "            \n",
    "    return features\n",
    "\n",
    "# # Lets not split the dataset here for now\n",
    "# feature_list = create_feature_list_long(extract_features_v3, descriptions, labels, cve_ids)\n",
    "\n",
    "# classifier = nltk.NaiveBayesClassifier.train(feature_list)\n",
    "# classifier.show_most_informative_features()\n",
    "\n",
    "# eval_accuracy(classifier, extract_features_v3, descriptions, labels, cve_ids, n=2)\n",
    "# # eval_accuracy_spec(classifier, extract_features_v3, descriptions, labels, cve_ids, n=2)"
   ]
  },
  {
   "cell_type": "markdown",
   "metadata": {
    "extensions": {
     "jupyter_dashboards": {
      "version": 1,
      "views": {
       "grid_default": {
        "col": 0,
        "height": 4,
        "hidden": true,
        "row": 25,
        "width": 12
       },
       "report_default": {}
      }
     }
    }
   },
   "source": [
    "#### Current approach utilities"
   ]
  },
  {
   "cell_type": "code",
   "execution_count": 33,
   "metadata": {
    "extensions": {
     "jupyter_dashboards": {
      "version": 1,
      "views": {
       "grid_default": {
        "hidden": true
       },
       "report_default": {}
      }
     }
    }
   },
   "outputs": [],
   "source": [
    "from collections import OrderedDict\n",
    "\n",
    "\n",
    "def get_first_sentence(description):\n",
    "    \"\"\"Get only the first sentence from the description.\"\"\"\n",
    "    sentences = nltk.sent_tokenize(description)\n",
    "    return sentences[0] if sentences else ''\n",
    "\n",
    "\n",
    "def guess_package_name(description):\n",
    "    from nltk.corpus import stopwords\n",
    "    \"\"\"Guess package name from given description.\n",
    "\n",
    "    Very naive approach. Words starting with uppercase letter\n",
    "    are considered to be possible package names (minus stop words).\n",
    "\n",
    "    Returns a list of possible package names, without duplicates.\n",
    "    \"\"\"\n",
    "\n",
    "    stop_words = set()\n",
    "\n",
    "    try:\n",
    "        # Fails when no downloaded stopwords are available.\n",
    "        stop_words.update(stopwords.words('english'))\n",
    "    except LookupError:\n",
    "        # Download stopwords since they are not available.\n",
    "        nltk.download('stopwords')\n",
    "        stop_words.update(stopwords.words('english'))\n",
    "\n",
    "    regexp = re.compile('[A-Z][A-Za-z0-9-:]*')  # ? TODO: tweak\n",
    "    suspects = regexp.findall(description)\n",
    "\n",
    "    results = []\n",
    "\n",
    "    if not suspects:\n",
    "        return results\n",
    "\n",
    "    results = [x.lower() for x in suspects if x.lower() not in stop_words]\n",
    "    # get rid of duplicates, but keep order\n",
    "    results = list(OrderedDict.fromkeys(results))\n",
    "\n",
    "    return results\n",
    "\n",
    "\n",
    "def get_package_name_candidates(description):\n",
    "    \"\"\"Try to identify possible package names in the CVE's description.\"\"\"\n",
    "    pkg_name_candidates = set()\n",
    "    first_sentence = get_first_sentence(description)\n",
    "    names = guess_package_name(first_sentence)\n",
    "    pkg_name_candidates.update(set(names))\n",
    "    return pkg_name_candidates"
   ]
  },
  {
   "cell_type": "code",
   "execution_count": 34,
   "metadata": {
    "extensions": {
     "jupyter_dashboards": {
      "version": 1,
      "views": {
       "grid_default": {
        "hidden": true
       },
       "report_default": {}
      }
     }
    }
   },
   "outputs": [],
   "source": [
    "def eval_old_accuracy(sentences: list, labels: list) -> float:\n",
    "    from collections import Counter\n",
    "    \n",
    "    assert len(sentences) == len(labels)\n",
    "    \n",
    "    guesses = [None] * len(labels)\n",
    "    accurates = [None] * len(labels)\n",
    "    for i, sent in enumerate(sentences):\n",
    "        \n",
    "        names = get_package_name_candidates(sent)\n",
    "        guesses[i] = len(names)\n",
    "        accurates[i] = False\n",
    "        for name in names:\n",
    "            if labels[i].lower().find(name) != -1:\n",
    "                accurates[i] = True\n",
    "    \n",
    "#         print('Expected: `%s`' % labels[i], 'got: `%s`' % most_prob)\n",
    "    \n",
    "    # TODO: come up with more sophisticated way of measuring accuracy\n",
    "    bag = Counter(accurates)\n",
    "    return bag[True] / len(labels), sum(guesses) / len(guesses)"
   ]
  },
  {
   "cell_type": "code",
   "execution_count": 35,
   "metadata": {
    "extensions": {
     "jupyter_dashboards": {
      "version": 1,
      "views": {
       "grid_default": {
        "hidden": true
       },
       "report_default": {}
      }
     }
    }
   },
   "outputs": [],
   "source": [
    "def get_nof_guesses(sentences: list, labels: list) -> float:\n",
    "    assert len(sentences) == len(labels)\n",
    "    \n",
    "    guesses = [None] * len(labels)\n",
    "    for i, sent in enumerate(sentences):\n",
    "        \n",
    "        names = get_package_name_candidates(sent)\n",
    "        guesses[i] = len(names)\n",
    "        \n",
    "    # TODO: come up with more sophisticated way of measuring accuracy\n",
    "    return guesses"
   ]
  },
  {
   "cell_type": "markdown",
   "metadata": {
    "extensions": {
     "jupyter_dashboards": {
      "version": 1,
      "views": {
       "grid_default": {
        "col": 0,
        "height": 4,
        "hidden": false,
        "row": 38,
        "width": null
       },
       "report_default": {}
      }
     }
    }
   },
   "source": [
    "#### Train and test set split\n",
    "\n",
    "Toy data set will be split by $0.2$ ratio in order to be able to test model's ability to generalize."
   ]
  },
  {
   "cell_type": "code",
   "execution_count": 36,
   "metadata": {
    "extensions": {
     "jupyter_dashboards": {
      "version": 1,
      "views": {
       "grid_default": {
        "hidden": true
       },
       "report_default": {}
      }
     }
    }
   },
   "outputs": [],
   "source": [
    "descriptions, labels, cve_ids = list(zip(*toy_df.sample(frac=1)[['description', 'label', 'cve_id']].values))"
   ]
  },
  {
   "cell_type": "code",
   "execution_count": 37,
   "metadata": {
    "extensions": {
     "jupyter_dashboards": {
      "version": 1,
      "views": {
       "grid_default": {
        "hidden": true
       },
       "report_default": {}
      }
     }
    }
   },
   "outputs": [],
   "source": [
    "x = np.arange(1, 15)\n",
    "feature_extractors = [extract_features_vanilla, extract_features_v0, extract_features_v1, extract_features_v2,\n",
    "                      extract_features_v3\n",
    "                     ]\n",
    "\n",
    "split = int(len(descriptions) * 0.2)\n",
    "test_set, test_labels = descriptions[:split], labels[:split]\n",
    "train_set, train_labels = descriptions[split:], labels[split:]"
   ]
  },
  {
   "cell_type": "code",
   "execution_count": 38,
   "metadata": {
    "extensions": {
     "jupyter_dashboards": {
      "version": 1,
      "views": {
       "grid_default": {
        "col": 0,
        "height": 3,
        "hidden": false,
        "row": 42,
        "width": 12
       },
       "report_default": {}
      }
     }
    }
   },
   "outputs": [
    {
     "name": "stdout",
     "output_type": "stream",
     "text": [
      "Number of train samples: 113\n",
      "Number of test samples: 28\n"
     ]
    }
   ],
   "source": [
    "print('Number of train samples: %d' % len(train_labels))\n",
    "print('Number of test samples: %d' % len(test_labels))"
   ]
  },
  {
   "cell_type": "markdown",
   "metadata": {
    "extensions": {
     "jupyter_dashboards": {
      "version": 1,
      "views": {
       "grid_default": {
        "col": 0,
        "height": 2,
        "hidden": false,
        "row": 45,
        "width": 12
       },
       "report_default": {}
      }
     }
    }
   },
   "source": [
    "### Evaluate classificators accuracy on the test set using raw output evaluation"
   ]
  },
  {
   "cell_type": "markdown",
   "metadata": {
    "extensions": {
     "jupyter_dashboards": {
      "version": 1,
      "views": {
       "grid_default": {
        "col": 0,
        "height": 2,
        "hidden": false,
        "row": 47,
        "width": 12
       },
       "report_default": {}
      }
     }
    }
   },
   "source": [
    "#### Evaluation of the current used approach on the test set"
   ]
  },
  {
   "cell_type": "code",
   "execution_count": 39,
   "metadata": {
    "extensions": {
     "jupyter_dashboards": {
      "version": 1,
      "views": {
       "grid_default": {
        "col": 0,
        "height": 4,
        "hidden": false,
        "row": 49,
        "width": 12
       },
       "report_default": {}
      }
     }
    }
   },
   "outputs": [
    {
     "name": "stdout",
     "output_type": "stream",
     "text": [
      "accuracy: 0.8214285714285714\n",
      "mean guess length: 4.535714285714286\n"
     ]
    }
   ],
   "source": [
    "old_accuracy, mean_guess = eval_old_accuracy(test_set, test_labels)\n",
    "print('accuracy:', old_accuracy)\n",
    "print('mean guess length:', mean_guess)"
   ]
  },
  {
   "cell_type": "markdown",
   "metadata": {
    "extensions": {
     "jupyter_dashboards": {
      "version": 1,
      "views": {
       "grid_default": {
        "col": 0,
        "height": 2,
        "hidden": false,
        "row": 53,
        "width": 12
       },
       "report_default": {}
      }
     }
    }
   },
   "source": [
    "#### Evaluation of the new approach"
   ]
  },
  {
   "cell_type": "code",
   "execution_count": 40,
   "metadata": {
    "extensions": {
     "jupyter_dashboards": {
      "version": 1,
      "views": {
       "grid_default": {
        "hidden": true
       },
       "report_default": {}
      }
     }
    }
   },
   "outputs": [],
   "source": [
    "accuracy_list = list()\n",
    "for i, extractor in enumerate(feature_extractors):\n",
    "    # Lets not split the dataset here for now\n",
    "    feature_list = create_feature_list_long(extractor, train_set, train_labels, cve_ids[split:])\n",
    "\n",
    "    classifier = nltk.NaiveBayesClassifier.train(feature_list)\n",
    "#     classifier.show_most_informative_features()\n",
    "    \n",
    "    accuracy_list.append([eval_accuracy(classifier, extractor, test_set, test_labels, cve_ids[:split], i) for i in x])"
   ]
  },
  {
   "cell_type": "code",
   "execution_count": 41,
   "metadata": {
    "extensions": {
     "jupyter_dashboards": {
      "version": 1,
      "views": {
       "grid_default": {
        "hidden": true
       },
       "report_default": {}
      }
     }
    }
   },
   "outputs": [],
   "source": [
    "trace_names = ['vanilla_extractor'] + ['extract_features_v%d' % i for i in range(len(accuracy_list))]\n",
    "data = [go.Scatter(x=x, y=ac, name=trace_names[i]) for i, ac in enumerate(accuracy_list)]\n",
    "\n",
    "layout = go.Layout(\n",
    "    yaxis=dict(\n",
    "        title='Accuracy',\n",
    "        titlefont=dict(\n",
    "            color='grey'\n",
    "        )\n",
    "    ),\n",
    "    xaxis=dict(\n",
    "        title='Candidates',\n",
    "        titlefont=dict(\n",
    "            color='grey'\n",
    "        )\n",
    "    ),\n",
    "    shapes=[\n",
    "        {\n",
    "            'type': 'line',\n",
    "            'x0': mean_guess,\n",
    "            'x1': mean_guess,\n",
    "            'y0': -0.05,\n",
    "            'y1': 1.1,\n",
    "            'opacity': 0.2,\n",
    "            'line': {\n",
    "                'dash': 'dash'\n",
    "            }\n",
    "        },\n",
    "        {\n",
    "            'type': 'line',\n",
    "            'x0': -0.5,\n",
    "            'x1': 15,\n",
    "            'y0': old_accuracy,\n",
    "            'y1': old_accuracy,\n",
    "            'opacity': 0.2,\n",
    "            'line': {\n",
    "                'dash': 'dash'\n",
    "            }\n",
    "        }\n",
    "    ]\n",
    ")\n",
    "\n",
    "fig = go.Figure(data=data, layout=layout)"
   ]
  },
  {
   "cell_type": "code",
   "execution_count": 42,
   "metadata": {
    "extensions": {
     "jupyter_dashboards": {
      "version": 1,
      "views": {
       "grid_default": {
        "col": 0,
        "height": 19,
        "hidden": false,
        "row": 55,
        "width": null
       },
       "report_default": {}
      }
     }
    }
   },
   "outputs": [
    {
     "data": {
      "application/vnd.plotly.v1+json": {
       "data": [
        {
         "name": "vanilla_extractor",
         "type": "scatter",
         "x": [
          1,
          2,
          3,
          4,
          5,
          6,
          7,
          8,
          9,
          10,
          11,
          12,
          13,
          14
         ],
         "y": [
          0.6785714285714286,
          0.9285714285714286,
          0.9285714285714286,
          0.9642857142857143,
          0.9642857142857143,
          0.9642857142857143,
          0.9642857142857143,
          1,
          1,
          1,
          1,
          1,
          1,
          1
         ]
        },
        {
         "name": "extract_features_v0",
         "type": "scatter",
         "x": [
          1,
          2,
          3,
          4,
          5,
          6,
          7,
          8,
          9,
          10,
          11,
          12,
          13,
          14
         ],
         "y": [
          0.6071428571428571,
          0.7857142857142857,
          0.8571428571428571,
          0.9285714285714286,
          0.9285714285714286,
          0.9642857142857143,
          0.9642857142857143,
          0.9642857142857143,
          0.9642857142857143,
          0.9642857142857143,
          0.9642857142857143,
          0.9642857142857143,
          0.9642857142857143,
          0.9642857142857143
         ]
        },
        {
         "name": "extract_features_v1",
         "type": "scatter",
         "x": [
          1,
          2,
          3,
          4,
          5,
          6,
          7,
          8,
          9,
          10,
          11,
          12,
          13,
          14
         ],
         "y": [
          1,
          1,
          1,
          1,
          1,
          1,
          1,
          1,
          1,
          1,
          1,
          1,
          1,
          1
         ]
        },
        {
         "name": "extract_features_v2",
         "type": "scatter",
         "x": [
          1,
          2,
          3,
          4,
          5,
          6,
          7,
          8,
          9,
          10,
          11,
          12,
          13,
          14
         ],
         "y": [
          1,
          1,
          1,
          1,
          1,
          1,
          1,
          1,
          1,
          1,
          1,
          1,
          1,
          1
         ]
        },
        {
         "name": "extract_features_v3",
         "type": "scatter",
         "x": [
          1,
          2,
          3,
          4,
          5,
          6,
          7,
          8,
          9,
          10,
          11,
          12,
          13,
          14
         ],
         "y": [
          0.9642857142857143,
          0.9642857142857143,
          1,
          1,
          1,
          1,
          1,
          1,
          1,
          1,
          1,
          1,
          1,
          1
         ]
        }
       ],
       "layout": {
        "shapes": [
         {
          "line": {
           "dash": "dash"
          },
          "opacity": 0.2,
          "type": "line",
          "x0": 4.535714285714286,
          "x1": 4.535714285714286,
          "y0": -0.05,
          "y1": 1.1
         },
         {
          "line": {
           "dash": "dash"
          },
          "opacity": 0.2,
          "type": "line",
          "x0": -0.5,
          "x1": 15,
          "y0": 0.8214285714285714,
          "y1": 0.8214285714285714
         }
        ],
        "xaxis": {
         "title": "Candidates",
         "titlefont": {
          "color": "grey"
         }
        },
        "yaxis": {
         "title": "Accuracy",
         "titlefont": {
          "color": "grey"
         }
        }
       }
      },
      "text/html": [
       "<div id=\"e21f5465-c60e-422a-86c4-01cc4670c6fa\" style=\"height: 525px; width: 100%;\" class=\"plotly-graph-div\"></div><script type=\"text/javascript\">require([\"plotly\"], function(Plotly) { window.PLOTLYENV=window.PLOTLYENV || {};window.PLOTLYENV.BASE_URL=\"https://plot.ly\";Plotly.newPlot(\"e21f5465-c60e-422a-86c4-01cc4670c6fa\", [{\"type\": \"scatter\", \"x\": [1, 2, 3, 4, 5, 6, 7, 8, 9, 10, 11, 12, 13, 14], \"y\": [0.6785714285714286, 0.9285714285714286, 0.9285714285714286, 0.9642857142857143, 0.9642857142857143, 0.9642857142857143, 0.9642857142857143, 1.0, 1.0, 1.0, 1.0, 1.0, 1.0, 1.0], \"name\": \"vanilla_extractor\"}, {\"type\": \"scatter\", \"x\": [1, 2, 3, 4, 5, 6, 7, 8, 9, 10, 11, 12, 13, 14], \"y\": [0.6071428571428571, 0.7857142857142857, 0.8571428571428571, 0.9285714285714286, 0.9285714285714286, 0.9642857142857143, 0.9642857142857143, 0.9642857142857143, 0.9642857142857143, 0.9642857142857143, 0.9642857142857143, 0.9642857142857143, 0.9642857142857143, 0.9642857142857143], \"name\": \"extract_features_v0\"}, {\"type\": \"scatter\", \"x\": [1, 2, 3, 4, 5, 6, 7, 8, 9, 10, 11, 12, 13, 14], \"y\": [1.0, 1.0, 1.0, 1.0, 1.0, 1.0, 1.0, 1.0, 1.0, 1.0, 1.0, 1.0, 1.0, 1.0], \"name\": \"extract_features_v1\"}, {\"type\": \"scatter\", \"x\": [1, 2, 3, 4, 5, 6, 7, 8, 9, 10, 11, 12, 13, 14], \"y\": [1.0, 1.0, 1.0, 1.0, 1.0, 1.0, 1.0, 1.0, 1.0, 1.0, 1.0, 1.0, 1.0, 1.0], \"name\": \"extract_features_v2\"}, {\"type\": \"scatter\", \"x\": [1, 2, 3, 4, 5, 6, 7, 8, 9, 10, 11, 12, 13, 14], \"y\": [0.9642857142857143, 0.9642857142857143, 1.0, 1.0, 1.0, 1.0, 1.0, 1.0, 1.0, 1.0, 1.0, 1.0, 1.0, 1.0], \"name\": \"extract_features_v3\"}], {\"yaxis\": {\"title\": \"Accuracy\", \"titlefont\": {\"color\": \"grey\"}}, \"xaxis\": {\"title\": \"Candidates\", \"titlefont\": {\"color\": \"grey\"}}, \"shapes\": [{\"type\": \"line\", \"x0\": 4.535714285714286, \"x1\": 4.535714285714286, \"y0\": -0.05, \"y1\": 1.1, \"opacity\": 0.2, \"line\": {\"dash\": \"dash\"}}, {\"type\": \"line\", \"x0\": -0.5, \"x1\": 15, \"y0\": 0.8214285714285714, \"y1\": 0.8214285714285714, \"opacity\": 0.2, \"line\": {\"dash\": \"dash\"}}]}, {\"showLink\": false, \"linkText\": \"Export to plot.ly\"})});</script>"
      ],
      "text/vnd.plotly.v1+html": [
       "<div id=\"e21f5465-c60e-422a-86c4-01cc4670c6fa\" style=\"height: 525px; width: 100%;\" class=\"plotly-graph-div\"></div><script type=\"text/javascript\">require([\"plotly\"], function(Plotly) { window.PLOTLYENV=window.PLOTLYENV || {};window.PLOTLYENV.BASE_URL=\"https://plot.ly\";Plotly.newPlot(\"e21f5465-c60e-422a-86c4-01cc4670c6fa\", [{\"type\": \"scatter\", \"x\": [1, 2, 3, 4, 5, 6, 7, 8, 9, 10, 11, 12, 13, 14], \"y\": [0.6785714285714286, 0.9285714285714286, 0.9285714285714286, 0.9642857142857143, 0.9642857142857143, 0.9642857142857143, 0.9642857142857143, 1.0, 1.0, 1.0, 1.0, 1.0, 1.0, 1.0], \"name\": \"vanilla_extractor\"}, {\"type\": \"scatter\", \"x\": [1, 2, 3, 4, 5, 6, 7, 8, 9, 10, 11, 12, 13, 14], \"y\": [0.6071428571428571, 0.7857142857142857, 0.8571428571428571, 0.9285714285714286, 0.9285714285714286, 0.9642857142857143, 0.9642857142857143, 0.9642857142857143, 0.9642857142857143, 0.9642857142857143, 0.9642857142857143, 0.9642857142857143, 0.9642857142857143, 0.9642857142857143], \"name\": \"extract_features_v0\"}, {\"type\": \"scatter\", \"x\": [1, 2, 3, 4, 5, 6, 7, 8, 9, 10, 11, 12, 13, 14], \"y\": [1.0, 1.0, 1.0, 1.0, 1.0, 1.0, 1.0, 1.0, 1.0, 1.0, 1.0, 1.0, 1.0, 1.0], \"name\": \"extract_features_v1\"}, {\"type\": \"scatter\", \"x\": [1, 2, 3, 4, 5, 6, 7, 8, 9, 10, 11, 12, 13, 14], \"y\": [1.0, 1.0, 1.0, 1.0, 1.0, 1.0, 1.0, 1.0, 1.0, 1.0, 1.0, 1.0, 1.0, 1.0], \"name\": \"extract_features_v2\"}, {\"type\": \"scatter\", \"x\": [1, 2, 3, 4, 5, 6, 7, 8, 9, 10, 11, 12, 13, 14], \"y\": [0.9642857142857143, 0.9642857142857143, 1.0, 1.0, 1.0, 1.0, 1.0, 1.0, 1.0, 1.0, 1.0, 1.0, 1.0, 1.0], \"name\": \"extract_features_v3\"}], {\"yaxis\": {\"title\": \"Accuracy\", \"titlefont\": {\"color\": \"grey\"}}, \"xaxis\": {\"title\": \"Candidates\", \"titlefont\": {\"color\": \"grey\"}}, \"shapes\": [{\"type\": \"line\", \"x0\": 4.535714285714286, \"x1\": 4.535714285714286, \"y0\": -0.05, \"y1\": 1.1, \"opacity\": 0.2, \"line\": {\"dash\": \"dash\"}}, {\"type\": \"line\", \"x0\": -0.5, \"x1\": 15, \"y0\": 0.8214285714285714, \"y1\": 0.8214285714285714, \"opacity\": 0.2, \"line\": {\"dash\": \"dash\"}}]}, {\"showLink\": false, \"linkText\": \"Export to plot.ly\"})});</script>"
      ]
     },
     "metadata": {},
     "output_type": "display_data"
    }
   ],
   "source": [
    "iplot(fig, show_link=False)"
   ]
  },
  {
   "cell_type": "code",
   "execution_count": 43,
   "metadata": {
    "extensions": {
     "jupyter_dashboards": {
      "version": 1,
      "views": {
       "grid_default": {
        "hidden": true
       },
       "report_default": {}
      }
     }
    }
   },
   "outputs": [],
   "source": [
    "guess_trace = go.Scatter(y=get_nof_guesses(test_set, test_labels))\n",
    "layout = go.Layout(\n",
    "    xaxis=dict(\n",
    "        ticks='',\n",
    "        showticklabels=False,\n",
    "        showgrid=False\n",
    "    ),\n",
    "    shapes=[\n",
    "        {\n",
    "            'type': 'line',\n",
    "            'y0': mean_guess,\n",
    "            'y1': mean_guess,\n",
    "            'x0': -0.1,\n",
    "            'x1': 23,\n",
    "            'opacity': 0.2,\n",
    "            'line': {\n",
    "                'dash': 'dash'\n",
    "            }\n",
    "        },\n",
    "    ]\n",
    ")\n",
    "\n",
    "fig = go.Figure(data=[guess_trace], layout=layout)"
   ]
  },
  {
   "cell_type": "code",
   "execution_count": 44,
   "metadata": {
    "extensions": {
     "jupyter_dashboards": {
      "version": 1,
      "views": {
       "grid_default": {
        "col": 0,
        "height": 19,
        "hidden": true,
        "row": 74,
        "width": null
       },
       "report_default": {}
      }
     }
    }
   },
   "outputs": [
    {
     "data": {
      "application/vnd.plotly.v1+json": {
       "data": [
        {
         "type": "scatter",
         "y": [
          6,
          2,
          2,
          7,
          2,
          6,
          1,
          5,
          2,
          4,
          6,
          4,
          9,
          7,
          4,
          5,
          7,
          2,
          1,
          8,
          3,
          7,
          5,
          4,
          3,
          3,
          5,
          7
         ]
        }
       ],
       "layout": {
        "shapes": [
         {
          "line": {
           "dash": "dash"
          },
          "opacity": 0.2,
          "type": "line",
          "x0": -0.1,
          "x1": 23,
          "y0": 4.535714285714286,
          "y1": 4.535714285714286
         }
        ],
        "xaxis": {
         "showgrid": false,
         "showticklabels": false,
         "ticks": ""
        }
       }
      },
      "text/html": [
       "<div id=\"e1839740-7a92-4fdc-9d47-8f848da7d6e9\" style=\"height: 525px; width: 100%;\" class=\"plotly-graph-div\"></div><script type=\"text/javascript\">require([\"plotly\"], function(Plotly) { window.PLOTLYENV=window.PLOTLYENV || {};window.PLOTLYENV.BASE_URL=\"https://plot.ly\";Plotly.newPlot(\"e1839740-7a92-4fdc-9d47-8f848da7d6e9\", [{\"type\": \"scatter\", \"y\": [6, 2, 2, 7, 2, 6, 1, 5, 2, 4, 6, 4, 9, 7, 4, 5, 7, 2, 1, 8, 3, 7, 5, 4, 3, 3, 5, 7]}], {\"xaxis\": {\"ticks\": \"\", \"showticklabels\": false, \"showgrid\": false}, \"shapes\": [{\"type\": \"line\", \"y0\": 4.535714285714286, \"y1\": 4.535714285714286, \"x0\": -0.1, \"x1\": 23, \"opacity\": 0.2, \"line\": {\"dash\": \"dash\"}}]}, {\"showLink\": false, \"linkText\": \"Export to plot.ly\"})});</script>"
      ],
      "text/vnd.plotly.v1+html": [
       "<div id=\"e1839740-7a92-4fdc-9d47-8f848da7d6e9\" style=\"height: 525px; width: 100%;\" class=\"plotly-graph-div\"></div><script type=\"text/javascript\">require([\"plotly\"], function(Plotly) { window.PLOTLYENV=window.PLOTLYENV || {};window.PLOTLYENV.BASE_URL=\"https://plot.ly\";Plotly.newPlot(\"e1839740-7a92-4fdc-9d47-8f848da7d6e9\", [{\"type\": \"scatter\", \"y\": [6, 2, 2, 7, 2, 6, 1, 5, 2, 4, 6, 4, 9, 7, 4, 5, 7, 2, 1, 8, 3, 7, 5, 4, 3, 3, 5, 7]}], {\"xaxis\": {\"ticks\": \"\", \"showticklabels\": false, \"showgrid\": false}, \"shapes\": [{\"type\": \"line\", \"y0\": 4.535714285714286, \"y1\": 4.535714285714286, \"x0\": -0.1, \"x1\": 23, \"opacity\": 0.2, \"line\": {\"dash\": \"dash\"}}]}, {\"showLink\": false, \"linkText\": \"Export to plot.ly\"})});</script>"
      ]
     },
     "metadata": {},
     "output_type": "display_data"
    }
   ],
   "source": [
    "iplot(fig, show_link=False)"
   ]
  },
  {
   "cell_type": "markdown",
   "metadata": {
    "extensions": {
     "jupyter_dashboards": {
      "version": 1,
      "views": {
       "grid_default": {
        "col": 0,
        "height": 2,
        "hidden": true,
        "row": 71,
        "width": 12
       },
       "report_default": {}
      }
     }
    }
   },
   "source": [
    "### Evaluate accuracy on the test set using predective evaluation"
   ]
  },
  {
   "cell_type": "code",
   "execution_count": 45,
   "metadata": {
    "extensions": {
     "jupyter_dashboards": {
      "version": 1,
      "views": {
       "grid_default": {
        "hidden": true
       },
       "report_default": {}
      }
     }
    }
   },
   "outputs": [],
   "source": [
    "accuracy_list = list()\n",
    "for i, extractor in enumerate(feature_extractors):\n",
    "    # Lets not split the dataset here for now\n",
    "    feature_list = create_feature_list_long(extractor, train_set, train_labels, cve_ids[split:])\n",
    "\n",
    "    classifier = nltk.NaiveBayesClassifier.train(feature_list)\n",
    "#     classifier.show_most_informative_features()\n",
    "    \n",
    "    accuracy_list.append([eval_accuracy_spec(classifier, extractor, test_set, test_labels, cve_ids[:split], i) for i in x])"
   ]
  },
  {
   "cell_type": "code",
   "execution_count": 46,
   "metadata": {
    "extensions": {
     "jupyter_dashboards": {
      "version": 1,
      "views": {
       "grid_default": {
        "hidden": true
       },
       "report_default": {}
      }
     }
    }
   },
   "outputs": [],
   "source": [
    "trace_names = ['vanilla_extractor'] + ['extract_features_v%d' % i for i in range(len(accuracy_list))]\n",
    "data = [go.Scatter(x=x, y=ac, name=trace_names[i]) for i, ac in enumerate(accuracy_list)]\n",
    "\n",
    "layout = go.Layout(\n",
    "    yaxis=dict(\n",
    "        title='Accuracy',\n",
    "        titlefont=dict(\n",
    "            color='grey'\n",
    "        )\n",
    "    ),\n",
    "    xaxis=dict(\n",
    "        title='Candidates',\n",
    "        titlefont=dict(\n",
    "            color='grey'\n",
    "        )\n",
    "    ),\n",
    "    shapes=[\n",
    "        {\n",
    "            'type': 'line',\n",
    "            'x0': mean_guess,\n",
    "            'x1': mean_guess,\n",
    "            'y0': -0.05,\n",
    "            'y1': 1.1,\n",
    "            'opacity': 0.2,\n",
    "            'line': {\n",
    "                'dash': 'dash'\n",
    "            }\n",
    "        },\n",
    "        {\n",
    "            'type': 'line',\n",
    "            'x0': -0.5,\n",
    "            'x1': 20,\n",
    "            'y0': old_accuracy,\n",
    "            'y1': old_accuracy,\n",
    "            'opacity': 0.2,\n",
    "            'line': {\n",
    "                'dash': 'dash'\n",
    "            }\n",
    "        }\n",
    "    ]\n",
    ")\n",
    "\n",
    "fig = go.Figure(data=data, layout=layout)"
   ]
  },
  {
   "cell_type": "code",
   "execution_count": 47,
   "metadata": {
    "extensions": {
     "jupyter_dashboards": {
      "version": 1,
      "views": {
       "grid_default": {
        "col": 0,
        "height": 19,
        "hidden": true,
        "row": 71,
        "width": null
       },
       "report_default": {}
      }
     }
    }
   },
   "outputs": [
    {
     "data": {
      "application/vnd.plotly.v1+json": {
       "data": [
        {
         "name": "vanilla_extractor",
         "type": "scatter",
         "x": [
          1,
          2,
          3,
          4,
          5,
          6,
          7,
          8,
          9,
          10,
          11,
          12,
          13,
          14
         ],
         "y": [
          0.6428571428571429,
          0.8571428571428571,
          0.9285714285714286,
          0.9642857142857143,
          0.9642857142857143,
          0.9642857142857143,
          0.9642857142857143,
          1,
          1,
          1,
          1,
          1,
          1,
          1
         ]
        },
        {
         "name": "extract_features_v0",
         "type": "scatter",
         "x": [
          1,
          2,
          3,
          4,
          5,
          6,
          7,
          8,
          9,
          10,
          11,
          12,
          13,
          14
         ],
         "y": [
          0.6785714285714286,
          0.8214285714285714,
          0.8571428571428571,
          0.9285714285714286,
          0.9285714285714286,
          0.9642857142857143,
          0.9642857142857143,
          0.9642857142857143,
          0.9642857142857143,
          0.9642857142857143,
          0.9642857142857143,
          0.9642857142857143,
          1,
          1
         ]
        },
        {
         "name": "extract_features_v1",
         "type": "scatter",
         "x": [
          1,
          2,
          3,
          4,
          5,
          6,
          7,
          8,
          9,
          10,
          11,
          12,
          13,
          14
         ],
         "y": [
          1,
          1,
          1,
          1,
          1,
          1,
          1,
          1,
          1,
          1,
          1,
          1,
          1,
          1
         ]
        },
        {
         "name": "extract_features_v2",
         "type": "scatter",
         "x": [
          1,
          2,
          3,
          4,
          5,
          6,
          7,
          8,
          9,
          10,
          11,
          12,
          13,
          14
         ],
         "y": [
          1,
          1,
          1,
          1,
          1,
          1,
          1,
          1,
          1,
          1,
          1,
          1,
          1,
          1
         ]
        },
        {
         "name": "extract_features_v3",
         "type": "scatter",
         "x": [
          1,
          2,
          3,
          4,
          5,
          6,
          7,
          8,
          9,
          10,
          11,
          12,
          13,
          14
         ],
         "y": [
          1,
          1,
          1,
          1,
          1,
          1,
          1,
          1,
          1,
          1,
          1,
          1,
          1,
          1
         ]
        }
       ],
       "layout": {
        "shapes": [
         {
          "line": {
           "dash": "dash"
          },
          "opacity": 0.2,
          "type": "line",
          "x0": 4.535714285714286,
          "x1": 4.535714285714286,
          "y0": -0.05,
          "y1": 1.1
         },
         {
          "line": {
           "dash": "dash"
          },
          "opacity": 0.2,
          "type": "line",
          "x0": -0.5,
          "x1": 20,
          "y0": 0.8214285714285714,
          "y1": 0.8214285714285714
         }
        ],
        "xaxis": {
         "title": "Candidates",
         "titlefont": {
          "color": "grey"
         }
        },
        "yaxis": {
         "title": "Accuracy",
         "titlefont": {
          "color": "grey"
         }
        }
       }
      },
      "text/html": [
       "<div id=\"83e9a14b-d95a-4934-a3b7-66479bfe984f\" style=\"height: 525px; width: 100%;\" class=\"plotly-graph-div\"></div><script type=\"text/javascript\">require([\"plotly\"], function(Plotly) { window.PLOTLYENV=window.PLOTLYENV || {};window.PLOTLYENV.BASE_URL=\"https://plot.ly\";Plotly.newPlot(\"83e9a14b-d95a-4934-a3b7-66479bfe984f\", [{\"type\": \"scatter\", \"x\": [1, 2, 3, 4, 5, 6, 7, 8, 9, 10, 11, 12, 13, 14], \"y\": [0.6428571428571429, 0.8571428571428571, 0.9285714285714286, 0.9642857142857143, 0.9642857142857143, 0.9642857142857143, 0.9642857142857143, 1.0, 1.0, 1.0, 1.0, 1.0, 1.0, 1.0], \"name\": \"vanilla_extractor\"}, {\"type\": \"scatter\", \"x\": [1, 2, 3, 4, 5, 6, 7, 8, 9, 10, 11, 12, 13, 14], \"y\": [0.6785714285714286, 0.8214285714285714, 0.8571428571428571, 0.9285714285714286, 0.9285714285714286, 0.9642857142857143, 0.9642857142857143, 0.9642857142857143, 0.9642857142857143, 0.9642857142857143, 0.9642857142857143, 0.9642857142857143, 1.0, 1.0], \"name\": \"extract_features_v0\"}, {\"type\": \"scatter\", \"x\": [1, 2, 3, 4, 5, 6, 7, 8, 9, 10, 11, 12, 13, 14], \"y\": [1.0, 1.0, 1.0, 1.0, 1.0, 1.0, 1.0, 1.0, 1.0, 1.0, 1.0, 1.0, 1.0, 1.0], \"name\": \"extract_features_v1\"}, {\"type\": \"scatter\", \"x\": [1, 2, 3, 4, 5, 6, 7, 8, 9, 10, 11, 12, 13, 14], \"y\": [1.0, 1.0, 1.0, 1.0, 1.0, 1.0, 1.0, 1.0, 1.0, 1.0, 1.0, 1.0, 1.0, 1.0], \"name\": \"extract_features_v2\"}, {\"type\": \"scatter\", \"x\": [1, 2, 3, 4, 5, 6, 7, 8, 9, 10, 11, 12, 13, 14], \"y\": [1.0, 1.0, 1.0, 1.0, 1.0, 1.0, 1.0, 1.0, 1.0, 1.0, 1.0, 1.0, 1.0, 1.0], \"name\": \"extract_features_v3\"}], {\"yaxis\": {\"title\": \"Accuracy\", \"titlefont\": {\"color\": \"grey\"}}, \"xaxis\": {\"title\": \"Candidates\", \"titlefont\": {\"color\": \"grey\"}}, \"shapes\": [{\"type\": \"line\", \"x0\": 4.535714285714286, \"x1\": 4.535714285714286, \"y0\": -0.05, \"y1\": 1.1, \"opacity\": 0.2, \"line\": {\"dash\": \"dash\"}}, {\"type\": \"line\", \"x0\": -0.5, \"x1\": 20, \"y0\": 0.8214285714285714, \"y1\": 0.8214285714285714, \"opacity\": 0.2, \"line\": {\"dash\": \"dash\"}}]}, {\"showLink\": false, \"linkText\": \"Export to plot.ly\"})});</script>"
      ],
      "text/vnd.plotly.v1+html": [
       "<div id=\"83e9a14b-d95a-4934-a3b7-66479bfe984f\" style=\"height: 525px; width: 100%;\" class=\"plotly-graph-div\"></div><script type=\"text/javascript\">require([\"plotly\"], function(Plotly) { window.PLOTLYENV=window.PLOTLYENV || {};window.PLOTLYENV.BASE_URL=\"https://plot.ly\";Plotly.newPlot(\"83e9a14b-d95a-4934-a3b7-66479bfe984f\", [{\"type\": \"scatter\", \"x\": [1, 2, 3, 4, 5, 6, 7, 8, 9, 10, 11, 12, 13, 14], \"y\": [0.6428571428571429, 0.8571428571428571, 0.9285714285714286, 0.9642857142857143, 0.9642857142857143, 0.9642857142857143, 0.9642857142857143, 1.0, 1.0, 1.0, 1.0, 1.0, 1.0, 1.0], \"name\": \"vanilla_extractor\"}, {\"type\": \"scatter\", \"x\": [1, 2, 3, 4, 5, 6, 7, 8, 9, 10, 11, 12, 13, 14], \"y\": [0.6785714285714286, 0.8214285714285714, 0.8571428571428571, 0.9285714285714286, 0.9285714285714286, 0.9642857142857143, 0.9642857142857143, 0.9642857142857143, 0.9642857142857143, 0.9642857142857143, 0.9642857142857143, 0.9642857142857143, 1.0, 1.0], \"name\": \"extract_features_v0\"}, {\"type\": \"scatter\", \"x\": [1, 2, 3, 4, 5, 6, 7, 8, 9, 10, 11, 12, 13, 14], \"y\": [1.0, 1.0, 1.0, 1.0, 1.0, 1.0, 1.0, 1.0, 1.0, 1.0, 1.0, 1.0, 1.0, 1.0], \"name\": \"extract_features_v1\"}, {\"type\": \"scatter\", \"x\": [1, 2, 3, 4, 5, 6, 7, 8, 9, 10, 11, 12, 13, 14], \"y\": [1.0, 1.0, 1.0, 1.0, 1.0, 1.0, 1.0, 1.0, 1.0, 1.0, 1.0, 1.0, 1.0, 1.0], \"name\": \"extract_features_v2\"}, {\"type\": \"scatter\", \"x\": [1, 2, 3, 4, 5, 6, 7, 8, 9, 10, 11, 12, 13, 14], \"y\": [1.0, 1.0, 1.0, 1.0, 1.0, 1.0, 1.0, 1.0, 1.0, 1.0, 1.0, 1.0, 1.0, 1.0], \"name\": \"extract_features_v3\"}], {\"yaxis\": {\"title\": \"Accuracy\", \"titlefont\": {\"color\": \"grey\"}}, \"xaxis\": {\"title\": \"Candidates\", \"titlefont\": {\"color\": \"grey\"}}, \"shapes\": [{\"type\": \"line\", \"x0\": 4.535714285714286, \"x1\": 4.535714285714286, \"y0\": -0.05, \"y1\": 1.1, \"opacity\": 0.2, \"line\": {\"dash\": \"dash\"}}, {\"type\": \"line\", \"x0\": -0.5, \"x1\": 20, \"y0\": 0.8214285714285714, \"y1\": 0.8214285714285714, \"opacity\": 0.2, \"line\": {\"dash\": \"dash\"}}]}, {\"showLink\": false, \"linkText\": \"Export to plot.ly\"})});</script>"
      ]
     },
     "metadata": {},
     "output_type": "display_data"
    }
   ],
   "source": [
    "iplot(fig, show_link=False)"
   ]
  },
  {
   "cell_type": "markdown",
   "metadata": {
    "extensions": {
     "jupyter_dashboards": {
      "version": 1,
      "views": {
       "grid_default": {
        "col": 0,
        "height": 5,
        "hidden": false,
        "row": 74,
        "width": 12
       },
       "report_default": {}
      }
     }
    }
   },
   "source": [
    "### Evaluate accuracy on the toy set using predective evaluation\n",
    "\n",
    "Lets try to evaluate the accuracy of chosen feature extractors on the whole toy set using the same classifiers. No re-training being done.\n",
    "\n",
    "*Predictive evaluation means using custom `predict` function which filteres the predictions.*"
   ]
  },
  {
   "cell_type": "markdown",
   "metadata": {
    "extensions": {
     "jupyter_dashboards": {
      "version": 1,
      "views": {
       "grid_default": {
        "col": 0,
        "height": 2,
        "hidden": false,
        "row": 79,
        "width": 12
       },
       "report_default": {}
      }
     }
    }
   },
   "source": [
    "#### Evaluation of the currently used approach on the toy set"
   ]
  },
  {
   "cell_type": "code",
   "execution_count": 48,
   "metadata": {
    "extensions": {
     "jupyter_dashboards": {
      "version": 1,
      "views": {
       "grid_default": {
        "col": 0,
        "height": 4,
        "hidden": false,
        "row": 81,
        "width": 12
       },
       "report_default": {}
      }
     }
    }
   },
   "outputs": [
    {
     "name": "stdout",
     "output_type": "stream",
     "text": [
      "old accuracy: 0.8085106382978723\n",
      "mean guess length: 3.7872340425531914\n"
     ]
    }
   ],
   "source": [
    "old_accuracy, mean_guess = eval_old_accuracy(descriptions, labels)\n",
    "print('old accuracy:', old_accuracy)\n",
    "print('mean guess length:', mean_guess)"
   ]
  },
  {
   "cell_type": "markdown",
   "metadata": {
    "extensions": {
     "jupyter_dashboards": {
      "version": 1,
      "views": {
       "grid_default": {
        "col": 0,
        "height": 2,
        "hidden": false,
        "row": 85,
        "width": 12
       },
       "report_default": {
        "hidden": true
       }
      }
     }
    }
   },
   "source": [
    "#### Evaluation of the new approach on the toy set"
   ]
  },
  {
   "cell_type": "code",
   "execution_count": 49,
   "metadata": {
    "extensions": {
     "jupyter_dashboards": {
      "version": 1,
      "views": {
       "grid_default": {
        "hidden": true
       },
       "report_default": {}
      }
     }
    }
   },
   "outputs": [],
   "source": [
    "accuracy_list = list()\n",
    "for i, extractor in enumerate(feature_extractors):\n",
    "    # Lets not split the dataset here for now\n",
    "    feature_list = create_feature_list_long(extractor, train_set, train_labels, cve_ids[split:])\n",
    "\n",
    "    classifier = nltk.NaiveBayesClassifier.train(feature_list)\n",
    "#     classifier.show_most_informative_features()\n",
    "    \n",
    "    accuracy_list.append([eval_accuracy_spec(classifier, extractor, descriptions, labels, cve_ids, i) for i in x])"
   ]
  },
  {
   "cell_type": "code",
   "execution_count": 50,
   "metadata": {
    "extensions": {
     "jupyter_dashboards": {
      "version": 1,
      "views": {
       "grid_default": {
        "hidden": true
       },
       "report_default": {}
      }
     }
    }
   },
   "outputs": [],
   "source": [
    "trace_names = ['vanilla_extractor'] + ['extract_features_v%d' % i for i in range(len(accuracy_list))]\n",
    "data = [go.Scatter(x=x, y=ac, name=trace_names[i]) for i, ac in enumerate(accuracy_list)]\n",
    "\n",
    "layout = go.Layout(\n",
    "    yaxis=dict(\n",
    "        title='Accuracy',\n",
    "        titlefont=dict(\n",
    "            color='grey'\n",
    "        )\n",
    "    ),\n",
    "    xaxis=dict(\n",
    "        title='Candidates',\n",
    "        titlefont=dict(\n",
    "            color='grey'\n",
    "        )\n",
    "    ),\n",
    "    shapes=[\n",
    "        {\n",
    "            'type': 'line',\n",
    "            'x0': mean_guess,\n",
    "            'x1': mean_guess,\n",
    "            'y0': -0.05,\n",
    "            'y1': 1.1,\n",
    "            'opacity': 0.2,\n",
    "            'line': {\n",
    "                'dash': 'dash'\n",
    "            }\n",
    "        },\n",
    "        {\n",
    "            'type': 'line',\n",
    "            'x0': -0.5,\n",
    "            'x1': 15,\n",
    "            'y0': old_accuracy,\n",
    "            'y1': old_accuracy,\n",
    "            'opacity': 0.2,\n",
    "            'line': {\n",
    "                'dash': 'dash'\n",
    "            }\n",
    "        }\n",
    "    ]\n",
    ")\n",
    "\n",
    "fig = go.Figure(data=data, layout=layout)"
   ]
  },
  {
   "cell_type": "code",
   "execution_count": 51,
   "metadata": {
    "extensions": {
     "jupyter_dashboards": {
      "version": 1,
      "views": {
       "grid_default": {
        "col": 0,
        "height": 19,
        "hidden": false,
        "row": 87,
        "width": null
       },
       "report_default": {}
      }
     }
    }
   },
   "outputs": [
    {
     "data": {
      "application/vnd.plotly.v1+json": {
       "data": [
        {
         "name": "vanilla_extractor",
         "type": "scatter",
         "x": [
          1,
          2,
          3,
          4,
          5,
          6,
          7,
          8,
          9,
          10,
          11,
          12,
          13,
          14
         ],
         "y": [
          0.7021276595744681,
          0.8723404255319149,
          0.950354609929078,
          0.9787234042553191,
          0.9858156028368794,
          0.9858156028368794,
          0.9858156028368794,
          0.9929078014184397,
          0.9929078014184397,
          0.9929078014184397,
          0.9929078014184397,
          0.9929078014184397,
          0.9929078014184397,
          1
         ]
        },
        {
         "name": "extract_features_v0",
         "type": "scatter",
         "x": [
          1,
          2,
          3,
          4,
          5,
          6,
          7,
          8,
          9,
          10,
          11,
          12,
          13,
          14
         ],
         "y": [
          0.851063829787234,
          0.9432624113475178,
          0.9574468085106383,
          0.9716312056737588,
          0.9716312056737588,
          0.9787234042553191,
          0.9787234042553191,
          0.9787234042553191,
          0.9787234042553191,
          0.9787234042553191,
          0.9787234042553191,
          0.9787234042553191,
          0.9858156028368794,
          0.9858156028368794
         ]
        },
        {
         "name": "extract_features_v1",
         "type": "scatter",
         "x": [
          1,
          2,
          3,
          4,
          5,
          6,
          7,
          8,
          9,
          10,
          11,
          12,
          13,
          14
         ],
         "y": [
          0.9645390070921985,
          0.9858156028368794,
          0.9858156028368794,
          0.9858156028368794,
          0.9858156028368794,
          0.9858156028368794,
          0.9858156028368794,
          0.9858156028368794,
          0.9929078014184397,
          1,
          1,
          1,
          1,
          1
         ]
        },
        {
         "name": "extract_features_v2",
         "type": "scatter",
         "x": [
          1,
          2,
          3,
          4,
          5,
          6,
          7,
          8,
          9,
          10,
          11,
          12,
          13,
          14
         ],
         "y": [
          0.9787234042553191,
          0.9929078014184397,
          0.9929078014184397,
          0.9929078014184397,
          1,
          1,
          1,
          1,
          1,
          1,
          1,
          1,
          1,
          1
         ]
        },
        {
         "name": "extract_features_v3",
         "type": "scatter",
         "x": [
          1,
          2,
          3,
          4,
          5,
          6,
          7,
          8,
          9,
          10,
          11,
          12,
          13,
          14
         ],
         "y": [
          0.9787234042553191,
          0.9929078014184397,
          0.9929078014184397,
          0.9929078014184397,
          1,
          1,
          1,
          1,
          1,
          1,
          1,
          1,
          1,
          1
         ]
        }
       ],
       "layout": {
        "shapes": [
         {
          "line": {
           "dash": "dash"
          },
          "opacity": 0.2,
          "type": "line",
          "x0": 3.7872340425531914,
          "x1": 3.7872340425531914,
          "y0": -0.05,
          "y1": 1.1
         },
         {
          "line": {
           "dash": "dash"
          },
          "opacity": 0.2,
          "type": "line",
          "x0": -0.5,
          "x1": 15,
          "y0": 0.8085106382978723,
          "y1": 0.8085106382978723
         }
        ],
        "xaxis": {
         "title": "Candidates",
         "titlefont": {
          "color": "grey"
         }
        },
        "yaxis": {
         "title": "Accuracy",
         "titlefont": {
          "color": "grey"
         }
        }
       }
      },
      "text/html": [
       "<div id=\"f9c1fdbe-e348-4c4b-95cc-3c00a8c480f2\" style=\"height: 525px; width: 100%;\" class=\"plotly-graph-div\"></div><script type=\"text/javascript\">require([\"plotly\"], function(Plotly) { window.PLOTLYENV=window.PLOTLYENV || {};window.PLOTLYENV.BASE_URL=\"https://plot.ly\";Plotly.newPlot(\"f9c1fdbe-e348-4c4b-95cc-3c00a8c480f2\", [{\"type\": \"scatter\", \"x\": [1, 2, 3, 4, 5, 6, 7, 8, 9, 10, 11, 12, 13, 14], \"y\": [0.7021276595744681, 0.8723404255319149, 0.950354609929078, 0.9787234042553191, 0.9858156028368794, 0.9858156028368794, 0.9858156028368794, 0.9929078014184397, 0.9929078014184397, 0.9929078014184397, 0.9929078014184397, 0.9929078014184397, 0.9929078014184397, 1.0], \"name\": \"vanilla_extractor\"}, {\"type\": \"scatter\", \"x\": [1, 2, 3, 4, 5, 6, 7, 8, 9, 10, 11, 12, 13, 14], \"y\": [0.851063829787234, 0.9432624113475178, 0.9574468085106383, 0.9716312056737588, 0.9716312056737588, 0.9787234042553191, 0.9787234042553191, 0.9787234042553191, 0.9787234042553191, 0.9787234042553191, 0.9787234042553191, 0.9787234042553191, 0.9858156028368794, 0.9858156028368794], \"name\": \"extract_features_v0\"}, {\"type\": \"scatter\", \"x\": [1, 2, 3, 4, 5, 6, 7, 8, 9, 10, 11, 12, 13, 14], \"y\": [0.9645390070921985, 0.9858156028368794, 0.9858156028368794, 0.9858156028368794, 0.9858156028368794, 0.9858156028368794, 0.9858156028368794, 0.9858156028368794, 0.9929078014184397, 1.0, 1.0, 1.0, 1.0, 1.0], \"name\": \"extract_features_v1\"}, {\"type\": \"scatter\", \"x\": [1, 2, 3, 4, 5, 6, 7, 8, 9, 10, 11, 12, 13, 14], \"y\": [0.9787234042553191, 0.9929078014184397, 0.9929078014184397, 0.9929078014184397, 1.0, 1.0, 1.0, 1.0, 1.0, 1.0, 1.0, 1.0, 1.0, 1.0], \"name\": \"extract_features_v2\"}, {\"type\": \"scatter\", \"x\": [1, 2, 3, 4, 5, 6, 7, 8, 9, 10, 11, 12, 13, 14], \"y\": [0.9787234042553191, 0.9929078014184397, 0.9929078014184397, 0.9929078014184397, 1.0, 1.0, 1.0, 1.0, 1.0, 1.0, 1.0, 1.0, 1.0, 1.0], \"name\": \"extract_features_v3\"}], {\"yaxis\": {\"title\": \"Accuracy\", \"titlefont\": {\"color\": \"grey\"}}, \"xaxis\": {\"title\": \"Candidates\", \"titlefont\": {\"color\": \"grey\"}}, \"shapes\": [{\"type\": \"line\", \"x0\": 3.7872340425531914, \"x1\": 3.7872340425531914, \"y0\": -0.05, \"y1\": 1.1, \"opacity\": 0.2, \"line\": {\"dash\": \"dash\"}}, {\"type\": \"line\", \"x0\": -0.5, \"x1\": 15, \"y0\": 0.8085106382978723, \"y1\": 0.8085106382978723, \"opacity\": 0.2, \"line\": {\"dash\": \"dash\"}}]}, {\"showLink\": false, \"linkText\": \"Export to plot.ly\"})});</script>"
      ],
      "text/vnd.plotly.v1+html": [
       "<div id=\"f9c1fdbe-e348-4c4b-95cc-3c00a8c480f2\" style=\"height: 525px; width: 100%;\" class=\"plotly-graph-div\"></div><script type=\"text/javascript\">require([\"plotly\"], function(Plotly) { window.PLOTLYENV=window.PLOTLYENV || {};window.PLOTLYENV.BASE_URL=\"https://plot.ly\";Plotly.newPlot(\"f9c1fdbe-e348-4c4b-95cc-3c00a8c480f2\", [{\"type\": \"scatter\", \"x\": [1, 2, 3, 4, 5, 6, 7, 8, 9, 10, 11, 12, 13, 14], \"y\": [0.7021276595744681, 0.8723404255319149, 0.950354609929078, 0.9787234042553191, 0.9858156028368794, 0.9858156028368794, 0.9858156028368794, 0.9929078014184397, 0.9929078014184397, 0.9929078014184397, 0.9929078014184397, 0.9929078014184397, 0.9929078014184397, 1.0], \"name\": \"vanilla_extractor\"}, {\"type\": \"scatter\", \"x\": [1, 2, 3, 4, 5, 6, 7, 8, 9, 10, 11, 12, 13, 14], \"y\": [0.851063829787234, 0.9432624113475178, 0.9574468085106383, 0.9716312056737588, 0.9716312056737588, 0.9787234042553191, 0.9787234042553191, 0.9787234042553191, 0.9787234042553191, 0.9787234042553191, 0.9787234042553191, 0.9787234042553191, 0.9858156028368794, 0.9858156028368794], \"name\": \"extract_features_v0\"}, {\"type\": \"scatter\", \"x\": [1, 2, 3, 4, 5, 6, 7, 8, 9, 10, 11, 12, 13, 14], \"y\": [0.9645390070921985, 0.9858156028368794, 0.9858156028368794, 0.9858156028368794, 0.9858156028368794, 0.9858156028368794, 0.9858156028368794, 0.9858156028368794, 0.9929078014184397, 1.0, 1.0, 1.0, 1.0, 1.0], \"name\": \"extract_features_v1\"}, {\"type\": \"scatter\", \"x\": [1, 2, 3, 4, 5, 6, 7, 8, 9, 10, 11, 12, 13, 14], \"y\": [0.9787234042553191, 0.9929078014184397, 0.9929078014184397, 0.9929078014184397, 1.0, 1.0, 1.0, 1.0, 1.0, 1.0, 1.0, 1.0, 1.0, 1.0], \"name\": \"extract_features_v2\"}, {\"type\": \"scatter\", \"x\": [1, 2, 3, 4, 5, 6, 7, 8, 9, 10, 11, 12, 13, 14], \"y\": [0.9787234042553191, 0.9929078014184397, 0.9929078014184397, 0.9929078014184397, 1.0, 1.0, 1.0, 1.0, 1.0, 1.0, 1.0, 1.0, 1.0, 1.0], \"name\": \"extract_features_v3\"}], {\"yaxis\": {\"title\": \"Accuracy\", \"titlefont\": {\"color\": \"grey\"}}, \"xaxis\": {\"title\": \"Candidates\", \"titlefont\": {\"color\": \"grey\"}}, \"shapes\": [{\"type\": \"line\", \"x0\": 3.7872340425531914, \"x1\": 3.7872340425531914, \"y0\": -0.05, \"y1\": 1.1, \"opacity\": 0.2, \"line\": {\"dash\": \"dash\"}}, {\"type\": \"line\", \"x0\": -0.5, \"x1\": 15, \"y0\": 0.8085106382978723, \"y1\": 0.8085106382978723, \"opacity\": 0.2, \"line\": {\"dash\": \"dash\"}}]}, {\"showLink\": false, \"linkText\": \"Export to plot.ly\"})});</script>"
      ]
     },
     "metadata": {},
     "output_type": "display_data"
    }
   ],
   "source": [
    "iplot(fig, show_link=False)"
   ]
  },
  {
   "cell_type": "code",
   "execution_count": 52,
   "metadata": {
    "extensions": {
     "jupyter_dashboards": {
      "version": 1,
      "views": {
       "grid_default": {
        "hidden": true
       },
       "report_default": {}
      }
     }
    }
   },
   "outputs": [],
   "source": [
    "# Create trendline\n",
    "from collections import namedtuple\n",
    "\n",
    "Poly = namedtuple('Trendline', 'coefs residuals rank singular_val rcond')"
   ]
  },
  {
   "cell_type": "code",
   "execution_count": 53,
   "metadata": {
    "extensions": {
     "jupyter_dashboards": {
      "version": 1,
      "views": {
       "grid_default": {
        "hidden": true
       },
       "report_default": {}
      }
     }
    }
   },
   "outputs": [],
   "source": [
    "# get number of guesses for the old project predictions\n",
    "guesses = np.array(get_nof_guesses(descriptions, labels))\n",
    "\n",
    "# fit guesses with polynomial\n",
    "poly = Poly(*np.polyfit(np.arange(len(guesses)), guesses, 20, full=True))\n",
    "pts = np.linspace(start=0, stop=len(guesses), num=len(guesses) * 10)  # create evaluation points\n",
    "\n",
    "# create polynomial function\n",
    "f = np.poly1d(poly.coefs)\n",
    "\n",
    "x_plot = np.linspace(start=0, stop=len(guesses), num=200)\n",
    "y_plot = f(x_plot)"
   ]
  },
  {
   "cell_type": "code",
   "execution_count": 54,
   "metadata": {
    "extensions": {
     "jupyter_dashboards": {
      "version": 1,
      "views": {
       "grid_default": {
        "hidden": true
       },
       "report_default": {}
      }
     }
    }
   },
   "outputs": [],
   "source": [
    "# create traces\n",
    "guess_trace = go.Scatter(y=guesses, name='Project guesses', hoverinfo='name + y')\n",
    "trendline_trace = go.Scatter(x=x_plot, y=y_plot, name='Polynomial trendline',\n",
    "                            hoverinfo='skip')\n",
    "\n",
    "layout = go.Layout(\n",
    "    title=\"Number of projects predicted by current approach\",\n",
    "    shapes=[\n",
    "        {\n",
    "            'type': 'line',\n",
    "            'y0': mean_guess,\n",
    "            'y1': mean_guess,\n",
    "            'x0': -0.1,\n",
    "            'x1': 120,\n",
    "            'opacity': 0.2,\n",
    "            'line': {\n",
    "                'dash': 'dash'\n",
    "            }\n",
    "        },\n",
    "    ]\n",
    ")\n",
    "\n",
    "fig = go.Figure(data=[guess_trace, trendline_trace], layout=layout)"
   ]
  },
  {
   "cell_type": "code",
   "execution_count": 55,
   "metadata": {
    "extensions": {
     "jupyter_dashboards": {
      "version": 1,
      "views": {
       "grid_default": {
        "col": 0,
        "height": 19,
        "hidden": false,
        "row": 106,
        "width": null
       },
       "report_default": {}
      }
     }
    }
   },
   "outputs": [
    {
     "data": {
      "application/vnd.plotly.v1+json": {
       "data": [
        {
         "hoverinfo": "name + y",
         "name": "Project guesses",
         "type": "scatter",
         "y": [
          6,
          2,
          2,
          7,
          2,
          6,
          1,
          5,
          2,
          4,
          6,
          4,
          9,
          7,
          4,
          5,
          7,
          2,
          1,
          8,
          3,
          7,
          5,
          4,
          3,
          3,
          5,
          7,
          2,
          3,
          1,
          2,
          2,
          4,
          2,
          3,
          2,
          3,
          9,
          3,
          2,
          1,
          1,
          6,
          3,
          1,
          3,
          2,
          1,
          5,
          1,
          1,
          6,
          2,
          5,
          8,
          4,
          1,
          2,
          2,
          0,
          2,
          3,
          2,
          4,
          2,
          10,
          2,
          1,
          7,
          3,
          1,
          4,
          6,
          1,
          5,
          1,
          4,
          2,
          1,
          8,
          2,
          9,
          7,
          9,
          2,
          1,
          4,
          7,
          3,
          7,
          4,
          5,
          1,
          3,
          1,
          4,
          4,
          7,
          3,
          2,
          11,
          2,
          4,
          0,
          8,
          2,
          3,
          3,
          4,
          2,
          2,
          6,
          4,
          3,
          1,
          2,
          2,
          2,
          2,
          1,
          7,
          9,
          3,
          7,
          3,
          2,
          3,
          7,
          3,
          1,
          4,
          4,
          3,
          4,
          4,
          9,
          3,
          5,
          5,
          10
         ]
        },
        {
         "hoverinfo": "skip",
         "name": "Polynomial trendline",
         "type": "scatter",
         "x": [
          0,
          0.7085427135678392,
          1.4170854271356783,
          2.1256281407035176,
          2.8341708542713566,
          3.5427135678391957,
          4.251256281407035,
          4.959798994974874,
          5.668341708542713,
          6.376884422110552,
          7.085427135678391,
          7.79396984924623,
          8.50251256281407,
          9.21105527638191,
          9.919597989949748,
          10.628140703517587,
          11.336683417085426,
          12.045226130653266,
          12.753768844221105,
          13.462311557788944,
          14.170854271356783,
          14.879396984924622,
          15.58793969849246,
          16.2964824120603,
          17.00502512562814,
          17.713567839195978,
          18.42211055276382,
          19.130653266331656,
          19.839195979899497,
          20.547738693467334,
          21.256281407035175,
          21.964824120603012,
          22.673366834170853,
          23.381909547738694,
          24.09045226130653,
          24.798994974874372,
          25.50753768844221,
          26.21608040201005,
          26.924623115577887,
          27.633165829145728,
          28.341708542713565,
          29.050251256281406,
          29.758793969849243,
          30.467336683417084,
          31.17587939698492,
          31.884422110552762,
          32.5929648241206,
          33.30150753768844,
          34.01005025125628,
          34.71859296482412,
          35.427135678391956,
          36.1356783919598,
          36.84422110552764,
          37.552763819095475,
          38.26130653266331,
          38.969849246231156,
          39.678391959798994,
          40.38693467336683,
          41.09547738693467,
          41.80402010050251,
          42.51256281407035,
          43.22110552763819,
          43.929648241206024,
          44.63819095477387,
          45.346733668341706,
          46.05527638190954,
          46.76381909547739,
          47.472361809045225,
          48.18090452261306,
          48.8894472361809,
          49.597989949748744,
          50.30653266331658,
          51.01507537688442,
          51.723618090452256,
          52.4321608040201,
          53.14070351758794,
          53.849246231155774,
          54.55778894472361,
          55.266331658291456,
          55.97487437185929,
          56.68341708542713,
          57.391959798994975,
          58.10050251256281,
          58.80904522613065,
          59.51758793969849,
          60.22613065326633,
          60.93467336683417,
          61.643216080402006,
          62.35175879396984,
          63.06030150753769,
          63.768844221105525,
          64.47738693467336,
          65.1859296482412,
          65.89447236180904,
          66.60301507537687,
          67.31155778894473,
          68.02010050251256,
          68.7286432160804,
          69.43718592964824,
          70.14572864321607,
          70.85427135678391,
          71.56281407035175,
          72.2713567839196,
          72.97989949748744,
          73.68844221105527,
          74.39698492462311,
          75.10552763819095,
          75.81407035175879,
          76.52261306532662,
          77.23115577889446,
          77.93969849246231,
          78.64824120603015,
          79.35678391959799,
          80.06532663316582,
          80.77386934673366,
          81.4824120603015,
          82.19095477386934,
          82.89949748743719,
          83.60804020100502,
          84.31658291457286,
          85.0251256281407,
          85.73366834170854,
          86.44221105527637,
          87.15075376884421,
          87.85929648241205,
          88.5678391959799,
          89.27638190954774,
          89.98492462311557,
          90.69346733668341,
          91.40201005025125,
          92.11055276381909,
          92.81909547738692,
          93.52763819095478,
          94.23618090452261,
          94.94472361809045,
          95.65326633165829,
          96.36180904522612,
          97.07035175879396,
          97.7788944723618,
          98.48743718592964,
          99.19597989949749,
          99.90452261306532,
          100.61306532663316,
          101.321608040201,
          102.03015075376884,
          102.73869346733667,
          103.44723618090451,
          104.15577889447236,
          104.8643216080402,
          105.57286432160804,
          106.28140703517587,
          106.98994974874371,
          107.69849246231155,
          108.40703517587939,
          109.11557788944722,
          109.82412060301507,
          110.53266331658291,
          111.24120603015075,
          111.94974874371859,
          112.65829145728642,
          113.36683417085426,
          114.0753768844221,
          114.78391959798995,
          115.49246231155779,
          116.20100502512562,
          116.90954773869346,
          117.6180904522613,
          118.32663316582914,
          119.03517587939697,
          119.74371859296481,
          120.45226130653266,
          121.1608040201005,
          121.86934673366834,
          122.57788944723617,
          123.28643216080401,
          123.99497487437185,
          124.70351758793969,
          125.41206030150754,
          126.12060301507537,
          126.82914572864321,
          127.53768844221105,
          128.2462311557789,
          128.95477386934672,
          129.66331658291458,
          130.3718592964824,
          131.08040201005025,
          131.78894472361807,
          132.49748743718592,
          133.20603015075375,
          133.9145728643216,
          134.62311557788945,
          135.33165829145727,
          136.04020100502512,
          136.74874371859295,
          137.4572864321608,
          138.16582914572862,
          138.87437185929647,
          139.58291457286433,
          140.29145728643215,
          141
         ],
         "y": [
          5.095926347880102,
          4.17036539257472,
          3.572544570393678,
          3.249630090500265,
          3.1402484456632296,
          3.1846970420409146,
          3.3305800645298147,
          3.5353101960324143,
          3.766563729364756,
          4.001493093052266,
          4.22527574745562,
          4.429402113195216,
          4.6099692712716065,
          4.766144376202599,
          4.8988858306457574,
          5.00995597790101,
          5.101221883599741,
          5.174216921184715,
          5.229922196864163,
          5.268720746596371,
          5.29047678495945,
          5.294695369661965,
          5.280723305126429,
          5.2479588836871685,
          5.196045346807345,
          5.125030146755532,
          5.0354787820678855,
          4.928537891781224,
          4.805947262442748,
          4.67000435777646,
          4.523487922160301,
          4.3695491865398335,
          4.2115803059014025,
          4.053069992123399,
          3.8974559998463136,
          3.7479833055691354,
          3.6075756209942247,
          3.4787264225840184,
          3.363414072947726,
          3.2630439563063467,
          3.1784189343620706,
          3.109737921933452,
          3.056621038342938,
          3.0181586505956917,
          2.9929807156067905,
          2.9793421632512285,
          2.9752196429087063,
          2.9784147744055844,
          2.9866590851768184,
          2.9977160555142843,
          3.0094761043194063,
          3.020040898945226,
          3.0277940326471886,
          3.031455838201359,
          3.030120885856754,
          3.023277479944342,
          3.010809235598687,
          2.9929795178541854,
          2.970400163630429,
          2.943986463413219,
          2.914900810646137,
          2.8844877807629112,
          2.8542035916726074,
          2.825543027945211,
          2.7999668458140894,
          2.7788326099125356,
          2.7633316063207345,
          2.7544342470286987,
          2.7528458923986947,
          2.7589746913437834,
          2.77291242559844,
          2.79442891946781,
          2.8229800562984586,
          2.857728890221488,
          2.8975789047155085,
          2.9412180784708237,
          2.987171930238657,
          3.0338635181451936,
          3.079678088660295,
          3.1230299124650154,
          3.1624287952294603,
          3.1965437544868323,
          3.2242614532645697,
          3.244737217769389,
          3.257436591576677,
          3.262165884069928,
          3.259090419253956,
          3.248739503388694,
          3.231997948259975,
          3.210083997040554,
          3.18451437457824,
          3.1570572165368707,
          3.1296743311774167,
          3.104454908924505,
          3.083542256575105,
          3.069056219449718,
          3.0630141920273037,
          3.0672525050756345,
          3.0833521731805824,
          3.112570139755385,
          3.1557806475710266,
          3.213426012766701,
          3.2854828668951286,
          3.3714408625591936,
          3.470298891635876,
          3.5805775858310014,
          3.700348471606593,
          3.827279464251757,
          3.958696228174521,
          4.091657113905937,
          4.223039783915556,
          4.349638141131609,
          4.468265247738647,
          4.575858542399046,
          4.669587369169325,
          4.746953375837776,
          4.805885011462729,
          4.8448241122830185,
          4.862788934287001,
          4.859431823094501,
          4.835065414416653,
          4.790674223237119,
          4.727901401383424,
          4.649006837408593,
          4.556807435102917,
          4.454591160689363,
          4.346012086579962,
          4.234959795776309,
          4.1254330414741345,
          4.021374512427414,
          3.9265300752697367,
          3.844286294975732,
          3.777522144442318,
          3.7284823799274447,
          3.698645764104818,
          3.688641919300665,
          3.698184315088173,
          3.726040259799335,
          3.7700338501022905,
          3.8271010044329676,
          3.8933715347484097,
          3.9643100278022807,
          4.034871319854257,
          4.099703218229535,
          4.1533909456883,
          4.190719530812153,
          4.206885976557346,
          4.197847012325686,
          4.1605272087948295,
          4.09304463379819,
          3.9949460447063005,
          3.867346327604354,
          3.712986977072922,
          3.5363259959230993,
          3.343361772903967,
          3.141584716550828,
          2.9396783721168913,
          2.747225772397256,
          2.574265327993577,
          2.430768034203599,
          2.3262011551112236,
          2.268808333231277,
          2.2651456542587813,
          2.3194709801440423,
          2.433201235294184,
          2.604563784216634,
          2.8282949837908595,
          3.0956271873071324,
          3.394227205793666,
          3.708894168723407,
          4.02178850480227,
          4.313668186362421,
          4.564758995985359,
          4.756535594190529,
          4.8727477529019865,
          4.901648794154416,
          4.836960900971746,
          4.6798380982237235,
          4.439904096440904,
          4.1354054845212485,
          3.7936151896294605,
          3.4493821551859773,
          3.143055805345006,
          2.9168981945683172,
          2.8104974659735644,
          2.8551790903653242,
          3.0666570913115145,
          3.439055149963676,
          3.938685649076109,
          4.500651519537411,
          5.031537832573041,
          5.41873176150341,
          5.554073662828822,
          5.3759580077127325,
          4.938388382670571,
          4.518667616152673,
          4.7743398749988915,
          6.967999698141723,
          13.281274301876072,
          27.242819687526005
         ]
        }
       ],
       "layout": {
        "shapes": [
         {
          "line": {
           "dash": "dash"
          },
          "opacity": 0.2,
          "type": "line",
          "x0": -0.1,
          "x1": 120,
          "y0": 3.7872340425531914,
          "y1": 3.7872340425531914
         }
        ],
        "title": "Number of projects predicted by current approach"
       }
      },
      "text/html": [
       "<div id=\"2dbd4ee2-60fe-4c67-8965-59be1f79ac2c\" style=\"height: 525px; width: 100%;\" class=\"plotly-graph-div\"></div><script type=\"text/javascript\">require([\"plotly\"], function(Plotly) { window.PLOTLYENV=window.PLOTLYENV || {};window.PLOTLYENV.BASE_URL=\"https://plot.ly\";Plotly.newPlot(\"2dbd4ee2-60fe-4c67-8965-59be1f79ac2c\", [{\"type\": \"scatter\", \"y\": [6, 2, 2, 7, 2, 6, 1, 5, 2, 4, 6, 4, 9, 7, 4, 5, 7, 2, 1, 8, 3, 7, 5, 4, 3, 3, 5, 7, 2, 3, 1, 2, 2, 4, 2, 3, 2, 3, 9, 3, 2, 1, 1, 6, 3, 1, 3, 2, 1, 5, 1, 1, 6, 2, 5, 8, 4, 1, 2, 2, 0, 2, 3, 2, 4, 2, 10, 2, 1, 7, 3, 1, 4, 6, 1, 5, 1, 4, 2, 1, 8, 2, 9, 7, 9, 2, 1, 4, 7, 3, 7, 4, 5, 1, 3, 1, 4, 4, 7, 3, 2, 11, 2, 4, 0, 8, 2, 3, 3, 4, 2, 2, 6, 4, 3, 1, 2, 2, 2, 2, 1, 7, 9, 3, 7, 3, 2, 3, 7, 3, 1, 4, 4, 3, 4, 4, 9, 3, 5, 5, 10], \"name\": \"Project guesses\", \"hoverinfo\": \"name + y\"}, {\"type\": \"scatter\", \"x\": [0.0, 0.7085427135678392, 1.4170854271356783, 2.1256281407035176, 2.8341708542713566, 3.5427135678391957, 4.251256281407035, 4.959798994974874, 5.668341708542713, 6.376884422110552, 7.085427135678391, 7.79396984924623, 8.50251256281407, 9.21105527638191, 9.919597989949748, 10.628140703517587, 11.336683417085426, 12.045226130653266, 12.753768844221105, 13.462311557788944, 14.170854271356783, 14.879396984924622, 15.58793969849246, 16.2964824120603, 17.00502512562814, 17.713567839195978, 18.42211055276382, 19.130653266331656, 19.839195979899497, 20.547738693467334, 21.256281407035175, 21.964824120603012, 22.673366834170853, 23.381909547738694, 24.09045226130653, 24.798994974874372, 25.50753768844221, 26.21608040201005, 26.924623115577887, 27.633165829145728, 28.341708542713565, 29.050251256281406, 29.758793969849243, 30.467336683417084, 31.17587939698492, 31.884422110552762, 32.5929648241206, 33.30150753768844, 34.01005025125628, 34.71859296482412, 35.427135678391956, 36.1356783919598, 36.84422110552764, 37.552763819095475, 38.26130653266331, 38.969849246231156, 39.678391959798994, 40.38693467336683, 41.09547738693467, 41.80402010050251, 42.51256281407035, 43.22110552763819, 43.929648241206024, 44.63819095477387, 45.346733668341706, 46.05527638190954, 46.76381909547739, 47.472361809045225, 48.18090452261306, 48.8894472361809, 49.597989949748744, 50.30653266331658, 51.01507537688442, 51.723618090452256, 52.4321608040201, 53.14070351758794, 53.849246231155774, 54.55778894472361, 55.266331658291456, 55.97487437185929, 56.68341708542713, 57.391959798994975, 58.10050251256281, 58.80904522613065, 59.51758793969849, 60.22613065326633, 60.93467336683417, 61.643216080402006, 62.35175879396984, 63.06030150753769, 63.768844221105525, 64.47738693467336, 65.1859296482412, 65.89447236180904, 66.60301507537687, 67.31155778894473, 68.02010050251256, 68.7286432160804, 69.43718592964824, 70.14572864321607, 70.85427135678391, 71.56281407035175, 72.2713567839196, 72.97989949748744, 73.68844221105527, 74.39698492462311, 75.10552763819095, 75.81407035175879, 76.52261306532662, 77.23115577889446, 77.93969849246231, 78.64824120603015, 79.35678391959799, 80.06532663316582, 80.77386934673366, 81.4824120603015, 82.19095477386934, 82.89949748743719, 83.60804020100502, 84.31658291457286, 85.0251256281407, 85.73366834170854, 86.44221105527637, 87.15075376884421, 87.85929648241205, 88.5678391959799, 89.27638190954774, 89.98492462311557, 90.69346733668341, 91.40201005025125, 92.11055276381909, 92.81909547738692, 93.52763819095478, 94.23618090452261, 94.94472361809045, 95.65326633165829, 96.36180904522612, 97.07035175879396, 97.7788944723618, 98.48743718592964, 99.19597989949749, 99.90452261306532, 100.61306532663316, 101.321608040201, 102.03015075376884, 102.73869346733667, 103.44723618090451, 104.15577889447236, 104.8643216080402, 105.57286432160804, 106.28140703517587, 106.98994974874371, 107.69849246231155, 108.40703517587939, 109.11557788944722, 109.82412060301507, 110.53266331658291, 111.24120603015075, 111.94974874371859, 112.65829145728642, 113.36683417085426, 114.0753768844221, 114.78391959798995, 115.49246231155779, 116.20100502512562, 116.90954773869346, 117.6180904522613, 118.32663316582914, 119.03517587939697, 119.74371859296481, 120.45226130653266, 121.1608040201005, 121.86934673366834, 122.57788944723617, 123.28643216080401, 123.99497487437185, 124.70351758793969, 125.41206030150754, 126.12060301507537, 126.82914572864321, 127.53768844221105, 128.2462311557789, 128.95477386934672, 129.66331658291458, 130.3718592964824, 131.08040201005025, 131.78894472361807, 132.49748743718592, 133.20603015075375, 133.9145728643216, 134.62311557788945, 135.33165829145727, 136.04020100502512, 136.74874371859295, 137.4572864321608, 138.16582914572862, 138.87437185929647, 139.58291457286433, 140.29145728643215, 141.0], \"y\": [5.095926347880102, 4.17036539257472, 3.572544570393678, 3.249630090500265, 3.1402484456632296, 3.1846970420409146, 3.3305800645298147, 3.5353101960324143, 3.766563729364756, 4.001493093052266, 4.22527574745562, 4.429402113195216, 4.6099692712716065, 4.766144376202599, 4.8988858306457574, 5.00995597790101, 5.101221883599741, 5.174216921184715, 5.229922196864163, 5.268720746596371, 5.29047678495945, 5.294695369661965, 5.280723305126429, 5.2479588836871685, 5.196045346807345, 5.125030146755532, 5.0354787820678855, 4.928537891781224, 4.805947262442748, 4.67000435777646, 4.523487922160301, 4.3695491865398335, 4.2115803059014025, 4.053069992123399, 3.8974559998463136, 3.7479833055691354, 3.6075756209942247, 3.4787264225840184, 3.363414072947726, 3.2630439563063467, 3.1784189343620706, 3.109737921933452, 3.056621038342938, 3.0181586505956917, 2.9929807156067905, 2.9793421632512285, 2.9752196429087063, 2.9784147744055844, 2.9866590851768184, 2.9977160555142843, 3.0094761043194063, 3.020040898945226, 3.0277940326471886, 3.031455838201359, 3.030120885856754, 3.023277479944342, 3.010809235598687, 2.9929795178541854, 2.970400163630429, 2.943986463413219, 2.914900810646137, 2.8844877807629112, 2.8542035916726074, 2.825543027945211, 2.7999668458140894, 2.7788326099125356, 2.7633316063207345, 2.7544342470286987, 2.7528458923986947, 2.7589746913437834, 2.77291242559844, 2.79442891946781, 2.8229800562984586, 2.857728890221488, 2.8975789047155085, 2.9412180784708237, 2.987171930238657, 3.0338635181451936, 3.079678088660295, 3.1230299124650154, 3.1624287952294603, 3.1965437544868323, 3.2242614532645697, 3.244737217769389, 3.257436591576677, 3.262165884069928, 3.259090419253956, 3.248739503388694, 3.231997948259975, 3.210083997040554, 3.18451437457824, 3.1570572165368707, 3.1296743311774167, 3.104454908924505, 3.083542256575105, 3.069056219449718, 3.0630141920273037, 3.0672525050756345, 3.0833521731805824, 3.112570139755385, 3.1557806475710266, 3.213426012766701, 3.2854828668951286, 3.3714408625591936, 3.470298891635876, 3.5805775858310014, 3.700348471606593, 3.827279464251757, 3.958696228174521, 4.091657113905937, 4.223039783915556, 4.349638141131609, 4.468265247738647, 4.575858542399046, 4.669587369169325, 4.746953375837776, 4.805885011462729, 4.8448241122830185, 4.862788934287001, 4.859431823094501, 4.835065414416653, 4.790674223237119, 4.727901401383424, 4.649006837408593, 4.556807435102917, 4.454591160689363, 4.346012086579962, 4.234959795776309, 4.1254330414741345, 4.021374512427414, 3.9265300752697367, 3.844286294975732, 3.777522144442318, 3.7284823799274447, 3.698645764104818, 3.688641919300665, 3.698184315088173, 3.726040259799335, 3.7700338501022905, 3.8271010044329676, 3.8933715347484097, 3.9643100278022807, 4.034871319854257, 4.099703218229535, 4.1533909456883, 4.190719530812153, 4.206885976557346, 4.197847012325686, 4.1605272087948295, 4.09304463379819, 3.9949460447063005, 3.867346327604354, 3.712986977072922, 3.5363259959230993, 3.343361772903967, 3.141584716550828, 2.9396783721168913, 2.747225772397256, 2.574265327993577, 2.430768034203599, 2.3262011551112236, 2.268808333231277, 2.2651456542587813, 2.3194709801440423, 2.433201235294184, 2.604563784216634, 2.8282949837908595, 3.0956271873071324, 3.394227205793666, 3.708894168723407, 4.02178850480227, 4.313668186362421, 4.564758995985359, 4.756535594190529, 4.8727477529019865, 4.901648794154416, 4.836960900971746, 4.6798380982237235, 4.439904096440904, 4.1354054845212485, 3.7936151896294605, 3.4493821551859773, 3.143055805345006, 2.9168981945683172, 2.8104974659735644, 2.8551790903653242, 3.0666570913115145, 3.439055149963676, 3.938685649076109, 4.500651519537411, 5.031537832573041, 5.41873176150341, 5.554073662828822, 5.3759580077127325, 4.938388382670571, 4.518667616152673, 4.7743398749988915, 6.967999698141723, 13.281274301876072, 27.242819687526005], \"name\": \"Polynomial trendline\", \"hoverinfo\": \"skip\"}], {\"title\": \"Number of projects predicted by current approach\", \"shapes\": [{\"type\": \"line\", \"y0\": 3.7872340425531914, \"y1\": 3.7872340425531914, \"x0\": -0.1, \"x1\": 120, \"opacity\": 0.2, \"line\": {\"dash\": \"dash\"}}]}, {\"showLink\": false, \"linkText\": \"Export to plot.ly\"})});</script>"
      ],
      "text/vnd.plotly.v1+html": [
       "<div id=\"2dbd4ee2-60fe-4c67-8965-59be1f79ac2c\" style=\"height: 525px; width: 100%;\" class=\"plotly-graph-div\"></div><script type=\"text/javascript\">require([\"plotly\"], function(Plotly) { window.PLOTLYENV=window.PLOTLYENV || {};window.PLOTLYENV.BASE_URL=\"https://plot.ly\";Plotly.newPlot(\"2dbd4ee2-60fe-4c67-8965-59be1f79ac2c\", [{\"type\": \"scatter\", \"y\": [6, 2, 2, 7, 2, 6, 1, 5, 2, 4, 6, 4, 9, 7, 4, 5, 7, 2, 1, 8, 3, 7, 5, 4, 3, 3, 5, 7, 2, 3, 1, 2, 2, 4, 2, 3, 2, 3, 9, 3, 2, 1, 1, 6, 3, 1, 3, 2, 1, 5, 1, 1, 6, 2, 5, 8, 4, 1, 2, 2, 0, 2, 3, 2, 4, 2, 10, 2, 1, 7, 3, 1, 4, 6, 1, 5, 1, 4, 2, 1, 8, 2, 9, 7, 9, 2, 1, 4, 7, 3, 7, 4, 5, 1, 3, 1, 4, 4, 7, 3, 2, 11, 2, 4, 0, 8, 2, 3, 3, 4, 2, 2, 6, 4, 3, 1, 2, 2, 2, 2, 1, 7, 9, 3, 7, 3, 2, 3, 7, 3, 1, 4, 4, 3, 4, 4, 9, 3, 5, 5, 10], \"name\": \"Project guesses\", \"hoverinfo\": \"name + y\"}, {\"type\": \"scatter\", \"x\": [0.0, 0.7085427135678392, 1.4170854271356783, 2.1256281407035176, 2.8341708542713566, 3.5427135678391957, 4.251256281407035, 4.959798994974874, 5.668341708542713, 6.376884422110552, 7.085427135678391, 7.79396984924623, 8.50251256281407, 9.21105527638191, 9.919597989949748, 10.628140703517587, 11.336683417085426, 12.045226130653266, 12.753768844221105, 13.462311557788944, 14.170854271356783, 14.879396984924622, 15.58793969849246, 16.2964824120603, 17.00502512562814, 17.713567839195978, 18.42211055276382, 19.130653266331656, 19.839195979899497, 20.547738693467334, 21.256281407035175, 21.964824120603012, 22.673366834170853, 23.381909547738694, 24.09045226130653, 24.798994974874372, 25.50753768844221, 26.21608040201005, 26.924623115577887, 27.633165829145728, 28.341708542713565, 29.050251256281406, 29.758793969849243, 30.467336683417084, 31.17587939698492, 31.884422110552762, 32.5929648241206, 33.30150753768844, 34.01005025125628, 34.71859296482412, 35.427135678391956, 36.1356783919598, 36.84422110552764, 37.552763819095475, 38.26130653266331, 38.969849246231156, 39.678391959798994, 40.38693467336683, 41.09547738693467, 41.80402010050251, 42.51256281407035, 43.22110552763819, 43.929648241206024, 44.63819095477387, 45.346733668341706, 46.05527638190954, 46.76381909547739, 47.472361809045225, 48.18090452261306, 48.8894472361809, 49.597989949748744, 50.30653266331658, 51.01507537688442, 51.723618090452256, 52.4321608040201, 53.14070351758794, 53.849246231155774, 54.55778894472361, 55.266331658291456, 55.97487437185929, 56.68341708542713, 57.391959798994975, 58.10050251256281, 58.80904522613065, 59.51758793969849, 60.22613065326633, 60.93467336683417, 61.643216080402006, 62.35175879396984, 63.06030150753769, 63.768844221105525, 64.47738693467336, 65.1859296482412, 65.89447236180904, 66.60301507537687, 67.31155778894473, 68.02010050251256, 68.7286432160804, 69.43718592964824, 70.14572864321607, 70.85427135678391, 71.56281407035175, 72.2713567839196, 72.97989949748744, 73.68844221105527, 74.39698492462311, 75.10552763819095, 75.81407035175879, 76.52261306532662, 77.23115577889446, 77.93969849246231, 78.64824120603015, 79.35678391959799, 80.06532663316582, 80.77386934673366, 81.4824120603015, 82.19095477386934, 82.89949748743719, 83.60804020100502, 84.31658291457286, 85.0251256281407, 85.73366834170854, 86.44221105527637, 87.15075376884421, 87.85929648241205, 88.5678391959799, 89.27638190954774, 89.98492462311557, 90.69346733668341, 91.40201005025125, 92.11055276381909, 92.81909547738692, 93.52763819095478, 94.23618090452261, 94.94472361809045, 95.65326633165829, 96.36180904522612, 97.07035175879396, 97.7788944723618, 98.48743718592964, 99.19597989949749, 99.90452261306532, 100.61306532663316, 101.321608040201, 102.03015075376884, 102.73869346733667, 103.44723618090451, 104.15577889447236, 104.8643216080402, 105.57286432160804, 106.28140703517587, 106.98994974874371, 107.69849246231155, 108.40703517587939, 109.11557788944722, 109.82412060301507, 110.53266331658291, 111.24120603015075, 111.94974874371859, 112.65829145728642, 113.36683417085426, 114.0753768844221, 114.78391959798995, 115.49246231155779, 116.20100502512562, 116.90954773869346, 117.6180904522613, 118.32663316582914, 119.03517587939697, 119.74371859296481, 120.45226130653266, 121.1608040201005, 121.86934673366834, 122.57788944723617, 123.28643216080401, 123.99497487437185, 124.70351758793969, 125.41206030150754, 126.12060301507537, 126.82914572864321, 127.53768844221105, 128.2462311557789, 128.95477386934672, 129.66331658291458, 130.3718592964824, 131.08040201005025, 131.78894472361807, 132.49748743718592, 133.20603015075375, 133.9145728643216, 134.62311557788945, 135.33165829145727, 136.04020100502512, 136.74874371859295, 137.4572864321608, 138.16582914572862, 138.87437185929647, 139.58291457286433, 140.29145728643215, 141.0], \"y\": [5.095926347880102, 4.17036539257472, 3.572544570393678, 3.249630090500265, 3.1402484456632296, 3.1846970420409146, 3.3305800645298147, 3.5353101960324143, 3.766563729364756, 4.001493093052266, 4.22527574745562, 4.429402113195216, 4.6099692712716065, 4.766144376202599, 4.8988858306457574, 5.00995597790101, 5.101221883599741, 5.174216921184715, 5.229922196864163, 5.268720746596371, 5.29047678495945, 5.294695369661965, 5.280723305126429, 5.2479588836871685, 5.196045346807345, 5.125030146755532, 5.0354787820678855, 4.928537891781224, 4.805947262442748, 4.67000435777646, 4.523487922160301, 4.3695491865398335, 4.2115803059014025, 4.053069992123399, 3.8974559998463136, 3.7479833055691354, 3.6075756209942247, 3.4787264225840184, 3.363414072947726, 3.2630439563063467, 3.1784189343620706, 3.109737921933452, 3.056621038342938, 3.0181586505956917, 2.9929807156067905, 2.9793421632512285, 2.9752196429087063, 2.9784147744055844, 2.9866590851768184, 2.9977160555142843, 3.0094761043194063, 3.020040898945226, 3.0277940326471886, 3.031455838201359, 3.030120885856754, 3.023277479944342, 3.010809235598687, 2.9929795178541854, 2.970400163630429, 2.943986463413219, 2.914900810646137, 2.8844877807629112, 2.8542035916726074, 2.825543027945211, 2.7999668458140894, 2.7788326099125356, 2.7633316063207345, 2.7544342470286987, 2.7528458923986947, 2.7589746913437834, 2.77291242559844, 2.79442891946781, 2.8229800562984586, 2.857728890221488, 2.8975789047155085, 2.9412180784708237, 2.987171930238657, 3.0338635181451936, 3.079678088660295, 3.1230299124650154, 3.1624287952294603, 3.1965437544868323, 3.2242614532645697, 3.244737217769389, 3.257436591576677, 3.262165884069928, 3.259090419253956, 3.248739503388694, 3.231997948259975, 3.210083997040554, 3.18451437457824, 3.1570572165368707, 3.1296743311774167, 3.104454908924505, 3.083542256575105, 3.069056219449718, 3.0630141920273037, 3.0672525050756345, 3.0833521731805824, 3.112570139755385, 3.1557806475710266, 3.213426012766701, 3.2854828668951286, 3.3714408625591936, 3.470298891635876, 3.5805775858310014, 3.700348471606593, 3.827279464251757, 3.958696228174521, 4.091657113905937, 4.223039783915556, 4.349638141131609, 4.468265247738647, 4.575858542399046, 4.669587369169325, 4.746953375837776, 4.805885011462729, 4.8448241122830185, 4.862788934287001, 4.859431823094501, 4.835065414416653, 4.790674223237119, 4.727901401383424, 4.649006837408593, 4.556807435102917, 4.454591160689363, 4.346012086579962, 4.234959795776309, 4.1254330414741345, 4.021374512427414, 3.9265300752697367, 3.844286294975732, 3.777522144442318, 3.7284823799274447, 3.698645764104818, 3.688641919300665, 3.698184315088173, 3.726040259799335, 3.7700338501022905, 3.8271010044329676, 3.8933715347484097, 3.9643100278022807, 4.034871319854257, 4.099703218229535, 4.1533909456883, 4.190719530812153, 4.206885976557346, 4.197847012325686, 4.1605272087948295, 4.09304463379819, 3.9949460447063005, 3.867346327604354, 3.712986977072922, 3.5363259959230993, 3.343361772903967, 3.141584716550828, 2.9396783721168913, 2.747225772397256, 2.574265327993577, 2.430768034203599, 2.3262011551112236, 2.268808333231277, 2.2651456542587813, 2.3194709801440423, 2.433201235294184, 2.604563784216634, 2.8282949837908595, 3.0956271873071324, 3.394227205793666, 3.708894168723407, 4.02178850480227, 4.313668186362421, 4.564758995985359, 4.756535594190529, 4.8727477529019865, 4.901648794154416, 4.836960900971746, 4.6798380982237235, 4.439904096440904, 4.1354054845212485, 3.7936151896294605, 3.4493821551859773, 3.143055805345006, 2.9168981945683172, 2.8104974659735644, 2.8551790903653242, 3.0666570913115145, 3.439055149963676, 3.938685649076109, 4.500651519537411, 5.031537832573041, 5.41873176150341, 5.554073662828822, 5.3759580077127325, 4.938388382670571, 4.518667616152673, 4.7743398749988915, 6.967999698141723, 13.281274301876072, 27.242819687526005], \"name\": \"Polynomial trendline\", \"hoverinfo\": \"skip\"}], {\"title\": \"Number of projects predicted by current approach\", \"shapes\": [{\"type\": \"line\", \"y0\": 3.7872340425531914, \"y1\": 3.7872340425531914, \"x0\": -0.1, \"x1\": 120, \"opacity\": 0.2, \"line\": {\"dash\": \"dash\"}}]}, {\"showLink\": false, \"linkText\": \"Export to plot.ly\"})});</script>"
      ]
     },
     "metadata": {},
     "output_type": "display_data"
    }
   ],
   "source": [
    "iplot(fig, show_link=False)"
   ]
  },
  {
   "cell_type": "markdown",
   "metadata": {
    "extensions": {
     "jupyter_dashboards": {
      "version": 1,
      "views": {
       "grid_default": {
        "col": 0,
        "height": 7,
        "hidden": false,
        "row": 125,
        "width": 12
       },
       "report_default": {}
      }
     }
    }
   },
   "source": [
    "### Evaluate accuracy on the whole dataset for 3  main ecosystems\n",
    "\n",
    "This evaluation will take a while, the whole dataset presented at the beginning of this notebook will be labeled and split into train and test data.\n",
    "\n",
    "The classifier will be retrained on the train data.\n",
    "\n",
    "**NOTE:** *It would be possible to use the same classifiers as previously, but they were trained on such a small portion of data (ever smaller with respect to the real-world data), that the results would not correspond with reality.*"
   ]
  },
  {
   "cell_type": "code",
   "execution_count": 56,
   "metadata": {
    "extensions": {
     "jupyter_dashboards": {
      "version": 1,
      "views": {
       "grid_default": {
        "col": 0,
        "height": 11,
        "hidden": false,
        "row": 132,
        "width": 12
       },
       "report_default": {}
      }
     }
    }
   },
   "outputs": [
    {
     "name": "stdout",
     "output_type": "stream",
     "text": [
      "<class 'pandas.core.frame.DataFrame'>\n",
      "MultiIndex: 1127 entries, (Microsoft, ChakraCore) to (memcached, memcached)\n",
      "Data columns (total 7 columns):\n",
      "cve_id           1127 non-null object\n",
      "url              1127 non-null object\n",
      "description      1127 non-null object\n",
      "version_range    1127 non-null object\n",
      "Java             1127 non-null int64\n",
      "JavaScript       1127 non-null int64\n",
      "Python           1127 non-null int64\n",
      "dtypes: int64(3), object(4)\n",
      "memory usage: 72.0+ KB\n"
     ]
    }
   ],
   "source": [
    "df.info()"
   ]
  },
  {
   "cell_type": "code",
   "execution_count": 57,
   "metadata": {
    "extensions": {
     "jupyter_dashboards": {
      "version": 1,
      "views": {
       "grid_default": {
        "hidden": true
       },
       "report_default": {
        "hidden": true
       }
      }
     }
    }
   },
   "outputs": [],
   "source": [
    "# Choose an extractor and train it on the whole df\n",
    "extractor = extract_features_v3\n",
    "\n",
    "feature_list = create_feature_list_long(extractor, descriptions, labels, cve_ids)\n",
    "classifier = nltk.NaiveBayesClassifier.train(feature_list)\n",
    "\n",
    "predictions = [None] * len(df)\n",
    "for i, desc in enumerate(df.description.values):\n",
    "    probs = predict(desc, classifier, extract_features_v3, cve_id=df.cve_id.values[i], n=3,\n",
    "                   verbose=False)\n",
    "    predictions[i] = probs\n",
    "\n",
    "# get just the names\n",
    "\n",
    "pred_proj_names = [tuple(zip(*p))[0] for p in predictions]\n",
    "\n",
    "pred_df = pd.Series(pred_proj_names, name='prediction')\n",
    "df['prediction'] = pred_df.values"
   ]
  },
  {
   "cell_type": "code",
   "execution_count": 58,
   "metadata": {
    "extensions": {
     "jupyter_dashboards": {
      "version": 1,
      "views": {
       "grid_default": {
        "hidden": true
       },
       "report_default": {
        "hidden": true
       }
      }
     }
    }
   },
   "outputs": [],
   "source": [
    "# label_tuple are a position of the project token in the token list\n",
    "pred_tuple = [None] * len(df)\n",
    "for i, (index, row) in enumerate(df.iterrows()):\n",
    "    proj = index[1].lower()\n",
    "    desc = row.description.lower()\n",
    "    # find the position of proj in the description, if applicable\n",
    "    tokens = nltk.word_tokenize(desc)\n",
    "    found = False\n",
    "    for pos, token in enumerate(tokens):\n",
    "        if token == proj:\n",
    "            found = True\n",
    "            break\n",
    "    if not found:\n",
    "        pos = None\n",
    "    \n",
    "    pred_tuple[i] = (row.cve_id, token if found else None, pos)\n",
    "\n",
    "# turn index into series\n",
    "label_series = pd.DataFrame(pred_tuple, columns=['cve_id', 'label', 'pos'])\n",
    "\n",
    "del pred_tuple"
   ]
  },
  {
   "cell_type": "code",
   "execution_count": 59,
   "metadata": {
    "extensions": {
     "jupyter_dashboards": {
      "version": 1,
      "views": {
       "grid_default": {
        "hidden": true
       },
       "report_default": {}
      }
     }
    }
   },
   "outputs": [],
   "source": [
    "# Label the dataset\n",
    "df = df.reset_index().merge(label_series, how='left', on='cve_id')"
   ]
  },
  {
   "cell_type": "code",
   "execution_count": 60,
   "metadata": {
    "extensions": {
     "jupyter_dashboards": {
      "version": 1,
      "views": {
       "grid_default": {
        "hidden": true
       },
       "report_default": {}
      }
     }
    }
   },
   "outputs": [],
   "source": [
    "descriptions, labels, cve_ids = list(zip(*df.sample(frac=1)[['description', 'project', 'cve_id']].values))\n",
    "\n",
    "# estimate split ratio\n",
    "split = int(len(descriptions) * 0.25)\n",
    "\n",
    "# prepare train data\n",
    "train_descriptions, train_labels, train_cve_ids = descriptions[split:], labels[split:], cve_ids[split:]\n",
    "\n",
    "# prepare test data\n",
    "test_descriptions, test_labels, test_cve_ids = descriptions[:split], labels[:split], cve_ids[:split]"
   ]
  },
  {
   "cell_type": "markdown",
   "metadata": {
    "extensions": {
     "jupyter_dashboards": {
      "version": 1,
      "views": {
       "grid_default": {
        "col": 0,
        "height": 2,
        "hidden": false,
        "row": 143,
        "width": 12
       },
       "report_default": {}
      }
     }
    }
   },
   "source": [
    "#### Evaluation of the currently used approach on the whole data set"
   ]
  },
  {
   "cell_type": "code",
   "execution_count": 61,
   "metadata": {
    "extensions": {
     "jupyter_dashboards": {
      "version": 1,
      "views": {
       "grid_default": {
        "hidden": true
       },
       "report_default": {}
      }
     }
    }
   },
   "outputs": [],
   "source": [
    "old_accuracy, mean_guess = eval_old_accuracy(test_descriptions, test_labels)"
   ]
  },
  {
   "cell_type": "code",
   "execution_count": 62,
   "metadata": {
    "extensions": {
     "jupyter_dashboards": {
      "version": 1,
      "views": {
       "grid_default": {
        "col": 0,
        "height": 4,
        "hidden": false,
        "row": 145,
        "width": 12
       },
       "report_default": {}
      }
     }
    }
   },
   "outputs": [
    {
     "name": "stdout",
     "output_type": "stream",
     "text": [
      "accuracy: 0.800711743772242\n",
      "mean guess length: 3.3380782918149468\n"
     ]
    }
   ],
   "source": [
    "print('accuracy:', old_accuracy)\n",
    "print('mean guess length:', mean_guess)"
   ]
  },
  {
   "cell_type": "markdown",
   "metadata": {
    "extensions": {
     "jupyter_dashboards": {
      "version": 1,
      "views": {
       "grid_default": {
        "col": 0,
        "height": 2,
        "hidden": false,
        "row": 149,
        "width": 12
       },
       "report_default": {
        "hidden": true
       }
      }
     }
    }
   },
   "source": [
    "#### Evaluation of the new approach on the whole data set"
   ]
  },
  {
   "cell_type": "code",
   "execution_count": 63,
   "metadata": {
    "extensions": {
     "jupyter_dashboards": {
      "version": 1,
      "views": {
       "grid_default": {
        "hidden": true
       },
       "report_default": {}
      }
     }
    }
   },
   "outputs": [],
   "source": [
    "x = np.arange(1, 15)\n",
    "feature_extractors = [extract_features_vanilla, extract_features_v0, extract_features_v1, extract_features_v2,\n",
    "                      extract_features_v3\n",
    "                     ]\n",
    "\n",
    "accuracy_list = list()\n",
    "for i, extractor in enumerate(feature_extractors):\n",
    "    # Lets not split the dataset here for now\n",
    "    feature_list = create_feature_list_long(extractor, train_descriptions, train_labels,\n",
    "                                            train_cve_ids)\n",
    "\n",
    "    classifier = nltk.NaiveBayesClassifier.train(feature_list)\n",
    "#     classifier.show_most_informative_features()\n",
    "    \n",
    "    accuracy_list.append(\n",
    "        [\n",
    "            eval_accuracy_spec(classifier, extractor, test_descriptions, test_labels, test_cve_ids, i)\n",
    "            for i in x\n",
    "        ]\n",
    "    )"
   ]
  },
  {
   "cell_type": "code",
   "execution_count": 64,
   "metadata": {
    "extensions": {
     "jupyter_dashboards": {
      "version": 1,
      "views": {
       "grid_default": {
        "hidden": true
       },
       "report_default": {}
      }
     }
    }
   },
   "outputs": [],
   "source": [
    "trace_names = ['vanilla_extractor'] + ['extract_features_v%d' % i for i in range(len(accuracy_list))]\n",
    "data = [go.Scatter(x=x, y=ac, name=trace_names[i]) for i, ac in enumerate(accuracy_list)]\n",
    "\n",
    "layout = go.Layout(\n",
    "    yaxis=dict(\n",
    "        title='Accuracy',\n",
    "        titlefont=dict(\n",
    "            color='grey'\n",
    "        )\n",
    "    ),\n",
    "    xaxis=dict(\n",
    "        title='Candidates',\n",
    "        titlefont=dict(\n",
    "            color='grey'\n",
    "        )\n",
    "    ),\n",
    "    shapes=[\n",
    "        {\n",
    "            'type': 'line',\n",
    "            'x0': mean_guess,\n",
    "            'x1': mean_guess,\n",
    "            'y0': -0.05,\n",
    "            'y1': 1.1,\n",
    "            'opacity': 0.2,\n",
    "            'line': {\n",
    "                'dash': 'dash'\n",
    "            }\n",
    "        },\n",
    "        {\n",
    "            'type': 'line',\n",
    "            'x0': -0.5,\n",
    "            'x1': 15,\n",
    "            'y0': old_accuracy,\n",
    "            'y1': old_accuracy,\n",
    "            'opacity': 0.2,\n",
    "            'line': {\n",
    "                'dash': 'dash'\n",
    "            }\n",
    "        }\n",
    "    ]\n",
    ")\n",
    "\n",
    "fig = go.Figure(data=data, layout=layout)"
   ]
  },
  {
   "cell_type": "code",
   "execution_count": 65,
   "metadata": {
    "extensions": {
     "jupyter_dashboards": {
      "version": 1,
      "views": {
       "grid_default": {
        "col": 0,
        "height": 19,
        "hidden": false,
        "row": 151,
        "width": null
       },
       "report_default": {}
      }
     }
    }
   },
   "outputs": [
    {
     "data": {
      "application/vnd.plotly.v1+json": {
       "data": [
        {
         "name": "vanilla_extractor",
         "type": "scatter",
         "x": [
          1,
          2,
          3,
          4,
          5,
          6,
          7,
          8,
          9,
          10,
          11,
          12,
          13,
          14
         ],
         "y": [
          0.6476868327402135,
          0.7615658362989324,
          0.8291814946619217,
          0.8398576512455516,
          0.8540925266903915,
          0.8576512455516014,
          0.8683274021352313,
          0.8861209964412812,
          0.8896797153024911,
          0.896797153024911,
          0.896797153024911,
          0.896797153024911,
          0.896797153024911,
          0.896797153024911
         ]
        },
        {
         "name": "extract_features_v0",
         "type": "scatter",
         "x": [
          1,
          2,
          3,
          4,
          5,
          6,
          7,
          8,
          9,
          10,
          11,
          12,
          13,
          14
         ],
         "y": [
          0.5088967971530249,
          0.6690391459074733,
          0.7651245551601423,
          0.8078291814946619,
          0.8220640569395018,
          0.8434163701067615,
          0.8612099644128114,
          0.8754448398576512,
          0.8754448398576512,
          0.8754448398576512,
          0.8790035587188612,
          0.8790035587188612,
          0.8790035587188612,
          0.8790035587188612
         ]
        },
        {
         "name": "extract_features_v1",
         "type": "scatter",
         "x": [
          1,
          2,
          3,
          4,
          5,
          6,
          7,
          8,
          9,
          10,
          11,
          12,
          13,
          14
         ],
         "y": [
          0.8327402135231317,
          0.8612099644128114,
          0.8790035587188612,
          0.8861209964412812,
          0.8896797153024911,
          0.8896797153024911,
          0.8932384341637011,
          0.896797153024911,
          0.896797153024911,
          0.896797153024911,
          0.896797153024911,
          0.896797153024911,
          0.900355871886121,
          0.900355871886121
         ]
        },
        {
         "name": "extract_features_v2",
         "type": "scatter",
         "x": [
          1,
          2,
          3,
          4,
          5,
          6,
          7,
          8,
          9,
          10,
          11,
          12,
          13,
          14
         ],
         "y": [
          0.8469750889679716,
          0.8790035587188612,
          0.8896797153024911,
          0.8896797153024911,
          0.8932384341637011,
          0.896797153024911,
          0.896797153024911,
          0.896797153024911,
          0.896797153024911,
          0.896797153024911,
          0.896797153024911,
          0.896797153024911,
          0.896797153024911,
          0.896797153024911
         ]
        },
        {
         "name": "extract_features_v3",
         "type": "scatter",
         "x": [
          1,
          2,
          3,
          4,
          5,
          6,
          7,
          8,
          9,
          10,
          11,
          12,
          13,
          14
         ],
         "y": [
          0.8434163701067615,
          0.8861209964412812,
          0.8896797153024911,
          0.8932384341637011,
          0.8932384341637011,
          0.896797153024911,
          0.896797153024911,
          0.896797153024911,
          0.896797153024911,
          0.896797153024911,
          0.896797153024911,
          0.896797153024911,
          0.896797153024911,
          0.896797153024911
         ]
        }
       ],
       "layout": {
        "shapes": [
         {
          "line": {
           "dash": "dash"
          },
          "opacity": 0.2,
          "type": "line",
          "x0": 3.3380782918149468,
          "x1": 3.3380782918149468,
          "y0": -0.05,
          "y1": 1.1
         },
         {
          "line": {
           "dash": "dash"
          },
          "opacity": 0.2,
          "type": "line",
          "x0": -0.5,
          "x1": 15,
          "y0": 0.800711743772242,
          "y1": 0.800711743772242
         }
        ],
        "xaxis": {
         "title": "Candidates",
         "titlefont": {
          "color": "grey"
         }
        },
        "yaxis": {
         "title": "Accuracy",
         "titlefont": {
          "color": "grey"
         }
        }
       }
      },
      "text/html": [
       "<div id=\"883dc1e9-c269-436b-897e-9b1e87aee9cb\" style=\"height: 525px; width: 100%;\" class=\"plotly-graph-div\"></div><script type=\"text/javascript\">require([\"plotly\"], function(Plotly) { window.PLOTLYENV=window.PLOTLYENV || {};window.PLOTLYENV.BASE_URL=\"https://plot.ly\";Plotly.newPlot(\"883dc1e9-c269-436b-897e-9b1e87aee9cb\", [{\"type\": \"scatter\", \"x\": [1, 2, 3, 4, 5, 6, 7, 8, 9, 10, 11, 12, 13, 14], \"y\": [0.6476868327402135, 0.7615658362989324, 0.8291814946619217, 0.8398576512455516, 0.8540925266903915, 0.8576512455516014, 0.8683274021352313, 0.8861209964412812, 0.8896797153024911, 0.896797153024911, 0.896797153024911, 0.896797153024911, 0.896797153024911, 0.896797153024911], \"name\": \"vanilla_extractor\"}, {\"type\": \"scatter\", \"x\": [1, 2, 3, 4, 5, 6, 7, 8, 9, 10, 11, 12, 13, 14], \"y\": [0.5088967971530249, 0.6690391459074733, 0.7651245551601423, 0.8078291814946619, 0.8220640569395018, 0.8434163701067615, 0.8612099644128114, 0.8754448398576512, 0.8754448398576512, 0.8754448398576512, 0.8790035587188612, 0.8790035587188612, 0.8790035587188612, 0.8790035587188612], \"name\": \"extract_features_v0\"}, {\"type\": \"scatter\", \"x\": [1, 2, 3, 4, 5, 6, 7, 8, 9, 10, 11, 12, 13, 14], \"y\": [0.8327402135231317, 0.8612099644128114, 0.8790035587188612, 0.8861209964412812, 0.8896797153024911, 0.8896797153024911, 0.8932384341637011, 0.896797153024911, 0.896797153024911, 0.896797153024911, 0.896797153024911, 0.896797153024911, 0.900355871886121, 0.900355871886121], \"name\": \"extract_features_v1\"}, {\"type\": \"scatter\", \"x\": [1, 2, 3, 4, 5, 6, 7, 8, 9, 10, 11, 12, 13, 14], \"y\": [0.8469750889679716, 0.8790035587188612, 0.8896797153024911, 0.8896797153024911, 0.8932384341637011, 0.896797153024911, 0.896797153024911, 0.896797153024911, 0.896797153024911, 0.896797153024911, 0.896797153024911, 0.896797153024911, 0.896797153024911, 0.896797153024911], \"name\": \"extract_features_v2\"}, {\"type\": \"scatter\", \"x\": [1, 2, 3, 4, 5, 6, 7, 8, 9, 10, 11, 12, 13, 14], \"y\": [0.8434163701067615, 0.8861209964412812, 0.8896797153024911, 0.8932384341637011, 0.8932384341637011, 0.896797153024911, 0.896797153024911, 0.896797153024911, 0.896797153024911, 0.896797153024911, 0.896797153024911, 0.896797153024911, 0.896797153024911, 0.896797153024911], \"name\": \"extract_features_v3\"}], {\"yaxis\": {\"title\": \"Accuracy\", \"titlefont\": {\"color\": \"grey\"}}, \"xaxis\": {\"title\": \"Candidates\", \"titlefont\": {\"color\": \"grey\"}}, \"shapes\": [{\"type\": \"line\", \"x0\": 3.3380782918149468, \"x1\": 3.3380782918149468, \"y0\": -0.05, \"y1\": 1.1, \"opacity\": 0.2, \"line\": {\"dash\": \"dash\"}}, {\"type\": \"line\", \"x0\": -0.5, \"x1\": 15, \"y0\": 0.800711743772242, \"y1\": 0.800711743772242, \"opacity\": 0.2, \"line\": {\"dash\": \"dash\"}}]}, {\"showLink\": false, \"linkText\": \"Export to plot.ly\"})});</script>"
      ],
      "text/vnd.plotly.v1+html": [
       "<div id=\"883dc1e9-c269-436b-897e-9b1e87aee9cb\" style=\"height: 525px; width: 100%;\" class=\"plotly-graph-div\"></div><script type=\"text/javascript\">require([\"plotly\"], function(Plotly) { window.PLOTLYENV=window.PLOTLYENV || {};window.PLOTLYENV.BASE_URL=\"https://plot.ly\";Plotly.newPlot(\"883dc1e9-c269-436b-897e-9b1e87aee9cb\", [{\"type\": \"scatter\", \"x\": [1, 2, 3, 4, 5, 6, 7, 8, 9, 10, 11, 12, 13, 14], \"y\": [0.6476868327402135, 0.7615658362989324, 0.8291814946619217, 0.8398576512455516, 0.8540925266903915, 0.8576512455516014, 0.8683274021352313, 0.8861209964412812, 0.8896797153024911, 0.896797153024911, 0.896797153024911, 0.896797153024911, 0.896797153024911, 0.896797153024911], \"name\": \"vanilla_extractor\"}, {\"type\": \"scatter\", \"x\": [1, 2, 3, 4, 5, 6, 7, 8, 9, 10, 11, 12, 13, 14], \"y\": [0.5088967971530249, 0.6690391459074733, 0.7651245551601423, 0.8078291814946619, 0.8220640569395018, 0.8434163701067615, 0.8612099644128114, 0.8754448398576512, 0.8754448398576512, 0.8754448398576512, 0.8790035587188612, 0.8790035587188612, 0.8790035587188612, 0.8790035587188612], \"name\": \"extract_features_v0\"}, {\"type\": \"scatter\", \"x\": [1, 2, 3, 4, 5, 6, 7, 8, 9, 10, 11, 12, 13, 14], \"y\": [0.8327402135231317, 0.8612099644128114, 0.8790035587188612, 0.8861209964412812, 0.8896797153024911, 0.8896797153024911, 0.8932384341637011, 0.896797153024911, 0.896797153024911, 0.896797153024911, 0.896797153024911, 0.896797153024911, 0.900355871886121, 0.900355871886121], \"name\": \"extract_features_v1\"}, {\"type\": \"scatter\", \"x\": [1, 2, 3, 4, 5, 6, 7, 8, 9, 10, 11, 12, 13, 14], \"y\": [0.8469750889679716, 0.8790035587188612, 0.8896797153024911, 0.8896797153024911, 0.8932384341637011, 0.896797153024911, 0.896797153024911, 0.896797153024911, 0.896797153024911, 0.896797153024911, 0.896797153024911, 0.896797153024911, 0.896797153024911, 0.896797153024911], \"name\": \"extract_features_v2\"}, {\"type\": \"scatter\", \"x\": [1, 2, 3, 4, 5, 6, 7, 8, 9, 10, 11, 12, 13, 14], \"y\": [0.8434163701067615, 0.8861209964412812, 0.8896797153024911, 0.8932384341637011, 0.8932384341637011, 0.896797153024911, 0.896797153024911, 0.896797153024911, 0.896797153024911, 0.896797153024911, 0.896797153024911, 0.896797153024911, 0.896797153024911, 0.896797153024911], \"name\": \"extract_features_v3\"}], {\"yaxis\": {\"title\": \"Accuracy\", \"titlefont\": {\"color\": \"grey\"}}, \"xaxis\": {\"title\": \"Candidates\", \"titlefont\": {\"color\": \"grey\"}}, \"shapes\": [{\"type\": \"line\", \"x0\": 3.3380782918149468, \"x1\": 3.3380782918149468, \"y0\": -0.05, \"y1\": 1.1, \"opacity\": 0.2, \"line\": {\"dash\": \"dash\"}}, {\"type\": \"line\", \"x0\": -0.5, \"x1\": 15, \"y0\": 0.800711743772242, \"y1\": 0.800711743772242, \"opacity\": 0.2, \"line\": {\"dash\": \"dash\"}}]}, {\"showLink\": false, \"linkText\": \"Export to plot.ly\"})});</script>"
      ]
     },
     "metadata": {},
     "output_type": "display_data"
    }
   ],
   "source": [
    "iplot(fig, show_link=False)"
   ]
  },
  {
   "cell_type": "code",
   "execution_count": 66,
   "metadata": {
    "extensions": {
     "jupyter_dashboards": {
      "version": 1,
      "views": {
       "grid_default": {
        "hidden": true
       },
       "report_default": {}
      }
     }
    }
   },
   "outputs": [],
   "source": [
    "# get number of guesses for the old project predictions\n",
    "guesses = np.array(get_nof_guesses(test_descriptions, test_labels))\n",
    "\n",
    "# fit guesses with polynomial\n",
    "poly = Poly(*np.polyfit(np.arange(len(guesses)), guesses, 20, full=True))\n",
    "pts = np.linspace(start=0, stop=len(guesses), num=len(guesses) * 10)  # create evaluation points\n",
    "\n",
    "# create polynomial function\n",
    "f = np.poly1d(poly.coefs)\n",
    "\n",
    "x_plot = np.linspace(start=0, stop=len(guesses), num=1000)\n",
    "y_plot = f(x_plot)"
   ]
  },
  {
   "cell_type": "code",
   "execution_count": 67,
   "metadata": {
    "extensions": {
     "jupyter_dashboards": {
      "version": 1,
      "views": {
       "grid_default": {
        "hidden": true
       },
       "report_default": {}
      }
     }
    }
   },
   "outputs": [],
   "source": [
    "# create traces\n",
    "guess_trace = go.Scatter(y=guesses, name='Project guesses', hoverinfo='name + y')\n",
    "trendline_trace = go.Scatter(x=x_plot, y=y_plot, name='Polynomial trendline',\n",
    "                             hoverinfo='skip')\n",
    "\n",
    "layout = go.Layout(\n",
    "    title=\"Number of projects predicted by current approach\",\n",
    "    shapes=[\n",
    "        {\n",
    "            'type': 'line',\n",
    "            'y0': mean_guess,\n",
    "            'y1': mean_guess,\n",
    "            'x0': -0.1,\n",
    "            'x1': len(guesses) + 10,\n",
    "            'opacity': 0.2,\n",
    "            'line': {\n",
    "                'dash': 'dash'\n",
    "            }\n",
    "        },\n",
    "    ]\n",
    ")\n",
    "\n",
    "fig = go.Figure(data=[guess_trace, trendline_trace], layout=layout)"
   ]
  },
  {
   "cell_type": "code",
   "execution_count": 68,
   "metadata": {
    "extensions": {
     "jupyter_dashboards": {
      "version": 1,
      "views": {
       "grid_default": {
        "col": 0,
        "height": 19,
        "hidden": false,
        "row": 170,
        "width": null
       },
       "report_default": {}
      }
     }
    }
   },
   "outputs": [
    {
     "data": {
      "application/vnd.plotly.v1+json": {
       "data": [
        {
         "hoverinfo": "name + y",
         "name": "Project guesses",
         "type": "scatter",
         "y": [
          1,
          5,
          7,
          7,
          3,
          1,
          1,
          5,
          3,
          1,
          4,
          6,
          5,
          5,
          1,
          8,
          5,
          4,
          2,
          1,
          2,
          5,
          3,
          2,
          1,
          2,
          3,
          1,
          4,
          5,
          2,
          2,
          0,
          4,
          3,
          4,
          2,
          1,
          4,
          1,
          3,
          5,
          3,
          2,
          5,
          2,
          2,
          4,
          4,
          6,
          2,
          10,
          1,
          3,
          4,
          1,
          7,
          9,
          2,
          4,
          5,
          2,
          5,
          3,
          1,
          4,
          0,
          9,
          2,
          2,
          2,
          4,
          3,
          0,
          4,
          4,
          1,
          2,
          1,
          1,
          5,
          1,
          4,
          7,
          3,
          1,
          4,
          4,
          9,
          5,
          2,
          6,
          3,
          6,
          2,
          3,
          2,
          5,
          2,
          3,
          3,
          3,
          4,
          5,
          0,
          17,
          4,
          3,
          5,
          2,
          3,
          2,
          4,
          5,
          3,
          1,
          2,
          3,
          1,
          1,
          4,
          5,
          1,
          3,
          4,
          3,
          3,
          6,
          1,
          2,
          1,
          4,
          2,
          8,
          6,
          3,
          5,
          1,
          2,
          3,
          2,
          2,
          11,
          0,
          1,
          5,
          7,
          5,
          5,
          3,
          4,
          1,
          2,
          1,
          5,
          4,
          3,
          2,
          4,
          3,
          5,
          3,
          1,
          2,
          4,
          4,
          2,
          3,
          7,
          1,
          1,
          2,
          1,
          25,
          3,
          2,
          0,
          8,
          3,
          0,
          14,
          3,
          0,
          0,
          3,
          3,
          2,
          3,
          0,
          3,
          2,
          5,
          2,
          5,
          4,
          6,
          1,
          9,
          3,
          5,
          1,
          2,
          2,
          2,
          6,
          3,
          3,
          2,
          1,
          2,
          5,
          1,
          2,
          3,
          3,
          9,
          6,
          1,
          2,
          2,
          4,
          1,
          3,
          9,
          3,
          4,
          2,
          2,
          3,
          2,
          2,
          6,
          2,
          2,
          3,
          1,
          1,
          2,
          7,
          3,
          3,
          2,
          5,
          2,
          3,
          9,
          1,
          1,
          1,
          2,
          2,
          3,
          4,
          1,
          6,
          4,
          3,
          6,
          1,
          2,
          1,
          2,
          3,
          1,
          4,
          5,
          8,
          1,
          5,
          2,
          3,
          3,
          6,
          2,
          1,
          3,
          1,
          3,
          2,
          3,
          3
         ]
        },
        {
         "hoverinfo": "skip",
         "name": "Polynomial trendline",
         "type": "scatter",
         "x": [
          0,
          0.28128128128128127,
          0.5625625625625625,
          0.8438438438438438,
          1.125125125125125,
          1.4064064064064064,
          1.6876876876876876,
          1.968968968968969,
          2.25025025025025,
          2.5315315315315314,
          2.8128128128128127,
          3.094094094094094,
          3.3753753753753752,
          3.6566566566566565,
          3.937937937937938,
          4.2192192192192195,
          4.5005005005005,
          4.781781781781781,
          5.063063063063063,
          5.344344344344345,
          5.625625625625625,
          5.906906906906906,
          6.188188188188188,
          6.46946946946947,
          6.7507507507507505,
          7.032032032032031,
          7.313313313313313,
          7.594594594594595,
          7.875875875875876,
          8.157157157157156,
          8.438438438438439,
          8.71971971971972,
          9.001001001001,
          9.282282282282281,
          9.563563563563562,
          9.844844844844845,
          10.126126126126126,
          10.407407407407407,
          10.68868868868869,
          10.96996996996997,
          11.25125125125125,
          11.532532532532532,
          11.813813813813812,
          12.095095095095095,
          12.376376376376376,
          12.657657657657657,
          12.93893893893894,
          13.22022022022022,
          13.501501501501501,
          13.782782782782782,
          14.064064064064063,
          14.345345345345345,
          14.626626626626626,
          14.907907907907907,
          15.18918918918919,
          15.47047047047047,
          15.751751751751751,
          16.033033033033032,
          16.314314314314313,
          16.595595595595594,
          16.876876876876878,
          17.15815815815816,
          17.43943943943944,
          17.72072072072072,
          18.002002002002,
          18.283283283283282,
          18.564564564564563,
          18.845845845845844,
          19.127127127127125,
          19.40840840840841,
          19.68968968968969,
          19.97097097097097,
          20.25225225225225,
          20.533533533533532,
          20.814814814814813,
          21.096096096096094,
          21.37737737737738,
          21.65865865865866,
          21.93993993993994,
          22.22122122122122,
          22.5025025025025,
          22.783783783783782,
          23.065065065065063,
          23.346346346346344,
          23.627627627627625,
          23.90890890890891,
          24.19019019019019,
          24.47147147147147,
          24.75275275275275,
          25.034034034034033,
          25.315315315315313,
          25.596596596596594,
          25.87787787787788,
          26.15915915915916,
          26.44044044044044,
          26.72172172172172,
          27.003003003003002,
          27.284284284284283,
          27.565565565565564,
          27.846846846846844,
          28.128128128128125,
          28.40940940940941,
          28.69069069069069,
          28.97197197197197,
          29.253253253253252,
          29.534534534534533,
          29.815815815815814,
          30.097097097097095,
          30.37837837837838,
          30.65965965965966,
          30.94094094094094,
          31.22222222222222,
          31.503503503503502,
          31.784784784784783,
          32.066066066066064,
          32.347347347347345,
          32.628628628628626,
          32.909909909909906,
          33.19119119119119,
          33.47247247247247,
          33.753753753753756,
          34.03503503503504,
          34.31631631631632,
          34.5975975975976,
          34.87887887887888,
          35.16016016016016,
          35.44144144144144,
          35.72272272272272,
          36.004004004004,
          36.28528528528528,
          36.566566566566564,
          36.847847847847845,
          37.129129129129126,
          37.41041041041041,
          37.69169169169169,
          37.97297297297297,
          38.25425425425425,
          38.53553553553554,
          38.81681681681682,
          39.0980980980981,
          39.37937937937938,
          39.66066066066066,
          39.94194194194194,
          40.22322322322322,
          40.5045045045045,
          40.785785785785784,
          41.067067067067065,
          41.348348348348345,
          41.629629629629626,
          41.91091091091091,
          42.19219219219219,
          42.47347347347347,
          42.75475475475476,
          43.03603603603604,
          43.31731731731732,
          43.5985985985986,
          43.87987987987988,
          44.16116116116116,
          44.44244244244244,
          44.72372372372372,
          45.005005005005,
          45.286286286286284,
          45.567567567567565,
          45.848848848848846,
          46.13013013013013,
          46.41141141141141,
          46.69269269269269,
          46.97397397397397,
          47.25525525525525,
          47.53653653653654,
          47.81781781781782,
          48.0990990990991,
          48.38038038038038,
          48.66166166166166,
          48.94294294294294,
          49.22422422422422,
          49.5055055055055,
          49.786786786786784,
          50.068068068068065,
          50.349349349349346,
          50.63063063063063,
          50.91191191191191,
          51.19319319319319,
          51.47447447447447,
          51.75575575575576,
          52.03703703703704,
          52.31831831831832,
          52.5995995995996,
          52.88088088088088,
          53.16216216216216,
          53.44344344344344,
          53.72472472472472,
          54.006006006006004,
          54.287287287287285,
          54.568568568568566,
          54.849849849849846,
          55.13113113113113,
          55.41241241241241,
          55.69369369369369,
          55.97497497497497,
          56.25625625625625,
          56.53753753753754,
          56.81881881881882,
          57.1001001001001,
          57.38138138138138,
          57.66266266266266,
          57.94394394394394,
          58.22522522522522,
          58.506506506506504,
          58.787787787787785,
          59.069069069069066,
          59.35035035035035,
          59.63163163163163,
          59.91291291291291,
          60.19419419419419,
          60.47547547547547,
          60.75675675675676,
          61.03803803803804,
          61.31931931931932,
          61.6006006006006,
          61.88188188188188,
          62.16316316316316,
          62.44444444444444,
          62.725725725725724,
          63.007007007007005,
          63.288288288288285,
          63.569569569569566,
          63.85085085085085,
          64.13213213213213,
          64.41341341341341,
          64.69469469469469,
          64.97597597597597,
          65.25725725725725,
          65.53853853853853,
          65.81981981981981,
          66.1011011011011,
          66.38238238238237,
          66.66366366366366,
          66.94494494494494,
          67.22622622622622,
          67.50750750750751,
          67.78878878878879,
          68.07007007007007,
          68.35135135135135,
          68.63263263263264,
          68.91391391391392,
          69.1951951951952,
          69.47647647647648,
          69.75775775775776,
          70.03903903903904,
          70.32032032032032,
          70.6016016016016,
          70.88288288288288,
          71.16416416416416,
          71.44544544544544,
          71.72672672672672,
          72.008008008008,
          72.28928928928929,
          72.57057057057057,
          72.85185185185185,
          73.13313313313313,
          73.41441441441441,
          73.69569569569569,
          73.97697697697697,
          74.25825825825825,
          74.53953953953953,
          74.82082082082081,
          75.1021021021021,
          75.38338338338338,
          75.66466466466466,
          75.94594594594594,
          76.22722722722722,
          76.5085085085085,
          76.7897897897898,
          77.07107107107107,
          77.35235235235236,
          77.63363363363364,
          77.91491491491492,
          78.1961961961962,
          78.47747747747748,
          78.75875875875876,
          79.04004004004004,
          79.32132132132132,
          79.6026026026026,
          79.88388388388388,
          80.16516516516516,
          80.44644644644644,
          80.72772772772772,
          81.009009009009,
          81.29029029029029,
          81.57157157157157,
          81.85285285285285,
          82.13413413413413,
          82.41541541541541,
          82.69669669669669,
          82.97797797797797,
          83.25925925925925,
          83.54054054054053,
          83.82182182182181,
          84.1031031031031,
          84.38438438438438,
          84.66566566566566,
          84.94694694694694,
          85.22822822822822,
          85.50950950950951,
          85.7907907907908,
          86.07207207207207,
          86.35335335335336,
          86.63463463463464,
          86.91591591591592,
          87.1971971971972,
          87.47847847847848,
          87.75975975975976,
          88.04104104104104,
          88.32232232232232,
          88.6036036036036,
          88.88488488488488,
          89.16616616616616,
          89.44744744744744,
          89.72872872872873,
          90.01001001001,
          90.29129129129129,
          90.57257257257257,
          90.85385385385385,
          91.13513513513513,
          91.41641641641641,
          91.69769769769769,
          91.97897897897897,
          92.26026026026025,
          92.54154154154153,
          92.82282282282281,
          93.1041041041041,
          93.38538538538538,
          93.66666666666666,
          93.94794794794794,
          94.22922922922922,
          94.5105105105105,
          94.7917917917918,
          95.07307307307308,
          95.35435435435436,
          95.63563563563564,
          95.91691691691692,
          96.1981981981982,
          96.47947947947948,
          96.76076076076076,
          97.04204204204204,
          97.32332332332332,
          97.6046046046046,
          97.88588588588588,
          98.16716716716716,
          98.44844844844845,
          98.72972972972973,
          99.011011011011,
          99.29229229229229,
          99.57357357357357,
          99.85485485485485,
          100.13613613613613,
          100.41741741741741,
          100.69869869869869,
          100.97997997997997,
          101.26126126126125,
          101.54254254254253,
          101.82382382382382,
          102.1051051051051,
          102.38638638638638,
          102.66766766766766,
          102.94894894894894,
          103.23023023023022,
          103.51151151151151,
          103.7927927927928,
          104.07407407407408,
          104.35535535535536,
          104.63663663663664,
          104.91791791791792,
          105.1991991991992,
          105.48048048048048,
          105.76176176176176,
          106.04304304304304,
          106.32432432432432,
          106.6056056056056,
          106.88688688688688,
          107.16816816816817,
          107.44944944944945,
          107.73073073073073,
          108.01201201201201,
          108.29329329329329,
          108.57457457457457,
          108.85585585585585,
          109.13713713713713,
          109.41841841841841,
          109.69969969969969,
          109.98098098098097,
          110.26226226226225,
          110.54354354354354,
          110.82482482482482,
          111.1061061061061,
          111.38738738738738,
          111.66866866866866,
          111.94994994994994,
          112.23123123123122,
          112.5125125125125,
          112.7937937937938,
          113.07507507507508,
          113.35635635635636,
          113.63763763763764,
          113.91891891891892,
          114.2002002002002,
          114.48148148148148,
          114.76276276276276,
          115.04404404404404,
          115.32532532532532,
          115.6066066066066,
          115.88788788788789,
          116.16916916916917,
          116.45045045045045,
          116.73173173173173,
          117.01301301301301,
          117.29429429429429,
          117.57557557557557,
          117.85685685685685,
          118.13813813813813,
          118.41941941941941,
          118.7007007007007,
          118.98198198198197,
          119.26326326326325,
          119.54454454454454,
          119.82582582582582,
          120.1071071071071,
          120.38838838838838,
          120.66966966966966,
          120.95095095095094,
          121.23223223223222,
          121.51351351351352,
          121.7947947947948,
          122.07607607607608,
          122.35735735735736,
          122.63863863863864,
          122.91991991991992,
          123.2012012012012,
          123.48248248248248,
          123.76376376376376,
          124.04504504504504,
          124.32632632632632,
          124.6076076076076,
          124.88888888888889,
          125.17017017017017,
          125.45145145145145,
          125.73273273273273,
          126.01401401401401,
          126.29529529529529,
          126.57657657657657,
          126.85785785785785,
          127.13913913913913,
          127.42042042042041,
          127.7017017017017,
          127.98298298298297,
          128.26426426426426,
          128.54554554554554,
          128.82682682682682,
          129.1081081081081,
          129.38938938938938,
          129.67067067067066,
          129.95195195195194,
          130.23323323323322,
          130.5145145145145,
          130.79579579579578,
          131.07707707707706,
          131.35835835835834,
          131.63963963963963,
          131.9209209209209,
          132.2022022022022,
          132.48348348348347,
          132.76476476476475,
          133.04604604604603,
          133.3273273273273,
          133.6086086086086,
          133.88988988988987,
          134.17117117117115,
          134.45245245245243,
          134.73373373373371,
          135.01501501501502,
          135.2962962962963,
          135.57757757757759,
          135.85885885885887,
          136.14014014014015,
          136.42142142142143,
          136.7027027027027,
          136.983983983984,
          137.26526526526527,
          137.54654654654655,
          137.82782782782783,
          138.1091091091091,
          138.3903903903904,
          138.67167167167167,
          138.95295295295296,
          139.23423423423424,
          139.51551551551552,
          139.7967967967968,
          140.07807807807808,
          140.35935935935936,
          140.64064064064064,
          140.92192192192192,
          141.2032032032032,
          141.48448448448448,
          141.76576576576576,
          142.04704704704704,
          142.32832832832833,
          142.6096096096096,
          142.8908908908909,
          143.17217217217217,
          143.45345345345345,
          143.73473473473473,
          144.016016016016,
          144.2972972972973,
          144.57857857857857,
          144.85985985985985,
          145.14114114114113,
          145.42242242242241,
          145.7037037037037,
          145.98498498498498,
          146.26626626626626,
          146.54754754754754,
          146.82882882882882,
          147.1101101101101,
          147.39139139139138,
          147.67267267267266,
          147.95395395395394,
          148.23523523523522,
          148.5165165165165,
          148.79779779779778,
          149.07907907907907,
          149.36036036036035,
          149.64164164164163,
          149.9229229229229,
          150.2042042042042,
          150.48548548548547,
          150.76676676676675,
          151.04804804804803,
          151.3293293293293,
          151.6106106106106,
          151.89189189189187,
          152.17317317317315,
          152.45445445445444,
          152.73573573573572,
          153.017017017017,
          153.2982982982983,
          153.5795795795796,
          153.86086086086087,
          154.14214214214215,
          154.42342342342343,
          154.7047047047047,
          154.985985985986,
          155.26726726726727,
          155.54854854854855,
          155.82982982982983,
          156.11111111111111,
          156.3923923923924,
          156.67367367367368,
          156.95495495495496,
          157.23623623623624,
          157.51751751751752,
          157.7987987987988,
          158.08008008008008,
          158.36136136136136,
          158.64264264264264,
          158.92392392392392,
          159.2052052052052,
          159.48648648648648,
          159.76776776776777,
          160.04904904904905,
          160.33033033033033,
          160.6116116116116,
          160.8928928928929,
          161.17417417417417,
          161.45545545545545,
          161.73673673673673,
          162.018018018018,
          162.2992992992993,
          162.58058058058057,
          162.86186186186185,
          163.14314314314313,
          163.42442442442442,
          163.7057057057057,
          163.98698698698698,
          164.26826826826826,
          164.54954954954954,
          164.83083083083082,
          165.1121121121121,
          165.39339339339338,
          165.67467467467466,
          165.95595595595594,
          166.23723723723722,
          166.5185185185185,
          166.79979979979979,
          167.08108108108107,
          167.36236236236235,
          167.64364364364363,
          167.9249249249249,
          168.2062062062062,
          168.48748748748747,
          168.76876876876875,
          169.05005005005003,
          169.3313313313313,
          169.6126126126126,
          169.89389389389387,
          170.17517517517516,
          170.45645645645644,
          170.73773773773772,
          171.01901901901903,
          171.3003003003003,
          171.5815815815816,
          171.86286286286287,
          172.14414414414415,
          172.42542542542543,
          172.7067067067067,
          172.987987987988,
          173.26926926926927,
          173.55055055055055,
          173.83183183183183,
          174.11311311311312,
          174.3943943943944,
          174.67567567567568,
          174.95695695695696,
          175.23823823823824,
          175.51951951951952,
          175.8008008008008,
          176.08208208208208,
          176.36336336336336,
          176.64464464464464,
          176.92592592592592,
          177.2072072072072,
          177.48848848848849,
          177.76976976976977,
          178.05105105105105,
          178.33233233233233,
          178.6136136136136,
          178.8948948948949,
          179.17617617617617,
          179.45745745745745,
          179.73873873873873,
          180.02002002002,
          180.3013013013013,
          180.58258258258257,
          180.86386386386386,
          181.14514514514514,
          181.42642642642642,
          181.7077077077077,
          181.98898898898898,
          182.27027027027026,
          182.55155155155154,
          182.83283283283282,
          183.1141141141141,
          183.39539539539538,
          183.67667667667666,
          183.95795795795794,
          184.23923923923923,
          184.5205205205205,
          184.8018018018018,
          185.08308308308307,
          185.36436436436435,
          185.64564564564563,
          185.9269269269269,
          186.2082082082082,
          186.48948948948947,
          186.77077077077075,
          187.05205205205203,
          187.33333333333331,
          187.6146146146146,
          187.89589589589588,
          188.17717717717716,
          188.45845845845844,
          188.73973973973972,
          189.021021021021,
          189.3023023023023,
          189.5835835835836,
          189.86486486486487,
          190.14614614614615,
          190.42742742742743,
          190.7087087087087,
          190.98998998999,
          191.27127127127127,
          191.55255255255256,
          191.83383383383384,
          192.11511511511512,
          192.3963963963964,
          192.67767767767768,
          192.95895895895896,
          193.24024024024024,
          193.52152152152152,
          193.8028028028028,
          194.08408408408408,
          194.36536536536536,
          194.64664664664664,
          194.92792792792793,
          195.2092092092092,
          195.4904904904905,
          195.77177177177177,
          196.05305305305305,
          196.33433433433433,
          196.6156156156156,
          196.8968968968969,
          197.17817817817817,
          197.45945945945945,
          197.74074074074073,
          198.022022022022,
          198.3033033033033,
          198.58458458458458,
          198.86586586586586,
          199.14714714714714,
          199.42842842842842,
          199.7097097097097,
          199.99099099099098,
          200.27227227227226,
          200.55355355355354,
          200.83483483483482,
          201.1161161161161,
          201.39739739739738,
          201.67867867867866,
          201.95995995995995,
          202.24124124124123,
          202.5225225225225,
          202.8038038038038,
          203.08508508508507,
          203.36636636636635,
          203.64764764764763,
          203.9289289289289,
          204.2102102102102,
          204.49149149149147,
          204.77277277277275,
          205.05405405405403,
          205.33533533533532,
          205.6166166166166,
          205.89789789789788,
          206.17917917917916,
          206.46046046046044,
          206.74174174174172,
          207.02302302302303,
          207.3043043043043,
          207.5855855855856,
          207.86686686686687,
          208.14814814814815,
          208.42942942942943,
          208.7107107107107,
          208.991991991992,
          209.27327327327328,
          209.55455455455456,
          209.83583583583584,
          210.11711711711712,
          210.3983983983984,
          210.67967967967968,
          210.96096096096096,
          211.24224224224224,
          211.52352352352352,
          211.8048048048048,
          212.08608608608608,
          212.36736736736736,
          212.64864864864865,
          212.92992992992993,
          213.2112112112112,
          213.4924924924925,
          213.77377377377377,
          214.05505505505505,
          214.33633633633633,
          214.6176176176176,
          214.8988988988989,
          215.18018018018017,
          215.46146146146145,
          215.74274274274273,
          216.02402402402402,
          216.3053053053053,
          216.58658658658658,
          216.86786786786786,
          217.14914914914914,
          217.43043043043042,
          217.7117117117117,
          217.99299299299298,
          218.27427427427426,
          218.55555555555554,
          218.83683683683682,
          219.1181181181181,
          219.39939939939939,
          219.68068068068067,
          219.96196196196195,
          220.24324324324323,
          220.5245245245245,
          220.8058058058058,
          221.08708708708707,
          221.36836836836835,
          221.64964964964963,
          221.9309309309309,
          222.2122122122122,
          222.49349349349347,
          222.77477477477476,
          223.05605605605604,
          223.33733733733732,
          223.6186186186186,
          223.89989989989988,
          224.18118118118116,
          224.46246246246244,
          224.74374374374372,
          225.025025025025,
          225.3063063063063,
          225.5875875875876,
          225.86886886886887,
          226.15015015015015,
          226.43143143143143,
          226.71271271271272,
          226.993993993994,
          227.27527527527528,
          227.55655655655656,
          227.83783783783784,
          228.11911911911912,
          228.4004004004004,
          228.68168168168168,
          228.96296296296296,
          229.24424424424424,
          229.52552552552552,
          229.8068068068068,
          230.08808808808809,
          230.36936936936937,
          230.65065065065065,
          230.93193193193193,
          231.2132132132132,
          231.4944944944945,
          231.77577577577577,
          232.05705705705705,
          232.33833833833833,
          232.6196196196196,
          232.9009009009009,
          233.18218218218217,
          233.46346346346346,
          233.74474474474474,
          234.02602602602602,
          234.3073073073073,
          234.58858858858858,
          234.86986986986986,
          235.15115115115114,
          235.43243243243242,
          235.7137137137137,
          235.99499499499498,
          236.27627627627626,
          236.55755755755754,
          236.83883883883883,
          237.1201201201201,
          237.4014014014014,
          237.68268268268267,
          237.96396396396395,
          238.24524524524523,
          238.5265265265265,
          238.8078078078078,
          239.08908908908907,
          239.37037037037035,
          239.65165165165163,
          239.9329329329329,
          240.2142142142142,
          240.49549549549548,
          240.77677677677676,
          241.05805805805804,
          241.33933933933932,
          241.6206206206206,
          241.90190190190188,
          242.18318318318316,
          242.46446446446444,
          242.74574574574572,
          243.02702702702703,
          243.3083083083083,
          243.5895895895896,
          243.87087087087087,
          244.15215215215215,
          244.43343343343344,
          244.71471471471472,
          244.995995995996,
          245.27727727727728,
          245.55855855855856,
          245.83983983983984,
          246.12112112112112,
          246.4024024024024,
          246.68368368368368,
          246.96496496496496,
          247.24624624624624,
          247.52752752752752,
          247.8088088088088,
          248.0900900900901,
          248.37137137137137,
          248.65265265265265,
          248.93393393393393,
          249.2152152152152,
          249.4964964964965,
          249.77777777777777,
          250.05905905905905,
          250.34034034034033,
          250.6216216216216,
          250.9029029029029,
          251.18418418418418,
          251.46546546546546,
          251.74674674674674,
          252.02802802802802,
          252.3093093093093,
          252.59059059059058,
          252.87187187187186,
          253.15315315315314,
          253.43443443443442,
          253.7157157157157,
          253.99699699699698,
          254.27827827827826,
          254.55955955955955,
          254.84084084084083,
          255.1221221221221,
          255.4034034034034,
          255.68468468468467,
          255.96596596596595,
          256.24724724724723,
          256.5285285285285,
          256.8098098098098,
          257.0910910910911,
          257.37237237237235,
          257.65365365365363,
          257.9349349349349,
          258.2162162162162,
          258.4974974974975,
          258.77877877877876,
          259.06006006006004,
          259.3413413413413,
          259.6226226226226,
          259.9039039039039,
          260.18518518518516,
          260.46646646646644,
          260.7477477477477,
          261.029029029029,
          261.3103103103103,
          261.59159159159157,
          261.87287287287285,
          262.1541541541541,
          262.4354354354354,
          262.7167167167167,
          262.99799799799797,
          263.27927927927925,
          263.56056056056053,
          263.8418418418418,
          264.1231231231231,
          264.4044044044044,
          264.68568568568566,
          264.96696696696694,
          265.2482482482482,
          265.5295295295295,
          265.8108108108108,
          266.09209209209206,
          266.37337337337334,
          266.6546546546546,
          266.9359359359359,
          267.2172172172172,
          267.49849849849846,
          267.77977977977974,
          268.061061061061,
          268.3423423423423,
          268.6236236236236,
          268.90490490490487,
          269.18618618618615,
          269.46746746746743,
          269.7487487487487,
          270.03003003003005,
          270.31131131131133,
          270.5925925925926,
          270.8738738738739,
          271.15515515515517,
          271.43643643643645,
          271.71771771771773,
          271.998998998999,
          272.2802802802803,
          272.5615615615616,
          272.84284284284286,
          273.12412412412414,
          273.4054054054054,
          273.6866866866867,
          273.967967967968,
          274.24924924924926,
          274.53053053053054,
          274.8118118118118,
          275.0930930930931,
          275.3743743743744,
          275.65565565565566,
          275.93693693693695,
          276.2182182182182,
          276.4994994994995,
          276.7807807807808,
          277.06206206206207,
          277.34334334334335,
          277.62462462462463,
          277.9059059059059,
          278.1871871871872,
          278.4684684684685,
          278.74974974974975,
          279.03103103103103,
          279.3123123123123,
          279.5935935935936,
          279.8748748748749,
          280.15615615615616,
          280.43743743743744,
          280.7187187187187,
          281
         ],
         "y": [
          3.7567308927237986,
          3.777540017014506,
          3.792968335503833,
          3.8039443622513676,
          3.81129198107554,
          3.815738426400211,
          3.817921821650897,
          3.8183982938533614,
          3.8176486824767335,
          3.816084859968276,
          3.81405568084707,
          3.8118525756589565,
          3.809714805544779,
          3.8078343926379934,
          3.806360740985811,
          3.8054049621799306,
          3.8050439193882726,
          3.805324002997789,
          3.806264650609986,
          3.807861623675122,
          3.8100900526078,
          3.8129072617956163,
          3.816255385493443,
          3.8200637851885033,
          3.82425127862545,
          3.8287281902959323,
          3.833398232823338,
          3.8381602283104166,
          3.842909678364936,
          3.8475401911763187,
          3.8519447736840267,
          3.8560169965561317,
          3.8596520393838074,
          3.862747623194185,
          3.865204837089897,
          3.866928865538583,
          3.8678296225592437,
          3.867822298784693,
          3.86682782711995,
          3.8647732724653308,
          3.8615921507298654,
          3.857224682125359,
          3.8516179835037314,
          3.8447262042800943,
          3.8365106102710618,
          3.8269396195719416,
          3.8159887943975788,
          3.803640792619429,
          3.789885282545918,
          3.774718824313969,
          3.758144721086751,
          3.740172843085892,
          3.720819427325652,
          3.7001068557614794,
          3.6780634144160866,
          3.6547230359022547,
          3.630125027623095,
          3.6043137877973197,
          3.57733851132868,
          3.5492528874156233,
          3.52011479067873,
          3.489985967469668,
          3.45893171891619,
          3.427020582152932,
          3.394324011087119,
          3.3609160579521955,
          3.3268730568097307,
          3.292273310071971,
          3.2571967790326615,
          3.221724779312907,
          3.185939682051928,
          3.1499246215982337,
          3.1137632103873365,
          3.0775392616238584,
          3.0413365203232754,
          3.0052384032066195,
          2.9693277478848015,
          2.933686571712629,
          2.8983958406430386,
          2.8635352483596095,
          2.829183005921173,
          2.795415642106743,
          2.7623078146074755,
          2.729932132173058,
          2.698358987782611,
          2.66765640287519,
          2.637889882642594,
          2.609122282355518,
          2.581413684666391,
          2.554821287803893,
          2.5293993045512435,
          2.5051988718746183,
          2.482267971047806,
          2.4606513580995886,
          2.440390504390872,
          2.421523547112197,
          2.4040852494769234,
          2.388106970371677,
          2.3736166432110064,
          2.3606387637357207,
          2.3491943864787928,
          2.33930112961849,
          2.3309731879275053,
          2.3242213535213336,
          2.319053044103038,
          2.315472338395562,
          2.3134800184499866,
          2.313073618516477,
          2.3142474801572144,
          2.3169928132860163,
          2.3212977628123843,
          2.327147480573757,
          2.3345242022319583,
          2.3434073288230293,
          2.3537735126386083,
          2.3655967471308115,
          2.3788484605251057,
          2.3934976128403465,
          2.4095107960082225,
          2.4268523367981727,
          2.4454844022486815,
          2.4653671073225922,
          2.4864586244991944,
          2.5087152950295133,
          2.532091741579213,
          2.5565409819993086,
          2.5820145439643127,
          2.6084625802269867,
          2.635833984247215,
          2.6640765059551654,
          2.6931368674231573,
          2.7229608782212544,
          2.753493550245628,
          2.7846792118080486,
          2.816461620796061,
          2.8487840767061616,
          2.881589531365597,
          2.9148206981817495,
          2.9484201597323723,
          2.982330473555268,
          3.016494275976508,
          3.050854383838322,
          3.085353893993399,
          3.119936280429769,
          3.1545454889249274,
          3.1891260290961183,
          3.2236230637593564,
          3.257982495497601,
          3.292151050343758,
          3.3260763585042286,
          3.359707032043234,
          3.3929927394757318,
          3.425884277186202,
          3.458333637632505,
          3.490294074307475,
          3.5217201633842246,
          3.5525678620364047,
          3.5827945634041516,
          3.6123591481698947,
          3.641222032769585,
          3.6693452141727105,
          3.696692311286924,
          3.7232286029507256,
          3.748921062538998,
          3.7737383891983374,
          3.797651035714514,
          3.820631233077833,
          3.8426530116883515,
          3.863692219351212,
          3.8837265360082016,
          3.902735485260534,
          3.920700442788165,
          3.937604641640499,
          3.9534331744804443,
          3.9681729928679093,
          3.9818129035892262,
          3.9943435621162546,
          4.005757463310384,
          4.016048929324555,
          4.025214094918186,
          4.033250890114001,
          4.040159020410005,
          4.0459399444986515,
          4.050596849661275,
          4.054134624917502,
          4.056559831874347,
          4.057880673636983,
          4.058106961529898,
          4.057250079985301,
          4.055322949589338,
          4.05233998826109,
          4.048317070913322,
          4.043271487411896,
          4.0372218991072675,
          4.030188293930398,
          4.022191940216902,
          4.013255339291274,
          4.003402176859735,
          3.9926572735356034,
          3.9810465342050416,
          3.9685968966558587,
          3.955336279433497,
          3.9412935289660767,
          3.926498366091871,
          3.910981332154473,
          3.8947737345621145,
          3.877907592058433,
          3.8604155797607933,
          3.8423309739718454,
          3.8236875969346658,
          3.80451976152,
          3.784862216027066,
          3.764750089110633,
          3.744218834854159,
          3.7233041782374356,
          3.7020420608412112,
          3.680468587100506,
          3.658619970926426,
          3.636532482897708,
          3.6142423982579936,
          3.591785945256074,
          3.5691992545780113,
          3.5465183093074697,
          3.5237788959600365,
          3.501016556188647,
          3.478266539652146,
          3.455563757822206,
          3.4329427387926708,
          3.4104375832675013,
          3.388081921597146,
          3.3659088721235926,
          3.3439510006669795,
          3.3222402811962537,
          3.3008080579731782,
          3.2796850088549894,
          3.2589011100162204,
          3.2384856020965724,
          3.2184669575730127,
          3.19887284980891,
          3.1797301233365767,
          3.1610647656763238,
          3.1429018807103226,
          3.125265663507255,
          3.108179376337591,
          3.091665327082441,
          3.0757448478650287,
          3.060438276593252,
          3.045764938848534,
          3.0317431320665715,
          3.0183901110743134,
          3.0057220749934217,
          2.993754155677058,
          2.982500408038332,
          2.971973801431167,
          2.962186212677776,
          2.9531484209206327,
          2.944870103352784,
          2.9373598329412394,
          2.930625077362789,
          2.9246721994383647,
          2.9195064589357305,
          2.9151320157266456,
          2.9115519344402765,
          2.9087681905464824,
          2.9067816773720603,
          2.90559221481603,
          2.9051985592066827,
          2.9055984143919527,
          2.90678844400401,
          2.9087642847723867,
          2.911520561700552,
          2.915050903216441,
          2.919347958441815,
          2.9244034150130225,
          2.93020801785044,
          2.9367515892938316,
          2.9440230498297786,
          2.9520104399625704,
          2.960700943004112,
          2.9700809080366932,
          2.980135874893082,
          2.990850598826818,
          3.002209076269305,
          3.0141945715328062,
          3.0267896435164783,
          3.039976173870405,
          3.0537353950362465,
          3.068047918764017,
          3.0828937659866407,
          3.0982523959256847,
          3.114102736551029,
          3.1304232152044325,
          3.1471917886370346,
          3.16438597486427,
          3.1819828843017905,
          3.199959250767712,
          3.2182914639648197,
          3.2369556003630695,
          3.255927455733339,
          3.2751825768827905,
          3.294696293617047,
          3.3144437501894766,
          3.3343999377201565,
          3.3545397255190816,
          3.374837892503304,
          3.3952691594279973,
          3.415808218763508,
          3.436429766631022,
          3.4571085333133142,
          3.477819312862075,
          3.4985369941001925,
          3.519236588955187,
          3.539893263395576,
          3.5604823640887515,
          3.580979448840852,
          3.6013603125734446,
          3.621601015974596,
          3.641677910747072,
          3.6615676672987325,
          3.681247299313864,
          3.70069418925693,
          3.719886112029256,
          3.7388012588503896,
          3.757418260707247,
          3.775716209706013,
          3.7936746809268755,
          3.8112737535129115,
          3.828494030199797,
          3.8453166569821566,
          3.8617233406479725,
          3.877696367829146,
          3.8932186201056838,
          3.9082735919898606,
          3.9228454034139526,
          3.936918817441968,
          3.950479250238987,
          3.9635127859081543,
          3.976006187139776,
          3.9879469074946683,
          3.999323098556426,
          4.010123622419271,
          4.020338056642532,
          4.029956704459596,
          4.038970597893108,
          4.047371507406129,
          4.055151942722814,
          4.062305159241159,
          4.068825158032334,
          4.074706692022826,
          4.079945262760708,
          4.084537123432395,
          4.088479276801002,
          4.091769476329201,
          4.09440622017736,
          4.096388750394012,
          4.097717047509192,
          4.098391830129959,
          4.0984145427378476,
          4.097787353904395,
          4.096513148603104,
          4.094595519197484,
          4.092038758063147,
          4.0888478466288065,
          4.085028448284079,
          4.080586893718625,
          4.07553017543501,
          4.069865927435263,
          4.063602419535362,
          4.05674854235529,
          4.049313791737166,
          4.041308254531568,
          4.032742597053973,
          4.023628044733693,
          4.013976368734732,
          4.003799868435612,
          3.9931113563486074,
          3.981924137919235,
          3.9702519961379306,
          3.958109169376007,
          3.94551033954179,
          3.9324706049355846,
          3.919005465273906,
          3.905130803290456,
          3.890862862035519,
          3.8762182264456606,
          3.8612137991127864,
          3.845866787385762,
          3.8301946747081144,
          3.814215201422771,
          3.797946347274123,
          3.7814063070416966,
          3.7646134681825214,
          3.7475863924015624,
          3.7303437937997788,
          3.712904515169728,
          3.695287505308703,
          3.677511805410156,
          3.6595965167016526,
          3.641560786997332,
          3.6234237896332684,
          3.605204693369347,
          3.5869226544636414,
          3.5685967871462365,
          3.550246141637333,
          3.5318896887534463,
          3.5135463060872034,
          3.495234737594514,
          3.4769735921181795,
          3.458781322961211,
          3.440676194008253,
          3.422676279463244,
          3.4047994371352304,
          3.387063283474281,
          3.369485190739248,
          3.352082255226292,
          3.334871295016691,
          3.3178688155555704,
          3.3010910118208745,
          3.284553739431383,
          3.268272510247887,
          3.2522624625445844,
          3.2365383742024814,
          3.2211146097871572,
          3.206005146877094,
          3.191223534601008,
          3.1767829069359506,
          3.1626959361250435,
          3.148974867776619,
          3.1356314687494247,
          3.1226770408462574,
          3.110122399434451,
          3.097977878395037,
          3.0862533168522948,
          3.07495804089623,
          3.064100876372113,
          3.0536901137911263,
          3.043733540603561,
          3.0342384050508935,
          3.025211431651658,
          3.0166588026488674,
          3.008586163380067,
          3.0009986162545843,
          2.993900726131421,
          2.987296509843862,
          2.981189440322024,
          2.975582444920538,
          2.9704779054756507,
          2.9658776568219456,
          2.961783013698362,
          2.958194718610967,
          2.9551130123261693,
          2.952537570309595,
          2.9504675639884326,
          2.948901627711462,
          2.947837886974585,
          2.9472739419343776,
          2.947206904740705,
          2.9476333643478694,
          2.9485494343177314,
          2.949950736444303,
          2.9518324214423197,
          2.954189164641739,
          2.9570151875368618,
          2.9603042568066904,
          2.9640497128168186,
          2.9682444620157606,
          2.9728809847622752,
          2.9779513655610206,
          2.9834472857521597,
          2.989360056989031,
          2.995680615134706,
          3.0023995359763243,
          3.0095070564447477,
          3.0169930772235323,
          3.024847199538993,
          3.033058687061532,
          3.0416165461770635,
          3.050509497767626,
          3.0597259985886964,
          3.069254272768662,
          3.07908230062679,
          3.089197870464861,
          3.0995885401783942,
          3.110241706718211,
          3.121144587420313,
          3.132284252962177,
          3.1436476414478327,
          3.155221546625814,
          3.1669926958052925,
          3.1789476877800777,
          3.1910730786660326,
          3.203355339499748,
          3.215780915925492,
          3.228336222898097,
          3.24100767199874,
          3.2537816715524315,
          3.26664463462192,
          3.2795830522751896,
          3.292583416596886,
          3.305632328321201,
          3.31871642185631,
          3.331822477919022,
          3.3449373616248317,
          3.3580480592165753,
          3.3711416930799056,
          3.384205520637973,
          3.39722702439097,
          3.4101938113428854,
          3.423093673001425,
          3.4359146725103518,
          3.448644988491384,
          3.4612731199870628,
          3.47378773202327,
          3.4861777692085196,
          3.4984324785467367,
          3.5105413133715997,
          3.5224940333705854,
          3.5342807102695883,
          3.5458916771610225,
          3.5573176066917838,
          3.568549449327273,
          3.5795785575529764,
          3.5903965309138908,
          3.6009953390462703,
          3.611367375224297,
          3.6215052581331797,
          3.6314020018817073,
          3.641051041773256,
          3.6504461480548818,
          3.6595814311001664,
          3.668451426988928,
          3.6770509993869678,
          3.6853754523194584,
          3.69342041068169,
          3.7011819467098466,
          3.7086564816042835,
          3.7158408401705714,
          3.7227322141699775,
          3.7293282104401264,
          3.735626773794584,
          3.741626303494792,
          3.7473255147388813,
          3.752723599998562,
          3.757820022458069,
          3.762614650923926,
          3.7671078211764217,
          3.7713000399051,
          3.7751924049314813,
          3.77878622856989,
          3.782083148053682,
          3.7850853129051827,
          3.7877950769019098,
          3.7902151393665284,
          3.792348607076764,
          3.7941988298018963,
          3.7957693936852928,
          3.797064489885947,
          3.798088272024973,
          3.7988452936811816,
          3.7993404805237665,
          3.799578883540965,
          3.7995659297729145,
          3.7993072106886303,
          3.798808629636598,
          3.798076247763889,
          3.7971163410082687,
          3.7959354885025895,
          3.7945403696931796,
          3.792937830567782,
          3.791134942194486,
          3.7891389492297995,
          3.786957163553207,
          3.784597178652744,
          3.7820664853063146,
          3.7793728606076984,
          3.776524070982126,
          3.7735281771311833,
          3.7703929960810867,
          3.7671266001868293,
          3.7637371299022715,
          3.7602326138940105,
          3.7566211734593913,
          3.7529110528533356,
          3.749110324306508,
          3.7452271147302127,
          3.7412694336354733,
          3.7372454438682756,
          3.7331630016004866,
          3.7290300873954885,
          3.7248546001845995,
          3.720644146376921,
          3.716406522470684,
          3.712149123638879,
          3.707879405206354,
          3.7036046558935745,
          3.6993318986852612,
          3.695068224150091,
          3.6908203302093225,
          3.6865947850904073,
          3.6823980631385327,
          3.678236424276423,
          3.6741157919206535,
          3.670041985907375,
          3.6660206639556434,
          3.662057078034101,
          3.65815636763525,
          3.6543232991895005,
          3.650562550453097,
          3.646878425533744,
          3.643274983629598,
          3.639756088603176,
          3.636325173135313,
          3.6329855281179535,
          3.629740025393877,
          3.6265914647517867,
          3.6235421325811332,
          3.6205940925128517,
          3.6177490704320876,
          3.615008600733323,
          3.6123737789488977,
          3.6098455062209305,
          3.6074244176560963,
          3.605110657107709,
          3.6029043025796423,
          3.6008048512951873,
          3.598811742780055,
          3.5969241002118943,
          3.595140538818275,
          3.5934595427409866,
          3.5918794510923444,
          3.590397807562747,
          3.5890126373727895,
          3.58772099042076,
          3.586519997927574,
          3.585406419228117,
          3.5843770828949175,
          3.583427789983275,
          3.5825548924507693,
          3.581754266490716,
          3.581021079995987,
          3.5803512708494267,
          3.5797394092595884,
          3.579180838541876,
          3.578670134698047,
          3.5782020458006984,
          3.577770807298524,
          3.5773707159123416,
          3.5769957617133255,
          3.576639962856871,
          3.5762972119162386,
          3.575961188843263,
          3.5756253788525623,
          3.575283337094384,
          3.5749286442355874,
          3.5745544120813886,
          3.574154349730837,
          3.5737212143222035,
          3.573248697402238,
          3.5727298763438364,
          3.5721579168792785,
          3.5715260972763554,
          3.5708278440337606,
          3.570056363310411,
          3.5692050256239067,
          3.568267361276772,
          3.567236912230152,
          3.566107190962246,
          3.5648720085572276,
          3.5635253028177303,
          3.5620610355989655,
          3.5604733480802047,
          3.5587563327395433,
          3.556904838041391,
          3.5549132601038007,
          3.5527770576063618,
          3.5504904909042967,
          3.548049514454088,
          3.5454494263439784,
          3.542686506139811,
          3.539756078303514,
          3.5366548140535716,
          3.5333795637390804,
          3.529926772203783,
          3.526294407828538,
          3.522479539301039,
          3.5184799665073414,
          3.514293828695291,
          3.509920209716823,
          3.5053569987356763,
          3.5006045563808708,
          3.4956613603001543,
          3.4905280070534443,
          3.485204703679023,
          3.479691745707011,
          3.4739910534278526,
          3.4681027942343885,
          3.4620296600340996,
          3.4557735178975797,
          3.449337116596203,
          3.442723254711304,
          3.4359347749593683,
          3.428976480004421,
          3.4218518039869776,
          3.414564767471356,
          3.407120921536327,
          3.399525172643073,
          3.3917835308468987,
          3.383901083470175,
          3.3758845624325415,
          3.367740935778846,
          3.3594765093948853,
          3.3510996780245104,
          3.3426171004151892,
          3.334037082921974,
          3.325367448183465,
          3.31661773181217,
          3.307796195441056,
          3.29891189139528,
          3.289975108402509,
          3.2809935581441394,
          3.271979524932436,
          3.262941177380876,
          3.253889742307446,
          3.2448356824746623,
          3.2357887271963874,
          3.2267611626440966,
          3.217762668271994,
          3.208805515084608,
          3.199899353355494,
          3.1910570055658334,
          3.1822885460076735,
          3.1736065426509263,
          3.165020795520685,
          3.156543763816524,
          3.148186665207125,
          3.1399614873073904,
          3.1318779811831283,
          3.1239488350181137,
          3.1161831949343717,
          3.1085939728109038,
          3.101190896328835,
          3.093985461601072,
          3.0869873049631957,
          3.080206303385472,
          3.073654021742301,
          3.067338341739763,
          3.061269550401937,
          3.0554572500917523,
          3.049909399115153,
          3.04463514690619,
          3.0396419863985256,
          3.034938077859131,
          3.030530161021633,
          3.0264254026611956,
          3.0226311541903064,
          3.0191514274381293,
          3.015993070363254,
          3.013160751437047,
          3.010658821725455,
          3.008491202831275,
          3.006661057964563,
          3.0051718134707692,
          3.0040252547861694,
          3.0032220800112848,
          3.002763275478248,
          3.0026518426734965,
          3.0028830901579715,
          3.003460619990983,
          3.004379626510766,
          3.005638414542568,
          3.0072345600040955,
          3.009165734365114,
          3.0114249320577287,
          3.0140085088078328,
          3.0169108702054555,
          3.020126198824038,
          3.0236458175342324,
          3.0274641893699923,
          3.031570451950248,
          3.0359559582951237,
          3.0406131317078633,
          3.045529417639307,
          3.050694874948627,
          3.0560960418194036,
          3.0617241082321165,
          3.0675615461281263,
          3.0735977133454435,
          3.079818118020197,
          3.0862067177683623,
          3.0927500529557808,
          3.099430138566648,
          3.106232818507726,
          3.113140307738307,
          3.1201341102506075,
          3.127198287536511,
          3.1343144035362687,
          3.141463030826263,
          3.1486266679145043,
          3.1557840711815643,
          3.1629178758696614,
          3.170007860957838,
          3.1770332508081593,
          3.183976864895239,
          3.1908131023503334,
          3.197526325136255,
          3.2040944813729046,
          3.2104970834073763,
          3.2167137123917615,
          3.2227267060420863,
          3.2285111079324893,
          3.234051200941793,
          3.239325915121576,
          3.2443161314622246,
          3.2490014335246693,
          3.253362210846708,
          3.2573833448676353,
          3.26104352052425,
          3.2643297145428134,
          3.267220395131077,
          3.269700388797059,
          3.2717562138717624,
          3.2733721385295844,
          3.2745308898196006,
          3.2752227760903856,
          3.275435018867733,
          3.275155665110491,
          3.274371669496454,
          3.2730733061573143,
          3.2712547502423015,
          3.2689082310842377,
          3.2660241076036867,
          3.2626024751582303,
          3.2586304962995687,
          3.254113233108668,
          3.2490449155636076,
          3.2434290332101487,
          3.237261152819473,
          3.2305477160909497,
          3.2232913138875787,
          3.215494300548757,
          3.207168754634019,
          3.1983167261089513,
          3.1889537453601378,
          3.179083412254839,
          3.1687247975635757,
          3.1578883489782563,
          3.146592760109628,
          3.1348524986392485,
          3.122685392908689,
          3.110113626910146,
          3.0971576034407278,
          3.0838398726632548,
          3.0701848774448965,
          3.0562193881268036,
          3.0419735896432347,
          3.02746877725958,
          3.0127424328567094,
          2.997820478670521,
          2.9827411370687074,
          2.967531215958811,
          2.9522300501999004,
          2.936877650395752,
          2.9215048968283495,
          2.9061488961295963,
          2.8908601859281875,
          2.8756655112977416,
          2.86061020679837,
          2.8457386732163235,
          2.8310882541868003,
          2.816702366495636,
          2.8026303684820233,
          2.7889081817752635,
          2.775583080809803,
          2.762692519816559,
          2.7502855385842087,
          2.7384082524637074,
          2.7270928525399962,
          2.7163951422628507,
          2.7063460286001026,
          2.69699183546465,
          2.6883741080676824,
          2.680532008204195,
          2.6735061405150566,
          2.667322362421936,
          2.6620369903523327,
          2.6576629458844967,
          2.654249099733046,
          2.6518151690241054,
          2.6503981532861456,
          2.6500238538397256,
          2.6507090086418144,
          2.652487406425619,
          2.6553720537770635,
          2.6593789372427814,
          2.664525507333072,
          2.670819329979241,
          2.678274432866532,
          2.6868908713114292,
          2.696669003453712,
          2.7076062943136074,
          2.719701960768825,
          2.7329444418070823,
          2.747316695992425,
          2.762805882246634,
          2.7793875932740857,
          2.7970372076095176,
          2.81572030221589,
          2.835412632290993,
          2.8560725233038324,
          2.8776459549104616,
          2.900104722863873,
          2.9233801264509274,
          2.947428927352939,
          2.9721779342848387,
          2.997578284678706,
          3.02354928459721,
          3.0500162134440254,
          3.0769095833952194,
          3.1041390844346664,
          3.131629247792877,
          3.159280128985463,
          3.187008119936057,
          3.2147105267606966,
          3.2422924914665368,
          3.269640692336664,
          3.296659505281742,
          3.3232471081586286,
          3.3492708475334374,
          3.374625922957349,
          3.399218797601173,
          3.422907214220616,
          3.4455961122446257,
          3.4671450865659024,
          3.4874572727303574,
          3.506405281590543,
          3.5238882618133647,
          3.539782162661881,
          3.5539714394961717,
          3.5663559419327813,
          3.5768228660944525,
          3.585280900638434,
          3.591618877695331,
          3.595757122649109,
          3.5976031697413386,
          3.597079366236502,
          3.5941013529664145,
          3.5886292117192355,
          3.5805860297448397,
          3.569940520615752,
          3.5566502595417266,
          3.5406852563652147,
          3.5220406435563945,
          3.5007265383903086,
          3.476726218374454,
          3.4500915058745254,
          3.4208720176966407,
          3.389113768259298,
          3.3548951000494998,
          3.3183110770211948,
          3.279460838420633,
          3.238495078366462,
          3.1955589662580524,
          3.1507990499507423,
          3.104420104960968,
          3.0566545957008016,
          3.0077016653835935,
          2.957823350377086,
          2.9073099163993508,
          2.8564261269653746,
          2.8055344624096756,
          2.7549345815684725,
          2.705017825094865,
          2.6561366749728914,
          2.6087117155171917,
          2.5631668498816755,
          2.5199525399079894,
          2.479503851432999,
          2.4423182750038444,
          2.4088638173711705,
          2.3796438213034747,
          2.355191894738988,
          2.3360018402114022,
          2.3226111455521696,
          2.3155294899733363,
          2.3153129663419323,
          2.322443644939778,
          2.337431348330367,
          2.3607809811308123,
          2.3929674657906874,
          2.4344017198507246,
          2.4855139689333807,
          2.546707936094129,
          2.6182391744564595,
          2.7003880609221707,
          2.7933766094607653,
          2.8973106240082425,
          3.0122315038097893,
          3.138066395317837,
          3.274622287388358,
          3.4216266327202476
         ]
        }
       ],
       "layout": {
        "shapes": [
         {
          "line": {
           "dash": "dash"
          },
          "opacity": 0.2,
          "type": "line",
          "x0": -0.1,
          "x1": 291,
          "y0": 3.3380782918149468,
          "y1": 3.3380782918149468
         }
        ],
        "title": "Number of projects predicted by current approach"
       }
      },
      "text/html": [
       "<div id=\"1bd54c23-2edd-4eb8-8e7a-4f366e3d7d01\" style=\"height: 525px; width: 100%;\" class=\"plotly-graph-div\"></div><script type=\"text/javascript\">require([\"plotly\"], function(Plotly) { window.PLOTLYENV=window.PLOTLYENV || {};window.PLOTLYENV.BASE_URL=\"https://plot.ly\";Plotly.newPlot(\"1bd54c23-2edd-4eb8-8e7a-4f366e3d7d01\", [{\"type\": \"scatter\", \"y\": [1, 5, 7, 7, 3, 1, 1, 5, 3, 1, 4, 6, 5, 5, 1, 8, 5, 4, 2, 1, 2, 5, 3, 2, 1, 2, 3, 1, 4, 5, 2, 2, 0, 4, 3, 4, 2, 1, 4, 1, 3, 5, 3, 2, 5, 2, 2, 4, 4, 6, 2, 10, 1, 3, 4, 1, 7, 9, 2, 4, 5, 2, 5, 3, 1, 4, 0, 9, 2, 2, 2, 4, 3, 0, 4, 4, 1, 2, 1, 1, 5, 1, 4, 7, 3, 1, 4, 4, 9, 5, 2, 6, 3, 6, 2, 3, 2, 5, 2, 3, 3, 3, 4, 5, 0, 17, 4, 3, 5, 2, 3, 2, 4, 5, 3, 1, 2, 3, 1, 1, 4, 5, 1, 3, 4, 3, 3, 6, 1, 2, 1, 4, 2, 8, 6, 3, 5, 1, 2, 3, 2, 2, 11, 0, 1, 5, 7, 5, 5, 3, 4, 1, 2, 1, 5, 4, 3, 2, 4, 3, 5, 3, 1, 2, 4, 4, 2, 3, 7, 1, 1, 2, 1, 25, 3, 2, 0, 8, 3, 0, 14, 3, 0, 0, 3, 3, 2, 3, 0, 3, 2, 5, 2, 5, 4, 6, 1, 9, 3, 5, 1, 2, 2, 2, 6, 3, 3, 2, 1, 2, 5, 1, 2, 3, 3, 9, 6, 1, 2, 2, 4, 1, 3, 9, 3, 4, 2, 2, 3, 2, 2, 6, 2, 2, 3, 1, 1, 2, 7, 3, 3, 2, 5, 2, 3, 9, 1, 1, 1, 2, 2, 3, 4, 1, 6, 4, 3, 6, 1, 2, 1, 2, 3, 1, 4, 5, 8, 1, 5, 2, 3, 3, 6, 2, 1, 3, 1, 3, 2, 3, 3], \"name\": \"Project guesses\", \"hoverinfo\": \"name + y\"}, {\"type\": \"scatter\", \"x\": [0.0, 0.28128128128128127, 0.5625625625625625, 0.8438438438438438, 1.125125125125125, 1.4064064064064064, 1.6876876876876876, 1.968968968968969, 2.25025025025025, 2.5315315315315314, 2.8128128128128127, 3.094094094094094, 3.3753753753753752, 3.6566566566566565, 3.937937937937938, 4.2192192192192195, 4.5005005005005, 4.781781781781781, 5.063063063063063, 5.344344344344345, 5.625625625625625, 5.906906906906906, 6.188188188188188, 6.46946946946947, 6.7507507507507505, 7.032032032032031, 7.313313313313313, 7.594594594594595, 7.875875875875876, 8.157157157157156, 8.438438438438439, 8.71971971971972, 9.001001001001, 9.282282282282281, 9.563563563563562, 9.844844844844845, 10.126126126126126, 10.407407407407407, 10.68868868868869, 10.96996996996997, 11.25125125125125, 11.532532532532532, 11.813813813813812, 12.095095095095095, 12.376376376376376, 12.657657657657657, 12.93893893893894, 13.22022022022022, 13.501501501501501, 13.782782782782782, 14.064064064064063, 14.345345345345345, 14.626626626626626, 14.907907907907907, 15.18918918918919, 15.47047047047047, 15.751751751751751, 16.033033033033032, 16.314314314314313, 16.595595595595594, 16.876876876876878, 17.15815815815816, 17.43943943943944, 17.72072072072072, 18.002002002002, 18.283283283283282, 18.564564564564563, 18.845845845845844, 19.127127127127125, 19.40840840840841, 19.68968968968969, 19.97097097097097, 20.25225225225225, 20.533533533533532, 20.814814814814813, 21.096096096096094, 21.37737737737738, 21.65865865865866, 21.93993993993994, 22.22122122122122, 22.5025025025025, 22.783783783783782, 23.065065065065063, 23.346346346346344, 23.627627627627625, 23.90890890890891, 24.19019019019019, 24.47147147147147, 24.75275275275275, 25.034034034034033, 25.315315315315313, 25.596596596596594, 25.87787787787788, 26.15915915915916, 26.44044044044044, 26.72172172172172, 27.003003003003002, 27.284284284284283, 27.565565565565564, 27.846846846846844, 28.128128128128125, 28.40940940940941, 28.69069069069069, 28.97197197197197, 29.253253253253252, 29.534534534534533, 29.815815815815814, 30.097097097097095, 30.37837837837838, 30.65965965965966, 30.94094094094094, 31.22222222222222, 31.503503503503502, 31.784784784784783, 32.066066066066064, 32.347347347347345, 32.628628628628626, 32.909909909909906, 33.19119119119119, 33.47247247247247, 33.753753753753756, 34.03503503503504, 34.31631631631632, 34.5975975975976, 34.87887887887888, 35.16016016016016, 35.44144144144144, 35.72272272272272, 36.004004004004, 36.28528528528528, 36.566566566566564, 36.847847847847845, 37.129129129129126, 37.41041041041041, 37.69169169169169, 37.97297297297297, 38.25425425425425, 38.53553553553554, 38.81681681681682, 39.0980980980981, 39.37937937937938, 39.66066066066066, 39.94194194194194, 40.22322322322322, 40.5045045045045, 40.785785785785784, 41.067067067067065, 41.348348348348345, 41.629629629629626, 41.91091091091091, 42.19219219219219, 42.47347347347347, 42.75475475475476, 43.03603603603604, 43.31731731731732, 43.5985985985986, 43.87987987987988, 44.16116116116116, 44.44244244244244, 44.72372372372372, 45.005005005005, 45.286286286286284, 45.567567567567565, 45.848848848848846, 46.13013013013013, 46.41141141141141, 46.69269269269269, 46.97397397397397, 47.25525525525525, 47.53653653653654, 47.81781781781782, 48.0990990990991, 48.38038038038038, 48.66166166166166, 48.94294294294294, 49.22422422422422, 49.5055055055055, 49.786786786786784, 50.068068068068065, 50.349349349349346, 50.63063063063063, 50.91191191191191, 51.19319319319319, 51.47447447447447, 51.75575575575576, 52.03703703703704, 52.31831831831832, 52.5995995995996, 52.88088088088088, 53.16216216216216, 53.44344344344344, 53.72472472472472, 54.006006006006004, 54.287287287287285, 54.568568568568566, 54.849849849849846, 55.13113113113113, 55.41241241241241, 55.69369369369369, 55.97497497497497, 56.25625625625625, 56.53753753753754, 56.81881881881882, 57.1001001001001, 57.38138138138138, 57.66266266266266, 57.94394394394394, 58.22522522522522, 58.506506506506504, 58.787787787787785, 59.069069069069066, 59.35035035035035, 59.63163163163163, 59.91291291291291, 60.19419419419419, 60.47547547547547, 60.75675675675676, 61.03803803803804, 61.31931931931932, 61.6006006006006, 61.88188188188188, 62.16316316316316, 62.44444444444444, 62.725725725725724, 63.007007007007005, 63.288288288288285, 63.569569569569566, 63.85085085085085, 64.13213213213213, 64.41341341341341, 64.69469469469469, 64.97597597597597, 65.25725725725725, 65.53853853853853, 65.81981981981981, 66.1011011011011, 66.38238238238237, 66.66366366366366, 66.94494494494494, 67.22622622622622, 67.50750750750751, 67.78878878878879, 68.07007007007007, 68.35135135135135, 68.63263263263264, 68.91391391391392, 69.1951951951952, 69.47647647647648, 69.75775775775776, 70.03903903903904, 70.32032032032032, 70.6016016016016, 70.88288288288288, 71.16416416416416, 71.44544544544544, 71.72672672672672, 72.008008008008, 72.28928928928929, 72.57057057057057, 72.85185185185185, 73.13313313313313, 73.41441441441441, 73.69569569569569, 73.97697697697697, 74.25825825825825, 74.53953953953953, 74.82082082082081, 75.1021021021021, 75.38338338338338, 75.66466466466466, 75.94594594594594, 76.22722722722722, 76.5085085085085, 76.7897897897898, 77.07107107107107, 77.35235235235236, 77.63363363363364, 77.91491491491492, 78.1961961961962, 78.47747747747748, 78.75875875875876, 79.04004004004004, 79.32132132132132, 79.6026026026026, 79.88388388388388, 80.16516516516516, 80.44644644644644, 80.72772772772772, 81.009009009009, 81.29029029029029, 81.57157157157157, 81.85285285285285, 82.13413413413413, 82.41541541541541, 82.69669669669669, 82.97797797797797, 83.25925925925925, 83.54054054054053, 83.82182182182181, 84.1031031031031, 84.38438438438438, 84.66566566566566, 84.94694694694694, 85.22822822822822, 85.50950950950951, 85.7907907907908, 86.07207207207207, 86.35335335335336, 86.63463463463464, 86.91591591591592, 87.1971971971972, 87.47847847847848, 87.75975975975976, 88.04104104104104, 88.32232232232232, 88.6036036036036, 88.88488488488488, 89.16616616616616, 89.44744744744744, 89.72872872872873, 90.01001001001, 90.29129129129129, 90.57257257257257, 90.85385385385385, 91.13513513513513, 91.41641641641641, 91.69769769769769, 91.97897897897897, 92.26026026026025, 92.54154154154153, 92.82282282282281, 93.1041041041041, 93.38538538538538, 93.66666666666666, 93.94794794794794, 94.22922922922922, 94.5105105105105, 94.7917917917918, 95.07307307307308, 95.35435435435436, 95.63563563563564, 95.91691691691692, 96.1981981981982, 96.47947947947948, 96.76076076076076, 97.04204204204204, 97.32332332332332, 97.6046046046046, 97.88588588588588, 98.16716716716716, 98.44844844844845, 98.72972972972973, 99.011011011011, 99.29229229229229, 99.57357357357357, 99.85485485485485, 100.13613613613613, 100.41741741741741, 100.69869869869869, 100.97997997997997, 101.26126126126125, 101.54254254254253, 101.82382382382382, 102.1051051051051, 102.38638638638638, 102.66766766766766, 102.94894894894894, 103.23023023023022, 103.51151151151151, 103.7927927927928, 104.07407407407408, 104.35535535535536, 104.63663663663664, 104.91791791791792, 105.1991991991992, 105.48048048048048, 105.76176176176176, 106.04304304304304, 106.32432432432432, 106.6056056056056, 106.88688688688688, 107.16816816816817, 107.44944944944945, 107.73073073073073, 108.01201201201201, 108.29329329329329, 108.57457457457457, 108.85585585585585, 109.13713713713713, 109.41841841841841, 109.69969969969969, 109.98098098098097, 110.26226226226225, 110.54354354354354, 110.82482482482482, 111.1061061061061, 111.38738738738738, 111.66866866866866, 111.94994994994994, 112.23123123123122, 112.5125125125125, 112.7937937937938, 113.07507507507508, 113.35635635635636, 113.63763763763764, 113.91891891891892, 114.2002002002002, 114.48148148148148, 114.76276276276276, 115.04404404404404, 115.32532532532532, 115.6066066066066, 115.88788788788789, 116.16916916916917, 116.45045045045045, 116.73173173173173, 117.01301301301301, 117.29429429429429, 117.57557557557557, 117.85685685685685, 118.13813813813813, 118.41941941941941, 118.7007007007007, 118.98198198198197, 119.26326326326325, 119.54454454454454, 119.82582582582582, 120.1071071071071, 120.38838838838838, 120.66966966966966, 120.95095095095094, 121.23223223223222, 121.51351351351352, 121.7947947947948, 122.07607607607608, 122.35735735735736, 122.63863863863864, 122.91991991991992, 123.2012012012012, 123.48248248248248, 123.76376376376376, 124.04504504504504, 124.32632632632632, 124.6076076076076, 124.88888888888889, 125.17017017017017, 125.45145145145145, 125.73273273273273, 126.01401401401401, 126.29529529529529, 126.57657657657657, 126.85785785785785, 127.13913913913913, 127.42042042042041, 127.7017017017017, 127.98298298298297, 128.26426426426426, 128.54554554554554, 128.82682682682682, 129.1081081081081, 129.38938938938938, 129.67067067067066, 129.95195195195194, 130.23323323323322, 130.5145145145145, 130.79579579579578, 131.07707707707706, 131.35835835835834, 131.63963963963963, 131.9209209209209, 132.2022022022022, 132.48348348348347, 132.76476476476475, 133.04604604604603, 133.3273273273273, 133.6086086086086, 133.88988988988987, 134.17117117117115, 134.45245245245243, 134.73373373373371, 135.01501501501502, 135.2962962962963, 135.57757757757759, 135.85885885885887, 136.14014014014015, 136.42142142142143, 136.7027027027027, 136.983983983984, 137.26526526526527, 137.54654654654655, 137.82782782782783, 138.1091091091091, 138.3903903903904, 138.67167167167167, 138.95295295295296, 139.23423423423424, 139.51551551551552, 139.7967967967968, 140.07807807807808, 140.35935935935936, 140.64064064064064, 140.92192192192192, 141.2032032032032, 141.48448448448448, 141.76576576576576, 142.04704704704704, 142.32832832832833, 142.6096096096096, 142.8908908908909, 143.17217217217217, 143.45345345345345, 143.73473473473473, 144.016016016016, 144.2972972972973, 144.57857857857857, 144.85985985985985, 145.14114114114113, 145.42242242242241, 145.7037037037037, 145.98498498498498, 146.26626626626626, 146.54754754754754, 146.82882882882882, 147.1101101101101, 147.39139139139138, 147.67267267267266, 147.95395395395394, 148.23523523523522, 148.5165165165165, 148.79779779779778, 149.07907907907907, 149.36036036036035, 149.64164164164163, 149.9229229229229, 150.2042042042042, 150.48548548548547, 150.76676676676675, 151.04804804804803, 151.3293293293293, 151.6106106106106, 151.89189189189187, 152.17317317317315, 152.45445445445444, 152.73573573573572, 153.017017017017, 153.2982982982983, 153.5795795795796, 153.86086086086087, 154.14214214214215, 154.42342342342343, 154.7047047047047, 154.985985985986, 155.26726726726727, 155.54854854854855, 155.82982982982983, 156.11111111111111, 156.3923923923924, 156.67367367367368, 156.95495495495496, 157.23623623623624, 157.51751751751752, 157.7987987987988, 158.08008008008008, 158.36136136136136, 158.64264264264264, 158.92392392392392, 159.2052052052052, 159.48648648648648, 159.76776776776777, 160.04904904904905, 160.33033033033033, 160.6116116116116, 160.8928928928929, 161.17417417417417, 161.45545545545545, 161.73673673673673, 162.018018018018, 162.2992992992993, 162.58058058058057, 162.86186186186185, 163.14314314314313, 163.42442442442442, 163.7057057057057, 163.98698698698698, 164.26826826826826, 164.54954954954954, 164.83083083083082, 165.1121121121121, 165.39339339339338, 165.67467467467466, 165.95595595595594, 166.23723723723722, 166.5185185185185, 166.79979979979979, 167.08108108108107, 167.36236236236235, 167.64364364364363, 167.9249249249249, 168.2062062062062, 168.48748748748747, 168.76876876876875, 169.05005005005003, 169.3313313313313, 169.6126126126126, 169.89389389389387, 170.17517517517516, 170.45645645645644, 170.73773773773772, 171.01901901901903, 171.3003003003003, 171.5815815815816, 171.86286286286287, 172.14414414414415, 172.42542542542543, 172.7067067067067, 172.987987987988, 173.26926926926927, 173.55055055055055, 173.83183183183183, 174.11311311311312, 174.3943943943944, 174.67567567567568, 174.95695695695696, 175.23823823823824, 175.51951951951952, 175.8008008008008, 176.08208208208208, 176.36336336336336, 176.64464464464464, 176.92592592592592, 177.2072072072072, 177.48848848848849, 177.76976976976977, 178.05105105105105, 178.33233233233233, 178.6136136136136, 178.8948948948949, 179.17617617617617, 179.45745745745745, 179.73873873873873, 180.02002002002, 180.3013013013013, 180.58258258258257, 180.86386386386386, 181.14514514514514, 181.42642642642642, 181.7077077077077, 181.98898898898898, 182.27027027027026, 182.55155155155154, 182.83283283283282, 183.1141141141141, 183.39539539539538, 183.67667667667666, 183.95795795795794, 184.23923923923923, 184.5205205205205, 184.8018018018018, 185.08308308308307, 185.36436436436435, 185.64564564564563, 185.9269269269269, 186.2082082082082, 186.48948948948947, 186.77077077077075, 187.05205205205203, 187.33333333333331, 187.6146146146146, 187.89589589589588, 188.17717717717716, 188.45845845845844, 188.73973973973972, 189.021021021021, 189.3023023023023, 189.5835835835836, 189.86486486486487, 190.14614614614615, 190.42742742742743, 190.7087087087087, 190.98998998999, 191.27127127127127, 191.55255255255256, 191.83383383383384, 192.11511511511512, 192.3963963963964, 192.67767767767768, 192.95895895895896, 193.24024024024024, 193.52152152152152, 193.8028028028028, 194.08408408408408, 194.36536536536536, 194.64664664664664, 194.92792792792793, 195.2092092092092, 195.4904904904905, 195.77177177177177, 196.05305305305305, 196.33433433433433, 196.6156156156156, 196.8968968968969, 197.17817817817817, 197.45945945945945, 197.74074074074073, 198.022022022022, 198.3033033033033, 198.58458458458458, 198.86586586586586, 199.14714714714714, 199.42842842842842, 199.7097097097097, 199.99099099099098, 200.27227227227226, 200.55355355355354, 200.83483483483482, 201.1161161161161, 201.39739739739738, 201.67867867867866, 201.95995995995995, 202.24124124124123, 202.5225225225225, 202.8038038038038, 203.08508508508507, 203.36636636636635, 203.64764764764763, 203.9289289289289, 204.2102102102102, 204.49149149149147, 204.77277277277275, 205.05405405405403, 205.33533533533532, 205.6166166166166, 205.89789789789788, 206.17917917917916, 206.46046046046044, 206.74174174174172, 207.02302302302303, 207.3043043043043, 207.5855855855856, 207.86686686686687, 208.14814814814815, 208.42942942942943, 208.7107107107107, 208.991991991992, 209.27327327327328, 209.55455455455456, 209.83583583583584, 210.11711711711712, 210.3983983983984, 210.67967967967968, 210.96096096096096, 211.24224224224224, 211.52352352352352, 211.8048048048048, 212.08608608608608, 212.36736736736736, 212.64864864864865, 212.92992992992993, 213.2112112112112, 213.4924924924925, 213.77377377377377, 214.05505505505505, 214.33633633633633, 214.6176176176176, 214.8988988988989, 215.18018018018017, 215.46146146146145, 215.74274274274273, 216.02402402402402, 216.3053053053053, 216.58658658658658, 216.86786786786786, 217.14914914914914, 217.43043043043042, 217.7117117117117, 217.99299299299298, 218.27427427427426, 218.55555555555554, 218.83683683683682, 219.1181181181181, 219.39939939939939, 219.68068068068067, 219.96196196196195, 220.24324324324323, 220.5245245245245, 220.8058058058058, 221.08708708708707, 221.36836836836835, 221.64964964964963, 221.9309309309309, 222.2122122122122, 222.49349349349347, 222.77477477477476, 223.05605605605604, 223.33733733733732, 223.6186186186186, 223.89989989989988, 224.18118118118116, 224.46246246246244, 224.74374374374372, 225.025025025025, 225.3063063063063, 225.5875875875876, 225.86886886886887, 226.15015015015015, 226.43143143143143, 226.71271271271272, 226.993993993994, 227.27527527527528, 227.55655655655656, 227.83783783783784, 228.11911911911912, 228.4004004004004, 228.68168168168168, 228.96296296296296, 229.24424424424424, 229.52552552552552, 229.8068068068068, 230.08808808808809, 230.36936936936937, 230.65065065065065, 230.93193193193193, 231.2132132132132, 231.4944944944945, 231.77577577577577, 232.05705705705705, 232.33833833833833, 232.6196196196196, 232.9009009009009, 233.18218218218217, 233.46346346346346, 233.74474474474474, 234.02602602602602, 234.3073073073073, 234.58858858858858, 234.86986986986986, 235.15115115115114, 235.43243243243242, 235.7137137137137, 235.99499499499498, 236.27627627627626, 236.55755755755754, 236.83883883883883, 237.1201201201201, 237.4014014014014, 237.68268268268267, 237.96396396396395, 238.24524524524523, 238.5265265265265, 238.8078078078078, 239.08908908908907, 239.37037037037035, 239.65165165165163, 239.9329329329329, 240.2142142142142, 240.49549549549548, 240.77677677677676, 241.05805805805804, 241.33933933933932, 241.6206206206206, 241.90190190190188, 242.18318318318316, 242.46446446446444, 242.74574574574572, 243.02702702702703, 243.3083083083083, 243.5895895895896, 243.87087087087087, 244.15215215215215, 244.43343343343344, 244.71471471471472, 244.995995995996, 245.27727727727728, 245.55855855855856, 245.83983983983984, 246.12112112112112, 246.4024024024024, 246.68368368368368, 246.96496496496496, 247.24624624624624, 247.52752752752752, 247.8088088088088, 248.0900900900901, 248.37137137137137, 248.65265265265265, 248.93393393393393, 249.2152152152152, 249.4964964964965, 249.77777777777777, 250.05905905905905, 250.34034034034033, 250.6216216216216, 250.9029029029029, 251.18418418418418, 251.46546546546546, 251.74674674674674, 252.02802802802802, 252.3093093093093, 252.59059059059058, 252.87187187187186, 253.15315315315314, 253.43443443443442, 253.7157157157157, 253.99699699699698, 254.27827827827826, 254.55955955955955, 254.84084084084083, 255.1221221221221, 255.4034034034034, 255.68468468468467, 255.96596596596595, 256.24724724724723, 256.5285285285285, 256.8098098098098, 257.0910910910911, 257.37237237237235, 257.65365365365363, 257.9349349349349, 258.2162162162162, 258.4974974974975, 258.77877877877876, 259.06006006006004, 259.3413413413413, 259.6226226226226, 259.9039039039039, 260.18518518518516, 260.46646646646644, 260.7477477477477, 261.029029029029, 261.3103103103103, 261.59159159159157, 261.87287287287285, 262.1541541541541, 262.4354354354354, 262.7167167167167, 262.99799799799797, 263.27927927927925, 263.56056056056053, 263.8418418418418, 264.1231231231231, 264.4044044044044, 264.68568568568566, 264.96696696696694, 265.2482482482482, 265.5295295295295, 265.8108108108108, 266.09209209209206, 266.37337337337334, 266.6546546546546, 266.9359359359359, 267.2172172172172, 267.49849849849846, 267.77977977977974, 268.061061061061, 268.3423423423423, 268.6236236236236, 268.90490490490487, 269.18618618618615, 269.46746746746743, 269.7487487487487, 270.03003003003005, 270.31131131131133, 270.5925925925926, 270.8738738738739, 271.15515515515517, 271.43643643643645, 271.71771771771773, 271.998998998999, 272.2802802802803, 272.5615615615616, 272.84284284284286, 273.12412412412414, 273.4054054054054, 273.6866866866867, 273.967967967968, 274.24924924924926, 274.53053053053054, 274.8118118118118, 275.0930930930931, 275.3743743743744, 275.65565565565566, 275.93693693693695, 276.2182182182182, 276.4994994994995, 276.7807807807808, 277.06206206206207, 277.34334334334335, 277.62462462462463, 277.9059059059059, 278.1871871871872, 278.4684684684685, 278.74974974974975, 279.03103103103103, 279.3123123123123, 279.5935935935936, 279.8748748748749, 280.15615615615616, 280.43743743743744, 280.7187187187187, 281.0], \"y\": [3.7567308927237986, 3.777540017014506, 3.792968335503833, 3.8039443622513676, 3.81129198107554, 3.815738426400211, 3.817921821650897, 3.8183982938533614, 3.8176486824767335, 3.816084859968276, 3.81405568084707, 3.8118525756589565, 3.809714805544779, 3.8078343926379934, 3.806360740985811, 3.8054049621799306, 3.8050439193882726, 3.805324002997789, 3.806264650609986, 3.807861623675122, 3.8100900526078, 3.8129072617956163, 3.816255385493443, 3.8200637851885033, 3.82425127862545, 3.8287281902959323, 3.833398232823338, 3.8381602283104166, 3.842909678364936, 3.8475401911763187, 3.8519447736840267, 3.8560169965561317, 3.8596520393838074, 3.862747623194185, 3.865204837089897, 3.866928865538583, 3.8678296225592437, 3.867822298784693, 3.86682782711995, 3.8647732724653308, 3.8615921507298654, 3.857224682125359, 3.8516179835037314, 3.8447262042800943, 3.8365106102710618, 3.8269396195719416, 3.8159887943975788, 3.803640792619429, 3.789885282545918, 3.774718824313969, 3.758144721086751, 3.740172843085892, 3.720819427325652, 3.7001068557614794, 3.6780634144160866, 3.6547230359022547, 3.630125027623095, 3.6043137877973197, 3.57733851132868, 3.5492528874156233, 3.52011479067873, 3.489985967469668, 3.45893171891619, 3.427020582152932, 3.394324011087119, 3.3609160579521955, 3.3268730568097307, 3.292273310071971, 3.2571967790326615, 3.221724779312907, 3.185939682051928, 3.1499246215982337, 3.1137632103873365, 3.0775392616238584, 3.0413365203232754, 3.0052384032066195, 2.9693277478848015, 2.933686571712629, 2.8983958406430386, 2.8635352483596095, 2.829183005921173, 2.795415642106743, 2.7623078146074755, 2.729932132173058, 2.698358987782611, 2.66765640287519, 2.637889882642594, 2.609122282355518, 2.581413684666391, 2.554821287803893, 2.5293993045512435, 2.5051988718746183, 2.482267971047806, 2.4606513580995886, 2.440390504390872, 2.421523547112197, 2.4040852494769234, 2.388106970371677, 2.3736166432110064, 2.3606387637357207, 2.3491943864787928, 2.33930112961849, 2.3309731879275053, 2.3242213535213336, 2.319053044103038, 2.315472338395562, 2.3134800184499866, 2.313073618516477, 2.3142474801572144, 2.3169928132860163, 2.3212977628123843, 2.327147480573757, 2.3345242022319583, 2.3434073288230293, 2.3537735126386083, 2.3655967471308115, 2.3788484605251057, 2.3934976128403465, 2.4095107960082225, 2.4268523367981727, 2.4454844022486815, 2.4653671073225922, 2.4864586244991944, 2.5087152950295133, 2.532091741579213, 2.5565409819993086, 2.5820145439643127, 2.6084625802269867, 2.635833984247215, 2.6640765059551654, 2.6931368674231573, 2.7229608782212544, 2.753493550245628, 2.7846792118080486, 2.816461620796061, 2.8487840767061616, 2.881589531365597, 2.9148206981817495, 2.9484201597323723, 2.982330473555268, 3.016494275976508, 3.050854383838322, 3.085353893993399, 3.119936280429769, 3.1545454889249274, 3.1891260290961183, 3.2236230637593564, 3.257982495497601, 3.292151050343758, 3.3260763585042286, 3.359707032043234, 3.3929927394757318, 3.425884277186202, 3.458333637632505, 3.490294074307475, 3.5217201633842246, 3.5525678620364047, 3.5827945634041516, 3.6123591481698947, 3.641222032769585, 3.6693452141727105, 3.696692311286924, 3.7232286029507256, 3.748921062538998, 3.7737383891983374, 3.797651035714514, 3.820631233077833, 3.8426530116883515, 3.863692219351212, 3.8837265360082016, 3.902735485260534, 3.920700442788165, 3.937604641640499, 3.9534331744804443, 3.9681729928679093, 3.9818129035892262, 3.9943435621162546, 4.005757463310384, 4.016048929324555, 4.025214094918186, 4.033250890114001, 4.040159020410005, 4.0459399444986515, 4.050596849661275, 4.054134624917502, 4.056559831874347, 4.057880673636983, 4.058106961529898, 4.057250079985301, 4.055322949589338, 4.05233998826109, 4.048317070913322, 4.043271487411896, 4.0372218991072675, 4.030188293930398, 4.022191940216902, 4.013255339291274, 4.003402176859735, 3.9926572735356034, 3.9810465342050416, 3.9685968966558587, 3.955336279433497, 3.9412935289660767, 3.926498366091871, 3.910981332154473, 3.8947737345621145, 3.877907592058433, 3.8604155797607933, 3.8423309739718454, 3.8236875969346658, 3.80451976152, 3.784862216027066, 3.764750089110633, 3.744218834854159, 3.7233041782374356, 3.7020420608412112, 3.680468587100506, 3.658619970926426, 3.636532482897708, 3.6142423982579936, 3.591785945256074, 3.5691992545780113, 3.5465183093074697, 3.5237788959600365, 3.501016556188647, 3.478266539652146, 3.455563757822206, 3.4329427387926708, 3.4104375832675013, 3.388081921597146, 3.3659088721235926, 3.3439510006669795, 3.3222402811962537, 3.3008080579731782, 3.2796850088549894, 3.2589011100162204, 3.2384856020965724, 3.2184669575730127, 3.19887284980891, 3.1797301233365767, 3.1610647656763238, 3.1429018807103226, 3.125265663507255, 3.108179376337591, 3.091665327082441, 3.0757448478650287, 3.060438276593252, 3.045764938848534, 3.0317431320665715, 3.0183901110743134, 3.0057220749934217, 2.993754155677058, 2.982500408038332, 2.971973801431167, 2.962186212677776, 2.9531484209206327, 2.944870103352784, 2.9373598329412394, 2.930625077362789, 2.9246721994383647, 2.9195064589357305, 2.9151320157266456, 2.9115519344402765, 2.9087681905464824, 2.9067816773720603, 2.90559221481603, 2.9051985592066827, 2.9055984143919527, 2.90678844400401, 2.9087642847723867, 2.911520561700552, 2.915050903216441, 2.919347958441815, 2.9244034150130225, 2.93020801785044, 2.9367515892938316, 2.9440230498297786, 2.9520104399625704, 2.960700943004112, 2.9700809080366932, 2.980135874893082, 2.990850598826818, 3.002209076269305, 3.0141945715328062, 3.0267896435164783, 3.039976173870405, 3.0537353950362465, 3.068047918764017, 3.0828937659866407, 3.0982523959256847, 3.114102736551029, 3.1304232152044325, 3.1471917886370346, 3.16438597486427, 3.1819828843017905, 3.199959250767712, 3.2182914639648197, 3.2369556003630695, 3.255927455733339, 3.2751825768827905, 3.294696293617047, 3.3144437501894766, 3.3343999377201565, 3.3545397255190816, 3.374837892503304, 3.3952691594279973, 3.415808218763508, 3.436429766631022, 3.4571085333133142, 3.477819312862075, 3.4985369941001925, 3.519236588955187, 3.539893263395576, 3.5604823640887515, 3.580979448840852, 3.6013603125734446, 3.621601015974596, 3.641677910747072, 3.6615676672987325, 3.681247299313864, 3.70069418925693, 3.719886112029256, 3.7388012588503896, 3.757418260707247, 3.775716209706013, 3.7936746809268755, 3.8112737535129115, 3.828494030199797, 3.8453166569821566, 3.8617233406479725, 3.877696367829146, 3.8932186201056838, 3.9082735919898606, 3.9228454034139526, 3.936918817441968, 3.950479250238987, 3.9635127859081543, 3.976006187139776, 3.9879469074946683, 3.999323098556426, 4.010123622419271, 4.020338056642532, 4.029956704459596, 4.038970597893108, 4.047371507406129, 4.055151942722814, 4.062305159241159, 4.068825158032334, 4.074706692022826, 4.079945262760708, 4.084537123432395, 4.088479276801002, 4.091769476329201, 4.09440622017736, 4.096388750394012, 4.097717047509192, 4.098391830129959, 4.0984145427378476, 4.097787353904395, 4.096513148603104, 4.094595519197484, 4.092038758063147, 4.0888478466288065, 4.085028448284079, 4.080586893718625, 4.07553017543501, 4.069865927435263, 4.063602419535362, 4.05674854235529, 4.049313791737166, 4.041308254531568, 4.032742597053973, 4.023628044733693, 4.013976368734732, 4.003799868435612, 3.9931113563486074, 3.981924137919235, 3.9702519961379306, 3.958109169376007, 3.94551033954179, 3.9324706049355846, 3.919005465273906, 3.905130803290456, 3.890862862035519, 3.8762182264456606, 3.8612137991127864, 3.845866787385762, 3.8301946747081144, 3.814215201422771, 3.797946347274123, 3.7814063070416966, 3.7646134681825214, 3.7475863924015624, 3.7303437937997788, 3.712904515169728, 3.695287505308703, 3.677511805410156, 3.6595965167016526, 3.641560786997332, 3.6234237896332684, 3.605204693369347, 3.5869226544636414, 3.5685967871462365, 3.550246141637333, 3.5318896887534463, 3.5135463060872034, 3.495234737594514, 3.4769735921181795, 3.458781322961211, 3.440676194008253, 3.422676279463244, 3.4047994371352304, 3.387063283474281, 3.369485190739248, 3.352082255226292, 3.334871295016691, 3.3178688155555704, 3.3010910118208745, 3.284553739431383, 3.268272510247887, 3.2522624625445844, 3.2365383742024814, 3.2211146097871572, 3.206005146877094, 3.191223534601008, 3.1767829069359506, 3.1626959361250435, 3.148974867776619, 3.1356314687494247, 3.1226770408462574, 3.110122399434451, 3.097977878395037, 3.0862533168522948, 3.07495804089623, 3.064100876372113, 3.0536901137911263, 3.043733540603561, 3.0342384050508935, 3.025211431651658, 3.0166588026488674, 3.008586163380067, 3.0009986162545843, 2.993900726131421, 2.987296509843862, 2.981189440322024, 2.975582444920538, 2.9704779054756507, 2.9658776568219456, 2.961783013698362, 2.958194718610967, 2.9551130123261693, 2.952537570309595, 2.9504675639884326, 2.948901627711462, 2.947837886974585, 2.9472739419343776, 2.947206904740705, 2.9476333643478694, 2.9485494343177314, 2.949950736444303, 2.9518324214423197, 2.954189164641739, 2.9570151875368618, 2.9603042568066904, 2.9640497128168186, 2.9682444620157606, 2.9728809847622752, 2.9779513655610206, 2.9834472857521597, 2.989360056989031, 2.995680615134706, 3.0023995359763243, 3.0095070564447477, 3.0169930772235323, 3.024847199538993, 3.033058687061532, 3.0416165461770635, 3.050509497767626, 3.0597259985886964, 3.069254272768662, 3.07908230062679, 3.089197870464861, 3.0995885401783942, 3.110241706718211, 3.121144587420313, 3.132284252962177, 3.1436476414478327, 3.155221546625814, 3.1669926958052925, 3.1789476877800777, 3.1910730786660326, 3.203355339499748, 3.215780915925492, 3.228336222898097, 3.24100767199874, 3.2537816715524315, 3.26664463462192, 3.2795830522751896, 3.292583416596886, 3.305632328321201, 3.31871642185631, 3.331822477919022, 3.3449373616248317, 3.3580480592165753, 3.3711416930799056, 3.384205520637973, 3.39722702439097, 3.4101938113428854, 3.423093673001425, 3.4359146725103518, 3.448644988491384, 3.4612731199870628, 3.47378773202327, 3.4861777692085196, 3.4984324785467367, 3.5105413133715997, 3.5224940333705854, 3.5342807102695883, 3.5458916771610225, 3.5573176066917838, 3.568549449327273, 3.5795785575529764, 3.5903965309138908, 3.6009953390462703, 3.611367375224297, 3.6215052581331797, 3.6314020018817073, 3.641051041773256, 3.6504461480548818, 3.6595814311001664, 3.668451426988928, 3.6770509993869678, 3.6853754523194584, 3.69342041068169, 3.7011819467098466, 3.7086564816042835, 3.7158408401705714, 3.7227322141699775, 3.7293282104401264, 3.735626773794584, 3.741626303494792, 3.7473255147388813, 3.752723599998562, 3.757820022458069, 3.762614650923926, 3.7671078211764217, 3.7713000399051, 3.7751924049314813, 3.77878622856989, 3.782083148053682, 3.7850853129051827, 3.7877950769019098, 3.7902151393665284, 3.792348607076764, 3.7941988298018963, 3.7957693936852928, 3.797064489885947, 3.798088272024973, 3.7988452936811816, 3.7993404805237665, 3.799578883540965, 3.7995659297729145, 3.7993072106886303, 3.798808629636598, 3.798076247763889, 3.7971163410082687, 3.7959354885025895, 3.7945403696931796, 3.792937830567782, 3.791134942194486, 3.7891389492297995, 3.786957163553207, 3.784597178652744, 3.7820664853063146, 3.7793728606076984, 3.776524070982126, 3.7735281771311833, 3.7703929960810867, 3.7671266001868293, 3.7637371299022715, 3.7602326138940105, 3.7566211734593913, 3.7529110528533356, 3.749110324306508, 3.7452271147302127, 3.7412694336354733, 3.7372454438682756, 3.7331630016004866, 3.7290300873954885, 3.7248546001845995, 3.720644146376921, 3.716406522470684, 3.712149123638879, 3.707879405206354, 3.7036046558935745, 3.6993318986852612, 3.695068224150091, 3.6908203302093225, 3.6865947850904073, 3.6823980631385327, 3.678236424276423, 3.6741157919206535, 3.670041985907375, 3.6660206639556434, 3.662057078034101, 3.65815636763525, 3.6543232991895005, 3.650562550453097, 3.646878425533744, 3.643274983629598, 3.639756088603176, 3.636325173135313, 3.6329855281179535, 3.629740025393877, 3.6265914647517867, 3.6235421325811332, 3.6205940925128517, 3.6177490704320876, 3.615008600733323, 3.6123737789488977, 3.6098455062209305, 3.6074244176560963, 3.605110657107709, 3.6029043025796423, 3.6008048512951873, 3.598811742780055, 3.5969241002118943, 3.595140538818275, 3.5934595427409866, 3.5918794510923444, 3.590397807562747, 3.5890126373727895, 3.58772099042076, 3.586519997927574, 3.585406419228117, 3.5843770828949175, 3.583427789983275, 3.5825548924507693, 3.581754266490716, 3.581021079995987, 3.5803512708494267, 3.5797394092595884, 3.579180838541876, 3.578670134698047, 3.5782020458006984, 3.577770807298524, 3.5773707159123416, 3.5769957617133255, 3.576639962856871, 3.5762972119162386, 3.575961188843263, 3.5756253788525623, 3.575283337094384, 3.5749286442355874, 3.5745544120813886, 3.574154349730837, 3.5737212143222035, 3.573248697402238, 3.5727298763438364, 3.5721579168792785, 3.5715260972763554, 3.5708278440337606, 3.570056363310411, 3.5692050256239067, 3.568267361276772, 3.567236912230152, 3.566107190962246, 3.5648720085572276, 3.5635253028177303, 3.5620610355989655, 3.5604733480802047, 3.5587563327395433, 3.556904838041391, 3.5549132601038007, 3.5527770576063618, 3.5504904909042967, 3.548049514454088, 3.5454494263439784, 3.542686506139811, 3.539756078303514, 3.5366548140535716, 3.5333795637390804, 3.529926772203783, 3.526294407828538, 3.522479539301039, 3.5184799665073414, 3.514293828695291, 3.509920209716823, 3.5053569987356763, 3.5006045563808708, 3.4956613603001543, 3.4905280070534443, 3.485204703679023, 3.479691745707011, 3.4739910534278526, 3.4681027942343885, 3.4620296600340996, 3.4557735178975797, 3.449337116596203, 3.442723254711304, 3.4359347749593683, 3.428976480004421, 3.4218518039869776, 3.414564767471356, 3.407120921536327, 3.399525172643073, 3.3917835308468987, 3.383901083470175, 3.3758845624325415, 3.367740935778846, 3.3594765093948853, 3.3510996780245104, 3.3426171004151892, 3.334037082921974, 3.325367448183465, 3.31661773181217, 3.307796195441056, 3.29891189139528, 3.289975108402509, 3.2809935581441394, 3.271979524932436, 3.262941177380876, 3.253889742307446, 3.2448356824746623, 3.2357887271963874, 3.2267611626440966, 3.217762668271994, 3.208805515084608, 3.199899353355494, 3.1910570055658334, 3.1822885460076735, 3.1736065426509263, 3.165020795520685, 3.156543763816524, 3.148186665207125, 3.1399614873073904, 3.1318779811831283, 3.1239488350181137, 3.1161831949343717, 3.1085939728109038, 3.101190896328835, 3.093985461601072, 3.0869873049631957, 3.080206303385472, 3.073654021742301, 3.067338341739763, 3.061269550401937, 3.0554572500917523, 3.049909399115153, 3.04463514690619, 3.0396419863985256, 3.034938077859131, 3.030530161021633, 3.0264254026611956, 3.0226311541903064, 3.0191514274381293, 3.015993070363254, 3.013160751437047, 3.010658821725455, 3.008491202831275, 3.006661057964563, 3.0051718134707692, 3.0040252547861694, 3.0032220800112848, 3.002763275478248, 3.0026518426734965, 3.0028830901579715, 3.003460619990983, 3.004379626510766, 3.005638414542568, 3.0072345600040955, 3.009165734365114, 3.0114249320577287, 3.0140085088078328, 3.0169108702054555, 3.020126198824038, 3.0236458175342324, 3.0274641893699923, 3.031570451950248, 3.0359559582951237, 3.0406131317078633, 3.045529417639307, 3.050694874948627, 3.0560960418194036, 3.0617241082321165, 3.0675615461281263, 3.0735977133454435, 3.079818118020197, 3.0862067177683623, 3.0927500529557808, 3.099430138566648, 3.106232818507726, 3.113140307738307, 3.1201341102506075, 3.127198287536511, 3.1343144035362687, 3.141463030826263, 3.1486266679145043, 3.1557840711815643, 3.1629178758696614, 3.170007860957838, 3.1770332508081593, 3.183976864895239, 3.1908131023503334, 3.197526325136255, 3.2040944813729046, 3.2104970834073763, 3.2167137123917615, 3.2227267060420863, 3.2285111079324893, 3.234051200941793, 3.239325915121576, 3.2443161314622246, 3.2490014335246693, 3.253362210846708, 3.2573833448676353, 3.26104352052425, 3.2643297145428134, 3.267220395131077, 3.269700388797059, 3.2717562138717624, 3.2733721385295844, 3.2745308898196006, 3.2752227760903856, 3.275435018867733, 3.275155665110491, 3.274371669496454, 3.2730733061573143, 3.2712547502423015, 3.2689082310842377, 3.2660241076036867, 3.2626024751582303, 3.2586304962995687, 3.254113233108668, 3.2490449155636076, 3.2434290332101487, 3.237261152819473, 3.2305477160909497, 3.2232913138875787, 3.215494300548757, 3.207168754634019, 3.1983167261089513, 3.1889537453601378, 3.179083412254839, 3.1687247975635757, 3.1578883489782563, 3.146592760109628, 3.1348524986392485, 3.122685392908689, 3.110113626910146, 3.0971576034407278, 3.0838398726632548, 3.0701848774448965, 3.0562193881268036, 3.0419735896432347, 3.02746877725958, 3.0127424328567094, 2.997820478670521, 2.9827411370687074, 2.967531215958811, 2.9522300501999004, 2.936877650395752, 2.9215048968283495, 2.9061488961295963, 2.8908601859281875, 2.8756655112977416, 2.86061020679837, 2.8457386732163235, 2.8310882541868003, 2.816702366495636, 2.8026303684820233, 2.7889081817752635, 2.775583080809803, 2.762692519816559, 2.7502855385842087, 2.7384082524637074, 2.7270928525399962, 2.7163951422628507, 2.7063460286001026, 2.69699183546465, 2.6883741080676824, 2.680532008204195, 2.6735061405150566, 2.667322362421936, 2.6620369903523327, 2.6576629458844967, 2.654249099733046, 2.6518151690241054, 2.6503981532861456, 2.6500238538397256, 2.6507090086418144, 2.652487406425619, 2.6553720537770635, 2.6593789372427814, 2.664525507333072, 2.670819329979241, 2.678274432866532, 2.6868908713114292, 2.696669003453712, 2.7076062943136074, 2.719701960768825, 2.7329444418070823, 2.747316695992425, 2.762805882246634, 2.7793875932740857, 2.7970372076095176, 2.81572030221589, 2.835412632290993, 2.8560725233038324, 2.8776459549104616, 2.900104722863873, 2.9233801264509274, 2.947428927352939, 2.9721779342848387, 2.997578284678706, 3.02354928459721, 3.0500162134440254, 3.0769095833952194, 3.1041390844346664, 3.131629247792877, 3.159280128985463, 3.187008119936057, 3.2147105267606966, 3.2422924914665368, 3.269640692336664, 3.296659505281742, 3.3232471081586286, 3.3492708475334374, 3.374625922957349, 3.399218797601173, 3.422907214220616, 3.4455961122446257, 3.4671450865659024, 3.4874572727303574, 3.506405281590543, 3.5238882618133647, 3.539782162661881, 3.5539714394961717, 3.5663559419327813, 3.5768228660944525, 3.585280900638434, 3.591618877695331, 3.595757122649109, 3.5976031697413386, 3.597079366236502, 3.5941013529664145, 3.5886292117192355, 3.5805860297448397, 3.569940520615752, 3.5566502595417266, 3.5406852563652147, 3.5220406435563945, 3.5007265383903086, 3.476726218374454, 3.4500915058745254, 3.4208720176966407, 3.389113768259298, 3.3548951000494998, 3.3183110770211948, 3.279460838420633, 3.238495078366462, 3.1955589662580524, 3.1507990499507423, 3.104420104960968, 3.0566545957008016, 3.0077016653835935, 2.957823350377086, 2.9073099163993508, 2.8564261269653746, 2.8055344624096756, 2.7549345815684725, 2.705017825094865, 2.6561366749728914, 2.6087117155171917, 2.5631668498816755, 2.5199525399079894, 2.479503851432999, 2.4423182750038444, 2.4088638173711705, 2.3796438213034747, 2.355191894738988, 2.3360018402114022, 2.3226111455521696, 2.3155294899733363, 2.3153129663419323, 2.322443644939778, 2.337431348330367, 2.3607809811308123, 2.3929674657906874, 2.4344017198507246, 2.4855139689333807, 2.546707936094129, 2.6182391744564595, 2.7003880609221707, 2.7933766094607653, 2.8973106240082425, 3.0122315038097893, 3.138066395317837, 3.274622287388358, 3.4216266327202476], \"name\": \"Polynomial trendline\", \"hoverinfo\": \"skip\"}], {\"title\": \"Number of projects predicted by current approach\", \"shapes\": [{\"type\": \"line\", \"y0\": 3.3380782918149468, \"y1\": 3.3380782918149468, \"x0\": -0.1, \"x1\": 291, \"opacity\": 0.2, \"line\": {\"dash\": \"dash\"}}]}, {\"showLink\": false, \"linkText\": \"Export to plot.ly\"})});</script>"
      ],
      "text/vnd.plotly.v1+html": [
       "<div id=\"1bd54c23-2edd-4eb8-8e7a-4f366e3d7d01\" style=\"height: 525px; width: 100%;\" class=\"plotly-graph-div\"></div><script type=\"text/javascript\">require([\"plotly\"], function(Plotly) { window.PLOTLYENV=window.PLOTLYENV || {};window.PLOTLYENV.BASE_URL=\"https://plot.ly\";Plotly.newPlot(\"1bd54c23-2edd-4eb8-8e7a-4f366e3d7d01\", [{\"type\": \"scatter\", \"y\": [1, 5, 7, 7, 3, 1, 1, 5, 3, 1, 4, 6, 5, 5, 1, 8, 5, 4, 2, 1, 2, 5, 3, 2, 1, 2, 3, 1, 4, 5, 2, 2, 0, 4, 3, 4, 2, 1, 4, 1, 3, 5, 3, 2, 5, 2, 2, 4, 4, 6, 2, 10, 1, 3, 4, 1, 7, 9, 2, 4, 5, 2, 5, 3, 1, 4, 0, 9, 2, 2, 2, 4, 3, 0, 4, 4, 1, 2, 1, 1, 5, 1, 4, 7, 3, 1, 4, 4, 9, 5, 2, 6, 3, 6, 2, 3, 2, 5, 2, 3, 3, 3, 4, 5, 0, 17, 4, 3, 5, 2, 3, 2, 4, 5, 3, 1, 2, 3, 1, 1, 4, 5, 1, 3, 4, 3, 3, 6, 1, 2, 1, 4, 2, 8, 6, 3, 5, 1, 2, 3, 2, 2, 11, 0, 1, 5, 7, 5, 5, 3, 4, 1, 2, 1, 5, 4, 3, 2, 4, 3, 5, 3, 1, 2, 4, 4, 2, 3, 7, 1, 1, 2, 1, 25, 3, 2, 0, 8, 3, 0, 14, 3, 0, 0, 3, 3, 2, 3, 0, 3, 2, 5, 2, 5, 4, 6, 1, 9, 3, 5, 1, 2, 2, 2, 6, 3, 3, 2, 1, 2, 5, 1, 2, 3, 3, 9, 6, 1, 2, 2, 4, 1, 3, 9, 3, 4, 2, 2, 3, 2, 2, 6, 2, 2, 3, 1, 1, 2, 7, 3, 3, 2, 5, 2, 3, 9, 1, 1, 1, 2, 2, 3, 4, 1, 6, 4, 3, 6, 1, 2, 1, 2, 3, 1, 4, 5, 8, 1, 5, 2, 3, 3, 6, 2, 1, 3, 1, 3, 2, 3, 3], \"name\": \"Project guesses\", \"hoverinfo\": \"name + y\"}, {\"type\": \"scatter\", \"x\": [0.0, 0.28128128128128127, 0.5625625625625625, 0.8438438438438438, 1.125125125125125, 1.4064064064064064, 1.6876876876876876, 1.968968968968969, 2.25025025025025, 2.5315315315315314, 2.8128128128128127, 3.094094094094094, 3.3753753753753752, 3.6566566566566565, 3.937937937937938, 4.2192192192192195, 4.5005005005005, 4.781781781781781, 5.063063063063063, 5.344344344344345, 5.625625625625625, 5.906906906906906, 6.188188188188188, 6.46946946946947, 6.7507507507507505, 7.032032032032031, 7.313313313313313, 7.594594594594595, 7.875875875875876, 8.157157157157156, 8.438438438438439, 8.71971971971972, 9.001001001001, 9.282282282282281, 9.563563563563562, 9.844844844844845, 10.126126126126126, 10.407407407407407, 10.68868868868869, 10.96996996996997, 11.25125125125125, 11.532532532532532, 11.813813813813812, 12.095095095095095, 12.376376376376376, 12.657657657657657, 12.93893893893894, 13.22022022022022, 13.501501501501501, 13.782782782782782, 14.064064064064063, 14.345345345345345, 14.626626626626626, 14.907907907907907, 15.18918918918919, 15.47047047047047, 15.751751751751751, 16.033033033033032, 16.314314314314313, 16.595595595595594, 16.876876876876878, 17.15815815815816, 17.43943943943944, 17.72072072072072, 18.002002002002, 18.283283283283282, 18.564564564564563, 18.845845845845844, 19.127127127127125, 19.40840840840841, 19.68968968968969, 19.97097097097097, 20.25225225225225, 20.533533533533532, 20.814814814814813, 21.096096096096094, 21.37737737737738, 21.65865865865866, 21.93993993993994, 22.22122122122122, 22.5025025025025, 22.783783783783782, 23.065065065065063, 23.346346346346344, 23.627627627627625, 23.90890890890891, 24.19019019019019, 24.47147147147147, 24.75275275275275, 25.034034034034033, 25.315315315315313, 25.596596596596594, 25.87787787787788, 26.15915915915916, 26.44044044044044, 26.72172172172172, 27.003003003003002, 27.284284284284283, 27.565565565565564, 27.846846846846844, 28.128128128128125, 28.40940940940941, 28.69069069069069, 28.97197197197197, 29.253253253253252, 29.534534534534533, 29.815815815815814, 30.097097097097095, 30.37837837837838, 30.65965965965966, 30.94094094094094, 31.22222222222222, 31.503503503503502, 31.784784784784783, 32.066066066066064, 32.347347347347345, 32.628628628628626, 32.909909909909906, 33.19119119119119, 33.47247247247247, 33.753753753753756, 34.03503503503504, 34.31631631631632, 34.5975975975976, 34.87887887887888, 35.16016016016016, 35.44144144144144, 35.72272272272272, 36.004004004004, 36.28528528528528, 36.566566566566564, 36.847847847847845, 37.129129129129126, 37.41041041041041, 37.69169169169169, 37.97297297297297, 38.25425425425425, 38.53553553553554, 38.81681681681682, 39.0980980980981, 39.37937937937938, 39.66066066066066, 39.94194194194194, 40.22322322322322, 40.5045045045045, 40.785785785785784, 41.067067067067065, 41.348348348348345, 41.629629629629626, 41.91091091091091, 42.19219219219219, 42.47347347347347, 42.75475475475476, 43.03603603603604, 43.31731731731732, 43.5985985985986, 43.87987987987988, 44.16116116116116, 44.44244244244244, 44.72372372372372, 45.005005005005, 45.286286286286284, 45.567567567567565, 45.848848848848846, 46.13013013013013, 46.41141141141141, 46.69269269269269, 46.97397397397397, 47.25525525525525, 47.53653653653654, 47.81781781781782, 48.0990990990991, 48.38038038038038, 48.66166166166166, 48.94294294294294, 49.22422422422422, 49.5055055055055, 49.786786786786784, 50.068068068068065, 50.349349349349346, 50.63063063063063, 50.91191191191191, 51.19319319319319, 51.47447447447447, 51.75575575575576, 52.03703703703704, 52.31831831831832, 52.5995995995996, 52.88088088088088, 53.16216216216216, 53.44344344344344, 53.72472472472472, 54.006006006006004, 54.287287287287285, 54.568568568568566, 54.849849849849846, 55.13113113113113, 55.41241241241241, 55.69369369369369, 55.97497497497497, 56.25625625625625, 56.53753753753754, 56.81881881881882, 57.1001001001001, 57.38138138138138, 57.66266266266266, 57.94394394394394, 58.22522522522522, 58.506506506506504, 58.787787787787785, 59.069069069069066, 59.35035035035035, 59.63163163163163, 59.91291291291291, 60.19419419419419, 60.47547547547547, 60.75675675675676, 61.03803803803804, 61.31931931931932, 61.6006006006006, 61.88188188188188, 62.16316316316316, 62.44444444444444, 62.725725725725724, 63.007007007007005, 63.288288288288285, 63.569569569569566, 63.85085085085085, 64.13213213213213, 64.41341341341341, 64.69469469469469, 64.97597597597597, 65.25725725725725, 65.53853853853853, 65.81981981981981, 66.1011011011011, 66.38238238238237, 66.66366366366366, 66.94494494494494, 67.22622622622622, 67.50750750750751, 67.78878878878879, 68.07007007007007, 68.35135135135135, 68.63263263263264, 68.91391391391392, 69.1951951951952, 69.47647647647648, 69.75775775775776, 70.03903903903904, 70.32032032032032, 70.6016016016016, 70.88288288288288, 71.16416416416416, 71.44544544544544, 71.72672672672672, 72.008008008008, 72.28928928928929, 72.57057057057057, 72.85185185185185, 73.13313313313313, 73.41441441441441, 73.69569569569569, 73.97697697697697, 74.25825825825825, 74.53953953953953, 74.82082082082081, 75.1021021021021, 75.38338338338338, 75.66466466466466, 75.94594594594594, 76.22722722722722, 76.5085085085085, 76.7897897897898, 77.07107107107107, 77.35235235235236, 77.63363363363364, 77.91491491491492, 78.1961961961962, 78.47747747747748, 78.75875875875876, 79.04004004004004, 79.32132132132132, 79.6026026026026, 79.88388388388388, 80.16516516516516, 80.44644644644644, 80.72772772772772, 81.009009009009, 81.29029029029029, 81.57157157157157, 81.85285285285285, 82.13413413413413, 82.41541541541541, 82.69669669669669, 82.97797797797797, 83.25925925925925, 83.54054054054053, 83.82182182182181, 84.1031031031031, 84.38438438438438, 84.66566566566566, 84.94694694694694, 85.22822822822822, 85.50950950950951, 85.7907907907908, 86.07207207207207, 86.35335335335336, 86.63463463463464, 86.91591591591592, 87.1971971971972, 87.47847847847848, 87.75975975975976, 88.04104104104104, 88.32232232232232, 88.6036036036036, 88.88488488488488, 89.16616616616616, 89.44744744744744, 89.72872872872873, 90.01001001001, 90.29129129129129, 90.57257257257257, 90.85385385385385, 91.13513513513513, 91.41641641641641, 91.69769769769769, 91.97897897897897, 92.26026026026025, 92.54154154154153, 92.82282282282281, 93.1041041041041, 93.38538538538538, 93.66666666666666, 93.94794794794794, 94.22922922922922, 94.5105105105105, 94.7917917917918, 95.07307307307308, 95.35435435435436, 95.63563563563564, 95.91691691691692, 96.1981981981982, 96.47947947947948, 96.76076076076076, 97.04204204204204, 97.32332332332332, 97.6046046046046, 97.88588588588588, 98.16716716716716, 98.44844844844845, 98.72972972972973, 99.011011011011, 99.29229229229229, 99.57357357357357, 99.85485485485485, 100.13613613613613, 100.41741741741741, 100.69869869869869, 100.97997997997997, 101.26126126126125, 101.54254254254253, 101.82382382382382, 102.1051051051051, 102.38638638638638, 102.66766766766766, 102.94894894894894, 103.23023023023022, 103.51151151151151, 103.7927927927928, 104.07407407407408, 104.35535535535536, 104.63663663663664, 104.91791791791792, 105.1991991991992, 105.48048048048048, 105.76176176176176, 106.04304304304304, 106.32432432432432, 106.6056056056056, 106.88688688688688, 107.16816816816817, 107.44944944944945, 107.73073073073073, 108.01201201201201, 108.29329329329329, 108.57457457457457, 108.85585585585585, 109.13713713713713, 109.41841841841841, 109.69969969969969, 109.98098098098097, 110.26226226226225, 110.54354354354354, 110.82482482482482, 111.1061061061061, 111.38738738738738, 111.66866866866866, 111.94994994994994, 112.23123123123122, 112.5125125125125, 112.7937937937938, 113.07507507507508, 113.35635635635636, 113.63763763763764, 113.91891891891892, 114.2002002002002, 114.48148148148148, 114.76276276276276, 115.04404404404404, 115.32532532532532, 115.6066066066066, 115.88788788788789, 116.16916916916917, 116.45045045045045, 116.73173173173173, 117.01301301301301, 117.29429429429429, 117.57557557557557, 117.85685685685685, 118.13813813813813, 118.41941941941941, 118.7007007007007, 118.98198198198197, 119.26326326326325, 119.54454454454454, 119.82582582582582, 120.1071071071071, 120.38838838838838, 120.66966966966966, 120.95095095095094, 121.23223223223222, 121.51351351351352, 121.7947947947948, 122.07607607607608, 122.35735735735736, 122.63863863863864, 122.91991991991992, 123.2012012012012, 123.48248248248248, 123.76376376376376, 124.04504504504504, 124.32632632632632, 124.6076076076076, 124.88888888888889, 125.17017017017017, 125.45145145145145, 125.73273273273273, 126.01401401401401, 126.29529529529529, 126.57657657657657, 126.85785785785785, 127.13913913913913, 127.42042042042041, 127.7017017017017, 127.98298298298297, 128.26426426426426, 128.54554554554554, 128.82682682682682, 129.1081081081081, 129.38938938938938, 129.67067067067066, 129.95195195195194, 130.23323323323322, 130.5145145145145, 130.79579579579578, 131.07707707707706, 131.35835835835834, 131.63963963963963, 131.9209209209209, 132.2022022022022, 132.48348348348347, 132.76476476476475, 133.04604604604603, 133.3273273273273, 133.6086086086086, 133.88988988988987, 134.17117117117115, 134.45245245245243, 134.73373373373371, 135.01501501501502, 135.2962962962963, 135.57757757757759, 135.85885885885887, 136.14014014014015, 136.42142142142143, 136.7027027027027, 136.983983983984, 137.26526526526527, 137.54654654654655, 137.82782782782783, 138.1091091091091, 138.3903903903904, 138.67167167167167, 138.95295295295296, 139.23423423423424, 139.51551551551552, 139.7967967967968, 140.07807807807808, 140.35935935935936, 140.64064064064064, 140.92192192192192, 141.2032032032032, 141.48448448448448, 141.76576576576576, 142.04704704704704, 142.32832832832833, 142.6096096096096, 142.8908908908909, 143.17217217217217, 143.45345345345345, 143.73473473473473, 144.016016016016, 144.2972972972973, 144.57857857857857, 144.85985985985985, 145.14114114114113, 145.42242242242241, 145.7037037037037, 145.98498498498498, 146.26626626626626, 146.54754754754754, 146.82882882882882, 147.1101101101101, 147.39139139139138, 147.67267267267266, 147.95395395395394, 148.23523523523522, 148.5165165165165, 148.79779779779778, 149.07907907907907, 149.36036036036035, 149.64164164164163, 149.9229229229229, 150.2042042042042, 150.48548548548547, 150.76676676676675, 151.04804804804803, 151.3293293293293, 151.6106106106106, 151.89189189189187, 152.17317317317315, 152.45445445445444, 152.73573573573572, 153.017017017017, 153.2982982982983, 153.5795795795796, 153.86086086086087, 154.14214214214215, 154.42342342342343, 154.7047047047047, 154.985985985986, 155.26726726726727, 155.54854854854855, 155.82982982982983, 156.11111111111111, 156.3923923923924, 156.67367367367368, 156.95495495495496, 157.23623623623624, 157.51751751751752, 157.7987987987988, 158.08008008008008, 158.36136136136136, 158.64264264264264, 158.92392392392392, 159.2052052052052, 159.48648648648648, 159.76776776776777, 160.04904904904905, 160.33033033033033, 160.6116116116116, 160.8928928928929, 161.17417417417417, 161.45545545545545, 161.73673673673673, 162.018018018018, 162.2992992992993, 162.58058058058057, 162.86186186186185, 163.14314314314313, 163.42442442442442, 163.7057057057057, 163.98698698698698, 164.26826826826826, 164.54954954954954, 164.83083083083082, 165.1121121121121, 165.39339339339338, 165.67467467467466, 165.95595595595594, 166.23723723723722, 166.5185185185185, 166.79979979979979, 167.08108108108107, 167.36236236236235, 167.64364364364363, 167.9249249249249, 168.2062062062062, 168.48748748748747, 168.76876876876875, 169.05005005005003, 169.3313313313313, 169.6126126126126, 169.89389389389387, 170.17517517517516, 170.45645645645644, 170.73773773773772, 171.01901901901903, 171.3003003003003, 171.5815815815816, 171.86286286286287, 172.14414414414415, 172.42542542542543, 172.7067067067067, 172.987987987988, 173.26926926926927, 173.55055055055055, 173.83183183183183, 174.11311311311312, 174.3943943943944, 174.67567567567568, 174.95695695695696, 175.23823823823824, 175.51951951951952, 175.8008008008008, 176.08208208208208, 176.36336336336336, 176.64464464464464, 176.92592592592592, 177.2072072072072, 177.48848848848849, 177.76976976976977, 178.05105105105105, 178.33233233233233, 178.6136136136136, 178.8948948948949, 179.17617617617617, 179.45745745745745, 179.73873873873873, 180.02002002002, 180.3013013013013, 180.58258258258257, 180.86386386386386, 181.14514514514514, 181.42642642642642, 181.7077077077077, 181.98898898898898, 182.27027027027026, 182.55155155155154, 182.83283283283282, 183.1141141141141, 183.39539539539538, 183.67667667667666, 183.95795795795794, 184.23923923923923, 184.5205205205205, 184.8018018018018, 185.08308308308307, 185.36436436436435, 185.64564564564563, 185.9269269269269, 186.2082082082082, 186.48948948948947, 186.77077077077075, 187.05205205205203, 187.33333333333331, 187.6146146146146, 187.89589589589588, 188.17717717717716, 188.45845845845844, 188.73973973973972, 189.021021021021, 189.3023023023023, 189.5835835835836, 189.86486486486487, 190.14614614614615, 190.42742742742743, 190.7087087087087, 190.98998998999, 191.27127127127127, 191.55255255255256, 191.83383383383384, 192.11511511511512, 192.3963963963964, 192.67767767767768, 192.95895895895896, 193.24024024024024, 193.52152152152152, 193.8028028028028, 194.08408408408408, 194.36536536536536, 194.64664664664664, 194.92792792792793, 195.2092092092092, 195.4904904904905, 195.77177177177177, 196.05305305305305, 196.33433433433433, 196.6156156156156, 196.8968968968969, 197.17817817817817, 197.45945945945945, 197.74074074074073, 198.022022022022, 198.3033033033033, 198.58458458458458, 198.86586586586586, 199.14714714714714, 199.42842842842842, 199.7097097097097, 199.99099099099098, 200.27227227227226, 200.55355355355354, 200.83483483483482, 201.1161161161161, 201.39739739739738, 201.67867867867866, 201.95995995995995, 202.24124124124123, 202.5225225225225, 202.8038038038038, 203.08508508508507, 203.36636636636635, 203.64764764764763, 203.9289289289289, 204.2102102102102, 204.49149149149147, 204.77277277277275, 205.05405405405403, 205.33533533533532, 205.6166166166166, 205.89789789789788, 206.17917917917916, 206.46046046046044, 206.74174174174172, 207.02302302302303, 207.3043043043043, 207.5855855855856, 207.86686686686687, 208.14814814814815, 208.42942942942943, 208.7107107107107, 208.991991991992, 209.27327327327328, 209.55455455455456, 209.83583583583584, 210.11711711711712, 210.3983983983984, 210.67967967967968, 210.96096096096096, 211.24224224224224, 211.52352352352352, 211.8048048048048, 212.08608608608608, 212.36736736736736, 212.64864864864865, 212.92992992992993, 213.2112112112112, 213.4924924924925, 213.77377377377377, 214.05505505505505, 214.33633633633633, 214.6176176176176, 214.8988988988989, 215.18018018018017, 215.46146146146145, 215.74274274274273, 216.02402402402402, 216.3053053053053, 216.58658658658658, 216.86786786786786, 217.14914914914914, 217.43043043043042, 217.7117117117117, 217.99299299299298, 218.27427427427426, 218.55555555555554, 218.83683683683682, 219.1181181181181, 219.39939939939939, 219.68068068068067, 219.96196196196195, 220.24324324324323, 220.5245245245245, 220.8058058058058, 221.08708708708707, 221.36836836836835, 221.64964964964963, 221.9309309309309, 222.2122122122122, 222.49349349349347, 222.77477477477476, 223.05605605605604, 223.33733733733732, 223.6186186186186, 223.89989989989988, 224.18118118118116, 224.46246246246244, 224.74374374374372, 225.025025025025, 225.3063063063063, 225.5875875875876, 225.86886886886887, 226.15015015015015, 226.43143143143143, 226.71271271271272, 226.993993993994, 227.27527527527528, 227.55655655655656, 227.83783783783784, 228.11911911911912, 228.4004004004004, 228.68168168168168, 228.96296296296296, 229.24424424424424, 229.52552552552552, 229.8068068068068, 230.08808808808809, 230.36936936936937, 230.65065065065065, 230.93193193193193, 231.2132132132132, 231.4944944944945, 231.77577577577577, 232.05705705705705, 232.33833833833833, 232.6196196196196, 232.9009009009009, 233.18218218218217, 233.46346346346346, 233.74474474474474, 234.02602602602602, 234.3073073073073, 234.58858858858858, 234.86986986986986, 235.15115115115114, 235.43243243243242, 235.7137137137137, 235.99499499499498, 236.27627627627626, 236.55755755755754, 236.83883883883883, 237.1201201201201, 237.4014014014014, 237.68268268268267, 237.96396396396395, 238.24524524524523, 238.5265265265265, 238.8078078078078, 239.08908908908907, 239.37037037037035, 239.65165165165163, 239.9329329329329, 240.2142142142142, 240.49549549549548, 240.77677677677676, 241.05805805805804, 241.33933933933932, 241.6206206206206, 241.90190190190188, 242.18318318318316, 242.46446446446444, 242.74574574574572, 243.02702702702703, 243.3083083083083, 243.5895895895896, 243.87087087087087, 244.15215215215215, 244.43343343343344, 244.71471471471472, 244.995995995996, 245.27727727727728, 245.55855855855856, 245.83983983983984, 246.12112112112112, 246.4024024024024, 246.68368368368368, 246.96496496496496, 247.24624624624624, 247.52752752752752, 247.8088088088088, 248.0900900900901, 248.37137137137137, 248.65265265265265, 248.93393393393393, 249.2152152152152, 249.4964964964965, 249.77777777777777, 250.05905905905905, 250.34034034034033, 250.6216216216216, 250.9029029029029, 251.18418418418418, 251.46546546546546, 251.74674674674674, 252.02802802802802, 252.3093093093093, 252.59059059059058, 252.87187187187186, 253.15315315315314, 253.43443443443442, 253.7157157157157, 253.99699699699698, 254.27827827827826, 254.55955955955955, 254.84084084084083, 255.1221221221221, 255.4034034034034, 255.68468468468467, 255.96596596596595, 256.24724724724723, 256.5285285285285, 256.8098098098098, 257.0910910910911, 257.37237237237235, 257.65365365365363, 257.9349349349349, 258.2162162162162, 258.4974974974975, 258.77877877877876, 259.06006006006004, 259.3413413413413, 259.6226226226226, 259.9039039039039, 260.18518518518516, 260.46646646646644, 260.7477477477477, 261.029029029029, 261.3103103103103, 261.59159159159157, 261.87287287287285, 262.1541541541541, 262.4354354354354, 262.7167167167167, 262.99799799799797, 263.27927927927925, 263.56056056056053, 263.8418418418418, 264.1231231231231, 264.4044044044044, 264.68568568568566, 264.96696696696694, 265.2482482482482, 265.5295295295295, 265.8108108108108, 266.09209209209206, 266.37337337337334, 266.6546546546546, 266.9359359359359, 267.2172172172172, 267.49849849849846, 267.77977977977974, 268.061061061061, 268.3423423423423, 268.6236236236236, 268.90490490490487, 269.18618618618615, 269.46746746746743, 269.7487487487487, 270.03003003003005, 270.31131131131133, 270.5925925925926, 270.8738738738739, 271.15515515515517, 271.43643643643645, 271.71771771771773, 271.998998998999, 272.2802802802803, 272.5615615615616, 272.84284284284286, 273.12412412412414, 273.4054054054054, 273.6866866866867, 273.967967967968, 274.24924924924926, 274.53053053053054, 274.8118118118118, 275.0930930930931, 275.3743743743744, 275.65565565565566, 275.93693693693695, 276.2182182182182, 276.4994994994995, 276.7807807807808, 277.06206206206207, 277.34334334334335, 277.62462462462463, 277.9059059059059, 278.1871871871872, 278.4684684684685, 278.74974974974975, 279.03103103103103, 279.3123123123123, 279.5935935935936, 279.8748748748749, 280.15615615615616, 280.43743743743744, 280.7187187187187, 281.0], \"y\": [3.7567308927237986, 3.777540017014506, 3.792968335503833, 3.8039443622513676, 3.81129198107554, 3.815738426400211, 3.817921821650897, 3.8183982938533614, 3.8176486824767335, 3.816084859968276, 3.81405568084707, 3.8118525756589565, 3.809714805544779, 3.8078343926379934, 3.806360740985811, 3.8054049621799306, 3.8050439193882726, 3.805324002997789, 3.806264650609986, 3.807861623675122, 3.8100900526078, 3.8129072617956163, 3.816255385493443, 3.8200637851885033, 3.82425127862545, 3.8287281902959323, 3.833398232823338, 3.8381602283104166, 3.842909678364936, 3.8475401911763187, 3.8519447736840267, 3.8560169965561317, 3.8596520393838074, 3.862747623194185, 3.865204837089897, 3.866928865538583, 3.8678296225592437, 3.867822298784693, 3.86682782711995, 3.8647732724653308, 3.8615921507298654, 3.857224682125359, 3.8516179835037314, 3.8447262042800943, 3.8365106102710618, 3.8269396195719416, 3.8159887943975788, 3.803640792619429, 3.789885282545918, 3.774718824313969, 3.758144721086751, 3.740172843085892, 3.720819427325652, 3.7001068557614794, 3.6780634144160866, 3.6547230359022547, 3.630125027623095, 3.6043137877973197, 3.57733851132868, 3.5492528874156233, 3.52011479067873, 3.489985967469668, 3.45893171891619, 3.427020582152932, 3.394324011087119, 3.3609160579521955, 3.3268730568097307, 3.292273310071971, 3.2571967790326615, 3.221724779312907, 3.185939682051928, 3.1499246215982337, 3.1137632103873365, 3.0775392616238584, 3.0413365203232754, 3.0052384032066195, 2.9693277478848015, 2.933686571712629, 2.8983958406430386, 2.8635352483596095, 2.829183005921173, 2.795415642106743, 2.7623078146074755, 2.729932132173058, 2.698358987782611, 2.66765640287519, 2.637889882642594, 2.609122282355518, 2.581413684666391, 2.554821287803893, 2.5293993045512435, 2.5051988718746183, 2.482267971047806, 2.4606513580995886, 2.440390504390872, 2.421523547112197, 2.4040852494769234, 2.388106970371677, 2.3736166432110064, 2.3606387637357207, 2.3491943864787928, 2.33930112961849, 2.3309731879275053, 2.3242213535213336, 2.319053044103038, 2.315472338395562, 2.3134800184499866, 2.313073618516477, 2.3142474801572144, 2.3169928132860163, 2.3212977628123843, 2.327147480573757, 2.3345242022319583, 2.3434073288230293, 2.3537735126386083, 2.3655967471308115, 2.3788484605251057, 2.3934976128403465, 2.4095107960082225, 2.4268523367981727, 2.4454844022486815, 2.4653671073225922, 2.4864586244991944, 2.5087152950295133, 2.532091741579213, 2.5565409819993086, 2.5820145439643127, 2.6084625802269867, 2.635833984247215, 2.6640765059551654, 2.6931368674231573, 2.7229608782212544, 2.753493550245628, 2.7846792118080486, 2.816461620796061, 2.8487840767061616, 2.881589531365597, 2.9148206981817495, 2.9484201597323723, 2.982330473555268, 3.016494275976508, 3.050854383838322, 3.085353893993399, 3.119936280429769, 3.1545454889249274, 3.1891260290961183, 3.2236230637593564, 3.257982495497601, 3.292151050343758, 3.3260763585042286, 3.359707032043234, 3.3929927394757318, 3.425884277186202, 3.458333637632505, 3.490294074307475, 3.5217201633842246, 3.5525678620364047, 3.5827945634041516, 3.6123591481698947, 3.641222032769585, 3.6693452141727105, 3.696692311286924, 3.7232286029507256, 3.748921062538998, 3.7737383891983374, 3.797651035714514, 3.820631233077833, 3.8426530116883515, 3.863692219351212, 3.8837265360082016, 3.902735485260534, 3.920700442788165, 3.937604641640499, 3.9534331744804443, 3.9681729928679093, 3.9818129035892262, 3.9943435621162546, 4.005757463310384, 4.016048929324555, 4.025214094918186, 4.033250890114001, 4.040159020410005, 4.0459399444986515, 4.050596849661275, 4.054134624917502, 4.056559831874347, 4.057880673636983, 4.058106961529898, 4.057250079985301, 4.055322949589338, 4.05233998826109, 4.048317070913322, 4.043271487411896, 4.0372218991072675, 4.030188293930398, 4.022191940216902, 4.013255339291274, 4.003402176859735, 3.9926572735356034, 3.9810465342050416, 3.9685968966558587, 3.955336279433497, 3.9412935289660767, 3.926498366091871, 3.910981332154473, 3.8947737345621145, 3.877907592058433, 3.8604155797607933, 3.8423309739718454, 3.8236875969346658, 3.80451976152, 3.784862216027066, 3.764750089110633, 3.744218834854159, 3.7233041782374356, 3.7020420608412112, 3.680468587100506, 3.658619970926426, 3.636532482897708, 3.6142423982579936, 3.591785945256074, 3.5691992545780113, 3.5465183093074697, 3.5237788959600365, 3.501016556188647, 3.478266539652146, 3.455563757822206, 3.4329427387926708, 3.4104375832675013, 3.388081921597146, 3.3659088721235926, 3.3439510006669795, 3.3222402811962537, 3.3008080579731782, 3.2796850088549894, 3.2589011100162204, 3.2384856020965724, 3.2184669575730127, 3.19887284980891, 3.1797301233365767, 3.1610647656763238, 3.1429018807103226, 3.125265663507255, 3.108179376337591, 3.091665327082441, 3.0757448478650287, 3.060438276593252, 3.045764938848534, 3.0317431320665715, 3.0183901110743134, 3.0057220749934217, 2.993754155677058, 2.982500408038332, 2.971973801431167, 2.962186212677776, 2.9531484209206327, 2.944870103352784, 2.9373598329412394, 2.930625077362789, 2.9246721994383647, 2.9195064589357305, 2.9151320157266456, 2.9115519344402765, 2.9087681905464824, 2.9067816773720603, 2.90559221481603, 2.9051985592066827, 2.9055984143919527, 2.90678844400401, 2.9087642847723867, 2.911520561700552, 2.915050903216441, 2.919347958441815, 2.9244034150130225, 2.93020801785044, 2.9367515892938316, 2.9440230498297786, 2.9520104399625704, 2.960700943004112, 2.9700809080366932, 2.980135874893082, 2.990850598826818, 3.002209076269305, 3.0141945715328062, 3.0267896435164783, 3.039976173870405, 3.0537353950362465, 3.068047918764017, 3.0828937659866407, 3.0982523959256847, 3.114102736551029, 3.1304232152044325, 3.1471917886370346, 3.16438597486427, 3.1819828843017905, 3.199959250767712, 3.2182914639648197, 3.2369556003630695, 3.255927455733339, 3.2751825768827905, 3.294696293617047, 3.3144437501894766, 3.3343999377201565, 3.3545397255190816, 3.374837892503304, 3.3952691594279973, 3.415808218763508, 3.436429766631022, 3.4571085333133142, 3.477819312862075, 3.4985369941001925, 3.519236588955187, 3.539893263395576, 3.5604823640887515, 3.580979448840852, 3.6013603125734446, 3.621601015974596, 3.641677910747072, 3.6615676672987325, 3.681247299313864, 3.70069418925693, 3.719886112029256, 3.7388012588503896, 3.757418260707247, 3.775716209706013, 3.7936746809268755, 3.8112737535129115, 3.828494030199797, 3.8453166569821566, 3.8617233406479725, 3.877696367829146, 3.8932186201056838, 3.9082735919898606, 3.9228454034139526, 3.936918817441968, 3.950479250238987, 3.9635127859081543, 3.976006187139776, 3.9879469074946683, 3.999323098556426, 4.010123622419271, 4.020338056642532, 4.029956704459596, 4.038970597893108, 4.047371507406129, 4.055151942722814, 4.062305159241159, 4.068825158032334, 4.074706692022826, 4.079945262760708, 4.084537123432395, 4.088479276801002, 4.091769476329201, 4.09440622017736, 4.096388750394012, 4.097717047509192, 4.098391830129959, 4.0984145427378476, 4.097787353904395, 4.096513148603104, 4.094595519197484, 4.092038758063147, 4.0888478466288065, 4.085028448284079, 4.080586893718625, 4.07553017543501, 4.069865927435263, 4.063602419535362, 4.05674854235529, 4.049313791737166, 4.041308254531568, 4.032742597053973, 4.023628044733693, 4.013976368734732, 4.003799868435612, 3.9931113563486074, 3.981924137919235, 3.9702519961379306, 3.958109169376007, 3.94551033954179, 3.9324706049355846, 3.919005465273906, 3.905130803290456, 3.890862862035519, 3.8762182264456606, 3.8612137991127864, 3.845866787385762, 3.8301946747081144, 3.814215201422771, 3.797946347274123, 3.7814063070416966, 3.7646134681825214, 3.7475863924015624, 3.7303437937997788, 3.712904515169728, 3.695287505308703, 3.677511805410156, 3.6595965167016526, 3.641560786997332, 3.6234237896332684, 3.605204693369347, 3.5869226544636414, 3.5685967871462365, 3.550246141637333, 3.5318896887534463, 3.5135463060872034, 3.495234737594514, 3.4769735921181795, 3.458781322961211, 3.440676194008253, 3.422676279463244, 3.4047994371352304, 3.387063283474281, 3.369485190739248, 3.352082255226292, 3.334871295016691, 3.3178688155555704, 3.3010910118208745, 3.284553739431383, 3.268272510247887, 3.2522624625445844, 3.2365383742024814, 3.2211146097871572, 3.206005146877094, 3.191223534601008, 3.1767829069359506, 3.1626959361250435, 3.148974867776619, 3.1356314687494247, 3.1226770408462574, 3.110122399434451, 3.097977878395037, 3.0862533168522948, 3.07495804089623, 3.064100876372113, 3.0536901137911263, 3.043733540603561, 3.0342384050508935, 3.025211431651658, 3.0166588026488674, 3.008586163380067, 3.0009986162545843, 2.993900726131421, 2.987296509843862, 2.981189440322024, 2.975582444920538, 2.9704779054756507, 2.9658776568219456, 2.961783013698362, 2.958194718610967, 2.9551130123261693, 2.952537570309595, 2.9504675639884326, 2.948901627711462, 2.947837886974585, 2.9472739419343776, 2.947206904740705, 2.9476333643478694, 2.9485494343177314, 2.949950736444303, 2.9518324214423197, 2.954189164641739, 2.9570151875368618, 2.9603042568066904, 2.9640497128168186, 2.9682444620157606, 2.9728809847622752, 2.9779513655610206, 2.9834472857521597, 2.989360056989031, 2.995680615134706, 3.0023995359763243, 3.0095070564447477, 3.0169930772235323, 3.024847199538993, 3.033058687061532, 3.0416165461770635, 3.050509497767626, 3.0597259985886964, 3.069254272768662, 3.07908230062679, 3.089197870464861, 3.0995885401783942, 3.110241706718211, 3.121144587420313, 3.132284252962177, 3.1436476414478327, 3.155221546625814, 3.1669926958052925, 3.1789476877800777, 3.1910730786660326, 3.203355339499748, 3.215780915925492, 3.228336222898097, 3.24100767199874, 3.2537816715524315, 3.26664463462192, 3.2795830522751896, 3.292583416596886, 3.305632328321201, 3.31871642185631, 3.331822477919022, 3.3449373616248317, 3.3580480592165753, 3.3711416930799056, 3.384205520637973, 3.39722702439097, 3.4101938113428854, 3.423093673001425, 3.4359146725103518, 3.448644988491384, 3.4612731199870628, 3.47378773202327, 3.4861777692085196, 3.4984324785467367, 3.5105413133715997, 3.5224940333705854, 3.5342807102695883, 3.5458916771610225, 3.5573176066917838, 3.568549449327273, 3.5795785575529764, 3.5903965309138908, 3.6009953390462703, 3.611367375224297, 3.6215052581331797, 3.6314020018817073, 3.641051041773256, 3.6504461480548818, 3.6595814311001664, 3.668451426988928, 3.6770509993869678, 3.6853754523194584, 3.69342041068169, 3.7011819467098466, 3.7086564816042835, 3.7158408401705714, 3.7227322141699775, 3.7293282104401264, 3.735626773794584, 3.741626303494792, 3.7473255147388813, 3.752723599998562, 3.757820022458069, 3.762614650923926, 3.7671078211764217, 3.7713000399051, 3.7751924049314813, 3.77878622856989, 3.782083148053682, 3.7850853129051827, 3.7877950769019098, 3.7902151393665284, 3.792348607076764, 3.7941988298018963, 3.7957693936852928, 3.797064489885947, 3.798088272024973, 3.7988452936811816, 3.7993404805237665, 3.799578883540965, 3.7995659297729145, 3.7993072106886303, 3.798808629636598, 3.798076247763889, 3.7971163410082687, 3.7959354885025895, 3.7945403696931796, 3.792937830567782, 3.791134942194486, 3.7891389492297995, 3.786957163553207, 3.784597178652744, 3.7820664853063146, 3.7793728606076984, 3.776524070982126, 3.7735281771311833, 3.7703929960810867, 3.7671266001868293, 3.7637371299022715, 3.7602326138940105, 3.7566211734593913, 3.7529110528533356, 3.749110324306508, 3.7452271147302127, 3.7412694336354733, 3.7372454438682756, 3.7331630016004866, 3.7290300873954885, 3.7248546001845995, 3.720644146376921, 3.716406522470684, 3.712149123638879, 3.707879405206354, 3.7036046558935745, 3.6993318986852612, 3.695068224150091, 3.6908203302093225, 3.6865947850904073, 3.6823980631385327, 3.678236424276423, 3.6741157919206535, 3.670041985907375, 3.6660206639556434, 3.662057078034101, 3.65815636763525, 3.6543232991895005, 3.650562550453097, 3.646878425533744, 3.643274983629598, 3.639756088603176, 3.636325173135313, 3.6329855281179535, 3.629740025393877, 3.6265914647517867, 3.6235421325811332, 3.6205940925128517, 3.6177490704320876, 3.615008600733323, 3.6123737789488977, 3.6098455062209305, 3.6074244176560963, 3.605110657107709, 3.6029043025796423, 3.6008048512951873, 3.598811742780055, 3.5969241002118943, 3.595140538818275, 3.5934595427409866, 3.5918794510923444, 3.590397807562747, 3.5890126373727895, 3.58772099042076, 3.586519997927574, 3.585406419228117, 3.5843770828949175, 3.583427789983275, 3.5825548924507693, 3.581754266490716, 3.581021079995987, 3.5803512708494267, 3.5797394092595884, 3.579180838541876, 3.578670134698047, 3.5782020458006984, 3.577770807298524, 3.5773707159123416, 3.5769957617133255, 3.576639962856871, 3.5762972119162386, 3.575961188843263, 3.5756253788525623, 3.575283337094384, 3.5749286442355874, 3.5745544120813886, 3.574154349730837, 3.5737212143222035, 3.573248697402238, 3.5727298763438364, 3.5721579168792785, 3.5715260972763554, 3.5708278440337606, 3.570056363310411, 3.5692050256239067, 3.568267361276772, 3.567236912230152, 3.566107190962246, 3.5648720085572276, 3.5635253028177303, 3.5620610355989655, 3.5604733480802047, 3.5587563327395433, 3.556904838041391, 3.5549132601038007, 3.5527770576063618, 3.5504904909042967, 3.548049514454088, 3.5454494263439784, 3.542686506139811, 3.539756078303514, 3.5366548140535716, 3.5333795637390804, 3.529926772203783, 3.526294407828538, 3.522479539301039, 3.5184799665073414, 3.514293828695291, 3.509920209716823, 3.5053569987356763, 3.5006045563808708, 3.4956613603001543, 3.4905280070534443, 3.485204703679023, 3.479691745707011, 3.4739910534278526, 3.4681027942343885, 3.4620296600340996, 3.4557735178975797, 3.449337116596203, 3.442723254711304, 3.4359347749593683, 3.428976480004421, 3.4218518039869776, 3.414564767471356, 3.407120921536327, 3.399525172643073, 3.3917835308468987, 3.383901083470175, 3.3758845624325415, 3.367740935778846, 3.3594765093948853, 3.3510996780245104, 3.3426171004151892, 3.334037082921974, 3.325367448183465, 3.31661773181217, 3.307796195441056, 3.29891189139528, 3.289975108402509, 3.2809935581441394, 3.271979524932436, 3.262941177380876, 3.253889742307446, 3.2448356824746623, 3.2357887271963874, 3.2267611626440966, 3.217762668271994, 3.208805515084608, 3.199899353355494, 3.1910570055658334, 3.1822885460076735, 3.1736065426509263, 3.165020795520685, 3.156543763816524, 3.148186665207125, 3.1399614873073904, 3.1318779811831283, 3.1239488350181137, 3.1161831949343717, 3.1085939728109038, 3.101190896328835, 3.093985461601072, 3.0869873049631957, 3.080206303385472, 3.073654021742301, 3.067338341739763, 3.061269550401937, 3.0554572500917523, 3.049909399115153, 3.04463514690619, 3.0396419863985256, 3.034938077859131, 3.030530161021633, 3.0264254026611956, 3.0226311541903064, 3.0191514274381293, 3.015993070363254, 3.013160751437047, 3.010658821725455, 3.008491202831275, 3.006661057964563, 3.0051718134707692, 3.0040252547861694, 3.0032220800112848, 3.002763275478248, 3.0026518426734965, 3.0028830901579715, 3.003460619990983, 3.004379626510766, 3.005638414542568, 3.0072345600040955, 3.009165734365114, 3.0114249320577287, 3.0140085088078328, 3.0169108702054555, 3.020126198824038, 3.0236458175342324, 3.0274641893699923, 3.031570451950248, 3.0359559582951237, 3.0406131317078633, 3.045529417639307, 3.050694874948627, 3.0560960418194036, 3.0617241082321165, 3.0675615461281263, 3.0735977133454435, 3.079818118020197, 3.0862067177683623, 3.0927500529557808, 3.099430138566648, 3.106232818507726, 3.113140307738307, 3.1201341102506075, 3.127198287536511, 3.1343144035362687, 3.141463030826263, 3.1486266679145043, 3.1557840711815643, 3.1629178758696614, 3.170007860957838, 3.1770332508081593, 3.183976864895239, 3.1908131023503334, 3.197526325136255, 3.2040944813729046, 3.2104970834073763, 3.2167137123917615, 3.2227267060420863, 3.2285111079324893, 3.234051200941793, 3.239325915121576, 3.2443161314622246, 3.2490014335246693, 3.253362210846708, 3.2573833448676353, 3.26104352052425, 3.2643297145428134, 3.267220395131077, 3.269700388797059, 3.2717562138717624, 3.2733721385295844, 3.2745308898196006, 3.2752227760903856, 3.275435018867733, 3.275155665110491, 3.274371669496454, 3.2730733061573143, 3.2712547502423015, 3.2689082310842377, 3.2660241076036867, 3.2626024751582303, 3.2586304962995687, 3.254113233108668, 3.2490449155636076, 3.2434290332101487, 3.237261152819473, 3.2305477160909497, 3.2232913138875787, 3.215494300548757, 3.207168754634019, 3.1983167261089513, 3.1889537453601378, 3.179083412254839, 3.1687247975635757, 3.1578883489782563, 3.146592760109628, 3.1348524986392485, 3.122685392908689, 3.110113626910146, 3.0971576034407278, 3.0838398726632548, 3.0701848774448965, 3.0562193881268036, 3.0419735896432347, 3.02746877725958, 3.0127424328567094, 2.997820478670521, 2.9827411370687074, 2.967531215958811, 2.9522300501999004, 2.936877650395752, 2.9215048968283495, 2.9061488961295963, 2.8908601859281875, 2.8756655112977416, 2.86061020679837, 2.8457386732163235, 2.8310882541868003, 2.816702366495636, 2.8026303684820233, 2.7889081817752635, 2.775583080809803, 2.762692519816559, 2.7502855385842087, 2.7384082524637074, 2.7270928525399962, 2.7163951422628507, 2.7063460286001026, 2.69699183546465, 2.6883741080676824, 2.680532008204195, 2.6735061405150566, 2.667322362421936, 2.6620369903523327, 2.6576629458844967, 2.654249099733046, 2.6518151690241054, 2.6503981532861456, 2.6500238538397256, 2.6507090086418144, 2.652487406425619, 2.6553720537770635, 2.6593789372427814, 2.664525507333072, 2.670819329979241, 2.678274432866532, 2.6868908713114292, 2.696669003453712, 2.7076062943136074, 2.719701960768825, 2.7329444418070823, 2.747316695992425, 2.762805882246634, 2.7793875932740857, 2.7970372076095176, 2.81572030221589, 2.835412632290993, 2.8560725233038324, 2.8776459549104616, 2.900104722863873, 2.9233801264509274, 2.947428927352939, 2.9721779342848387, 2.997578284678706, 3.02354928459721, 3.0500162134440254, 3.0769095833952194, 3.1041390844346664, 3.131629247792877, 3.159280128985463, 3.187008119936057, 3.2147105267606966, 3.2422924914665368, 3.269640692336664, 3.296659505281742, 3.3232471081586286, 3.3492708475334374, 3.374625922957349, 3.399218797601173, 3.422907214220616, 3.4455961122446257, 3.4671450865659024, 3.4874572727303574, 3.506405281590543, 3.5238882618133647, 3.539782162661881, 3.5539714394961717, 3.5663559419327813, 3.5768228660944525, 3.585280900638434, 3.591618877695331, 3.595757122649109, 3.5976031697413386, 3.597079366236502, 3.5941013529664145, 3.5886292117192355, 3.5805860297448397, 3.569940520615752, 3.5566502595417266, 3.5406852563652147, 3.5220406435563945, 3.5007265383903086, 3.476726218374454, 3.4500915058745254, 3.4208720176966407, 3.389113768259298, 3.3548951000494998, 3.3183110770211948, 3.279460838420633, 3.238495078366462, 3.1955589662580524, 3.1507990499507423, 3.104420104960968, 3.0566545957008016, 3.0077016653835935, 2.957823350377086, 2.9073099163993508, 2.8564261269653746, 2.8055344624096756, 2.7549345815684725, 2.705017825094865, 2.6561366749728914, 2.6087117155171917, 2.5631668498816755, 2.5199525399079894, 2.479503851432999, 2.4423182750038444, 2.4088638173711705, 2.3796438213034747, 2.355191894738988, 2.3360018402114022, 2.3226111455521696, 2.3155294899733363, 2.3153129663419323, 2.322443644939778, 2.337431348330367, 2.3607809811308123, 2.3929674657906874, 2.4344017198507246, 2.4855139689333807, 2.546707936094129, 2.6182391744564595, 2.7003880609221707, 2.7933766094607653, 2.8973106240082425, 3.0122315038097893, 3.138066395317837, 3.274622287388358, 3.4216266327202476], \"name\": \"Polynomial trendline\", \"hoverinfo\": \"skip\"}], {\"title\": \"Number of projects predicted by current approach\", \"shapes\": [{\"type\": \"line\", \"y0\": 3.3380782918149468, \"y1\": 3.3380782918149468, \"x0\": -0.1, \"x1\": 291, \"opacity\": 0.2, \"line\": {\"dash\": \"dash\"}}]}, {\"showLink\": false, \"linkText\": \"Export to plot.ly\"})});</script>"
      ]
     },
     "metadata": {},
     "output_type": "display_data"
    }
   ],
   "source": [
    "iplot(fig, show_link=False)"
   ]
  },
  {
   "cell_type": "markdown",
   "metadata": {
    "extensions": {
     "jupyter_dashboards": {
      "version": 1,
      "views": {
       "grid_default": {
        "col": 0,
        "height": 3,
        "hidden": false,
        "row": 189,
        "width": 12
       },
       "report_default": {}
      }
     }
    }
   },
   "source": [
    "#### Incorrect predictions for the whole dataset\n",
    "\n",
    "Discarding project descriptions where the label was not present at all, get the number of incorrect predictions w.r.t the project name."
   ]
  },
  {
   "cell_type": "code",
   "execution_count": 69,
   "metadata": {
    "extensions": {
     "jupyter_dashboards": {
      "version": 1,
      "views": {
       "grid_default": {
        "hidden": true
       },
       "report_default": {}
      }
     }
    }
   },
   "outputs": [],
   "source": [
    "predictions = [None] * len(df)\n",
    "for i, desc in enumerate(df.description.values):\n",
    "    probs = predict(desc, classifier, extract_features_v3, cve_id=df.cve_id.values[i], n=3,\n",
    "                   verbose=False)\n",
    "    predictions[i] = probs\n",
    "\n",
    "# get just the names\n",
    "\n",
    "pred_proj_names = [tuple(zip(*p))[0] for p in predictions]\n",
    "\n",
    "pred_df = pd.Series(pred_proj_names, name='prediction')\n",
    "df['prediction'] = pred_df.values"
   ]
  },
  {
   "cell_type": "code",
   "execution_count": 70,
   "metadata": {
    "extensions": {
     "jupyter_dashboards": {
      "version": 1,
      "views": {
       "grid_default": {
        "hidden": true
       },
       "report_default": {
        "hidden": true
       }
      }
     }
    }
   },
   "outputs": [],
   "source": [
    "# label_tuple are a position of the project token in the token list\n",
    "pred_tuple = [None] * len(df)\n",
    "for i, row in df.iterrows():\n",
    "    proj = row.project.lower()\n",
    "    \n",
    "    correct = None if row.label is None else row.label in row.prediction\n",
    "    pred_tuple[i] = (row.cve_id, correct)\n",
    "\n",
    "# turn index into series\n",
    "label_series = pd.DataFrame(pred_tuple, columns=['cve_id', 'correct'])\n",
    "\n",
    "del pred_tuple"
   ]
  },
  {
   "cell_type": "code",
   "execution_count": 71,
   "metadata": {
    "extensions": {
     "jupyter_dashboards": {
      "version": 1,
      "views": {
       "grid_default": {
        "hidden": true
       },
       "report_default": {}
      }
     }
    }
   },
   "outputs": [],
   "source": [
    "df_pred = df.merge(label_series, how='inner', on='cve_id').set_index(['username', 'project'])"
   ]
  },
  {
   "cell_type": "code",
   "execution_count": 72,
   "metadata": {
    "extensions": {
     "jupyter_dashboards": {
      "version": 1,
      "views": {
       "grid_default": {
        "hidden": true
       },
       "report_default": {}
      }
     }
    },
    "scrolled": false
   },
   "outputs": [],
   "source": [
    "df_incorrect = df_pred[(df_pred.label.notnull()) & (df_pred.correct == False)]"
   ]
  },
  {
   "cell_type": "code",
   "execution_count": 73,
   "metadata": {
    "extensions": {
     "jupyter_dashboards": {
      "version": 1,
      "views": {
       "grid_default": {
        "col": 0,
        "height": 2,
        "hidden": false,
        "row": 192,
        "width": 12
       },
       "report_default": {}
      }
     }
    }
   },
   "outputs": [
    {
     "name": "stdout",
     "output_type": "stream",
     "text": [
      "Number of incorrect predictions: 10 out of 1127\n"
     ]
    }
   ],
   "source": [
    "print('Number of incorrect predictions: %d out of %d' % (len(df_incorrect), len(df_pred)))"
   ]
  },
  {
   "cell_type": "code",
   "execution_count": 75,
   "metadata": {
    "extensions": {
     "jupyter_dashboards": {
      "version": 1,
      "views": {
       "grid_default": {
        "col": 0,
        "height": 12,
        "hidden": false,
        "row": 194,
        "width": 12
       },
       "report_default": {}
      }
     }
    },
    "scrolled": true
   },
   "outputs": [
    {
     "data": {
      "text/html": [
       "<style  type=\"text/css\" >\n",
       "</style>  \n",
       "<table id=\"T_bd33c204_2e80_11e8_b358_c85b7694a487\" > \n",
       "<thead>    <tr> \n",
       "        <th class=\"blank level0\" ></th> \n",
       "        <th class=\"col_heading level0 col0\" >username</th> \n",
       "        <th class=\"col_heading level0 col1\" >project</th> \n",
       "        <th class=\"col_heading level0 col2\" >description</th> \n",
       "        <th class=\"col_heading level0 col3\" >prediction</th> \n",
       "    </tr></thead> \n",
       "<tbody>    <tr> \n",
       "        <th id=\"T_bd33c204_2e80_11e8_b358_c85b7694a487\" class=\"row_heading level0 row0\" >0</th> \n",
       "        <td id=\"T_bd33c204_2e80_11e8_b358_c85b7694a487row0_col0\" class=\"data row0 col0\" >golang</td> \n",
       "        <td id=\"T_bd33c204_2e80_11e8_b358_c85b7694a487row0_col1\" class=\"data row0 col1\" >go</td> \n",
       "        <td id=\"T_bd33c204_2e80_11e8_b358_c85b7694a487row0_col2\" class=\"data row0 col2\" >On Darwin, user's trust preferences for root certificates were not honored. If the user had a root certificate loaded in their Keychain that was explicitly not trusted, a Go program would still verify a connection using that root certificate.</td> \n",
       "        <td id=\"T_bd33c204_2e80_11e8_b358_c85b7694a487row0_col3\" class=\"data row0 col3\" >('darwin', 'keychain', 'root')</td> \n",
       "    </tr>    <tr> \n",
       "        <th id=\"T_bd33c204_2e80_11e8_b358_c85b7694a487\" class=\"row_heading level0 row1\" >1</th> \n",
       "        <td id=\"T_bd33c204_2e80_11e8_b358_c85b7694a487row1_col0\" class=\"data row1 col0\" >TakahikoKawasaki</td> \n",
       "        <td id=\"T_bd33c204_2e80_11e8_b358_c85b7694a487row1_col1\" class=\"data row1 col1\" >nv-websocket-client</td> \n",
       "        <td id=\"T_bd33c204_2e80_11e8_b358_c85b7694a487row1_col2\" class=\"data row1 col2\" >The Java WebSocket client nv-websocket-client does not verify that the server hostname matches a domain name in the subject's Common Name (CN) or subjectAltName field of the X.509 certificate, which allows man-in-the-middle attackers to spoof SSL/TLS servers via an arbitrary valid certificate.</td> \n",
       "        <td id=\"T_bd33c204_2e80_11e8_b358_c85b7694a487row1_col3\" class=\"data row1 col3\" >('websocket', 'client', 'name')</td> \n",
       "    </tr>    <tr> \n",
       "        <th id=\"T_bd33c204_2e80_11e8_b358_c85b7694a487\" class=\"row_heading level0 row2\" >2</th> \n",
       "        <td id=\"T_bd33c204_2e80_11e8_b358_c85b7694a487row2_col0\" class=\"data row2 col0\" >pocoproject</td> \n",
       "        <td id=\"T_bd33c204_2e80_11e8_b358_c85b7694a487row2_col1\" class=\"data row2 col1\" >poco</td> \n",
       "        <td id=\"T_bd33c204_2e80_11e8_b358_c85b7694a487row2_col2\" class=\"data row2 col2\" >The ZipCommon::isValidPath() function in Zip/src/ZipCommon.cpp in POCO C++ Libraries before 1.8 does not properly restrict the filename value in the ZIP header, which allows attackers to conduct absolute path traversal attacks during the ZIP decompression, and possibly create or overwrite arbitrary files, via a crafted ZIP file, related to a \"file path injection vulnerability\".</td> \n",
       "        <td id=\"T_bd33c204_2e80_11e8_b358_c85b7694a487row2_col3\" class=\"data row2 col3\" >('libraries', 'zip/src/zipcommon.cpp', 'filename')</td> \n",
       "    </tr>    <tr> \n",
       "        <th id=\"T_bd33c204_2e80_11e8_b358_c85b7694a487\" class=\"row_heading level0 row3\" >3</th> \n",
       "        <td id=\"T_bd33c204_2e80_11e8_b358_c85b7694a487row3_col0\" class=\"data row3 col0\" >josdejong</td> \n",
       "        <td id=\"T_bd33c204_2e80_11e8_b358_c85b7694a487row3_col1\" class=\"data row3 col1\" >typed-function</td> \n",
       "        <td id=\"T_bd33c204_2e80_11e8_b358_c85b7694a487row3_col2\" class=\"data row3 col2\" >typed-function before 0.10.6 had an arbitrary code execution in the JavaScript engine. Creating a typed function with JavaScript code in the name could result arbitrary execution.</td> \n",
       "        <td id=\"T_bd33c204_2e80_11e8_b358_c85b7694a487row3_col3\" class=\"data row3 col3\" >('javascript', 'typed', 'javascript')</td> \n",
       "    </tr>    <tr> \n",
       "        <th id=\"T_bd33c204_2e80_11e8_b358_c85b7694a487\" class=\"row_heading level0 row4\" >4</th> \n",
       "        <td id=\"T_bd33c204_2e80_11e8_b358_c85b7694a487row4_col0\" class=\"data row4 col0\" >krb5</td> \n",
       "        <td id=\"T_bd33c204_2e80_11e8_b358_c85b7694a487row4_col1\" class=\"data row4 col1\" >krb5</td> \n",
       "        <td id=\"T_bd33c204_2e80_11e8_b358_c85b7694a487row4_col2\" class=\"data row4 col2\" >plugins/preauth/pkinit/pkinit_crypto_openssl.c in MIT Kerberos 5 (aka krb5) through 1.15.2 mishandles Distinguished Name (DN) fields, which allows remote attackers to execute arbitrary code or cause a denial of service (buffer overflow and application crash) in situations involving untrusted X.509 data, related to the get_matching_data and X509_NAME_oneline_ex functions. NOTE: this has security relevance only in use cases outside of the MIT Kerberos distribution, e.g., the use of get_matching_data in KDC certauth plugin code that is specific to Red Hat.</td> \n",
       "        <td id=\"T_bd33c204_2e80_11e8_b358_c85b7694a487row4_col3\" class=\"data row4 col3\" >('kerberos', 'kerberos', 'kdc')</td> \n",
       "    </tr>    <tr> \n",
       "        <th id=\"T_bd33c204_2e80_11e8_b358_c85b7694a487\" class=\"row_heading level0 row5\" >5</th> \n",
       "        <td id=\"T_bd33c204_2e80_11e8_b358_c85b7694a487row5_col0\" class=\"data row5 col0\" >AsyncHttpClient</td> \n",
       "        <td id=\"T_bd33c204_2e80_11e8_b358_c85b7694a487row5_col1\" class=\"data row5 col1\" >async-http-client</td> \n",
       "        <td id=\"T_bd33c204_2e80_11e8_b358_c85b7694a487row5_col2\" class=\"data row5 col2\" >Async Http Client (aka async-http-client) before 2.0.35 can be tricked into connecting to a host different from the one extracted by java.net.URI if a '?' character occurs in a fragment identifier. Similar bugs were previously identified in cURL (CVE-2016-8624) and Oracle Java 8 java.net.URL.</td> \n",
       "        <td id=\"T_bd33c204_2e80_11e8_b358_c85b7694a487row5_col3\" class=\"data row5 col3\" >('async', 'http', 'client')</td> \n",
       "    </tr>    <tr> \n",
       "        <th id=\"T_bd33c204_2e80_11e8_b358_c85b7694a487\" class=\"row_heading level0 row6\" >6</th> \n",
       "        <td id=\"T_bd33c204_2e80_11e8_b358_c85b7694a487row6_col0\" class=\"data row6 col0\" >crocs-muni</td> \n",
       "        <td id=\"T_bd33c204_2e80_11e8_b358_c85b7694a487row6_col1\" class=\"data row6 col1\" >roca</td> \n",
       "        <td id=\"T_bd33c204_2e80_11e8_b358_c85b7694a487row6_col2\" class=\"data row6 col2\" >The Infineon RSA library 1.02.013 in Infineon Trusted Platform Module (TPM) firmware, such as versions before 0000000000000422 - 4.34, before 000000000000062b - 6.43, and before 0000000000008521 - 133.33, mishandles RSA key generation, which makes it easier for attackers to defeat various cryptographic protection mechanisms via targeted attacks, aka ROCA. Examples of affected technologies include BitLocker with TPM 1.2, YubiKey 4 (before 4.3.5) PGP key generation, and the Cached User Data encryption feature in Chrome OS.</td> \n",
       "        <td id=\"T_bd33c204_2e80_11e8_b358_c85b7694a487row6_col3\" class=\"data row6 col3\" >('chrome', 'infineon', 'rsa')</td> \n",
       "    </tr>    <tr> \n",
       "        <th id=\"T_bd33c204_2e80_11e8_b358_c85b7694a487\" class=\"row_heading level0 row7\" >7</th> \n",
       "        <td id=\"T_bd33c204_2e80_11e8_b358_c85b7694a487row7_col0\" class=\"data row7 col0\" >znc</td> \n",
       "        <td id=\"T_bd33c204_2e80_11e8_b358_c85b7694a487row7_col1\" class=\"data row7 col1\" >znc</td> \n",
       "        <td id=\"T_bd33c204_2e80_11e8_b358_c85b7694a487row7_col2\" class=\"data row7 col2\" >The ucnv_UTF8FromUTF8 function in ucnv_u8.cpp in International Components for Unicode (ICU) for C/C++ through 60.1 mishandles ucnv_convertEx calls for UTF-8 to UTF-8 conversion, which allows remote attackers to cause a denial of service (stack-based buffer overflow and application crash) or possibly have unspecified other impact via a crafted string, as demonstrated by ZNC.</td> \n",
       "        <td id=\"T_bd33c204_2e80_11e8_b358_c85b7694a487row7_col3\" class=\"data row7 col3\" >('international', 'unicode', 'components')</td> \n",
       "    </tr>    <tr> \n",
       "        <th id=\"T_bd33c204_2e80_11e8_b358_c85b7694a487\" class=\"row_heading level0 row8\" >8</th> \n",
       "        <td id=\"T_bd33c204_2e80_11e8_b358_c85b7694a487row8_col0\" class=\"data row8 col0\" >freerangerouting</td> \n",
       "        <td id=\"T_bd33c204_2e80_11e8_b358_c85b7694a487row8_col1\" class=\"data row8 col1\" >frr</td> \n",
       "        <td id=\"T_bd33c204_2e80_11e8_b358_c85b7694a487row8_col2\" class=\"data row8 col2\" >All versions of Quagga, 0.93 through 1.1.0, are vulnerable to an unbounded memory allocation in the telnet 'vty' CLI, leading to a Denial-of-Service of Quagga daemons, or even the entire host. When Quagga daemons are configured with their telnet CLI enabled, anyone who can connect to the TCP ports can trigger this vulnerability, prior to authentication. Most distributions restrict the Quagga telnet interface to local access only by default. The Quagga telnet interface 'vty' input buffer grows automatically, without bound, so long as a newline is not entered. This allows an attacker to cause the Quagga daemon to allocate unbounded memory by sending very long strings without a newline. Eventually the daemon is terminated by the system, or the system itself runs out of memory. This is fixed in Quagga 1.1.1 and Free Range Routing (FRR) Protocol Suite 2017-01-10.</td> \n",
       "        <td id=\"T_bd33c204_2e80_11e8_b358_c85b7694a487row8_col3\" class=\"data row8 col3\" >('quagga', 'quagga', 'quagga')</td> \n",
       "    </tr>    <tr> \n",
       "        <th id=\"T_bd33c204_2e80_11e8_b358_c85b7694a487\" class=\"row_heading level0 row9\" >9</th> \n",
       "        <td id=\"T_bd33c204_2e80_11e8_b358_c85b7694a487row9_col0\" class=\"data row9 col0\" >apache</td> \n",
       "        <td id=\"T_bd33c204_2e80_11e8_b358_c85b7694a487row9_col1\" class=\"data row9 col1\" >httpd</td> \n",
       "        <td id=\"T_bd33c204_2e80_11e8_b358_c85b7694a487row9_col2\" class=\"data row9 col2\" >Apache httpd allows remote attackers to read secret data from process memory if the Limit directive can be set in a user's .htaccess file, or if httpd.conf has certain misconfigurations, aka Optionsbleed. This affects the Apache HTTP Server through 2.2.34 and 2.4.x through 2.4.27. The attacker sends an unauthenticated OPTIONS HTTP request when attempting to read secret data. This is a use-after-free issue and thus secret data is not always sent, and the specific data depends on many factors including configuration. Exploitation with .htaccess can be blocked with a patch to the ap_limit_section function in server/core.c.</td> \n",
       "        <td id=\"T_bd33c204_2e80_11e8_b358_c85b7694a487row9_col3\" class=\"data row9 col3\" >('http', 'http', 'server')</td> \n",
       "    </tr></tbody> \n",
       "</table> "
      ],
      "text/plain": [
       "<pandas.io.formats.style.Styler at 0x7fc9018c06a0>"
      ]
     },
     "execution_count": 75,
     "metadata": {},
     "output_type": "execute_result"
    }
   ],
   "source": [
    "df_incorrect[['description', 'prediction']].reset_index().style"
   ]
  }
 ],
 "metadata": {
  "extensions": {
   "jupyter_dashboards": {
    "activeView": "grid_default",
    "version": 1,
    "views": {
     "grid_default": {
      "cellMargin": 10,
      "defaultCellHeight": 20,
      "maxColumns": 12,
      "name": "grid",
      "type": "grid"
     },
     "report_default": {
      "name": "report",
      "type": "report"
     }
    }
   }
  },
  "kernelspec": {
   "display_name": "Python 3",
   "language": "python",
   "name": "python3"
  },
  "language_info": {
   "codemirror_mode": {
    "name": "ipython",
    "version": 3
   },
   "file_extension": ".py",
   "mimetype": "text/x-python",
   "name": "python",
   "nbconvert_exporter": "python",
   "pygments_lexer": "ipython3",
   "version": "3.6.3"
  }
 },
 "nbformat": 4,
 "nbformat_minor": 2
}
